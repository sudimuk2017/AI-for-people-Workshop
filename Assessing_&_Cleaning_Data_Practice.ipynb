{
  "cells": [
    {
      "cell_type": "markdown",
      "metadata": {
        "id": "view-in-github",
        "colab_type": "text"
      },
      "source": [
        "<a href=\"https://colab.research.google.com/github/sudimuk2017/AI-for-people-Workshop/blob/master/Assessing_%26_Cleaning_Data_Practice.ipynb\" target=\"_parent\"><img src=\"https://colab.research.google.com/assets/colab-badge.svg\" alt=\"Open In Colab\"/></a>"
      ]
    },
    {
      "cell_type": "markdown",
      "id": "692f1b06",
      "metadata": {
        "id": "692f1b06"
      },
      "source": [
        "\n",
        "# Oral Insulin Phase II Clinical Trial    "
      ]
    },
    {
      "cell_type": "markdown",
      "id": "b253b55f",
      "metadata": {
        "id": "b253b55f"
      },
      "source": [
        "# Table of contents\n",
        "\n",
        "\n",
        "[1. Our dataset: Auralin and Novodra Trials](#Dataset)\n",
        "\n",
        "[2. Gathering Data](#gathering)\n",
        "\n",
        "[3. Assessing Data](#assessing)\n",
        "  * [A. Visual Assessment](#visual)\n",
        "\n",
        "  * [B. Programmatic Assessment](#programmatic)\n",
        "\n",
        "[4. Cleaning Data](#cleaning)\n",
        "  * [A. Creating Dataframe Copies](#copies)\n",
        "  \n",
        "  * [B. Cleaning Missing Data](#missing)\n",
        "\n",
        "  * [C. Cleaning Tidiness Issues](#tidiness)\n",
        "  \n",
        "  * [D. Cleaning Quality Issues](#quality)"
      ]
    },
    {
      "cell_type": "markdown",
      "id": "c26697aa",
      "metadata": {
        "id": "c26697aa"
      },
      "source": [
        "<a id='Dataset'></a>\n",
        "\n",
        "## Our dataset: Auralin and Novodra Trials\n",
        "\n",
        "We will be looking at the phase two clinical trial data of 350 patients for a new innovative oral insulin called Auralin - a proprietary capsule that can solve this stomach lining problem.\n",
        "\n",
        "**Phase two trials are intended to:**\n",
        "\n",
        "- Test the efficacy and the dose response of a drug\n",
        "- Identify adverse reactions\n",
        "\n",
        "In this trial, half of the patients are being treated with Auralin, and the other 175 being treated with a popular injectable insulin called Novodra. By comparing key metrics between these two drugs, we can determine if Auralin is effective."
      ]
    },
    {
      "cell_type": "markdown",
      "id": "70351cb1",
      "metadata": {
        "id": "70351cb1"
      },
      "source": [
        "<a id='gathering'></a>\n",
        "\n",
        "## Gathering Data"
      ]
    },
    {
      "cell_type": "code",
      "execution_count": null,
      "id": "360775b9",
      "metadata": {
        "id": "360775b9"
      },
      "outputs": [],
      "source": [
        "import pandas as pd\n",
        "import numpy as np"
      ]
    },
    {
      "cell_type": "code",
      "execution_count": null,
      "id": "9f2db147",
      "metadata": {
        "id": "9f2db147"
      },
      "outputs": [],
      "source": [
        "patients = pd.read_csv('https://raw.githubusercontent.com/michael-fawzy/ALX-T-Data-Analyst/main/Data%20Assessment%20%26%20Cleaning/patients.csv')\n",
        "treatments = pd.read_csv('https://raw.githubusercontent.com/michael-fawzy/ALX-T-Data-Analyst/main/Data%20Assessment%20%26%20Cleaning/treatments.csv')\n",
        "adverse_reactions = pd.read_csv('https://raw.githubusercontent.com/michael-fawzy/ALX-T-Data-Analyst/main/Data%20Assessment%20%26%20Cleaning/adverse_reactions.csv')"
      ]
    },
    {
      "cell_type": "markdown",
      "id": "0138774f",
      "metadata": {
        "id": "0138774f"
      },
      "source": [
        "<a id='assessing'></a>\n",
        "\n",
        "## Assessing Data "
      ]
    },
    {
      "cell_type": "markdown",
      "id": "8a89efc4",
      "metadata": {
        "id": "8a89efc4"
      },
      "source": [
        "<a id='visual'></a>\n",
        "\n",
        "## A) Visual Assessment: Acquaint Yourself\n",
        "\n",
        "This Auralin Phase II clinical trial dataset comes in three tables: `patients`, `treatments`, and `adverse_reactions`. Acquaint yourself with them through visual assessment below.\n",
        "\n",
        "In the cells below, each column of each table in this clinical trial dataset is described. To see the table that goes hand in hand with these descriptions, display each table in its entirety by displaying the pandas DataFrame that it was gathered into. This task is the mechanical part of visual assessment in pandas."
      ]
    },
    {
      "cell_type": "code",
      "execution_count": null,
      "id": "461d124e",
      "metadata": {
        "colab": {
          "base_uri": "https://localhost:8080/",
          "height": 835
        },
        "id": "461d124e",
        "outputId": "dce9f854-9559-4b2b-cbbc-a2dd53d4e396"
      },
      "outputs": [
        {
          "output_type": "execute_result",
          "data": {
            "text/plain": [
              "     patient_id assigned_sex given_name      surname  \\\n",
              "0             1       female        Zoe      Wellish   \n",
              "1             2       female     Pamela         Hill   \n",
              "2             3         male        Jae       Debord   \n",
              "3             4         male       Liêm         Phan   \n",
              "4             5         male        Tim      Neudorf   \n",
              "..          ...          ...        ...          ...   \n",
              "498         499         male    Mustafa    Lindström   \n",
              "499         500         male      Ruman      Bisliev   \n",
              "500         501       female      Jinke    de Keizer   \n",
              "501         502       female    Chidalu  Onyekaozulu   \n",
              "502         503         male        Pat      Gersten   \n",
              "\n",
              "                       address               city       state  zip_code  \\\n",
              "0         576 Brown Bear Drive  Rancho California  California   92390.0   \n",
              "1    2370 University Hill Road          Armstrong    Illinois   61812.0   \n",
              "2        1493 Poling Farm Road               York    Nebraska   68467.0   \n",
              "3          2335 Webster Street         Woodbridge          NJ    7095.0   \n",
              "4         1428 Turkey Pen Lane             Dothan          AL   36303.0   \n",
              "..                         ...                ...         ...       ...   \n",
              "498        2530 Victoria Court       Milton Mills          ME    3852.0   \n",
              "499   494 Clarksburg Park Road             Sedona          AZ   86341.0   \n",
              "500          649 Nutter Street      Overland Park          MO   64110.0   \n",
              "501   3652 Boone Crockett Lane            Seattle          WA   98109.0   \n",
              "502          2778 North Avenue               Burr    Nebraska   68324.0   \n",
              "\n",
              "           country                                          contact  \\\n",
              "0    United States             951-719-9170ZoeWellish@superrito.com   \n",
              "1    United States            PamelaSHill@cuvox.de+1 (217) 569-3204   \n",
              "2    United States                 402-363-6804JaeMDebord@gustr.com   \n",
              "3    United States       PhanBaLiem@jourrapide.com+1 (732) 636-8246   \n",
              "4    United States                  334-515-7487TimNeudorf@cuvox.de   \n",
              "..             ...                                              ...   \n",
              "498  United States      207-477-0579MustafaLindstrom@jourrapide.com   \n",
              "499  United States               928-284-4492RumanBisliev@gustr.com   \n",
              "500  United States            816-223-6007JinkedeKeizer@teleworm.us   \n",
              "501  United States  ChidaluOnyekaozulu@jourrapide.com1 360 443 2060   \n",
              "502  United States             PatrickGersten@rhyta.com402-848-4923   \n",
              "\n",
              "     birthdate  weight  height   bmi  \n",
              "0    7/10/1976   121.7      66  19.6  \n",
              "1     4/3/1967   118.8      66  19.2  \n",
              "2    2/19/1980   177.8      71  24.8  \n",
              "3    7/26/1951   220.9      70  31.7  \n",
              "4    2/18/1928   192.3      27  26.1  \n",
              "..         ...     ...     ...   ...  \n",
              "498  4/10/1959   181.1      72  24.6  \n",
              "499  3/26/1948   239.6      70  34.4  \n",
              "500  1/13/1971   171.2      67  26.8  \n",
              "501  2/13/1952   176.9      67  27.7  \n",
              "502   5/3/1954   138.2      71  19.3  \n",
              "\n",
              "[503 rows x 14 columns]"
            ],
            "text/html": [
              "\n",
              "  <div id=\"df-fae8048b-0e50-46f1-bfff-5c8204ba6d72\">\n",
              "    <div class=\"colab-df-container\">\n",
              "      <div>\n",
              "<style scoped>\n",
              "    .dataframe tbody tr th:only-of-type {\n",
              "        vertical-align: middle;\n",
              "    }\n",
              "\n",
              "    .dataframe tbody tr th {\n",
              "        vertical-align: top;\n",
              "    }\n",
              "\n",
              "    .dataframe thead th {\n",
              "        text-align: right;\n",
              "    }\n",
              "</style>\n",
              "<table border=\"1\" class=\"dataframe\">\n",
              "  <thead>\n",
              "    <tr style=\"text-align: right;\">\n",
              "      <th></th>\n",
              "      <th>patient_id</th>\n",
              "      <th>assigned_sex</th>\n",
              "      <th>given_name</th>\n",
              "      <th>surname</th>\n",
              "      <th>address</th>\n",
              "      <th>city</th>\n",
              "      <th>state</th>\n",
              "      <th>zip_code</th>\n",
              "      <th>country</th>\n",
              "      <th>contact</th>\n",
              "      <th>birthdate</th>\n",
              "      <th>weight</th>\n",
              "      <th>height</th>\n",
              "      <th>bmi</th>\n",
              "    </tr>\n",
              "  </thead>\n",
              "  <tbody>\n",
              "    <tr>\n",
              "      <th>0</th>\n",
              "      <td>1</td>\n",
              "      <td>female</td>\n",
              "      <td>Zoe</td>\n",
              "      <td>Wellish</td>\n",
              "      <td>576 Brown Bear Drive</td>\n",
              "      <td>Rancho California</td>\n",
              "      <td>California</td>\n",
              "      <td>92390.0</td>\n",
              "      <td>United States</td>\n",
              "      <td>951-719-9170ZoeWellish@superrito.com</td>\n",
              "      <td>7/10/1976</td>\n",
              "      <td>121.7</td>\n",
              "      <td>66</td>\n",
              "      <td>19.6</td>\n",
              "    </tr>\n",
              "    <tr>\n",
              "      <th>1</th>\n",
              "      <td>2</td>\n",
              "      <td>female</td>\n",
              "      <td>Pamela</td>\n",
              "      <td>Hill</td>\n",
              "      <td>2370 University Hill Road</td>\n",
              "      <td>Armstrong</td>\n",
              "      <td>Illinois</td>\n",
              "      <td>61812.0</td>\n",
              "      <td>United States</td>\n",
              "      <td>PamelaSHill@cuvox.de+1 (217) 569-3204</td>\n",
              "      <td>4/3/1967</td>\n",
              "      <td>118.8</td>\n",
              "      <td>66</td>\n",
              "      <td>19.2</td>\n",
              "    </tr>\n",
              "    <tr>\n",
              "      <th>2</th>\n",
              "      <td>3</td>\n",
              "      <td>male</td>\n",
              "      <td>Jae</td>\n",
              "      <td>Debord</td>\n",
              "      <td>1493 Poling Farm Road</td>\n",
              "      <td>York</td>\n",
              "      <td>Nebraska</td>\n",
              "      <td>68467.0</td>\n",
              "      <td>United States</td>\n",
              "      <td>402-363-6804JaeMDebord@gustr.com</td>\n",
              "      <td>2/19/1980</td>\n",
              "      <td>177.8</td>\n",
              "      <td>71</td>\n",
              "      <td>24.8</td>\n",
              "    </tr>\n",
              "    <tr>\n",
              "      <th>3</th>\n",
              "      <td>4</td>\n",
              "      <td>male</td>\n",
              "      <td>Liêm</td>\n",
              "      <td>Phan</td>\n",
              "      <td>2335 Webster Street</td>\n",
              "      <td>Woodbridge</td>\n",
              "      <td>NJ</td>\n",
              "      <td>7095.0</td>\n",
              "      <td>United States</td>\n",
              "      <td>PhanBaLiem@jourrapide.com+1 (732) 636-8246</td>\n",
              "      <td>7/26/1951</td>\n",
              "      <td>220.9</td>\n",
              "      <td>70</td>\n",
              "      <td>31.7</td>\n",
              "    </tr>\n",
              "    <tr>\n",
              "      <th>4</th>\n",
              "      <td>5</td>\n",
              "      <td>male</td>\n",
              "      <td>Tim</td>\n",
              "      <td>Neudorf</td>\n",
              "      <td>1428 Turkey Pen Lane</td>\n",
              "      <td>Dothan</td>\n",
              "      <td>AL</td>\n",
              "      <td>36303.0</td>\n",
              "      <td>United States</td>\n",
              "      <td>334-515-7487TimNeudorf@cuvox.de</td>\n",
              "      <td>2/18/1928</td>\n",
              "      <td>192.3</td>\n",
              "      <td>27</td>\n",
              "      <td>26.1</td>\n",
              "    </tr>\n",
              "    <tr>\n",
              "      <th>...</th>\n",
              "      <td>...</td>\n",
              "      <td>...</td>\n",
              "      <td>...</td>\n",
              "      <td>...</td>\n",
              "      <td>...</td>\n",
              "      <td>...</td>\n",
              "      <td>...</td>\n",
              "      <td>...</td>\n",
              "      <td>...</td>\n",
              "      <td>...</td>\n",
              "      <td>...</td>\n",
              "      <td>...</td>\n",
              "      <td>...</td>\n",
              "      <td>...</td>\n",
              "    </tr>\n",
              "    <tr>\n",
              "      <th>498</th>\n",
              "      <td>499</td>\n",
              "      <td>male</td>\n",
              "      <td>Mustafa</td>\n",
              "      <td>Lindström</td>\n",
              "      <td>2530 Victoria Court</td>\n",
              "      <td>Milton Mills</td>\n",
              "      <td>ME</td>\n",
              "      <td>3852.0</td>\n",
              "      <td>United States</td>\n",
              "      <td>207-477-0579MustafaLindstrom@jourrapide.com</td>\n",
              "      <td>4/10/1959</td>\n",
              "      <td>181.1</td>\n",
              "      <td>72</td>\n",
              "      <td>24.6</td>\n",
              "    </tr>\n",
              "    <tr>\n",
              "      <th>499</th>\n",
              "      <td>500</td>\n",
              "      <td>male</td>\n",
              "      <td>Ruman</td>\n",
              "      <td>Bisliev</td>\n",
              "      <td>494 Clarksburg Park Road</td>\n",
              "      <td>Sedona</td>\n",
              "      <td>AZ</td>\n",
              "      <td>86341.0</td>\n",
              "      <td>United States</td>\n",
              "      <td>928-284-4492RumanBisliev@gustr.com</td>\n",
              "      <td>3/26/1948</td>\n",
              "      <td>239.6</td>\n",
              "      <td>70</td>\n",
              "      <td>34.4</td>\n",
              "    </tr>\n",
              "    <tr>\n",
              "      <th>500</th>\n",
              "      <td>501</td>\n",
              "      <td>female</td>\n",
              "      <td>Jinke</td>\n",
              "      <td>de Keizer</td>\n",
              "      <td>649 Nutter Street</td>\n",
              "      <td>Overland Park</td>\n",
              "      <td>MO</td>\n",
              "      <td>64110.0</td>\n",
              "      <td>United States</td>\n",
              "      <td>816-223-6007JinkedeKeizer@teleworm.us</td>\n",
              "      <td>1/13/1971</td>\n",
              "      <td>171.2</td>\n",
              "      <td>67</td>\n",
              "      <td>26.8</td>\n",
              "    </tr>\n",
              "    <tr>\n",
              "      <th>501</th>\n",
              "      <td>502</td>\n",
              "      <td>female</td>\n",
              "      <td>Chidalu</td>\n",
              "      <td>Onyekaozulu</td>\n",
              "      <td>3652 Boone Crockett Lane</td>\n",
              "      <td>Seattle</td>\n",
              "      <td>WA</td>\n",
              "      <td>98109.0</td>\n",
              "      <td>United States</td>\n",
              "      <td>ChidaluOnyekaozulu@jourrapide.com1 360 443 2060</td>\n",
              "      <td>2/13/1952</td>\n",
              "      <td>176.9</td>\n",
              "      <td>67</td>\n",
              "      <td>27.7</td>\n",
              "    </tr>\n",
              "    <tr>\n",
              "      <th>502</th>\n",
              "      <td>503</td>\n",
              "      <td>male</td>\n",
              "      <td>Pat</td>\n",
              "      <td>Gersten</td>\n",
              "      <td>2778 North Avenue</td>\n",
              "      <td>Burr</td>\n",
              "      <td>Nebraska</td>\n",
              "      <td>68324.0</td>\n",
              "      <td>United States</td>\n",
              "      <td>PatrickGersten@rhyta.com402-848-4923</td>\n",
              "      <td>5/3/1954</td>\n",
              "      <td>138.2</td>\n",
              "      <td>71</td>\n",
              "      <td>19.3</td>\n",
              "    </tr>\n",
              "  </tbody>\n",
              "</table>\n",
              "<p>503 rows × 14 columns</p>\n",
              "</div>\n",
              "      <button class=\"colab-df-convert\" onclick=\"convertToInteractive('df-fae8048b-0e50-46f1-bfff-5c8204ba6d72')\"\n",
              "              title=\"Convert this dataframe to an interactive table.\"\n",
              "              style=\"display:none;\">\n",
              "        \n",
              "  <svg xmlns=\"http://www.w3.org/2000/svg\" height=\"24px\"viewBox=\"0 0 24 24\"\n",
              "       width=\"24px\">\n",
              "    <path d=\"M0 0h24v24H0V0z\" fill=\"none\"/>\n",
              "    <path d=\"M18.56 5.44l.94 2.06.94-2.06 2.06-.94-2.06-.94-.94-2.06-.94 2.06-2.06.94zm-11 1L8.5 8.5l.94-2.06 2.06-.94-2.06-.94L8.5 2.5l-.94 2.06-2.06.94zm10 10l.94 2.06.94-2.06 2.06-.94-2.06-.94-.94-2.06-.94 2.06-2.06.94z\"/><path d=\"M17.41 7.96l-1.37-1.37c-.4-.4-.92-.59-1.43-.59-.52 0-1.04.2-1.43.59L10.3 9.45l-7.72 7.72c-.78.78-.78 2.05 0 2.83L4 21.41c.39.39.9.59 1.41.59.51 0 1.02-.2 1.41-.59l7.78-7.78 2.81-2.81c.8-.78.8-2.07 0-2.86zM5.41 20L4 18.59l7.72-7.72 1.47 1.35L5.41 20z\"/>\n",
              "  </svg>\n",
              "      </button>\n",
              "      \n",
              "  <style>\n",
              "    .colab-df-container {\n",
              "      display:flex;\n",
              "      flex-wrap:wrap;\n",
              "      gap: 12px;\n",
              "    }\n",
              "\n",
              "    .colab-df-convert {\n",
              "      background-color: #E8F0FE;\n",
              "      border: none;\n",
              "      border-radius: 50%;\n",
              "      cursor: pointer;\n",
              "      display: none;\n",
              "      fill: #1967D2;\n",
              "      height: 32px;\n",
              "      padding: 0 0 0 0;\n",
              "      width: 32px;\n",
              "    }\n",
              "\n",
              "    .colab-df-convert:hover {\n",
              "      background-color: #E2EBFA;\n",
              "      box-shadow: 0px 1px 2px rgba(60, 64, 67, 0.3), 0px 1px 3px 1px rgba(60, 64, 67, 0.15);\n",
              "      fill: #174EA6;\n",
              "    }\n",
              "\n",
              "    [theme=dark] .colab-df-convert {\n",
              "      background-color: #3B4455;\n",
              "      fill: #D2E3FC;\n",
              "    }\n",
              "\n",
              "    [theme=dark] .colab-df-convert:hover {\n",
              "      background-color: #434B5C;\n",
              "      box-shadow: 0px 1px 3px 1px rgba(0, 0, 0, 0.15);\n",
              "      filter: drop-shadow(0px 1px 2px rgba(0, 0, 0, 0.3));\n",
              "      fill: #FFFFFF;\n",
              "    }\n",
              "  </style>\n",
              "\n",
              "      <script>\n",
              "        const buttonEl =\n",
              "          document.querySelector('#df-fae8048b-0e50-46f1-bfff-5c8204ba6d72 button.colab-df-convert');\n",
              "        buttonEl.style.display =\n",
              "          google.colab.kernel.accessAllowed ? 'block' : 'none';\n",
              "\n",
              "        async function convertToInteractive(key) {\n",
              "          const element = document.querySelector('#df-fae8048b-0e50-46f1-bfff-5c8204ba6d72');\n",
              "          const dataTable =\n",
              "            await google.colab.kernel.invokeFunction('convertToInteractive',\n",
              "                                                     [key], {});\n",
              "          if (!dataTable) return;\n",
              "\n",
              "          const docLinkHtml = 'Like what you see? Visit the ' +\n",
              "            '<a target=\"_blank\" href=https://colab.research.google.com/notebooks/data_table.ipynb>data table notebook</a>'\n",
              "            + ' to learn more about interactive tables.';\n",
              "          element.innerHTML = '';\n",
              "          dataTable['output_type'] = 'display_data';\n",
              "          await google.colab.output.renderOutput(dataTable, element);\n",
              "          const docLink = document.createElement('div');\n",
              "          docLink.innerHTML = docLinkHtml;\n",
              "          element.appendChild(docLink);\n",
              "        }\n",
              "      </script>\n",
              "    </div>\n",
              "  </div>\n",
              "  "
            ]
          },
          "metadata": {},
          "execution_count": 3
        }
      ],
      "source": [
        "# Display the patients table\n",
        "patients"
      ]
    },
    {
      "cell_type": "markdown",
      "id": "ebe2fef5",
      "metadata": {
        "id": "ebe2fef5"
      },
      "source": [
        "`patients` columns:\n",
        "- **patient_id**: the unique identifier for each patient in the [Master Patient Index](https://en.wikipedia.org/wiki/Enterprise_master_patient_index) (i.e. patient database) of the pharmaceutical company that is producing Auralin\n",
        "- **assigned_sex**: the assigned sex of each patient at birth (male or female)\n",
        "- **given_name**: the given name (i.e. first name) of each patient\n",
        "- **surname**: the surname (i.e. last name) of each patient\n",
        "- **address**: the main address for each patient\n",
        "- **city**: the corresponding city for the main address of each patient\n",
        "- **state**: the corresponding state for the main address of each patient\n",
        "- **zip_code**: the corresponding zip code for the main address of each patient\n",
        "- **country**: the corresponding country for the main address of each patient (all United states for this clinical trial)\n",
        "- **contact**: phone number and email information for each patient\n",
        "- **birthdate**: the date of birth of each patient (month/day/year). The [inclusion criteria](https://en.wikipedia.org/wiki/Inclusion_and_exclusion_criteria) for this clinical trial is  age >= 18 *(there is no maximum age because diabetes is a [growing problem](http://www.diabetes.co.uk/diabetes-and-the-elderly.html) among the elderly population)*\n",
        "- **weight**: the weight of each patient in pounds (lbs)\n",
        "- **height**: the height of each patient in inches (in)\n",
        "- **bmi**: the Body Mass Index (BMI) of each patient. BMI is a simple calculation using a person's height and weight. The formula is BMI = kg/m<sup>2</sup> where kg is a person's weight in kilograms and m<sup>2</sup> is their height in metres squared. A BMI of 25.0 or more is overweight, while the healthy range is 18.5 to 24.9. *The [inclusion criteria](https://en.wikipedia.org/wiki/Inclusion_and_exclusion_criteria) for this clinical trial is 16 <= BMI <= 38.*"
      ]
    },
    {
      "cell_type": "code",
      "execution_count": null,
      "id": "65b9a343",
      "metadata": {
        "scrolled": true,
        "id": "65b9a343"
      },
      "outputs": [],
      "source": [
        "# Display the treatments table\n"
      ]
    },
    {
      "cell_type": "markdown",
      "id": "1387e770",
      "metadata": {
        "id": "1387e770"
      },
      "source": [
        "350 patients participated in this clinical trial. None of the patients were using Novodra (a popular injectable insulin) or Auralin (the oral insulin being researched) as their primary source of insulin before.  All were experiencing elevated HbA1c levels.\n",
        "\n",
        "All 350 patients were treated with Novodra to establish a baseline HbA1c level and insulin dose. After four weeks, which isn’t enough time to capture all the change in HbA1c that can be attributed by the switch to Auralin or Novodra:\n",
        "- 175 patients switched to Auralin for 24 weeks\n",
        "- 175 patients continued using Novodra for 24 weeks\n",
        "\n",
        "`treatments` columns:\n",
        "- **given_name**: the given name of each patient in the Master Patient Index that took part in the clinical trial\n",
        "- **surname**: the surname of each patient in the Master Patient Index that took part in the clinical trial\n",
        "- **auralin**: the baseline median daily dose of insulin from the week prior to switching to Auralin (the number before the dash) *and* the ending median daily dose of insulin at the end of the 24 weeks of treatment measured over the 24th week of treatment (the number after the dash). Both are measured in units (shortform 'u'), which is the [international unit](https://en.wikipedia.org/wiki/International_unit) of measurement and the standard measurement for insulin.\n",
        "- **novodra**: same as above, except for patients that continued treatment with Novodra\n",
        "- **hba1c_start**: the patient's HbA1c level at the beginning of the first week of treatment. HbA1c stands for Hemoglobin A1c. The [HbA1c test](https://depts.washington.edu/uwcoe/healthtopics/diabetes.html) measures what the average blood sugar has been over the past three months. It is thus a powerful way to get an overall sense of how well diabetes has been controlled. Everyone with diabetes should have this test 2 to 4 times per year. Measured in %.\n",
        "- **hba1c_end**: the patient's HbA1c level at the end of the last week of treatment\n",
        "- **hba1c_change**: the change in the patient's HbA1c level from the start of treatment to the end, i.e., `hba1c_start` - `hba1c_end`. For Auralin to be deemed effective, it must be \"noninferior\" to Novodra, the current standard for insulin. This \"noninferiority\" is statistically defined as the upper bound of the 95% confidence interval being less than 0.4% for the difference between the mean HbA1c changes for Novodra and Auralin (i.e. Novodra minus Auralin)."
      ]
    },
    {
      "cell_type": "code",
      "execution_count": null,
      "id": "a7ae682d",
      "metadata": {
        "scrolled": true,
        "id": "a7ae682d"
      },
      "outputs": [],
      "source": [
        "# Display the adverse_reactions table\n"
      ]
    },
    {
      "cell_type": "markdown",
      "id": "7f40e983",
      "metadata": {
        "id": "7f40e983"
      },
      "source": [
        "`adverse_reactions` columns:\n",
        "- **given_name**: the given name of each patient in the Master Patient Index that took part in the clinical trial and had an adverse reaction (includes both patients treated Auralin and Novodra)\n",
        "- **surname**: the surname of each patient in the Master Patient Index that took part in the clinical trial and had an adverse reaction (includes both patients treated Auralin and Novodra)\n",
        "- **adverse_reaction**: the adverse reaction reported by the patient\n",
        "\n",
        "Additional useful information:\n",
        "- [Insulin resistance varies person to person](http://www.tudiabetes.org/forum/t/how-much-insulin-is-too-much-on-a-daily-basis/9804/5), which is why both starting median daily dose and ending median daily dose are required, i.e., to calculate change in dose.\n",
        "- It is important to test drugs and medical products in the people they are meant to help. People of different age, race, sex, and ethnic group must be included in clinical trials. This [diversity](https://www.clinicalleader.com/doc/an-fda-perspective-on-patient-diversity-in-clinical-trials-0001) is reflected in the `patients` table.\n",
        "- Ensuring column names are descriptive enough is an important step in acquainting yourself with the data. 'Descriptive enough' is subjective. Ideally you want short column names (so they are easier to type and read in code form) but also fully descriptive. Length vs. descriptiveness is a tradeoff and common debate (a [similar debate](https://softwareengineering.stackexchange.com/questions/176582/is-there-an-excuse-for-short-variable-names) exists for variable names). The *auralin* and *novodra* column names are probably not descriptive enough, but you'll address that later so don't worry about that for now."
      ]
    },
    {
      "cell_type": "markdown",
      "id": "86f84870",
      "metadata": {
        "id": "86f84870"
      },
      "source": [
        "### Quality\n",
        "#### `patients` table\n",
        "- zip code is a float not a string\n",
        "- zip code has four digits sometimes\n",
        "- Tim Neudorf height is 27 in instead of 72 in\n",
        "- full state names sometimes, abbreviations other times\n",
        "- Dsvid Gustafsson\n",
        "\n",
        "#### `treatments` table\n",
        "- missing HbA1c changes\n",
        "- the letter u in starting and ending doses for Auralin and Novodra\n",
        "- lowercase given names and surnames\n",
        "- missing records (280 instead of 350)\n",
        "\n",
        "#### `adverse_reactions` table\n",
        "- lowercase given names and surnames"
      ]
    },
    {
      "cell_type": "markdown",
      "id": "53434876",
      "metadata": {
        "id": "53434876"
      },
      "source": [
        "### Data Quality Dimensions\n",
        "\n",
        "- Missing records in the treatments table, 280 instead of 350. This is pretty straightforward, this is a **completeness** issue. We don't have all the records that we need.\n",
        "- The letter U in the dosage information for Auralin and Novodra is a **validity** issue. 23u is not a valid dose. The valid dose is 23, and the unit of measurement is u, which stands for insulin units.\n",
        "- The typo in David (Dsvidinstead of David) is an **accuracy** issue. There's nothing illegal about having the name Dsvid, so it's not invalid, it's just inaccurate.\n",
        "- The lowercase given names and surnames in the treatments and adverse_reactions tables is a **consistency** issue. It's not necessarily a big deal that the given names and surnames are lowercase, it's just that in the patients table the names are capitalized so we'd run into issues when joining these tables based on name.\n"
      ]
    },
    {
      "cell_type": "markdown",
      "id": "9cc14ec2",
      "metadata": {
        "id": "9cc14ec2"
      },
      "source": [
        "<a id='programmatic'></a>\n",
        "\n",
        "## B) Programmatic Assessment\n",
        "These are the programmatic assessment methods in pandas that you will probably use most often:\n",
        "\n",
        "* `.head()` (DataFrame and Series)\n",
        "* `.tail()` (DataFrame and Series)\n",
        "* `.sample()` (DataFrame and Series)\n",
        "* `.info()` (DataFrame only)\n",
        "* `.describe()` (DataFrame and Series)\n",
        "* `.value_counts()` (Series only)\n",
        "* Various methods of indexing and selecting data (.loc and bracket notation with/without boolean indexing, also .iloc)\n",
        "\n",
        "Try them out below and keep their results in mind. Some will come in handy later in the lesson.\n",
        "\n",
        "Check out the [pandas API reference](https://pandas.pydata.org/pandas-docs/stable/api.html) for detailed usage information."
      ]
    },
    {
      "cell_type": "markdown",
      "id": "9a9a37f6",
      "metadata": {
        "id": "9a9a37f6"
      },
      "source": [
        "#### Try `.head` and `.tail` on the `patients` table."
      ]
    },
    {
      "cell_type": "code",
      "execution_count": null,
      "id": "218c4073",
      "metadata": {
        "id": "218c4073"
      },
      "outputs": [],
      "source": [
        ""
      ]
    },
    {
      "cell_type": "code",
      "execution_count": null,
      "id": "24338e89",
      "metadata": {
        "id": "24338e89"
      },
      "outputs": [],
      "source": [
        ""
      ]
    },
    {
      "cell_type": "markdown",
      "id": "e17c7c6a",
      "metadata": {
        "id": "e17c7c6a"
      },
      "source": [
        "#### Try `.sample` on the `treatments` table."
      ]
    },
    {
      "cell_type": "code",
      "execution_count": null,
      "id": "134bd33f",
      "metadata": {
        "colab": {
          "base_uri": "https://localhost:8080/",
          "height": 206
        },
        "id": "134bd33f",
        "outputId": "86908153-7a39-49a5-d88f-0d70085e3441"
      },
      "outputs": [
        {
          "output_type": "execute_result",
          "data": {
            "text/plain": [
              "    given_name     surname    auralin    novodra  hba1c_start  hba1c_end  \\\n",
              "209       kári  hervinsson  37u - 43u          -         8.09       7.66   \n",
              "54        oles     zhdanov  54u - 67u          -         7.52       7.11   \n",
              "27      mizuki       iwata          -  45u - 46u         7.70       7.23   \n",
              "33      cannan     cabrera          -  40u - 31u         7.94       7.58   \n",
              "153     nicole   zimmerman          -  59u - 56u         8.98       8.57   \n",
              "\n",
              "     hba1c_change  \n",
              "209           NaN  \n",
              "54            NaN  \n",
              "27           0.97  \n",
              "33            NaN  \n",
              "153          0.91  "
            ],
            "text/html": [
              "\n",
              "  <div id=\"df-90dcca07-9c4e-4ca5-b585-912f100db92e\">\n",
              "    <div class=\"colab-df-container\">\n",
              "      <div>\n",
              "<style scoped>\n",
              "    .dataframe tbody tr th:only-of-type {\n",
              "        vertical-align: middle;\n",
              "    }\n",
              "\n",
              "    .dataframe tbody tr th {\n",
              "        vertical-align: top;\n",
              "    }\n",
              "\n",
              "    .dataframe thead th {\n",
              "        text-align: right;\n",
              "    }\n",
              "</style>\n",
              "<table border=\"1\" class=\"dataframe\">\n",
              "  <thead>\n",
              "    <tr style=\"text-align: right;\">\n",
              "      <th></th>\n",
              "      <th>given_name</th>\n",
              "      <th>surname</th>\n",
              "      <th>auralin</th>\n",
              "      <th>novodra</th>\n",
              "      <th>hba1c_start</th>\n",
              "      <th>hba1c_end</th>\n",
              "      <th>hba1c_change</th>\n",
              "    </tr>\n",
              "  </thead>\n",
              "  <tbody>\n",
              "    <tr>\n",
              "      <th>209</th>\n",
              "      <td>kári</td>\n",
              "      <td>hervinsson</td>\n",
              "      <td>37u - 43u</td>\n",
              "      <td>-</td>\n",
              "      <td>8.09</td>\n",
              "      <td>7.66</td>\n",
              "      <td>NaN</td>\n",
              "    </tr>\n",
              "    <tr>\n",
              "      <th>54</th>\n",
              "      <td>oles</td>\n",
              "      <td>zhdanov</td>\n",
              "      <td>54u - 67u</td>\n",
              "      <td>-</td>\n",
              "      <td>7.52</td>\n",
              "      <td>7.11</td>\n",
              "      <td>NaN</td>\n",
              "    </tr>\n",
              "    <tr>\n",
              "      <th>27</th>\n",
              "      <td>mizuki</td>\n",
              "      <td>iwata</td>\n",
              "      <td>-</td>\n",
              "      <td>45u - 46u</td>\n",
              "      <td>7.70</td>\n",
              "      <td>7.23</td>\n",
              "      <td>0.97</td>\n",
              "    </tr>\n",
              "    <tr>\n",
              "      <th>33</th>\n",
              "      <td>cannan</td>\n",
              "      <td>cabrera</td>\n",
              "      <td>-</td>\n",
              "      <td>40u - 31u</td>\n",
              "      <td>7.94</td>\n",
              "      <td>7.58</td>\n",
              "      <td>NaN</td>\n",
              "    </tr>\n",
              "    <tr>\n",
              "      <th>153</th>\n",
              "      <td>nicole</td>\n",
              "      <td>zimmerman</td>\n",
              "      <td>-</td>\n",
              "      <td>59u - 56u</td>\n",
              "      <td>8.98</td>\n",
              "      <td>8.57</td>\n",
              "      <td>0.91</td>\n",
              "    </tr>\n",
              "  </tbody>\n",
              "</table>\n",
              "</div>\n",
              "      <button class=\"colab-df-convert\" onclick=\"convertToInteractive('df-90dcca07-9c4e-4ca5-b585-912f100db92e')\"\n",
              "              title=\"Convert this dataframe to an interactive table.\"\n",
              "              style=\"display:none;\">\n",
              "        \n",
              "  <svg xmlns=\"http://www.w3.org/2000/svg\" height=\"24px\"viewBox=\"0 0 24 24\"\n",
              "       width=\"24px\">\n",
              "    <path d=\"M0 0h24v24H0V0z\" fill=\"none\"/>\n",
              "    <path d=\"M18.56 5.44l.94 2.06.94-2.06 2.06-.94-2.06-.94-.94-2.06-.94 2.06-2.06.94zm-11 1L8.5 8.5l.94-2.06 2.06-.94-2.06-.94L8.5 2.5l-.94 2.06-2.06.94zm10 10l.94 2.06.94-2.06 2.06-.94-2.06-.94-.94-2.06-.94 2.06-2.06.94z\"/><path d=\"M17.41 7.96l-1.37-1.37c-.4-.4-.92-.59-1.43-.59-.52 0-1.04.2-1.43.59L10.3 9.45l-7.72 7.72c-.78.78-.78 2.05 0 2.83L4 21.41c.39.39.9.59 1.41.59.51 0 1.02-.2 1.41-.59l7.78-7.78 2.81-2.81c.8-.78.8-2.07 0-2.86zM5.41 20L4 18.59l7.72-7.72 1.47 1.35L5.41 20z\"/>\n",
              "  </svg>\n",
              "      </button>\n",
              "      \n",
              "  <style>\n",
              "    .colab-df-container {\n",
              "      display:flex;\n",
              "      flex-wrap:wrap;\n",
              "      gap: 12px;\n",
              "    }\n",
              "\n",
              "    .colab-df-convert {\n",
              "      background-color: #E8F0FE;\n",
              "      border: none;\n",
              "      border-radius: 50%;\n",
              "      cursor: pointer;\n",
              "      display: none;\n",
              "      fill: #1967D2;\n",
              "      height: 32px;\n",
              "      padding: 0 0 0 0;\n",
              "      width: 32px;\n",
              "    }\n",
              "\n",
              "    .colab-df-convert:hover {\n",
              "      background-color: #E2EBFA;\n",
              "      box-shadow: 0px 1px 2px rgba(60, 64, 67, 0.3), 0px 1px 3px 1px rgba(60, 64, 67, 0.15);\n",
              "      fill: #174EA6;\n",
              "    }\n",
              "\n",
              "    [theme=dark] .colab-df-convert {\n",
              "      background-color: #3B4455;\n",
              "      fill: #D2E3FC;\n",
              "    }\n",
              "\n",
              "    [theme=dark] .colab-df-convert:hover {\n",
              "      background-color: #434B5C;\n",
              "      box-shadow: 0px 1px 3px 1px rgba(0, 0, 0, 0.15);\n",
              "      filter: drop-shadow(0px 1px 2px rgba(0, 0, 0, 0.3));\n",
              "      fill: #FFFFFF;\n",
              "    }\n",
              "  </style>\n",
              "\n",
              "      <script>\n",
              "        const buttonEl =\n",
              "          document.querySelector('#df-90dcca07-9c4e-4ca5-b585-912f100db92e button.colab-df-convert');\n",
              "        buttonEl.style.display =\n",
              "          google.colab.kernel.accessAllowed ? 'block' : 'none';\n",
              "\n",
              "        async function convertToInteractive(key) {\n",
              "          const element = document.querySelector('#df-90dcca07-9c4e-4ca5-b585-912f100db92e');\n",
              "          const dataTable =\n",
              "            await google.colab.kernel.invokeFunction('convertToInteractive',\n",
              "                                                     [key], {});\n",
              "          if (!dataTable) return;\n",
              "\n",
              "          const docLinkHtml = 'Like what you see? Visit the ' +\n",
              "            '<a target=\"_blank\" href=https://colab.research.google.com/notebooks/data_table.ipynb>data table notebook</a>'\n",
              "            + ' to learn more about interactive tables.';\n",
              "          element.innerHTML = '';\n",
              "          dataTable['output_type'] = 'display_data';\n",
              "          await google.colab.output.renderOutput(dataTable, element);\n",
              "          const docLink = document.createElement('div');\n",
              "          docLink.innerHTML = docLinkHtml;\n",
              "          element.appendChild(docLink);\n",
              "        }\n",
              "      </script>\n",
              "    </div>\n",
              "  </div>\n",
              "  "
            ]
          },
          "metadata": {},
          "execution_count": 4
        }
      ],
      "source": [
        "treatments.sample(5)"
      ]
    },
    {
      "cell_type": "code",
      "execution_count": null,
      "id": "bb70a208",
      "metadata": {
        "id": "bb70a208"
      },
      "outputs": [],
      "source": [
        "# Show one sample from adverse_reactions table\n"
      ]
    },
    {
      "cell_type": "markdown",
      "id": "0a3f0248",
      "metadata": {
        "id": "0a3f0248"
      },
      "source": [
        "#### Try `.info` on the all tables."
      ]
    },
    {
      "cell_type": "code",
      "execution_count": null,
      "id": "0ed48081",
      "metadata": {
        "id": "0ed48081",
        "outputId": "966f1efe-b1ca-427d-ec08-aa2d7f226fc6"
      },
      "outputs": [
        {
          "name": "stdout",
          "output_type": "stream",
          "text": [
            "<class 'pandas.core.frame.DataFrame'>\n",
            "RangeIndex: 503 entries, 0 to 502\n",
            "Data columns (total 14 columns):\n",
            " #   Column        Non-Null Count  Dtype  \n",
            "---  ------        --------------  -----  \n",
            " 0   patient_id    503 non-null    int64  \n",
            " 1   assigned_sex  503 non-null    object \n",
            " 2   given_name    503 non-null    object \n",
            " 3   surname       503 non-null    object \n",
            " 4   address       491 non-null    object \n",
            " 5   city          491 non-null    object \n",
            " 6   state         491 non-null    object \n",
            " 7   zip_code      491 non-null    float64\n",
            " 8   country       491 non-null    object \n",
            " 9   contact       491 non-null    object \n",
            " 10  birthdate     503 non-null    object \n",
            " 11  weight        503 non-null    float64\n",
            " 12  height        503 non-null    int64  \n",
            " 13  bmi           503 non-null    float64\n",
            "dtypes: float64(3), int64(2), object(9)\n",
            "memory usage: 55.1+ KB\n"
          ]
        }
      ],
      "source": [
        "patients.info()"
      ]
    },
    {
      "cell_type": "code",
      "execution_count": null,
      "id": "fa20c6e9",
      "metadata": {
        "id": "fa20c6e9"
      },
      "outputs": [],
      "source": [
        "# Try .info on the treatments table.\n"
      ]
    },
    {
      "cell_type": "code",
      "execution_count": null,
      "id": "09d5724a",
      "metadata": {
        "id": "09d5724a"
      },
      "outputs": [],
      "source": [
        "# Try .info on the adverse_reactions table.\n"
      ]
    },
    {
      "cell_type": "markdown",
      "id": "96e4c8ba",
      "metadata": {
        "id": "96e4c8ba"
      },
      "source": [
        "#### Try `.describe` on the `patients` & `treatment` tables."
      ]
    },
    {
      "cell_type": "code",
      "execution_count": null,
      "id": "ce5d3f08",
      "metadata": {
        "id": "ce5d3f08",
        "outputId": "3abbed9a-ae61-4f97-f147-707a2568f540"
      },
      "outputs": [
        {
          "data": {
            "text/html": [
              "<div>\n",
              "<style scoped>\n",
              "    .dataframe tbody tr th:only-of-type {\n",
              "        vertical-align: middle;\n",
              "    }\n",
              "\n",
              "    .dataframe tbody tr th {\n",
              "        vertical-align: top;\n",
              "    }\n",
              "\n",
              "    .dataframe thead th {\n",
              "        text-align: right;\n",
              "    }\n",
              "</style>\n",
              "<table border=\"1\" class=\"dataframe\">\n",
              "  <thead>\n",
              "    <tr style=\"text-align: right;\">\n",
              "      <th></th>\n",
              "      <th>patient_id</th>\n",
              "      <th>zip_code</th>\n",
              "      <th>weight</th>\n",
              "      <th>height</th>\n",
              "      <th>bmi</th>\n",
              "    </tr>\n",
              "  </thead>\n",
              "  <tbody>\n",
              "    <tr>\n",
              "      <th>count</th>\n",
              "      <td>503.000000</td>\n",
              "      <td>491.000000</td>\n",
              "      <td>503.000000</td>\n",
              "      <td>503.000000</td>\n",
              "      <td>503.000000</td>\n",
              "    </tr>\n",
              "    <tr>\n",
              "      <th>mean</th>\n",
              "      <td>252.000000</td>\n",
              "      <td>49084.118126</td>\n",
              "      <td>173.434990</td>\n",
              "      <td>66.634195</td>\n",
              "      <td>27.483897</td>\n",
              "    </tr>\n",
              "    <tr>\n",
              "      <th>std</th>\n",
              "      <td>145.347859</td>\n",
              "      <td>30265.807442</td>\n",
              "      <td>33.916741</td>\n",
              "      <td>4.411297</td>\n",
              "      <td>5.276438</td>\n",
              "    </tr>\n",
              "    <tr>\n",
              "      <th>min</th>\n",
              "      <td>1.000000</td>\n",
              "      <td>1002.000000</td>\n",
              "      <td>48.800000</td>\n",
              "      <td>27.000000</td>\n",
              "      <td>17.100000</td>\n",
              "    </tr>\n",
              "    <tr>\n",
              "      <th>25%</th>\n",
              "      <td>126.500000</td>\n",
              "      <td>21920.500000</td>\n",
              "      <td>149.300000</td>\n",
              "      <td>63.000000</td>\n",
              "      <td>23.300000</td>\n",
              "    </tr>\n",
              "    <tr>\n",
              "      <th>50%</th>\n",
              "      <td>252.000000</td>\n",
              "      <td>48057.000000</td>\n",
              "      <td>175.300000</td>\n",
              "      <td>67.000000</td>\n",
              "      <td>27.200000</td>\n",
              "    </tr>\n",
              "    <tr>\n",
              "      <th>75%</th>\n",
              "      <td>377.500000</td>\n",
              "      <td>75679.000000</td>\n",
              "      <td>199.500000</td>\n",
              "      <td>70.000000</td>\n",
              "      <td>31.750000</td>\n",
              "    </tr>\n",
              "    <tr>\n",
              "      <th>max</th>\n",
              "      <td>503.000000</td>\n",
              "      <td>99701.000000</td>\n",
              "      <td>255.900000</td>\n",
              "      <td>79.000000</td>\n",
              "      <td>37.700000</td>\n",
              "    </tr>\n",
              "  </tbody>\n",
              "</table>\n",
              "</div>"
            ],
            "text/plain": [
              "       patient_id      zip_code      weight      height         bmi\n",
              "count  503.000000    491.000000  503.000000  503.000000  503.000000\n",
              "mean   252.000000  49084.118126  173.434990   66.634195   27.483897\n",
              "std    145.347859  30265.807442   33.916741    4.411297    5.276438\n",
              "min      1.000000   1002.000000   48.800000   27.000000   17.100000\n",
              "25%    126.500000  21920.500000  149.300000   63.000000   23.300000\n",
              "50%    252.000000  48057.000000  175.300000   67.000000   27.200000\n",
              "75%    377.500000  75679.000000  199.500000   70.000000   31.750000\n",
              "max    503.000000  99701.000000  255.900000   79.000000   37.700000"
            ]
          },
          "execution_count": 12,
          "metadata": {},
          "output_type": "execute_result"
        }
      ],
      "source": [
        "patients.describe()"
      ]
    },
    {
      "cell_type": "code",
      "execution_count": null,
      "id": "d8c7f918",
      "metadata": {
        "id": "d8c7f918"
      },
      "outputs": [],
      "source": [
        "# Try .describe on the treatment table\n"
      ]
    },
    {
      "cell_type": "markdown",
      "id": "e6c40d77",
      "metadata": {
        "id": "e6c40d77"
      },
      "source": [
        "#### Try `.value_counts` on the *adverse_reaction* column of the `adverse_reactions` table."
      ]
    },
    {
      "cell_type": "code",
      "execution_count": null,
      "id": "41f2864a",
      "metadata": {
        "id": "41f2864a",
        "outputId": "2c4c6d09-da32-4ef1-e781-a84924c01def"
      },
      "outputs": [
        {
          "data": {
            "text/plain": [
              "hypoglycemia                 19\n",
              "injection site discomfort     6\n",
              "headache                      3\n",
              "cough                         2\n",
              "throat irritation             2\n",
              "nausea                        2\n",
              "Name: adverse_reaction, dtype: int64"
            ]
          },
          "execution_count": 14,
          "metadata": {},
          "output_type": "execute_result"
        }
      ],
      "source": [
        "adverse_reactions.adverse_reaction.value_counts()"
      ]
    },
    {
      "cell_type": "markdown",
      "id": "e4d7c416",
      "metadata": {
        "id": "e4d7c416"
      },
      "source": [
        "#### Try selecting the records in the `patients` table for patients that are from the *city* New York."
      ]
    },
    {
      "cell_type": "code",
      "execution_count": null,
      "id": "b2cdd8b7",
      "metadata": {
        "scrolled": true,
        "id": "b2cdd8b7",
        "outputId": "4b9fb9cc-51ae-49bc-bffd-cb1303595c28"
      },
      "outputs": [
        {
          "data": {
            "text/html": [
              "<div>\n",
              "<style scoped>\n",
              "    .dataframe tbody tr th:only-of-type {\n",
              "        vertical-align: middle;\n",
              "    }\n",
              "\n",
              "    .dataframe tbody tr th {\n",
              "        vertical-align: top;\n",
              "    }\n",
              "\n",
              "    .dataframe thead th {\n",
              "        text-align: right;\n",
              "    }\n",
              "</style>\n",
              "<table border=\"1\" class=\"dataframe\">\n",
              "  <thead>\n",
              "    <tr style=\"text-align: right;\">\n",
              "      <th></th>\n",
              "      <th>patient_id</th>\n",
              "      <th>assigned_sex</th>\n",
              "      <th>given_name</th>\n",
              "      <th>surname</th>\n",
              "      <th>address</th>\n",
              "      <th>city</th>\n",
              "      <th>state</th>\n",
              "      <th>zip_code</th>\n",
              "      <th>country</th>\n",
              "      <th>contact</th>\n",
              "      <th>birthdate</th>\n",
              "      <th>weight</th>\n",
              "      <th>height</th>\n",
              "      <th>bmi</th>\n",
              "    </tr>\n",
              "  </thead>\n",
              "  <tbody>\n",
              "    <tr>\n",
              "      <th>9</th>\n",
              "      <td>10</td>\n",
              "      <td>female</td>\n",
              "      <td>Sophie</td>\n",
              "      <td>Cabrera</td>\n",
              "      <td>3303 Anmoore Road</td>\n",
              "      <td>New York</td>\n",
              "      <td>New York</td>\n",
              "      <td>10011.0</td>\n",
              "      <td>United States</td>\n",
              "      <td>SophieCabreraIbarra@teleworm.us1 718 795 9124</td>\n",
              "      <td>12/3/1930</td>\n",
              "      <td>194.7</td>\n",
              "      <td>64</td>\n",
              "      <td>33.4</td>\n",
              "    </tr>\n",
              "    <tr>\n",
              "      <th>35</th>\n",
              "      <td>36</td>\n",
              "      <td>female</td>\n",
              "      <td>Kamila</td>\n",
              "      <td>Pecinová</td>\n",
              "      <td>3558 Longview Avenue</td>\n",
              "      <td>New York</td>\n",
              "      <td>New York</td>\n",
              "      <td>10004.0</td>\n",
              "      <td>United States</td>\n",
              "      <td>718-501-0503KamilaPecinova@dayrep.com</td>\n",
              "      <td>12/23/1985</td>\n",
              "      <td>198.9</td>\n",
              "      <td>62</td>\n",
              "      <td>36.4</td>\n",
              "    </tr>\n",
              "    <tr>\n",
              "      <th>84</th>\n",
              "      <td>85</td>\n",
              "      <td>female</td>\n",
              "      <td>Nương</td>\n",
              "      <td>Vũ</td>\n",
              "      <td>465 Southern Street</td>\n",
              "      <td>New York</td>\n",
              "      <td>NY</td>\n",
              "      <td>10001.0</td>\n",
              "      <td>United States</td>\n",
              "      <td>VuCamNuong@fleckens.hu516-720-5094</td>\n",
              "      <td>2/1/1981</td>\n",
              "      <td>138.2</td>\n",
              "      <td>63</td>\n",
              "      <td>24.5</td>\n",
              "    </tr>\n",
              "    <tr>\n",
              "      <th>129</th>\n",
              "      <td>130</td>\n",
              "      <td>female</td>\n",
              "      <td>Rebecca</td>\n",
              "      <td>Jephcott</td>\n",
              "      <td>989 Wayback Lane</td>\n",
              "      <td>New York</td>\n",
              "      <td>NY</td>\n",
              "      <td>10004.0</td>\n",
              "      <td>United States</td>\n",
              "      <td>631-370-7406RebeccaJephcott@armyspy.com</td>\n",
              "      <td>8/1/1966</td>\n",
              "      <td>203.3</td>\n",
              "      <td>65</td>\n",
              "      <td>33.8</td>\n",
              "    </tr>\n",
              "    <tr>\n",
              "      <th>142</th>\n",
              "      <td>143</td>\n",
              "      <td>male</td>\n",
              "      <td>Finley</td>\n",
              "      <td>Chandler</td>\n",
              "      <td>2754 Westwood Avenue</td>\n",
              "      <td>New York</td>\n",
              "      <td>New York</td>\n",
              "      <td>10001.0</td>\n",
              "      <td>United States</td>\n",
              "      <td>516-740-5280FinleyChandler@dayrep.com</td>\n",
              "      <td>10/25/1936</td>\n",
              "      <td>150.9</td>\n",
              "      <td>70</td>\n",
              "      <td>21.6</td>\n",
              "    </tr>\n",
              "    <tr>\n",
              "      <th>152</th>\n",
              "      <td>153</td>\n",
              "      <td>male</td>\n",
              "      <td>Christopher</td>\n",
              "      <td>Woodward</td>\n",
              "      <td>3450 Southern Street</td>\n",
              "      <td>New York</td>\n",
              "      <td>NY</td>\n",
              "      <td>10004.0</td>\n",
              "      <td>United States</td>\n",
              "      <td>ChristopherWoodward@jourrapide.com+1 (516) 630...</td>\n",
              "      <td>9/4/1984</td>\n",
              "      <td>212.2</td>\n",
              "      <td>66</td>\n",
              "      <td>34.2</td>\n",
              "    </tr>\n",
              "    <tr>\n",
              "      <th>188</th>\n",
              "      <td>189</td>\n",
              "      <td>male</td>\n",
              "      <td>Søren</td>\n",
              "      <td>Sørensen</td>\n",
              "      <td>2397 Bell Street</td>\n",
              "      <td>New York</td>\n",
              "      <td>NY</td>\n",
              "      <td>10011.0</td>\n",
              "      <td>United States</td>\n",
              "      <td>SrenSrensen@superrito.com1 212 201 3108</td>\n",
              "      <td>12/31/1942</td>\n",
              "      <td>157.1</td>\n",
              "      <td>67</td>\n",
              "      <td>24.6</td>\n",
              "    </tr>\n",
              "    <tr>\n",
              "      <th>213</th>\n",
              "      <td>214</td>\n",
              "      <td>female</td>\n",
              "      <td>Onyemaechi</td>\n",
              "      <td>Onwughara</td>\n",
              "      <td>685 Duncan Avenue</td>\n",
              "      <td>New York</td>\n",
              "      <td>NY</td>\n",
              "      <td>10013.0</td>\n",
              "      <td>United States</td>\n",
              "      <td>917-622-9142OnyemaechiOnwughara@einrot.com</td>\n",
              "      <td>3/8/1989</td>\n",
              "      <td>131.1</td>\n",
              "      <td>69</td>\n",
              "      <td>19.4</td>\n",
              "    </tr>\n",
              "    <tr>\n",
              "      <th>215</th>\n",
              "      <td>216</td>\n",
              "      <td>male</td>\n",
              "      <td>John</td>\n",
              "      <td>Doe</td>\n",
              "      <td>123 Main Street</td>\n",
              "      <td>New York</td>\n",
              "      <td>NY</td>\n",
              "      <td>12345.0</td>\n",
              "      <td>United States</td>\n",
              "      <td>johndoe@email.com1234567890</td>\n",
              "      <td>1/1/1975</td>\n",
              "      <td>180.0</td>\n",
              "      <td>72</td>\n",
              "      <td>24.4</td>\n",
              "    </tr>\n",
              "    <tr>\n",
              "      <th>229</th>\n",
              "      <td>230</td>\n",
              "      <td>male</td>\n",
              "      <td>John</td>\n",
              "      <td>Doe</td>\n",
              "      <td>123 Main Street</td>\n",
              "      <td>New York</td>\n",
              "      <td>NY</td>\n",
              "      <td>12345.0</td>\n",
              "      <td>United States</td>\n",
              "      <td>johndoe@email.com1234567890</td>\n",
              "      <td>1/1/1975</td>\n",
              "      <td>180.0</td>\n",
              "      <td>72</td>\n",
              "      <td>24.4</td>\n",
              "    </tr>\n",
              "    <tr>\n",
              "      <th>237</th>\n",
              "      <td>238</td>\n",
              "      <td>male</td>\n",
              "      <td>John</td>\n",
              "      <td>Doe</td>\n",
              "      <td>123 Main Street</td>\n",
              "      <td>New York</td>\n",
              "      <td>NY</td>\n",
              "      <td>12345.0</td>\n",
              "      <td>United States</td>\n",
              "      <td>johndoe@email.com1234567890</td>\n",
              "      <td>1/1/1975</td>\n",
              "      <td>180.0</td>\n",
              "      <td>72</td>\n",
              "      <td>24.4</td>\n",
              "    </tr>\n",
              "    <tr>\n",
              "      <th>244</th>\n",
              "      <td>245</td>\n",
              "      <td>male</td>\n",
              "      <td>John</td>\n",
              "      <td>Doe</td>\n",
              "      <td>123 Main Street</td>\n",
              "      <td>New York</td>\n",
              "      <td>NY</td>\n",
              "      <td>12345.0</td>\n",
              "      <td>United States</td>\n",
              "      <td>johndoe@email.com1234567890</td>\n",
              "      <td>1/1/1975</td>\n",
              "      <td>180.0</td>\n",
              "      <td>72</td>\n",
              "      <td>24.4</td>\n",
              "    </tr>\n",
              "    <tr>\n",
              "      <th>247</th>\n",
              "      <td>248</td>\n",
              "      <td>male</td>\n",
              "      <td>Tuukka</td>\n",
              "      <td>Leppäluoto</td>\n",
              "      <td>1886 Bicetown Road</td>\n",
              "      <td>New York</td>\n",
              "      <td>NY</td>\n",
              "      <td>10011.0</td>\n",
              "      <td>United States</td>\n",
              "      <td>917-408-8855TuukkaLeppaluoto@teleworm.us</td>\n",
              "      <td>3/7/1978</td>\n",
              "      <td>211.0</td>\n",
              "      <td>73</td>\n",
              "      <td>27.8</td>\n",
              "    </tr>\n",
              "    <tr>\n",
              "      <th>251</th>\n",
              "      <td>252</td>\n",
              "      <td>male</td>\n",
              "      <td>John</td>\n",
              "      <td>Doe</td>\n",
              "      <td>123 Main Street</td>\n",
              "      <td>New York</td>\n",
              "      <td>NY</td>\n",
              "      <td>12345.0</td>\n",
              "      <td>United States</td>\n",
              "      <td>johndoe@email.com1234567890</td>\n",
              "      <td>1/1/1975</td>\n",
              "      <td>180.0</td>\n",
              "      <td>72</td>\n",
              "      <td>24.4</td>\n",
              "    </tr>\n",
              "    <tr>\n",
              "      <th>263</th>\n",
              "      <td>264</td>\n",
              "      <td>female</td>\n",
              "      <td>Julia</td>\n",
              "      <td>Carvalho</td>\n",
              "      <td>3662 Shinn Street</td>\n",
              "      <td>New York</td>\n",
              "      <td>NY</td>\n",
              "      <td>10036.0</td>\n",
              "      <td>United States</td>\n",
              "      <td>JuliaAzevedoCarvalho@superrito.com+1 (212) 782...</td>\n",
              "      <td>4/11/1931</td>\n",
              "      <td>171.8</td>\n",
              "      <td>61</td>\n",
              "      <td>32.5</td>\n",
              "    </tr>\n",
              "    <tr>\n",
              "      <th>277</th>\n",
              "      <td>278</td>\n",
              "      <td>male</td>\n",
              "      <td>John</td>\n",
              "      <td>Doe</td>\n",
              "      <td>123 Main Street</td>\n",
              "      <td>New York</td>\n",
              "      <td>NY</td>\n",
              "      <td>12345.0</td>\n",
              "      <td>United States</td>\n",
              "      <td>johndoe@email.com1234567890</td>\n",
              "      <td>1/1/1975</td>\n",
              "      <td>180.0</td>\n",
              "      <td>72</td>\n",
              "      <td>24.4</td>\n",
              "    </tr>\n",
              "    <tr>\n",
              "      <th>301</th>\n",
              "      <td>302</td>\n",
              "      <td>female</td>\n",
              "      <td>Onyekachukwu</td>\n",
              "      <td>Obinna</td>\n",
              "      <td>2970 Forest Avenue</td>\n",
              "      <td>New York</td>\n",
              "      <td>NY</td>\n",
              "      <td>10004.0</td>\n",
              "      <td>United States</td>\n",
              "      <td>OnyekachukwuObinna@teleworm.us646-982-6609</td>\n",
              "      <td>1/24/1997</td>\n",
              "      <td>154.7</td>\n",
              "      <td>65</td>\n",
              "      <td>25.7</td>\n",
              "    </tr>\n",
              "    <tr>\n",
              "      <th>461</th>\n",
              "      <td>462</td>\n",
              "      <td>male</td>\n",
              "      <td>Cannan</td>\n",
              "      <td>Cabrera</td>\n",
              "      <td>2102 Geraldine Lane</td>\n",
              "      <td>New York</td>\n",
              "      <td>NY</td>\n",
              "      <td>10014.0</td>\n",
              "      <td>United States</td>\n",
              "      <td>646-289-4177CannanCabreraOrdonez@superrito.com</td>\n",
              "      <td>10/12/1980</td>\n",
              "      <td>209.7</td>\n",
              "      <td>71</td>\n",
              "      <td>29.2</td>\n",
              "    </tr>\n",
              "  </tbody>\n",
              "</table>\n",
              "</div>"
            ],
            "text/plain": [
              "     patient_id assigned_sex    given_name     surname               address  \\\n",
              "9            10       female        Sophie     Cabrera     3303 Anmoore Road   \n",
              "35           36       female        Kamila    Pecinová  3558 Longview Avenue   \n",
              "84           85       female         Nương          Vũ   465 Southern Street   \n",
              "129         130       female       Rebecca    Jephcott      989 Wayback Lane   \n",
              "142         143         male        Finley    Chandler  2754 Westwood Avenue   \n",
              "152         153         male   Christopher    Woodward  3450 Southern Street   \n",
              "188         189         male         Søren    Sørensen      2397 Bell Street   \n",
              "213         214       female    Onyemaechi   Onwughara     685 Duncan Avenue   \n",
              "215         216         male          John         Doe       123 Main Street   \n",
              "229         230         male          John         Doe       123 Main Street   \n",
              "237         238         male          John         Doe       123 Main Street   \n",
              "244         245         male          John         Doe       123 Main Street   \n",
              "247         248         male        Tuukka  Leppäluoto    1886 Bicetown Road   \n",
              "251         252         male          John         Doe       123 Main Street   \n",
              "263         264       female         Julia    Carvalho     3662 Shinn Street   \n",
              "277         278         male          John         Doe       123 Main Street   \n",
              "301         302       female  Onyekachukwu      Obinna    2970 Forest Avenue   \n",
              "461         462         male        Cannan     Cabrera   2102 Geraldine Lane   \n",
              "\n",
              "         city     state  zip_code        country  \\\n",
              "9    New York  New York   10011.0  United States   \n",
              "35   New York  New York   10004.0  United States   \n",
              "84   New York        NY   10001.0  United States   \n",
              "129  New York        NY   10004.0  United States   \n",
              "142  New York  New York   10001.0  United States   \n",
              "152  New York        NY   10004.0  United States   \n",
              "188  New York        NY   10011.0  United States   \n",
              "213  New York        NY   10013.0  United States   \n",
              "215  New York        NY   12345.0  United States   \n",
              "229  New York        NY   12345.0  United States   \n",
              "237  New York        NY   12345.0  United States   \n",
              "244  New York        NY   12345.0  United States   \n",
              "247  New York        NY   10011.0  United States   \n",
              "251  New York        NY   12345.0  United States   \n",
              "263  New York        NY   10036.0  United States   \n",
              "277  New York        NY   12345.0  United States   \n",
              "301  New York        NY   10004.0  United States   \n",
              "461  New York        NY   10014.0  United States   \n",
              "\n",
              "                                               contact   birthdate  weight  \\\n",
              "9        SophieCabreraIbarra@teleworm.us1 718 795 9124   12/3/1930   194.7   \n",
              "35               718-501-0503KamilaPecinova@dayrep.com  12/23/1985   198.9   \n",
              "84                  VuCamNuong@fleckens.hu516-720-5094    2/1/1981   138.2   \n",
              "129            631-370-7406RebeccaJephcott@armyspy.com    8/1/1966   203.3   \n",
              "142              516-740-5280FinleyChandler@dayrep.com  10/25/1936   150.9   \n",
              "152  ChristopherWoodward@jourrapide.com+1 (516) 630...    9/4/1984   212.2   \n",
              "188            SrenSrensen@superrito.com1 212 201 3108  12/31/1942   157.1   \n",
              "213         917-622-9142OnyemaechiOnwughara@einrot.com    3/8/1989   131.1   \n",
              "215                        johndoe@email.com1234567890    1/1/1975   180.0   \n",
              "229                        johndoe@email.com1234567890    1/1/1975   180.0   \n",
              "237                        johndoe@email.com1234567890    1/1/1975   180.0   \n",
              "244                        johndoe@email.com1234567890    1/1/1975   180.0   \n",
              "247           917-408-8855TuukkaLeppaluoto@teleworm.us    3/7/1978   211.0   \n",
              "251                        johndoe@email.com1234567890    1/1/1975   180.0   \n",
              "263  JuliaAzevedoCarvalho@superrito.com+1 (212) 782...   4/11/1931   171.8   \n",
              "277                        johndoe@email.com1234567890    1/1/1975   180.0   \n",
              "301         OnyekachukwuObinna@teleworm.us646-982-6609   1/24/1997   154.7   \n",
              "461     646-289-4177CannanCabreraOrdonez@superrito.com  10/12/1980   209.7   \n",
              "\n",
              "     height   bmi  \n",
              "9        64  33.4  \n",
              "35       62  36.4  \n",
              "84       63  24.5  \n",
              "129      65  33.8  \n",
              "142      70  21.6  \n",
              "152      66  34.2  \n",
              "188      67  24.6  \n",
              "213      69  19.4  \n",
              "215      72  24.4  \n",
              "229      72  24.4  \n",
              "237      72  24.4  \n",
              "244      72  24.4  \n",
              "247      73  27.8  \n",
              "251      72  24.4  \n",
              "263      61  32.5  \n",
              "277      72  24.4  \n",
              "301      65  25.7  \n",
              "461      71  29.2  "
            ]
          },
          "execution_count": 16,
          "metadata": {},
          "output_type": "execute_result"
        }
      ],
      "source": [
        "# Try using loc\n",
        "patients.loc[patients['city'] == 'New York']"
      ]
    },
    {
      "cell_type": "code",
      "execution_count": null,
      "id": "6fbd2ddd",
      "metadata": {
        "scrolled": true,
        "id": "6fbd2ddd"
      },
      "outputs": [],
      "source": [
        "# Now try using indexing\n"
      ]
    },
    {
      "cell_type": "markdown",
      "id": "ba9f8f50",
      "metadata": {
        "id": "ba9f8f50"
      },
      "source": [
        "#### How many patients in the patients table are from the city New York? *Hint: len() might come in handy.*"
      ]
    },
    {
      "cell_type": "code",
      "execution_count": null,
      "id": "4c1ba7c5",
      "metadata": {
        "id": "4c1ba7c5",
        "outputId": "d9c106ff-6512-48c2-eeb2-df48a89b4da2"
      },
      "outputs": [
        {
          "data": {
            "text/plain": [
              "18"
            ]
          },
          "execution_count": 17,
          "metadata": {},
          "output_type": "execute_result"
        }
      ],
      "source": [
        "\n"
      ]
    },
    {
      "cell_type": "markdown",
      "id": "63422974",
      "metadata": {
        "id": "63422974"
      },
      "source": [
        "#### Check for missing data in address column with .isnull() which returns  rows with empty data"
      ]
    },
    {
      "cell_type": "code",
      "execution_count": null,
      "id": "844de9b4",
      "metadata": {
        "id": "844de9b4"
      },
      "outputs": [],
      "source": [
        "\n"
      ]
    },
    {
      "cell_type": "markdown",
      "id": "a8a40618",
      "metadata": {
        "id": "a8a40618"
      },
      "source": [
        "### Quality\n",
        "#### `patients` table\n",
        "- zip code is a float not a string\n",
        "- zip code has four digits sometimes\n",
        "- Tim Neudorf height is 27 in instead of 72 in\n",
        "- full state names sometimes, abbreviations other times\n",
        "- Dsvid Gustafsson\n",
        "- Missing demographic information (address - contact columns)\n",
        "- Erroneous datatypes (assigned sex, state, zip_code, and birthdate columns)\n",
        "- Multiple phone number formats\n",
        "\n",
        "#### `treatments` table\n",
        "- missing HbA1c changes\n",
        "- the letter u in starting and ending doses for Auralin and Novodra\n",
        "- lowercase given names and surnames\n",
        "- missing records (280 instead of 350)\n",
        "- Erroneous datatypes (auralin and novodra columns)\n",
        "- Inaccurate HbA1c changes (4s mistaken as 9s)\n",
        "\n",
        "#### `adverse_reactions` table\n",
        "- lowercase given names and surnames"
      ]
    },
    {
      "cell_type": "markdown",
      "id": "9bff1543",
      "metadata": {
        "id": "9bff1543"
      },
      "source": [
        "#### Try `.value_counts` on the *surname* and *address* columns of the `patients` table."
      ]
    },
    {
      "cell_type": "code",
      "execution_count": null,
      "id": "94ed60f3",
      "metadata": {
        "scrolled": true,
        "id": "94ed60f3"
      },
      "outputs": [],
      "source": [
        "\n"
      ]
    },
    {
      "cell_type": "code",
      "execution_count": null,
      "id": "520c20af",
      "metadata": {
        "scrolled": true,
        "id": "520c20af"
      },
      "outputs": [],
      "source": [
        "\n"
      ]
    },
    {
      "cell_type": "markdown",
      "id": "6efb6cb6",
      "metadata": {
        "id": "6efb6cb6"
      },
      "source": [
        "#### Try `.duplicated` on the *address* column of the `patients` table."
      ]
    },
    {
      "cell_type": "code",
      "execution_count": null,
      "id": "c55a382a",
      "metadata": {
        "scrolled": true,
        "id": "c55a382a"
      },
      "outputs": [],
      "source": [
        "\n"
      ]
    },
    {
      "cell_type": "markdown",
      "id": "e47f27c8",
      "metadata": {
        "id": "e47f27c8"
      },
      "source": [
        "#### Try `.sort_values` on the *weight* column of the `patients` table."
      ]
    },
    {
      "cell_type": "code",
      "execution_count": null,
      "id": "46d403b1",
      "metadata": {
        "scrolled": true,
        "id": "46d403b1",
        "outputId": "5092ad63-7550-4822-ea8b-a1b9074fb265"
      },
      "outputs": [
        {
          "data": {
            "text/plain": [
              "210     48.8\n",
              "459    102.1\n",
              "335    102.7\n",
              "74     103.2\n",
              "317    106.0\n",
              "       ...  \n",
              "144    244.9\n",
              "61     244.9\n",
              "283    245.5\n",
              "118    254.5\n",
              "485    255.9\n",
              "Name: weight, Length: 503, dtype: float64"
            ]
          },
          "execution_count": 22,
          "metadata": {},
          "output_type": "execute_result"
        }
      ],
      "source": [
        "patients.weight.sort_values()"
      ]
    },
    {
      "cell_type": "markdown",
      "id": "4785b2d6",
      "metadata": {
        "id": "4785b2d6"
      },
      "source": [
        "The minimum value of weight in the patients table is 48.8 pounds which looks very low. We can check this by looking at the height and BMI entries for this patient we can see that 48.8 is actually kilograms instead of pounds."
      ]
    },
    {
      "cell_type": "code",
      "execution_count": null,
      "id": "9955c924",
      "metadata": {
        "id": "9955c924",
        "outputId": "2fa0ca70-aec8-4aae-a2ee-522aae7056cc"
      },
      "outputs": [
        {
          "data": {
            "text/plain": [
              "210    19.055827\n",
              "dtype: float64"
            ]
          },
          "execution_count": 23,
          "metadata": {},
          "output_type": "execute_result"
        }
      ],
      "source": [
        "# Convert weight to pounds and calculate BMI to see if it matches the recorded bmi\n",
        "weight_lbs = patients[patients.surname == 'Zaitseva'].weight * 2.20462 # to convert to pounds\n",
        "height_in = patients[patients.surname == 'Zaitseva'].height\n",
        "bmi_check = 703 * weight_lbs / ( height_in * height_in )\n",
        "bmi_check"
      ]
    },
    {
      "cell_type": "code",
      "execution_count": null,
      "id": "629396f1",
      "metadata": {
        "id": "629396f1",
        "outputId": "fa3dd7e0-98a4-463c-f871-85336f4fed59"
      },
      "outputs": [
        {
          "data": {
            "text/plain": [
              "210    19.1\n",
              "Name: bmi, dtype: float64"
            ]
          },
          "execution_count": 24,
          "metadata": {},
          "output_type": "execute_result"
        }
      ],
      "source": [
        "# Check recorded bmi to see if it matches bmi_check\n",
        "patients[patients.surname == 'Zaitseva'].bmi"
      ]
    },
    {
      "cell_type": "markdown",
      "id": "8b0d2f6c",
      "metadata": {
        "id": "8b0d2f6c"
      },
      "source": [
        "#### Try `.isnull` on the *auraline* and *novodra* columns of the `treatments` table."
      ]
    },
    {
      "cell_type": "code",
      "execution_count": null,
      "id": "cda3d66a",
      "metadata": {
        "id": "cda3d66a",
        "outputId": "f61c22a3-3f14-4717-aef7-5a4c5852c651"
      },
      "outputs": [
        {
          "data": {
            "text/plain": [
              "0"
            ]
          },
          "execution_count": 25,
          "metadata": {},
          "output_type": "execute_result"
        }
      ],
      "source": [
        "# Try .isnull on the auraline column of the treatments table.\n"
      ]
    },
    {
      "cell_type": "code",
      "execution_count": null,
      "id": "6a67728f",
      "metadata": {
        "id": "6a67728f",
        "outputId": "10bbbd5e-d537-4036-bec9-a9e819f59cf0"
      },
      "outputs": [
        {
          "data": {
            "text/plain": [
              "0"
            ]
          },
          "execution_count": 26,
          "metadata": {},
          "output_type": "execute_result"
        }
      ],
      "source": [
        "# Try .isnull on the novodra columns of the treatments table."
      ]
    },
    {
      "cell_type": "markdown",
      "id": "21d3b561",
      "metadata": {
        "id": "21d3b561"
      },
      "source": [
        "### Quality\n",
        "#### `patients` table\n",
        "- zip code is a float not a string\n",
        "- zip code has four digits sometimes\n",
        "- Tim Neudorf height is 27 in instead of 72 in\n",
        "- full state names sometimes, abbreviations other times\n",
        "- Dsvid Gustafsson\n",
        "- Missing demographic information (address - contact columns)\n",
        "- Erroneous datatypes (assigned sex, state, zip_code, and birthdate columns)\n",
        "- Multiple phone number formats\n",
        "- Default John Doe data\n",
        "- Multiple records for Jakobsen, Gersten, Taylor\n",
        "- kgs instead of lbs for Zaitseva weight\n",
        "\n",
        "#### `treatments` table\n",
        "- missing HbA1c changes\n",
        "- the letter u in starting and ending doses for Auralin and Novodra\n",
        "- lowercase given names and surnames\n",
        "- missing records (280 instead of 350)\n",
        "- Erroneous datatypes (auralin and novodra columns)\n",
        "- Inaccurate HbA1c changes (4s mistaken as 9s)\n",
        "- Nulls represented as dashes (-) in auralin and novodra columns\n",
        "\n",
        "\n",
        "#### `adverse_reactions` table\n",
        "- lowercase given names and surnames"
      ]
    },
    {
      "cell_type": "markdown",
      "id": "6e70d5ff",
      "metadata": {
        "id": "6e70d5ff"
      },
      "source": [
        "### Tidiness\n",
        "\n",
        "- Contact column in `patients` table should be split into phone number and email.\n",
        "- Three variables in two columns in `treatments` table (treatment, start dose and end dose).\n",
        "- Adverse reaction should be part of the `treatments` table.\n",
        "- Given name and surname columns in `patients` table duplicated in `treatments` and `adverse_reactions` tables.\n",
        "- Data is divided into 3 tables while actually only 2 are required.\n",
        "\n",
        "\n",
        "The auralin and novodra columns violate the first rule of tidiness: that each variable forms a column. There are three variables: treatment (auralin or novodra), start dose (for example 41 units), and end dose (for example 48 units).\n",
        "\n",
        "Because there are three variables, there should be three columns and there are currently only two, and both contain two variables. The auralin column contains the start and end dose for auralin patients and the novodra column contains the start and end dose for patients that were treated with novodra.\n",
        "\n",
        "#### Where is the Missing Data?\n",
        "\n",
        "If these two columns both contain two variables, start and end dose each, where is that missing third variable?\n",
        "\n",
        "The third variable, treatment, is hidden in the column headers. Column headers in this case are values, not variable names. Instead of the auralin and novodra columns, there should be three columns:\n",
        "\n",
        "- `treatment`, which contains values Auralin or Novodra\n",
        "- `start_dose`\n",
        "- `end_dose`\n"
      ]
    },
    {
      "cell_type": "markdown",
      "id": "c69d3288",
      "metadata": {
        "id": "c69d3288"
      },
      "source": [
        "#### How Many Tables?\n",
        "Two tables are needed: `patients` and `treatments`.\n",
        "\n",
        "- `patients` should have the same columns as the current patients table.\n",
        "- The adverse_reaction column of the `adverse_reactions` table should be included in the `treatments` table. When looking at treatment data, the adverse reaction for that treatment is the same type of observational unit.\n",
        "- The other columns in the `adverse_reactions` table are already present in both the treatments and patients table, so they can be eliminated."
      ]
    },
    {
      "cell_type": "markdown",
      "id": "3851ed4d",
      "metadata": {
        "id": "3851ed4d"
      },
      "source": [
        "#### Find duplicate column names in the three tables using pandas, use the following code:"
      ]
    },
    {
      "cell_type": "code",
      "execution_count": null,
      "id": "1d7b86b4",
      "metadata": {
        "id": "1d7b86b4",
        "outputId": "5341c525-7a06-4689-e73c-12e879e59ddb"
      },
      "outputs": [
        {
          "data": {
            "text/plain": [
              "0           patient_id\n",
              "1         assigned_sex\n",
              "2           given_name\n",
              "3              surname\n",
              "4              address\n",
              "5                 city\n",
              "6                state\n",
              "7             zip_code\n",
              "8              country\n",
              "9              contact\n",
              "10           birthdate\n",
              "11              weight\n",
              "12              height\n",
              "13                 bmi\n",
              "14          given_name\n",
              "15             surname\n",
              "16             auralin\n",
              "17             novodra\n",
              "18         hba1c_start\n",
              "19           hba1c_end\n",
              "20        hba1c_change\n",
              "21          given_name\n",
              "22             surname\n",
              "23    adverse_reaction\n",
              "dtype: object"
            ]
          },
          "execution_count": 27,
          "metadata": {},
          "output_type": "execute_result"
        }
      ],
      "source": [
        "# Create a series of all table columns to use .duplicated()\n",
        "all_columns = pd.Series(list(patients) + list(treatments) + list(adverse_reactions)) \n",
        "all_columns"
      ]
    },
    {
      "cell_type": "code",
      "execution_count": null,
      "id": "fb470bda",
      "metadata": {
        "id": "fb470bda"
      },
      "outputs": [],
      "source": [
        "# Find number of column names in all_columns series\n"
      ]
    },
    {
      "cell_type": "code",
      "execution_count": null,
      "id": "05574b6b",
      "metadata": {
        "id": "05574b6b"
      },
      "outputs": [],
      "source": [
        "# Find duplicated column names in all_columns series\n"
      ]
    },
    {
      "cell_type": "markdown",
      "id": "c18c7f2f",
      "metadata": {
        "id": "c18c7f2f"
      },
      "source": [
        "<a id='cleaning'></a>\n",
        "# Cleaning Data "
      ]
    },
    {
      "cell_type": "markdown",
      "id": "30e8a4cc",
      "metadata": {
        "id": "30e8a4cc"
      },
      "source": [
        "<a id='copies'></a>\n",
        "### A) Creating Dataframe Copies\n",
        "The very first thing to do before any cleaning occurs is to make a copy of each piece of data. All of the cleaning operations will be conducted on this copy so you can still view the original dirty and/or messy dataset later. "
      ]
    },
    {
      "cell_type": "code",
      "execution_count": null,
      "id": "b39d67de",
      "metadata": {
        "id": "b39d67de"
      },
      "outputs": [],
      "source": [
        "# Create a copy of patiens dataset and call it patients_clean\n",
        "patients_clean = patients.copy()\n",
        "\n",
        "# Create a copy of treatments dataset and call it treatments_clean\n",
        "\n",
        "\n",
        "# Create a copy of adverse_reactions dataset and call it adverse_reactions_clean\n",
        "\n"
      ]
    },
    {
      "cell_type": "markdown",
      "id": "fb92db8b",
      "metadata": {
        "id": "fb92db8b"
      },
      "source": [
        "<a id='missing'></a>\n",
        "### B) Cleaning Missing Data\n",
        "It's important to do this upfront so that subsequent data cleaning will not have to be repeated."
      ]
    },
    {
      "cell_type": "markdown",
      "id": "28de6652",
      "metadata": {
        "id": "28de6652"
      },
      "source": [
        "#### `treatments`: Missing records (280 instead of 350)"
      ]
    },
    {
      "cell_type": "markdown",
      "id": "f20bffe1",
      "metadata": {
        "id": "f20bffe1"
      },
      "source": [
        "*Note: the missing `treatments` records are stored in a file named `treatments_cut.csv`\n",
        "Hint: [documentation page](https://pandas.pydata.org/pandas-docs/stable/generated/pandas.concat.html) for the `concat` function used in the solution.*"
      ]
    },
    {
      "cell_type": "markdown",
      "id": "56bac0fa",
      "metadata": {
        "id": "56bac0fa"
      },
      "source": [
        "##### Define\n",
        "Import the cut treatments into a DataFrame and concatenate it with the original treatments DataFrame."
      ]
    },
    {
      "cell_type": "markdown",
      "id": "9595f911",
      "metadata": {
        "id": "9595f911"
      },
      "source": [
        "##### Code"
      ]
    },
    {
      "cell_type": "code",
      "execution_count": null,
      "id": "0b94e89d",
      "metadata": {
        "id": "0b94e89d"
      },
      "outputs": [],
      "source": [
        "treatments_cut = pd.read_csv('https://raw.githubusercontent.com/michael-fawzy/ALX-T-Data-Analyst/main/Data%20Assessment%20%26%20Cleaning/treatments_cut.csv')\n",
        "treatments_clean = pd.concat([treatments_clean, treatments_cut],\n",
        "                             ignore_index=True)"
      ]
    },
    {
      "cell_type": "markdown",
      "id": "f7e16469",
      "metadata": {
        "id": "f7e16469"
      },
      "source": [
        "##### Test"
      ]
    },
    {
      "cell_type": "code",
      "execution_count": null,
      "id": "869cc5d9",
      "metadata": {
        "id": "869cc5d9",
        "outputId": "8b368845-398f-4cf2-fef0-b6ad32e12c94"
      },
      "outputs": [
        {
          "data": {
            "text/plain": [
              "(350, 7)"
            ]
          },
          "execution_count": 32,
          "metadata": {},
          "output_type": "execute_result"
        }
      ],
      "source": [
        "treatments_clean.shape"
      ]
    },
    {
      "cell_type": "code",
      "execution_count": null,
      "id": "2479ffe4",
      "metadata": {
        "id": "2479ffe4",
        "outputId": "ddd77b89-d926-4f56-d946-fc94705a5a4d"
      },
      "outputs": [
        {
          "data": {
            "text/html": [
              "<div>\n",
              "<style scoped>\n",
              "    .dataframe tbody tr th:only-of-type {\n",
              "        vertical-align: middle;\n",
              "    }\n",
              "\n",
              "    .dataframe tbody tr th {\n",
              "        vertical-align: top;\n",
              "    }\n",
              "\n",
              "    .dataframe thead th {\n",
              "        text-align: right;\n",
              "    }\n",
              "</style>\n",
              "<table border=\"1\" class=\"dataframe\">\n",
              "  <thead>\n",
              "    <tr style=\"text-align: right;\">\n",
              "      <th></th>\n",
              "      <th>given_name</th>\n",
              "      <th>surname</th>\n",
              "      <th>auralin</th>\n",
              "      <th>novodra</th>\n",
              "      <th>hba1c_start</th>\n",
              "      <th>hba1c_end</th>\n",
              "      <th>hba1c_change</th>\n",
              "    </tr>\n",
              "  </thead>\n",
              "  <tbody>\n",
              "    <tr>\n",
              "      <th>0</th>\n",
              "      <td>veronika</td>\n",
              "      <td>jindrová</td>\n",
              "      <td>41u - 48u</td>\n",
              "      <td>-</td>\n",
              "      <td>7.63</td>\n",
              "      <td>7.20</td>\n",
              "      <td>NaN</td>\n",
              "    </tr>\n",
              "    <tr>\n",
              "      <th>1</th>\n",
              "      <td>elliot</td>\n",
              "      <td>richardson</td>\n",
              "      <td>-</td>\n",
              "      <td>40u - 45u</td>\n",
              "      <td>7.56</td>\n",
              "      <td>7.09</td>\n",
              "      <td>0.97</td>\n",
              "    </tr>\n",
              "    <tr>\n",
              "      <th>2</th>\n",
              "      <td>yukitaka</td>\n",
              "      <td>takenaka</td>\n",
              "      <td>-</td>\n",
              "      <td>39u - 36u</td>\n",
              "      <td>7.68</td>\n",
              "      <td>7.25</td>\n",
              "      <td>NaN</td>\n",
              "    </tr>\n",
              "    <tr>\n",
              "      <th>3</th>\n",
              "      <td>skye</td>\n",
              "      <td>gormanston</td>\n",
              "      <td>33u - 36u</td>\n",
              "      <td>-</td>\n",
              "      <td>7.97</td>\n",
              "      <td>7.62</td>\n",
              "      <td>0.35</td>\n",
              "    </tr>\n",
              "    <tr>\n",
              "      <th>4</th>\n",
              "      <td>alissa</td>\n",
              "      <td>montez</td>\n",
              "      <td>-</td>\n",
              "      <td>33u - 29u</td>\n",
              "      <td>7.78</td>\n",
              "      <td>7.46</td>\n",
              "      <td>0.32</td>\n",
              "    </tr>\n",
              "  </tbody>\n",
              "</table>\n",
              "</div>"
            ],
            "text/plain": [
              "  given_name     surname    auralin    novodra  hba1c_start  hba1c_end  \\\n",
              "0   veronika    jindrová  41u - 48u          -         7.63       7.20   \n",
              "1     elliot  richardson          -  40u - 45u         7.56       7.09   \n",
              "2   yukitaka    takenaka          -  39u - 36u         7.68       7.25   \n",
              "3       skye  gormanston  33u - 36u          -         7.97       7.62   \n",
              "4     alissa      montez          -  33u - 29u         7.78       7.46   \n",
              "\n",
              "   hba1c_change  \n",
              "0           NaN  \n",
              "1          0.97  \n",
              "2           NaN  \n",
              "3          0.35  \n",
              "4          0.32  "
            ]
          },
          "execution_count": 33,
          "metadata": {},
          "output_type": "execute_result"
        }
      ],
      "source": [
        "treatments_clean.head()"
      ]
    },
    {
      "cell_type": "code",
      "execution_count": null,
      "id": "44dc513a",
      "metadata": {
        "scrolled": true,
        "id": "44dc513a",
        "outputId": "6dda2a1e-3f65-4207-d89f-e9b2b8a40c0d"
      },
      "outputs": [
        {
          "data": {
            "text/html": [
              "<div>\n",
              "<style scoped>\n",
              "    .dataframe tbody tr th:only-of-type {\n",
              "        vertical-align: middle;\n",
              "    }\n",
              "\n",
              "    .dataframe tbody tr th {\n",
              "        vertical-align: top;\n",
              "    }\n",
              "\n",
              "    .dataframe thead th {\n",
              "        text-align: right;\n",
              "    }\n",
              "</style>\n",
              "<table border=\"1\" class=\"dataframe\">\n",
              "  <thead>\n",
              "    <tr style=\"text-align: right;\">\n",
              "      <th></th>\n",
              "      <th>given_name</th>\n",
              "      <th>surname</th>\n",
              "      <th>auralin</th>\n",
              "      <th>novodra</th>\n",
              "      <th>hba1c_start</th>\n",
              "      <th>hba1c_end</th>\n",
              "      <th>hba1c_change</th>\n",
              "    </tr>\n",
              "  </thead>\n",
              "  <tbody>\n",
              "    <tr>\n",
              "      <th>345</th>\n",
              "      <td>rovzan</td>\n",
              "      <td>kishiev</td>\n",
              "      <td>32u - 37u</td>\n",
              "      <td>-</td>\n",
              "      <td>7.75</td>\n",
              "      <td>7.41</td>\n",
              "      <td>0.34</td>\n",
              "    </tr>\n",
              "    <tr>\n",
              "      <th>346</th>\n",
              "      <td>jakob</td>\n",
              "      <td>jakobsen</td>\n",
              "      <td>-</td>\n",
              "      <td>28u - 26u</td>\n",
              "      <td>7.96</td>\n",
              "      <td>7.51</td>\n",
              "      <td>0.95</td>\n",
              "    </tr>\n",
              "    <tr>\n",
              "      <th>347</th>\n",
              "      <td>bernd</td>\n",
              "      <td>schneider</td>\n",
              "      <td>48u - 56u</td>\n",
              "      <td>-</td>\n",
              "      <td>7.74</td>\n",
              "      <td>7.44</td>\n",
              "      <td>0.30</td>\n",
              "    </tr>\n",
              "    <tr>\n",
              "      <th>348</th>\n",
              "      <td>berta</td>\n",
              "      <td>napolitani</td>\n",
              "      <td>-</td>\n",
              "      <td>42u - 44u</td>\n",
              "      <td>7.68</td>\n",
              "      <td>7.21</td>\n",
              "      <td>NaN</td>\n",
              "    </tr>\n",
              "    <tr>\n",
              "      <th>349</th>\n",
              "      <td>armina</td>\n",
              "      <td>sauvé</td>\n",
              "      <td>36u - 46u</td>\n",
              "      <td>-</td>\n",
              "      <td>7.86</td>\n",
              "      <td>7.40</td>\n",
              "      <td>NaN</td>\n",
              "    </tr>\n",
              "  </tbody>\n",
              "</table>\n",
              "</div>"
            ],
            "text/plain": [
              "    given_name     surname    auralin    novodra  hba1c_start  hba1c_end  \\\n",
              "345     rovzan     kishiev  32u - 37u          -         7.75       7.41   \n",
              "346      jakob    jakobsen          -  28u - 26u         7.96       7.51   \n",
              "347      bernd   schneider  48u - 56u          -         7.74       7.44   \n",
              "348      berta  napolitani          -  42u - 44u         7.68       7.21   \n",
              "349     armina       sauvé  36u - 46u          -         7.86       7.40   \n",
              "\n",
              "     hba1c_change  \n",
              "345          0.34  \n",
              "346          0.95  \n",
              "347          0.30  \n",
              "348           NaN  \n",
              "349           NaN  "
            ]
          },
          "execution_count": 34,
          "metadata": {},
          "output_type": "execute_result"
        }
      ],
      "source": [
        "treatments_clean.tail()"
      ]
    },
    {
      "cell_type": "markdown",
      "id": "f034005d",
      "metadata": {
        "id": "f034005d"
      },
      "source": [
        "#### `treatments`: Missing HbA1c changes and Inaccurate HbA1c changes (leading 4s mistaken as 9s)\n",
        "*Note: the \"Inaccurate HbA1c changes (leading 4s mistaken as 9s)\" observation, which is an accuracy issue and not a completeness issue, is included in this header because it is also fixed by the cleaning operation that fixes the missing \"Missing HbA1c changes\" observation. Multiple observations in one **Define, Code, and Test** header occurs multiple times in this notebook.*"
      ]
    },
    {
      "cell_type": "markdown",
      "id": "3c6a6a69",
      "metadata": {
        "id": "3c6a6a69"
      },
      "source": [
        "##### Define\n",
        "Recalculate the `hba1c_change` column: `hba1c_start` minus `hba1c_end`. "
      ]
    },
    {
      "cell_type": "markdown",
      "id": "bd95ccde",
      "metadata": {
        "id": "bd95ccde"
      },
      "source": [
        "##### Code"
      ]
    },
    {
      "cell_type": "code",
      "execution_count": null,
      "id": "8cd30d58",
      "metadata": {
        "id": "8cd30d58"
      },
      "outputs": [],
      "source": [
        "\n"
      ]
    },
    {
      "cell_type": "markdown",
      "id": "4c9d8eb6",
      "metadata": {
        "id": "4c9d8eb6"
      },
      "source": [
        "##### Test"
      ]
    },
    {
      "cell_type": "code",
      "execution_count": null,
      "id": "a3e53c87",
      "metadata": {
        "id": "a3e53c87",
        "outputId": "7bb09e6c-2e14-42c7-a8cb-460860177530"
      },
      "outputs": [
        {
          "data": {
            "text/plain": [
              "0    0.43\n",
              "1    0.47\n",
              "2    0.43\n",
              "3    0.35\n",
              "4    0.32\n",
              "Name: hba1c_change, dtype: float64"
            ]
          },
          "execution_count": 36,
          "metadata": {},
          "output_type": "execute_result"
        }
      ],
      "source": [
        "treatments_clean.hba1c_change.head()"
      ]
    },
    {
      "cell_type": "code",
      "execution_count": null,
      "id": "e2bd5908",
      "metadata": {
        "id": "e2bd5908"
      },
      "outputs": [],
      "source": [
        "treatments_clean.hba1c_change.isnull().sum()"
      ]
    },
    {
      "cell_type": "markdown",
      "id": "9e83d588",
      "metadata": {
        "id": "9e83d588"
      },
      "source": [
        "<a id='tidiness'></a>\n",
        "### C) Cleaning Tidiness Issues\n",
        "After addressing missing data the next logical step is cleaning for tidiness.\n",
        "- Tidy datasets are easy to manipulate\n",
        "- Tidy datasets with data quality issues are almost always easier to clean than untidy datasets with the same issues\n",
        "\n",
        "This means it's generally best to clean structural issues first, like tidiness, and then clean content issues, like quality."
      ]
    },
    {
      "cell_type": "markdown",
      "id": "fa2ec7e2",
      "metadata": {
        "id": "fa2ec7e2"
      },
      "source": [
        "#### Contact column in `patients` table contains two variables: phone number and email"
      ]
    },
    {
      "cell_type": "markdown",
      "id": "f5c33e91",
      "metadata": {
        "id": "f5c33e91"
      },
      "source": [
        "*Hint 1: use regular expressions with pandas' [`str.extract` method](https://pandas.pydata.org/pandas-docs/stable/generated/pandas.Series.str.extract.html). Here is an amazing [regex tutorial](https://regexone.com/). Hint 2: [various phone number regex patterns](https://stackoverflow.com/questions/16699007/regular-expression-to-match-standard-10-digit-phone-number). Hint 3: [email address regex pattern](http://emailregex.com/), which you might need to modify to distinguish the email from the phone number.*"
      ]
    },
    {
      "cell_type": "markdown",
      "id": "ae8f334d",
      "metadata": {
        "id": "ae8f334d"
      },
      "source": [
        "##### Define\n",
        "Extract the *phone number* and *email* variables from the *contact* column using regular expressions and pandas' `str.extract` method. Drop the *contact* column when done."
      ]
    },
    {
      "cell_type": "markdown",
      "id": "bae67dd1",
      "metadata": {
        "id": "bae67dd1"
      },
      "source": [
        "##### Code"
      ]
    },
    {
      "cell_type": "code",
      "execution_count": null,
      "id": "c50ad88e",
      "metadata": {
        "id": "c50ad88e"
      },
      "outputs": [],
      "source": [
        "patients_clean['phone_number'] = patients_clean.contact.str.extract('((?:\\+\\d{1,2}\\s)?\\(?\\d{3}\\)?[\\s.-]?\\d{3}[\\s.-]?\\d{4})', expand=True)\n",
        "\n",
        "# [a-zA-Z] to signify emails in this dataset all start and end with letters\n",
        "patients_clean['email'] = patients_clean.contact.str.extract('([a-zA-Z][a-zA-Z0-9_.+-]+@[a-zA-Z0-9-]+\\.[a-zA-Z0-9-.]+[a-zA-Z])', expand=True)\n",
        "\n",
        "# Note: axis=1 denotes that we are referring to a column, not a row\n",
        "patients_clean = patients_clean.drop('contact', axis=1)"
      ]
    },
    {
      "cell_type": "markdown",
      "id": "d35c5fb8",
      "metadata": {
        "id": "d35c5fb8"
      },
      "source": [
        "##### Test"
      ]
    },
    {
      "cell_type": "code",
      "execution_count": null,
      "id": "24f4ef43",
      "metadata": {
        "id": "24f4ef43",
        "outputId": "aa08a24c-2010-4356-a4b6-8f83c2e983bb"
      },
      "outputs": [
        {
          "data": {
            "text/plain": [
              "['patient_id',\n",
              " 'assigned_sex',\n",
              " 'given_name',\n",
              " 'surname',\n",
              " 'address',\n",
              " 'city',\n",
              " 'state',\n",
              " 'zip_code',\n",
              " 'country',\n",
              " 'birthdate',\n",
              " 'weight',\n",
              " 'height',\n",
              " 'bmi',\n",
              " 'phone_number',\n",
              " 'email']"
            ]
          },
          "execution_count": 42,
          "metadata": {},
          "output_type": "execute_result"
        }
      ],
      "source": [
        "# Confirm contact column is gone\n",
        "list(patients_clean)"
      ]
    },
    {
      "cell_type": "code",
      "execution_count": null,
      "id": "790a3ed2",
      "metadata": {
        "scrolled": true,
        "id": "790a3ed2",
        "outputId": "8d96c828-25c7-4503-d206-727b3c403b62"
      },
      "outputs": [
        {
          "data": {
            "text/plain": [
              "439         515 362 6574\n",
              "58          412-640-7035\n",
              "32          562-985-4582\n",
              "28          267 895 7462\n",
              "386         408-215-6012\n",
              "468         573-728-3861\n",
              "490         914-636-9304\n",
              "103    +1 (407) 838-0201\n",
              "96          207-768-0477\n",
              "20          781 447 1763\n",
              "346         607-206-1483\n",
              "411         518 487 4865\n",
              "497    +1 (918) 984-9171\n",
              "105         919-915-8670\n",
              "274         740-552-2444\n",
              "43          307 712 0508\n",
              "199         205 648 4197\n",
              "222         502-367-6167\n",
              "432         979 203 0438\n",
              "352         912-988-6655\n",
              "87          320-272-4299\n",
              "122         231-607-3625\n",
              "47          404-289-1766\n",
              "429         218-773-9682\n",
              "311         601-389-7682\n",
              "Name: phone_number, dtype: object"
            ]
          },
          "execution_count": 43,
          "metadata": {},
          "output_type": "execute_result"
        }
      ],
      "source": [
        "patients_clean.phone_number.sample(25)"
      ]
    },
    {
      "cell_type": "code",
      "execution_count": null,
      "id": "784914ef",
      "metadata": {
        "id": "784914ef",
        "outputId": "2f44324c-955b-4fa1-f3e8-72cf1ebeb5ce"
      },
      "outputs": [
        {
          "data": {
            "text/plain": [
              "404               AaliyahRice@dayrep.com\n",
              "11          Abdul-NurMummarIsa@rhyta.com\n",
              "332                AbelEfrem@fleckens.hu\n",
              "258              AbelYonatan@teleworm.us\n",
              "305    AddolorataLombardi@jourrapide.com\n",
              "Name: email, dtype: object"
            ]
          },
          "execution_count": 44,
          "metadata": {},
          "output_type": "execute_result"
        }
      ],
      "source": [
        "# Confirm that no emails start with an integer (regex didn't match for this)\n",
        "patients_clean.email.sort_values().head()"
      ]
    },
    {
      "cell_type": "markdown",
      "id": "ed7ee2b1",
      "metadata": {
        "id": "ed7ee2b1"
      },
      "source": [
        "#### Three variables in two columns in `treatments` table (treatment, start dose and end dose)"
      ]
    },
    {
      "cell_type": "markdown",
      "id": "e892de4d",
      "metadata": {
        "id": "e892de4d"
      },
      "source": [
        "*Hint: use pandas' [melt function](https://pandas.pydata.org/pandas-docs/stable/generated/pandas.melt.html) and [`str.split()` method](https://pandas.pydata.org/pandas-docs/stable/generated/pandas.Series.str.split.html). Here is an excellent [`melt` tutorial](https://deparkes.co.uk/2016/10/28/reshape-pandas-data-with-melt/).*"
      ]
    },
    {
      "cell_type": "markdown",
      "id": "d4b9ef3f",
      "metadata": {
        "id": "d4b9ef3f"
      },
      "source": [
        "##### Define\n",
        "Melt the *auralin* and *novodra* columns to a *treatment* and a *dose* column (dose will still contain both start and end dose at this point). Then split the dose column on ' - ' to obtain *start_dose* and *end_dose* columns. Drop the intermediate *dose* column."
      ]
    },
    {
      "cell_type": "markdown",
      "id": "2e6316c3",
      "metadata": {
        "id": "2e6316c3"
      },
      "source": [
        "##### Code"
      ]
    },
    {
      "cell_type": "code",
      "execution_count": null,
      "id": "961e337d",
      "metadata": {
        "id": "961e337d",
        "outputId": "71ad5e69-586f-4220-ac78-1ceb9f6a786d"
      },
      "outputs": [
        {
          "data": {
            "text/html": [
              "<div>\n",
              "<style scoped>\n",
              "    .dataframe tbody tr th:only-of-type {\n",
              "        vertical-align: middle;\n",
              "    }\n",
              "\n",
              "    .dataframe tbody tr th {\n",
              "        vertical-align: top;\n",
              "    }\n",
              "\n",
              "    .dataframe thead th {\n",
              "        text-align: right;\n",
              "    }\n",
              "</style>\n",
              "<table border=\"1\" class=\"dataframe\">\n",
              "  <thead>\n",
              "    <tr style=\"text-align: right;\">\n",
              "      <th></th>\n",
              "      <th>given_name</th>\n",
              "      <th>surname</th>\n",
              "      <th>hba1c_start</th>\n",
              "      <th>hba1c_end</th>\n",
              "      <th>hba1c_change</th>\n",
              "      <th>treatment</th>\n",
              "      <th>dose</th>\n",
              "    </tr>\n",
              "  </thead>\n",
              "  <tbody>\n",
              "    <tr>\n",
              "      <th>0</th>\n",
              "      <td>veronika</td>\n",
              "      <td>jindrová</td>\n",
              "      <td>7.63</td>\n",
              "      <td>7.20</td>\n",
              "      <td>0.43</td>\n",
              "      <td>auralin</td>\n",
              "      <td>41u - 48u</td>\n",
              "    </tr>\n",
              "    <tr>\n",
              "      <th>1</th>\n",
              "      <td>elliot</td>\n",
              "      <td>richardson</td>\n",
              "      <td>7.56</td>\n",
              "      <td>7.09</td>\n",
              "      <td>0.47</td>\n",
              "      <td>auralin</td>\n",
              "      <td>-</td>\n",
              "    </tr>\n",
              "    <tr>\n",
              "      <th>2</th>\n",
              "      <td>yukitaka</td>\n",
              "      <td>takenaka</td>\n",
              "      <td>7.68</td>\n",
              "      <td>7.25</td>\n",
              "      <td>0.43</td>\n",
              "      <td>auralin</td>\n",
              "      <td>-</td>\n",
              "    </tr>\n",
              "    <tr>\n",
              "      <th>3</th>\n",
              "      <td>skye</td>\n",
              "      <td>gormanston</td>\n",
              "      <td>7.97</td>\n",
              "      <td>7.62</td>\n",
              "      <td>0.35</td>\n",
              "      <td>auralin</td>\n",
              "      <td>33u - 36u</td>\n",
              "    </tr>\n",
              "    <tr>\n",
              "      <th>4</th>\n",
              "      <td>alissa</td>\n",
              "      <td>montez</td>\n",
              "      <td>7.78</td>\n",
              "      <td>7.46</td>\n",
              "      <td>0.32</td>\n",
              "      <td>auralin</td>\n",
              "      <td>-</td>\n",
              "    </tr>\n",
              "  </tbody>\n",
              "</table>\n",
              "</div>"
            ],
            "text/plain": [
              "  given_name     surname  hba1c_start  hba1c_end  hba1c_change treatment  \\\n",
              "0   veronika    jindrová         7.63       7.20          0.43   auralin   \n",
              "1     elliot  richardson         7.56       7.09          0.47   auralin   \n",
              "2   yukitaka    takenaka         7.68       7.25          0.43   auralin   \n",
              "3       skye  gormanston         7.97       7.62          0.35   auralin   \n",
              "4     alissa      montez         7.78       7.46          0.32   auralin   \n",
              "\n",
              "        dose  \n",
              "0  41u - 48u  \n",
              "1          -  \n",
              "2          -  \n",
              "3  33u - 36u  \n",
              "4          -  "
            ]
          },
          "execution_count": 46,
          "metadata": {},
          "output_type": "execute_result"
        }
      ],
      "source": [
        "# Melt the auralin and novodra columns to a treatment and a dose column\n",
        "treatments_clean = pd.melt(treatments_clean, id_vars=['given_name', 'surname', 'hba1c_start', 'hba1c_end', 'hba1c_change'],\n",
        "                           var_name='treatment', value_name='dose')\n",
        "treatments_clean.head()"
      ]
    },
    {
      "cell_type": "code",
      "execution_count": null,
      "id": "414e28c3",
      "metadata": {
        "id": "414e28c3",
        "outputId": "9b5e16f3-1b7b-4c52-a369-5b55ef5c621d"
      },
      "outputs": [
        {
          "data": {
            "text/html": [
              "<div>\n",
              "<style scoped>\n",
              "    .dataframe tbody tr th:only-of-type {\n",
              "        vertical-align: middle;\n",
              "    }\n",
              "\n",
              "    .dataframe tbody tr th {\n",
              "        vertical-align: top;\n",
              "    }\n",
              "\n",
              "    .dataframe thead th {\n",
              "        text-align: right;\n",
              "    }\n",
              "</style>\n",
              "<table border=\"1\" class=\"dataframe\">\n",
              "  <thead>\n",
              "    <tr style=\"text-align: right;\">\n",
              "      <th></th>\n",
              "      <th>given_name</th>\n",
              "      <th>surname</th>\n",
              "      <th>hba1c_start</th>\n",
              "      <th>hba1c_end</th>\n",
              "      <th>hba1c_change</th>\n",
              "      <th>treatment</th>\n",
              "      <th>dose</th>\n",
              "    </tr>\n",
              "  </thead>\n",
              "  <tbody>\n",
              "    <tr>\n",
              "      <th>0</th>\n",
              "      <td>veronika</td>\n",
              "      <td>jindrová</td>\n",
              "      <td>7.63</td>\n",
              "      <td>7.20</td>\n",
              "      <td>0.43</td>\n",
              "      <td>auralin</td>\n",
              "      <td>41u - 48u</td>\n",
              "    </tr>\n",
              "    <tr>\n",
              "      <th>3</th>\n",
              "      <td>skye</td>\n",
              "      <td>gormanston</td>\n",
              "      <td>7.97</td>\n",
              "      <td>7.62</td>\n",
              "      <td>0.35</td>\n",
              "      <td>auralin</td>\n",
              "      <td>33u - 36u</td>\n",
              "    </tr>\n",
              "    <tr>\n",
              "      <th>6</th>\n",
              "      <td>sophia</td>\n",
              "      <td>haugen</td>\n",
              "      <td>7.65</td>\n",
              "      <td>7.27</td>\n",
              "      <td>0.38</td>\n",
              "      <td>auralin</td>\n",
              "      <td>37u - 42u</td>\n",
              "    </tr>\n",
              "    <tr>\n",
              "      <th>7</th>\n",
              "      <td>eddie</td>\n",
              "      <td>archer</td>\n",
              "      <td>7.89</td>\n",
              "      <td>7.55</td>\n",
              "      <td>0.34</td>\n",
              "      <td>auralin</td>\n",
              "      <td>31u - 38u</td>\n",
              "    </tr>\n",
              "    <tr>\n",
              "      <th>9</th>\n",
              "      <td>asia</td>\n",
              "      <td>woźniak</td>\n",
              "      <td>7.76</td>\n",
              "      <td>7.37</td>\n",
              "      <td>0.39</td>\n",
              "      <td>auralin</td>\n",
              "      <td>30u - 36u</td>\n",
              "    </tr>\n",
              "  </tbody>\n",
              "</table>\n",
              "</div>"
            ],
            "text/plain": [
              "  given_name     surname  hba1c_start  hba1c_end  hba1c_change treatment  \\\n",
              "0   veronika    jindrová         7.63       7.20          0.43   auralin   \n",
              "3       skye  gormanston         7.97       7.62          0.35   auralin   \n",
              "6     sophia      haugen         7.65       7.27          0.38   auralin   \n",
              "7      eddie      archer         7.89       7.55          0.34   auralin   \n",
              "9       asia     woźniak         7.76       7.37          0.39   auralin   \n",
              "\n",
              "        dose  \n",
              "0  41u - 48u  \n",
              "3  33u - 36u  \n",
              "6  37u - 42u  \n",
              "7  31u - 38u  \n",
              "9  30u - 36u  "
            ]
          },
          "execution_count": 47,
          "metadata": {},
          "output_type": "execute_result"
        }
      ],
      "source": [
        "# Select all rows where dose column is not empty (don't contain \"-\" only in the dose column)\n",
        "\n"
      ]
    },
    {
      "cell_type": "code",
      "execution_count": null,
      "id": "ff9cdff7",
      "metadata": {
        "id": "ff9cdff7",
        "outputId": "5d032987-9e19-49f1-a82d-7dcdcf1eeb9e"
      },
      "outputs": [
        {
          "data": {
            "text/html": [
              "<div>\n",
              "<style scoped>\n",
              "    .dataframe tbody tr th:only-of-type {\n",
              "        vertical-align: middle;\n",
              "    }\n",
              "\n",
              "    .dataframe tbody tr th {\n",
              "        vertical-align: top;\n",
              "    }\n",
              "\n",
              "    .dataframe thead th {\n",
              "        text-align: right;\n",
              "    }\n",
              "</style>\n",
              "<table border=\"1\" class=\"dataframe\">\n",
              "  <thead>\n",
              "    <tr style=\"text-align: right;\">\n",
              "      <th></th>\n",
              "      <th>given_name</th>\n",
              "      <th>surname</th>\n",
              "      <th>hba1c_start</th>\n",
              "      <th>hba1c_end</th>\n",
              "      <th>hba1c_change</th>\n",
              "      <th>treatment</th>\n",
              "      <th>dose</th>\n",
              "      <th>dose_start</th>\n",
              "      <th>dose_end</th>\n",
              "    </tr>\n",
              "  </thead>\n",
              "  <tbody>\n",
              "    <tr>\n",
              "      <th>0</th>\n",
              "      <td>veronika</td>\n",
              "      <td>jindrová</td>\n",
              "      <td>7.63</td>\n",
              "      <td>7.20</td>\n",
              "      <td>0.43</td>\n",
              "      <td>auralin</td>\n",
              "      <td>41u - 48u</td>\n",
              "      <td>41u</td>\n",
              "      <td>48u</td>\n",
              "    </tr>\n",
              "    <tr>\n",
              "      <th>3</th>\n",
              "      <td>skye</td>\n",
              "      <td>gormanston</td>\n",
              "      <td>7.97</td>\n",
              "      <td>7.62</td>\n",
              "      <td>0.35</td>\n",
              "      <td>auralin</td>\n",
              "      <td>33u - 36u</td>\n",
              "      <td>33u</td>\n",
              "      <td>36u</td>\n",
              "    </tr>\n",
              "    <tr>\n",
              "      <th>6</th>\n",
              "      <td>sophia</td>\n",
              "      <td>haugen</td>\n",
              "      <td>7.65</td>\n",
              "      <td>7.27</td>\n",
              "      <td>0.38</td>\n",
              "      <td>auralin</td>\n",
              "      <td>37u - 42u</td>\n",
              "      <td>37u</td>\n",
              "      <td>42u</td>\n",
              "    </tr>\n",
              "    <tr>\n",
              "      <th>7</th>\n",
              "      <td>eddie</td>\n",
              "      <td>archer</td>\n",
              "      <td>7.89</td>\n",
              "      <td>7.55</td>\n",
              "      <td>0.34</td>\n",
              "      <td>auralin</td>\n",
              "      <td>31u - 38u</td>\n",
              "      <td>31u</td>\n",
              "      <td>38u</td>\n",
              "    </tr>\n",
              "    <tr>\n",
              "      <th>9</th>\n",
              "      <td>asia</td>\n",
              "      <td>woźniak</td>\n",
              "      <td>7.76</td>\n",
              "      <td>7.37</td>\n",
              "      <td>0.39</td>\n",
              "      <td>auralin</td>\n",
              "      <td>30u - 36u</td>\n",
              "      <td>30u</td>\n",
              "      <td>36u</td>\n",
              "    </tr>\n",
              "    <tr>\n",
              "      <th>...</th>\n",
              "      <td>...</td>\n",
              "      <td>...</td>\n",
              "      <td>...</td>\n",
              "      <td>...</td>\n",
              "      <td>...</td>\n",
              "      <td>...</td>\n",
              "      <td>...</td>\n",
              "      <td>...</td>\n",
              "      <td>...</td>\n",
              "    </tr>\n",
              "    <tr>\n",
              "      <th>688</th>\n",
              "      <td>christopher</td>\n",
              "      <td>woodward</td>\n",
              "      <td>7.51</td>\n",
              "      <td>7.06</td>\n",
              "      <td>0.45</td>\n",
              "      <td>novodra</td>\n",
              "      <td>55u - 51u</td>\n",
              "      <td>55u</td>\n",
              "      <td>51u</td>\n",
              "    </tr>\n",
              "    <tr>\n",
              "      <th>690</th>\n",
              "      <td>maret</td>\n",
              "      <td>sultygov</td>\n",
              "      <td>7.67</td>\n",
              "      <td>7.30</td>\n",
              "      <td>0.37</td>\n",
              "      <td>novodra</td>\n",
              "      <td>26u - 23u</td>\n",
              "      <td>26u</td>\n",
              "      <td>23u</td>\n",
              "    </tr>\n",
              "    <tr>\n",
              "      <th>694</th>\n",
              "      <td>lixue</td>\n",
              "      <td>hsueh</td>\n",
              "      <td>9.21</td>\n",
              "      <td>8.80</td>\n",
              "      <td>0.41</td>\n",
              "      <td>novodra</td>\n",
              "      <td>22u - 23u</td>\n",
              "      <td>22u</td>\n",
              "      <td>23u</td>\n",
              "    </tr>\n",
              "    <tr>\n",
              "      <th>696</th>\n",
              "      <td>jakob</td>\n",
              "      <td>jakobsen</td>\n",
              "      <td>7.96</td>\n",
              "      <td>7.51</td>\n",
              "      <td>0.45</td>\n",
              "      <td>novodra</td>\n",
              "      <td>28u - 26u</td>\n",
              "      <td>28u</td>\n",
              "      <td>26u</td>\n",
              "    </tr>\n",
              "    <tr>\n",
              "      <th>698</th>\n",
              "      <td>berta</td>\n",
              "      <td>napolitani</td>\n",
              "      <td>7.68</td>\n",
              "      <td>7.21</td>\n",
              "      <td>0.47</td>\n",
              "      <td>novodra</td>\n",
              "      <td>42u - 44u</td>\n",
              "      <td>42u</td>\n",
              "      <td>44u</td>\n",
              "    </tr>\n",
              "  </tbody>\n",
              "</table>\n",
              "<p>350 rows × 9 columns</p>\n",
              "</div>"
            ],
            "text/plain": [
              "      given_name     surname  hba1c_start  hba1c_end  hba1c_change treatment  \\\n",
              "0       veronika    jindrová         7.63       7.20          0.43   auralin   \n",
              "3           skye  gormanston         7.97       7.62          0.35   auralin   \n",
              "6         sophia      haugen         7.65       7.27          0.38   auralin   \n",
              "7          eddie      archer         7.89       7.55          0.34   auralin   \n",
              "9           asia     woźniak         7.76       7.37          0.39   auralin   \n",
              "..           ...         ...          ...        ...           ...       ...   \n",
              "688  christopher    woodward         7.51       7.06          0.45   novodra   \n",
              "690        maret    sultygov         7.67       7.30          0.37   novodra   \n",
              "694        lixue       hsueh         9.21       8.80          0.41   novodra   \n",
              "696        jakob    jakobsen         7.96       7.51          0.45   novodra   \n",
              "698        berta  napolitani         7.68       7.21          0.47   novodra   \n",
              "\n",
              "          dose dose_start dose_end  \n",
              "0    41u - 48u        41u      48u  \n",
              "3    33u - 36u        33u      36u  \n",
              "6    37u - 42u        37u      42u  \n",
              "7    31u - 38u        31u      38u  \n",
              "9    30u - 36u        30u      36u  \n",
              "..         ...        ...      ...  \n",
              "688  55u - 51u        55u      51u  \n",
              "690  26u - 23u        26u      23u  \n",
              "694  22u - 23u        22u      23u  \n",
              "696  28u - 26u        28u      26u  \n",
              "698  42u - 44u        42u      44u  \n",
              "\n",
              "[350 rows x 9 columns]"
            ]
          },
          "execution_count": 48,
          "metadata": {},
          "output_type": "execute_result"
        }
      ],
      "source": [
        "# split the dose column on ' - ' to obtain start_dose and end_dose columns\n"
      ]
    },
    {
      "cell_type": "code",
      "execution_count": null,
      "id": "7fc8fb6f",
      "metadata": {
        "id": "7fc8fb6f"
      },
      "outputs": [],
      "source": [
        "# Drop the dose column.\n"
      ]
    },
    {
      "cell_type": "markdown",
      "id": "7efc9d97",
      "metadata": {
        "id": "7efc9d97"
      },
      "source": [
        "##### Test"
      ]
    },
    {
      "cell_type": "code",
      "execution_count": null,
      "id": "e70ecbfa",
      "metadata": {
        "id": "e70ecbfa",
        "outputId": "fb489204-cbb5-4388-8527-a176df86234a"
      },
      "outputs": [
        {
          "data": {
            "text/html": [
              "<div>\n",
              "<style scoped>\n",
              "    .dataframe tbody tr th:only-of-type {\n",
              "        vertical-align: middle;\n",
              "    }\n",
              "\n",
              "    .dataframe tbody tr th {\n",
              "        vertical-align: top;\n",
              "    }\n",
              "\n",
              "    .dataframe thead th {\n",
              "        text-align: right;\n",
              "    }\n",
              "</style>\n",
              "<table border=\"1\" class=\"dataframe\">\n",
              "  <thead>\n",
              "    <tr style=\"text-align: right;\">\n",
              "      <th></th>\n",
              "      <th>given_name</th>\n",
              "      <th>surname</th>\n",
              "      <th>hba1c_start</th>\n",
              "      <th>hba1c_end</th>\n",
              "      <th>hba1c_change</th>\n",
              "      <th>treatment</th>\n",
              "      <th>dose_start</th>\n",
              "      <th>dose_end</th>\n",
              "    </tr>\n",
              "  </thead>\n",
              "  <tbody>\n",
              "    <tr>\n",
              "      <th>0</th>\n",
              "      <td>veronika</td>\n",
              "      <td>jindrová</td>\n",
              "      <td>7.63</td>\n",
              "      <td>7.20</td>\n",
              "      <td>0.43</td>\n",
              "      <td>auralin</td>\n",
              "      <td>41u</td>\n",
              "      <td>48u</td>\n",
              "    </tr>\n",
              "    <tr>\n",
              "      <th>3</th>\n",
              "      <td>skye</td>\n",
              "      <td>gormanston</td>\n",
              "      <td>7.97</td>\n",
              "      <td>7.62</td>\n",
              "      <td>0.35</td>\n",
              "      <td>auralin</td>\n",
              "      <td>33u</td>\n",
              "      <td>36u</td>\n",
              "    </tr>\n",
              "    <tr>\n",
              "      <th>6</th>\n",
              "      <td>sophia</td>\n",
              "      <td>haugen</td>\n",
              "      <td>7.65</td>\n",
              "      <td>7.27</td>\n",
              "      <td>0.38</td>\n",
              "      <td>auralin</td>\n",
              "      <td>37u</td>\n",
              "      <td>42u</td>\n",
              "    </tr>\n",
              "    <tr>\n",
              "      <th>7</th>\n",
              "      <td>eddie</td>\n",
              "      <td>archer</td>\n",
              "      <td>7.89</td>\n",
              "      <td>7.55</td>\n",
              "      <td>0.34</td>\n",
              "      <td>auralin</td>\n",
              "      <td>31u</td>\n",
              "      <td>38u</td>\n",
              "    </tr>\n",
              "    <tr>\n",
              "      <th>9</th>\n",
              "      <td>asia</td>\n",
              "      <td>woźniak</td>\n",
              "      <td>7.76</td>\n",
              "      <td>7.37</td>\n",
              "      <td>0.39</td>\n",
              "      <td>auralin</td>\n",
              "      <td>30u</td>\n",
              "      <td>36u</td>\n",
              "    </tr>\n",
              "  </tbody>\n",
              "</table>\n",
              "</div>"
            ],
            "text/plain": [
              "  given_name     surname  hba1c_start  hba1c_end  hba1c_change treatment  \\\n",
              "0   veronika    jindrová         7.63       7.20          0.43   auralin   \n",
              "3       skye  gormanston         7.97       7.62          0.35   auralin   \n",
              "6     sophia      haugen         7.65       7.27          0.38   auralin   \n",
              "7      eddie      archer         7.89       7.55          0.34   auralin   \n",
              "9       asia     woźniak         7.76       7.37          0.39   auralin   \n",
              "\n",
              "  dose_start dose_end  \n",
              "0        41u      48u  \n",
              "3        33u      36u  \n",
              "6        37u      42u  \n",
              "7        31u      38u  \n",
              "9        30u      36u  "
            ]
          },
          "execution_count": 50,
          "metadata": {},
          "output_type": "execute_result"
        }
      ],
      "source": [
        "treatments_clean.head()"
      ]
    },
    {
      "cell_type": "markdown",
      "id": "9a67d5b7",
      "metadata": {
        "id": "9a67d5b7"
      },
      "source": [
        "#### Adverse reaction should be part of the `treatments` table"
      ]
    },
    {
      "cell_type": "markdown",
      "id": "050d46c3",
      "metadata": {
        "id": "050d46c3"
      },
      "source": [
        "*Hint: [tutorial](https://chrisalbon.com/python/pandas_join_merge_dataframe.html) for the `merge` function used in the solution.*"
      ]
    },
    {
      "cell_type": "markdown",
      "id": "0c305ead",
      "metadata": {
        "id": "0c305ead"
      },
      "source": [
        "##### Define\n",
        "Merge the *adverse_reaction* column to the `treatments` table, joining on *given_name* and *surname*."
      ]
    },
    {
      "cell_type": "markdown",
      "id": "dc50b1f2",
      "metadata": {
        "id": "dc50b1f2"
      },
      "source": [
        "##### Code"
      ]
    },
    {
      "cell_type": "code",
      "execution_count": null,
      "id": "9ca5e691",
      "metadata": {
        "id": "9ca5e691"
      },
      "outputs": [],
      "source": [
        "treatments_clean = pd.merge(treatments_clean, adverse_reactions_clean,\n",
        "                            on=['given_name', 'surname'], how='left')"
      ]
    },
    {
      "cell_type": "markdown",
      "id": "3e9c2f06",
      "metadata": {
        "id": "3e9c2f06"
      },
      "source": [
        "##### Test"
      ]
    },
    {
      "cell_type": "code",
      "execution_count": null,
      "id": "a793279f",
      "metadata": {
        "scrolled": true,
        "id": "a793279f",
        "outputId": "4dd825e4-f2b8-4f82-aa21-edb72cc50b46"
      },
      "outputs": [
        {
          "data": {
            "text/html": [
              "<div>\n",
              "<style scoped>\n",
              "    .dataframe tbody tr th:only-of-type {\n",
              "        vertical-align: middle;\n",
              "    }\n",
              "\n",
              "    .dataframe tbody tr th {\n",
              "        vertical-align: top;\n",
              "    }\n",
              "\n",
              "    .dataframe thead th {\n",
              "        text-align: right;\n",
              "    }\n",
              "</style>\n",
              "<table border=\"1\" class=\"dataframe\">\n",
              "  <thead>\n",
              "    <tr style=\"text-align: right;\">\n",
              "      <th></th>\n",
              "      <th>given_name</th>\n",
              "      <th>surname</th>\n",
              "      <th>hba1c_start</th>\n",
              "      <th>hba1c_end</th>\n",
              "      <th>hba1c_change</th>\n",
              "      <th>treatment</th>\n",
              "      <th>dose_start</th>\n",
              "      <th>dose_end</th>\n",
              "      <th>adverse_reaction</th>\n",
              "    </tr>\n",
              "  </thead>\n",
              "  <tbody>\n",
              "    <tr>\n",
              "      <th>0</th>\n",
              "      <td>veronika</td>\n",
              "      <td>jindrová</td>\n",
              "      <td>7.63</td>\n",
              "      <td>7.20</td>\n",
              "      <td>0.43</td>\n",
              "      <td>auralin</td>\n",
              "      <td>41u</td>\n",
              "      <td>48u</td>\n",
              "      <td>NaN</td>\n",
              "    </tr>\n",
              "    <tr>\n",
              "      <th>1</th>\n",
              "      <td>skye</td>\n",
              "      <td>gormanston</td>\n",
              "      <td>7.97</td>\n",
              "      <td>7.62</td>\n",
              "      <td>0.35</td>\n",
              "      <td>auralin</td>\n",
              "      <td>33u</td>\n",
              "      <td>36u</td>\n",
              "      <td>NaN</td>\n",
              "    </tr>\n",
              "    <tr>\n",
              "      <th>2</th>\n",
              "      <td>sophia</td>\n",
              "      <td>haugen</td>\n",
              "      <td>7.65</td>\n",
              "      <td>7.27</td>\n",
              "      <td>0.38</td>\n",
              "      <td>auralin</td>\n",
              "      <td>37u</td>\n",
              "      <td>42u</td>\n",
              "      <td>NaN</td>\n",
              "    </tr>\n",
              "    <tr>\n",
              "      <th>3</th>\n",
              "      <td>eddie</td>\n",
              "      <td>archer</td>\n",
              "      <td>7.89</td>\n",
              "      <td>7.55</td>\n",
              "      <td>0.34</td>\n",
              "      <td>auralin</td>\n",
              "      <td>31u</td>\n",
              "      <td>38u</td>\n",
              "      <td>NaN</td>\n",
              "    </tr>\n",
              "    <tr>\n",
              "      <th>4</th>\n",
              "      <td>asia</td>\n",
              "      <td>woźniak</td>\n",
              "      <td>7.76</td>\n",
              "      <td>7.37</td>\n",
              "      <td>0.39</td>\n",
              "      <td>auralin</td>\n",
              "      <td>30u</td>\n",
              "      <td>36u</td>\n",
              "      <td>NaN</td>\n",
              "    </tr>\n",
              "    <tr>\n",
              "      <th>...</th>\n",
              "      <td>...</td>\n",
              "      <td>...</td>\n",
              "      <td>...</td>\n",
              "      <td>...</td>\n",
              "      <td>...</td>\n",
              "      <td>...</td>\n",
              "      <td>...</td>\n",
              "      <td>...</td>\n",
              "      <td>...</td>\n",
              "    </tr>\n",
              "    <tr>\n",
              "      <th>345</th>\n",
              "      <td>christopher</td>\n",
              "      <td>woodward</td>\n",
              "      <td>7.51</td>\n",
              "      <td>7.06</td>\n",
              "      <td>0.45</td>\n",
              "      <td>novodra</td>\n",
              "      <td>55u</td>\n",
              "      <td>51u</td>\n",
              "      <td>nausea</td>\n",
              "    </tr>\n",
              "    <tr>\n",
              "      <th>346</th>\n",
              "      <td>maret</td>\n",
              "      <td>sultygov</td>\n",
              "      <td>7.67</td>\n",
              "      <td>7.30</td>\n",
              "      <td>0.37</td>\n",
              "      <td>novodra</td>\n",
              "      <td>26u</td>\n",
              "      <td>23u</td>\n",
              "      <td>NaN</td>\n",
              "    </tr>\n",
              "    <tr>\n",
              "      <th>347</th>\n",
              "      <td>lixue</td>\n",
              "      <td>hsueh</td>\n",
              "      <td>9.21</td>\n",
              "      <td>8.80</td>\n",
              "      <td>0.41</td>\n",
              "      <td>novodra</td>\n",
              "      <td>22u</td>\n",
              "      <td>23u</td>\n",
              "      <td>injection site discomfort</td>\n",
              "    </tr>\n",
              "    <tr>\n",
              "      <th>348</th>\n",
              "      <td>jakob</td>\n",
              "      <td>jakobsen</td>\n",
              "      <td>7.96</td>\n",
              "      <td>7.51</td>\n",
              "      <td>0.45</td>\n",
              "      <td>novodra</td>\n",
              "      <td>28u</td>\n",
              "      <td>26u</td>\n",
              "      <td>hypoglycemia</td>\n",
              "    </tr>\n",
              "    <tr>\n",
              "      <th>349</th>\n",
              "      <td>berta</td>\n",
              "      <td>napolitani</td>\n",
              "      <td>7.68</td>\n",
              "      <td>7.21</td>\n",
              "      <td>0.47</td>\n",
              "      <td>novodra</td>\n",
              "      <td>42u</td>\n",
              "      <td>44u</td>\n",
              "      <td>injection site discomfort</td>\n",
              "    </tr>\n",
              "  </tbody>\n",
              "</table>\n",
              "<p>350 rows × 9 columns</p>\n",
              "</div>"
            ],
            "text/plain": [
              "      given_name     surname  hba1c_start  hba1c_end  hba1c_change treatment  \\\n",
              "0       veronika    jindrová         7.63       7.20          0.43   auralin   \n",
              "1           skye  gormanston         7.97       7.62          0.35   auralin   \n",
              "2         sophia      haugen         7.65       7.27          0.38   auralin   \n",
              "3          eddie      archer         7.89       7.55          0.34   auralin   \n",
              "4           asia     woźniak         7.76       7.37          0.39   auralin   \n",
              "..           ...         ...          ...        ...           ...       ...   \n",
              "345  christopher    woodward         7.51       7.06          0.45   novodra   \n",
              "346        maret    sultygov         7.67       7.30          0.37   novodra   \n",
              "347        lixue       hsueh         9.21       8.80          0.41   novodra   \n",
              "348        jakob    jakobsen         7.96       7.51          0.45   novodra   \n",
              "349        berta  napolitani         7.68       7.21          0.47   novodra   \n",
              "\n",
              "    dose_start dose_end           adverse_reaction  \n",
              "0          41u      48u                        NaN  \n",
              "1          33u      36u                        NaN  \n",
              "2          37u      42u                        NaN  \n",
              "3          31u      38u                        NaN  \n",
              "4          30u      36u                        NaN  \n",
              "..         ...      ...                        ...  \n",
              "345        55u      51u                     nausea  \n",
              "346        26u      23u                        NaN  \n",
              "347        22u      23u  injection site discomfort  \n",
              "348        28u      26u               hypoglycemia  \n",
              "349        42u      44u  injection site discomfort  \n",
              "\n",
              "[350 rows x 9 columns]"
            ]
          },
          "execution_count": 52,
          "metadata": {},
          "output_type": "execute_result"
        }
      ],
      "source": [
        "treatments_clean"
      ]
    },
    {
      "cell_type": "markdown",
      "id": "d832d8ba",
      "metadata": {
        "id": "d832d8ba"
      },
      "source": [
        "#### Given name and surname columns in `patients` table duplicated in `treatments` and `adverse_reactions` tables  and Lowercase given names and surnames"
      ]
    },
    {
      "cell_type": "markdown",
      "id": "23d0ffef",
      "metadata": {
        "id": "23d0ffef"
      },
      "source": [
        "*Hint: [tutorial](https://chrisalbon.com/python/pandas_join_merge_dataframe.html) for `merge` function used in the solution and [tutorial](http://erikrood.com/Python_References/dropping_rows_cols_pandas.html) for `drop` function used in the solution.*"
      ]
    },
    {
      "cell_type": "markdown",
      "id": "db2b58c3",
      "metadata": {
        "id": "db2b58c3"
      },
      "source": [
        "##### Define\n",
        "Adverse reactions table is no longer needed so ignore that part. Isolate the patient ID and names in the `patients` table, then convert these names to lower case to join with `treatments`. Then drop the given name and surname columns in the treatments table (so these being lowercase isn't an issue anymore)."
      ]
    },
    {
      "cell_type": "markdown",
      "id": "668efc0b",
      "metadata": {
        "id": "668efc0b"
      },
      "source": [
        "##### Code"
      ]
    },
    {
      "cell_type": "code",
      "execution_count": null,
      "id": "5a4b1af8",
      "metadata": {
        "id": "5a4b1af8",
        "outputId": "b5f46c58-ef4a-4ad3-a6f0-0dc764e3fd1b"
      },
      "outputs": [
        {
          "data": {
            "text/html": [
              "<div>\n",
              "<style scoped>\n",
              "    .dataframe tbody tr th:only-of-type {\n",
              "        vertical-align: middle;\n",
              "    }\n",
              "\n",
              "    .dataframe tbody tr th {\n",
              "        vertical-align: top;\n",
              "    }\n",
              "\n",
              "    .dataframe thead th {\n",
              "        text-align: right;\n",
              "    }\n",
              "</style>\n",
              "<table border=\"1\" class=\"dataframe\">\n",
              "  <thead>\n",
              "    <tr style=\"text-align: right;\">\n",
              "      <th></th>\n",
              "      <th>patient_id</th>\n",
              "      <th>given_name</th>\n",
              "      <th>surname</th>\n",
              "    </tr>\n",
              "  </thead>\n",
              "  <tbody>\n",
              "    <tr>\n",
              "      <th>0</th>\n",
              "      <td>1</td>\n",
              "      <td>Zoe</td>\n",
              "      <td>Wellish</td>\n",
              "    </tr>\n",
              "    <tr>\n",
              "      <th>1</th>\n",
              "      <td>2</td>\n",
              "      <td>Pamela</td>\n",
              "      <td>Hill</td>\n",
              "    </tr>\n",
              "    <tr>\n",
              "      <th>2</th>\n",
              "      <td>3</td>\n",
              "      <td>Jae</td>\n",
              "      <td>Debord</td>\n",
              "    </tr>\n",
              "    <tr>\n",
              "      <th>3</th>\n",
              "      <td>4</td>\n",
              "      <td>Liêm</td>\n",
              "      <td>Phan</td>\n",
              "    </tr>\n",
              "    <tr>\n",
              "      <th>4</th>\n",
              "      <td>5</td>\n",
              "      <td>Tim</td>\n",
              "      <td>Neudorf</td>\n",
              "    </tr>\n",
              "    <tr>\n",
              "      <th>...</th>\n",
              "      <td>...</td>\n",
              "      <td>...</td>\n",
              "      <td>...</td>\n",
              "    </tr>\n",
              "    <tr>\n",
              "      <th>498</th>\n",
              "      <td>499</td>\n",
              "      <td>Mustafa</td>\n",
              "      <td>Lindström</td>\n",
              "    </tr>\n",
              "    <tr>\n",
              "      <th>499</th>\n",
              "      <td>500</td>\n",
              "      <td>Ruman</td>\n",
              "      <td>Bisliev</td>\n",
              "    </tr>\n",
              "    <tr>\n",
              "      <th>500</th>\n",
              "      <td>501</td>\n",
              "      <td>Jinke</td>\n",
              "      <td>de Keizer</td>\n",
              "    </tr>\n",
              "    <tr>\n",
              "      <th>501</th>\n",
              "      <td>502</td>\n",
              "      <td>Chidalu</td>\n",
              "      <td>Onyekaozulu</td>\n",
              "    </tr>\n",
              "    <tr>\n",
              "      <th>502</th>\n",
              "      <td>503</td>\n",
              "      <td>Pat</td>\n",
              "      <td>Gersten</td>\n",
              "    </tr>\n",
              "  </tbody>\n",
              "</table>\n",
              "<p>503 rows × 3 columns</p>\n",
              "</div>"
            ],
            "text/plain": [
              "     patient_id given_name      surname\n",
              "0             1        Zoe      Wellish\n",
              "1             2     Pamela         Hill\n",
              "2             3        Jae       Debord\n",
              "3             4       Liêm         Phan\n",
              "4             5        Tim      Neudorf\n",
              "..          ...        ...          ...\n",
              "498         499    Mustafa    Lindström\n",
              "499         500      Ruman      Bisliev\n",
              "500         501      Jinke    de Keizer\n",
              "501         502    Chidalu  Onyekaozulu\n",
              "502         503        Pat      Gersten\n",
              "\n",
              "[503 rows x 3 columns]"
            ]
          },
          "execution_count": 54,
          "metadata": {},
          "output_type": "execute_result"
        }
      ],
      "source": [
        "#  Isolate the patient ID given_name, and surename in the patients table into a new variable called id_names\n"
      ]
    },
    {
      "cell_type": "code",
      "execution_count": null,
      "id": "77c41851",
      "metadata": {
        "id": "77c41851",
        "outputId": "5887e0c1-7406-42e7-c6c4-bacb0cdd4d82"
      },
      "outputs": [
        {
          "name": "stderr",
          "output_type": "stream",
          "text": [
            "C:\\Users\\Mic\\anaconda3\\lib\\site-packages\\pandas\\core\\generic.py:5516: SettingWithCopyWarning: \n",
            "A value is trying to be set on a copy of a slice from a DataFrame.\n",
            "Try using .loc[row_indexer,col_indexer] = value instead\n",
            "\n",
            "See the caveats in the documentation: https://pandas.pydata.org/pandas-docs/stable/user_guide/indexing.html#returning-a-view-versus-a-copy\n",
            "  self[name] = value\n"
          ]
        },
        {
          "data": {
            "text/html": [
              "<div>\n",
              "<style scoped>\n",
              "    .dataframe tbody tr th:only-of-type {\n",
              "        vertical-align: middle;\n",
              "    }\n",
              "\n",
              "    .dataframe tbody tr th {\n",
              "        vertical-align: top;\n",
              "    }\n",
              "\n",
              "    .dataframe thead th {\n",
              "        text-align: right;\n",
              "    }\n",
              "</style>\n",
              "<table border=\"1\" class=\"dataframe\">\n",
              "  <thead>\n",
              "    <tr style=\"text-align: right;\">\n",
              "      <th></th>\n",
              "      <th>patient_id</th>\n",
              "      <th>given_name</th>\n",
              "      <th>surname</th>\n",
              "    </tr>\n",
              "  </thead>\n",
              "  <tbody>\n",
              "    <tr>\n",
              "      <th>0</th>\n",
              "      <td>1</td>\n",
              "      <td>zoe</td>\n",
              "      <td>Wellish</td>\n",
              "    </tr>\n",
              "    <tr>\n",
              "      <th>1</th>\n",
              "      <td>2</td>\n",
              "      <td>pamela</td>\n",
              "      <td>Hill</td>\n",
              "    </tr>\n",
              "    <tr>\n",
              "      <th>2</th>\n",
              "      <td>3</td>\n",
              "      <td>jae</td>\n",
              "      <td>Debord</td>\n",
              "    </tr>\n",
              "    <tr>\n",
              "      <th>3</th>\n",
              "      <td>4</td>\n",
              "      <td>liêm</td>\n",
              "      <td>Phan</td>\n",
              "    </tr>\n",
              "    <tr>\n",
              "      <th>4</th>\n",
              "      <td>5</td>\n",
              "      <td>tim</td>\n",
              "      <td>Neudorf</td>\n",
              "    </tr>\n",
              "    <tr>\n",
              "      <th>...</th>\n",
              "      <td>...</td>\n",
              "      <td>...</td>\n",
              "      <td>...</td>\n",
              "    </tr>\n",
              "    <tr>\n",
              "      <th>498</th>\n",
              "      <td>499</td>\n",
              "      <td>mustafa</td>\n",
              "      <td>Lindström</td>\n",
              "    </tr>\n",
              "    <tr>\n",
              "      <th>499</th>\n",
              "      <td>500</td>\n",
              "      <td>ruman</td>\n",
              "      <td>Bisliev</td>\n",
              "    </tr>\n",
              "    <tr>\n",
              "      <th>500</th>\n",
              "      <td>501</td>\n",
              "      <td>jinke</td>\n",
              "      <td>de Keizer</td>\n",
              "    </tr>\n",
              "    <tr>\n",
              "      <th>501</th>\n",
              "      <td>502</td>\n",
              "      <td>chidalu</td>\n",
              "      <td>Onyekaozulu</td>\n",
              "    </tr>\n",
              "    <tr>\n",
              "      <th>502</th>\n",
              "      <td>503</td>\n",
              "      <td>pat</td>\n",
              "      <td>Gersten</td>\n",
              "    </tr>\n",
              "  </tbody>\n",
              "</table>\n",
              "<p>503 rows × 3 columns</p>\n",
              "</div>"
            ],
            "text/plain": [
              "     patient_id given_name      surname\n",
              "0             1        zoe      Wellish\n",
              "1             2     pamela         Hill\n",
              "2             3        jae       Debord\n",
              "3             4       liêm         Phan\n",
              "4             5        tim      Neudorf\n",
              "..          ...        ...          ...\n",
              "498         499    mustafa    Lindström\n",
              "499         500      ruman      Bisliev\n",
              "500         501      jinke    de Keizer\n",
              "501         502    chidalu  Onyekaozulu\n",
              "502         503        pat      Gersten\n",
              "\n",
              "[503 rows x 3 columns]"
            ]
          },
          "execution_count": 55,
          "metadata": {},
          "output_type": "execute_result"
        }
      ],
      "source": [
        "# Convert given_name values to lower case to join with treatments\n",
        "id_names.given_name = id_names.given_name.str.lower()\n",
        "id_names"
      ]
    },
    {
      "cell_type": "code",
      "execution_count": null,
      "id": "5fdc4c78",
      "metadata": {
        "id": "5fdc4c78",
        "outputId": "30684c87-bde5-40e2-c106-4c78de1be0c7"
      },
      "outputs": [
        {
          "name": "stderr",
          "output_type": "stream",
          "text": [
            "C:\\Users\\Mic\\anaconda3\\lib\\site-packages\\pandas\\core\\generic.py:5516: SettingWithCopyWarning: \n",
            "A value is trying to be set on a copy of a slice from a DataFrame.\n",
            "Try using .loc[row_indexer,col_indexer] = value instead\n",
            "\n",
            "See the caveats in the documentation: https://pandas.pydata.org/pandas-docs/stable/user_guide/indexing.html#returning-a-view-versus-a-copy\n",
            "  self[name] = value\n"
          ]
        },
        {
          "data": {
            "text/html": [
              "<div>\n",
              "<style scoped>\n",
              "    .dataframe tbody tr th:only-of-type {\n",
              "        vertical-align: middle;\n",
              "    }\n",
              "\n",
              "    .dataframe tbody tr th {\n",
              "        vertical-align: top;\n",
              "    }\n",
              "\n",
              "    .dataframe thead th {\n",
              "        text-align: right;\n",
              "    }\n",
              "</style>\n",
              "<table border=\"1\" class=\"dataframe\">\n",
              "  <thead>\n",
              "    <tr style=\"text-align: right;\">\n",
              "      <th></th>\n",
              "      <th>patient_id</th>\n",
              "      <th>given_name</th>\n",
              "      <th>surname</th>\n",
              "    </tr>\n",
              "  </thead>\n",
              "  <tbody>\n",
              "    <tr>\n",
              "      <th>0</th>\n",
              "      <td>1</td>\n",
              "      <td>zoe</td>\n",
              "      <td>wellish</td>\n",
              "    </tr>\n",
              "    <tr>\n",
              "      <th>1</th>\n",
              "      <td>2</td>\n",
              "      <td>pamela</td>\n",
              "      <td>hill</td>\n",
              "    </tr>\n",
              "    <tr>\n",
              "      <th>2</th>\n",
              "      <td>3</td>\n",
              "      <td>jae</td>\n",
              "      <td>debord</td>\n",
              "    </tr>\n",
              "    <tr>\n",
              "      <th>3</th>\n",
              "      <td>4</td>\n",
              "      <td>liêm</td>\n",
              "      <td>phan</td>\n",
              "    </tr>\n",
              "    <tr>\n",
              "      <th>4</th>\n",
              "      <td>5</td>\n",
              "      <td>tim</td>\n",
              "      <td>neudorf</td>\n",
              "    </tr>\n",
              "    <tr>\n",
              "      <th>...</th>\n",
              "      <td>...</td>\n",
              "      <td>...</td>\n",
              "      <td>...</td>\n",
              "    </tr>\n",
              "    <tr>\n",
              "      <th>498</th>\n",
              "      <td>499</td>\n",
              "      <td>mustafa</td>\n",
              "      <td>lindström</td>\n",
              "    </tr>\n",
              "    <tr>\n",
              "      <th>499</th>\n",
              "      <td>500</td>\n",
              "      <td>ruman</td>\n",
              "      <td>bisliev</td>\n",
              "    </tr>\n",
              "    <tr>\n",
              "      <th>500</th>\n",
              "      <td>501</td>\n",
              "      <td>jinke</td>\n",
              "      <td>de keizer</td>\n",
              "    </tr>\n",
              "    <tr>\n",
              "      <th>501</th>\n",
              "      <td>502</td>\n",
              "      <td>chidalu</td>\n",
              "      <td>onyekaozulu</td>\n",
              "    </tr>\n",
              "    <tr>\n",
              "      <th>502</th>\n",
              "      <td>503</td>\n",
              "      <td>pat</td>\n",
              "      <td>gersten</td>\n",
              "    </tr>\n",
              "  </tbody>\n",
              "</table>\n",
              "<p>503 rows × 3 columns</p>\n",
              "</div>"
            ],
            "text/plain": [
              "     patient_id given_name      surname\n",
              "0             1        zoe      wellish\n",
              "1             2     pamela         hill\n",
              "2             3        jae       debord\n",
              "3             4       liêm         phan\n",
              "4             5        tim      neudorf\n",
              "..          ...        ...          ...\n",
              "498         499    mustafa    lindström\n",
              "499         500      ruman      bisliev\n",
              "500         501      jinke    de keizer\n",
              "501         502    chidalu  onyekaozulu\n",
              "502         503        pat      gersten\n",
              "\n",
              "[503 rows x 3 columns]"
            ]
          },
          "execution_count": 56,
          "metadata": {},
          "output_type": "execute_result"
        }
      ],
      "source": [
        "# Convert surname values to lower case to join with treatments\n"
      ]
    },
    {
      "cell_type": "code",
      "execution_count": null,
      "id": "8966c9ad",
      "metadata": {
        "id": "8966c9ad",
        "outputId": "39ddd310-b844-45d5-cb60-7aad725a8172"
      },
      "outputs": [
        {
          "data": {
            "text/html": [
              "<div>\n",
              "<style scoped>\n",
              "    .dataframe tbody tr th:only-of-type {\n",
              "        vertical-align: middle;\n",
              "    }\n",
              "\n",
              "    .dataframe tbody tr th {\n",
              "        vertical-align: top;\n",
              "    }\n",
              "\n",
              "    .dataframe thead th {\n",
              "        text-align: right;\n",
              "    }\n",
              "</style>\n",
              "<table border=\"1\" class=\"dataframe\">\n",
              "  <thead>\n",
              "    <tr style=\"text-align: right;\">\n",
              "      <th></th>\n",
              "      <th>patient_id</th>\n",
              "      <th>given_name</th>\n",
              "      <th>surname</th>\n",
              "      <th>hba1c_start</th>\n",
              "      <th>hba1c_end</th>\n",
              "      <th>hba1c_change</th>\n",
              "      <th>treatment</th>\n",
              "      <th>dose_start</th>\n",
              "      <th>dose_end</th>\n",
              "      <th>adverse_reaction</th>\n",
              "    </tr>\n",
              "  </thead>\n",
              "  <tbody>\n",
              "    <tr>\n",
              "      <th>0</th>\n",
              "      <td>1</td>\n",
              "      <td>zoe</td>\n",
              "      <td>wellish</td>\n",
              "      <td>7.71</td>\n",
              "      <td>7.30</td>\n",
              "      <td>0.41</td>\n",
              "      <td>novodra</td>\n",
              "      <td>33u</td>\n",
              "      <td>33u</td>\n",
              "      <td>NaN</td>\n",
              "    </tr>\n",
              "    <tr>\n",
              "      <th>1</th>\n",
              "      <td>2</td>\n",
              "      <td>pamela</td>\n",
              "      <td>hill</td>\n",
              "      <td>9.53</td>\n",
              "      <td>9.10</td>\n",
              "      <td>0.43</td>\n",
              "      <td>novodra</td>\n",
              "      <td>27u</td>\n",
              "      <td>29u</td>\n",
              "      <td>NaN</td>\n",
              "    </tr>\n",
              "    <tr>\n",
              "      <th>2</th>\n",
              "      <td>4</td>\n",
              "      <td>liêm</td>\n",
              "      <td>phan</td>\n",
              "      <td>7.58</td>\n",
              "      <td>7.10</td>\n",
              "      <td>0.48</td>\n",
              "      <td>novodra</td>\n",
              "      <td>43u</td>\n",
              "      <td>48u</td>\n",
              "      <td>NaN</td>\n",
              "    </tr>\n",
              "    <tr>\n",
              "      <th>3</th>\n",
              "      <td>6</td>\n",
              "      <td>rafael</td>\n",
              "      <td>costa</td>\n",
              "      <td>7.73</td>\n",
              "      <td>7.34</td>\n",
              "      <td>0.39</td>\n",
              "      <td>auralin</td>\n",
              "      <td>50u</td>\n",
              "      <td>60u</td>\n",
              "      <td>NaN</td>\n",
              "    </tr>\n",
              "    <tr>\n",
              "      <th>4</th>\n",
              "      <td>7</td>\n",
              "      <td>mary</td>\n",
              "      <td>adams</td>\n",
              "      <td>7.65</td>\n",
              "      <td>7.26</td>\n",
              "      <td>0.39</td>\n",
              "      <td>novodra</td>\n",
              "      <td>32u</td>\n",
              "      <td>33u</td>\n",
              "      <td>NaN</td>\n",
              "    </tr>\n",
              "  </tbody>\n",
              "</table>\n",
              "</div>"
            ],
            "text/plain": [
              "   patient_id given_name  surname  hba1c_start  hba1c_end  hba1c_change  \\\n",
              "0           1        zoe  wellish         7.71       7.30          0.41   \n",
              "1           2     pamela     hill         9.53       9.10          0.43   \n",
              "2           4       liêm     phan         7.58       7.10          0.48   \n",
              "3           6     rafael    costa         7.73       7.34          0.39   \n",
              "4           7       mary    adams         7.65       7.26          0.39   \n",
              "\n",
              "  treatment dose_start dose_end adverse_reaction  \n",
              "0   novodra        33u      33u              NaN  \n",
              "1   novodra        27u      29u              NaN  \n",
              "2   novodra        43u      48u              NaN  \n",
              "3   auralin        50u      60u              NaN  \n",
              "4   novodra        32u      33u              NaN  "
            ]
          },
          "execution_count": 57,
          "metadata": {},
          "output_type": "execute_result"
        }
      ],
      "source": [
        "# Merge treatments_clean with id_names using given_name and surname columns\n"
      ]
    },
    {
      "cell_type": "code",
      "execution_count": null,
      "id": "291c1254",
      "metadata": {
        "id": "291c1254"
      },
      "outputs": [],
      "source": [
        "# Drop the given name and surname columns in the treatments_clean table\n"
      ]
    },
    {
      "cell_type": "markdown",
      "id": "f679de65",
      "metadata": {
        "id": "f679de65"
      },
      "source": [
        "##### Test"
      ]
    },
    {
      "cell_type": "code",
      "execution_count": null,
      "id": "6b2476fc",
      "metadata": {
        "scrolled": true,
        "id": "6b2476fc",
        "outputId": "b0624150-b0a0-446d-d194-aac3f3652e00"
      },
      "outputs": [
        {
          "data": {
            "text/html": [
              "<div>\n",
              "<style scoped>\n",
              "    .dataframe tbody tr th:only-of-type {\n",
              "        vertical-align: middle;\n",
              "    }\n",
              "\n",
              "    .dataframe tbody tr th {\n",
              "        vertical-align: top;\n",
              "    }\n",
              "\n",
              "    .dataframe thead th {\n",
              "        text-align: right;\n",
              "    }\n",
              "</style>\n",
              "<table border=\"1\" class=\"dataframe\">\n",
              "  <thead>\n",
              "    <tr style=\"text-align: right;\">\n",
              "      <th></th>\n",
              "      <th>patient_id</th>\n",
              "      <th>hba1c_start</th>\n",
              "      <th>hba1c_end</th>\n",
              "      <th>hba1c_change</th>\n",
              "      <th>treatment</th>\n",
              "      <th>dose_start</th>\n",
              "      <th>dose_end</th>\n",
              "      <th>adverse_reaction</th>\n",
              "    </tr>\n",
              "  </thead>\n",
              "  <tbody>\n",
              "    <tr>\n",
              "      <th>0</th>\n",
              "      <td>1</td>\n",
              "      <td>7.71</td>\n",
              "      <td>7.30</td>\n",
              "      <td>0.41</td>\n",
              "      <td>novodra</td>\n",
              "      <td>33u</td>\n",
              "      <td>33u</td>\n",
              "      <td>NaN</td>\n",
              "    </tr>\n",
              "    <tr>\n",
              "      <th>1</th>\n",
              "      <td>2</td>\n",
              "      <td>9.53</td>\n",
              "      <td>9.10</td>\n",
              "      <td>0.43</td>\n",
              "      <td>novodra</td>\n",
              "      <td>27u</td>\n",
              "      <td>29u</td>\n",
              "      <td>NaN</td>\n",
              "    </tr>\n",
              "    <tr>\n",
              "      <th>2</th>\n",
              "      <td>4</td>\n",
              "      <td>7.58</td>\n",
              "      <td>7.10</td>\n",
              "      <td>0.48</td>\n",
              "      <td>novodra</td>\n",
              "      <td>43u</td>\n",
              "      <td>48u</td>\n",
              "      <td>NaN</td>\n",
              "    </tr>\n",
              "    <tr>\n",
              "      <th>3</th>\n",
              "      <td>6</td>\n",
              "      <td>7.73</td>\n",
              "      <td>7.34</td>\n",
              "      <td>0.39</td>\n",
              "      <td>auralin</td>\n",
              "      <td>50u</td>\n",
              "      <td>60u</td>\n",
              "      <td>NaN</td>\n",
              "    </tr>\n",
              "    <tr>\n",
              "      <th>4</th>\n",
              "      <td>7</td>\n",
              "      <td>7.65</td>\n",
              "      <td>7.26</td>\n",
              "      <td>0.39</td>\n",
              "      <td>novodra</td>\n",
              "      <td>32u</td>\n",
              "      <td>33u</td>\n",
              "      <td>NaN</td>\n",
              "    </tr>\n",
              "    <tr>\n",
              "      <th>...</th>\n",
              "      <td>...</td>\n",
              "      <td>...</td>\n",
              "      <td>...</td>\n",
              "      <td>...</td>\n",
              "      <td>...</td>\n",
              "      <td>...</td>\n",
              "      <td>...</td>\n",
              "      <td>...</td>\n",
              "    </tr>\n",
              "    <tr>\n",
              "      <th>344</th>\n",
              "      <td>495</td>\n",
              "      <td>8.90</td>\n",
              "      <td>8.59</td>\n",
              "      <td>0.31</td>\n",
              "      <td>novodra</td>\n",
              "      <td>26u</td>\n",
              "      <td>24u</td>\n",
              "      <td>NaN</td>\n",
              "    </tr>\n",
              "    <tr>\n",
              "      <th>345</th>\n",
              "      <td>497</td>\n",
              "      <td>7.71</td>\n",
              "      <td>7.35</td>\n",
              "      <td>0.36</td>\n",
              "      <td>auralin</td>\n",
              "      <td>35u</td>\n",
              "      <td>38u</td>\n",
              "      <td>NaN</td>\n",
              "    </tr>\n",
              "    <tr>\n",
              "      <th>346</th>\n",
              "      <td>499</td>\n",
              "      <td>7.92</td>\n",
              "      <td>7.60</td>\n",
              "      <td>0.32</td>\n",
              "      <td>novodra</td>\n",
              "      <td>35u</td>\n",
              "      <td>33u</td>\n",
              "      <td>NaN</td>\n",
              "    </tr>\n",
              "    <tr>\n",
              "      <th>347</th>\n",
              "      <td>500</td>\n",
              "      <td>7.72</td>\n",
              "      <td>7.39</td>\n",
              "      <td>0.33</td>\n",
              "      <td>auralin</td>\n",
              "      <td>46u</td>\n",
              "      <td>53u</td>\n",
              "      <td>NaN</td>\n",
              "    </tr>\n",
              "    <tr>\n",
              "      <th>348</th>\n",
              "      <td>502</td>\n",
              "      <td>7.54</td>\n",
              "      <td>7.27</td>\n",
              "      <td>0.27</td>\n",
              "      <td>novodra</td>\n",
              "      <td>42u</td>\n",
              "      <td>41u</td>\n",
              "      <td>NaN</td>\n",
              "    </tr>\n",
              "  </tbody>\n",
              "</table>\n",
              "<p>349 rows × 8 columns</p>\n",
              "</div>"
            ],
            "text/plain": [
              "     patient_id  hba1c_start  hba1c_end  hba1c_change treatment dose_start  \\\n",
              "0             1         7.71       7.30          0.41   novodra        33u   \n",
              "1             2         9.53       9.10          0.43   novodra        27u   \n",
              "2             4         7.58       7.10          0.48   novodra        43u   \n",
              "3             6         7.73       7.34          0.39   auralin        50u   \n",
              "4             7         7.65       7.26          0.39   novodra        32u   \n",
              "..          ...          ...        ...           ...       ...        ...   \n",
              "344         495         8.90       8.59          0.31   novodra        26u   \n",
              "345         497         7.71       7.35          0.36   auralin        35u   \n",
              "346         499         7.92       7.60          0.32   novodra        35u   \n",
              "347         500         7.72       7.39          0.33   auralin        46u   \n",
              "348         502         7.54       7.27          0.27   novodra        42u   \n",
              "\n",
              "    dose_end adverse_reaction  \n",
              "0        33u              NaN  \n",
              "1        29u              NaN  \n",
              "2        48u              NaN  \n",
              "3        60u              NaN  \n",
              "4        33u              NaN  \n",
              "..       ...              ...  \n",
              "344      24u              NaN  \n",
              "345      38u              NaN  \n",
              "346      33u              NaN  \n",
              "347      53u              NaN  \n",
              "348      41u              NaN  \n",
              "\n",
              "[349 rows x 8 columns]"
            ]
          },
          "execution_count": 59,
          "metadata": {},
          "output_type": "execute_result"
        }
      ],
      "source": [
        "# Confirm the merge was executed correctly\n",
        "treatments_clean"
      ]
    },
    {
      "cell_type": "code",
      "execution_count": null,
      "id": "cc1349a6",
      "metadata": {
        "id": "cc1349a6",
        "outputId": "ffd16cdc-f7ca-498f-cc51-dbb326fb9476"
      },
      "outputs": [
        {
          "data": {
            "text/plain": [
              "15    patient_id\n",
              "dtype: object"
            ]
          },
          "execution_count": 60,
          "metadata": {},
          "output_type": "execute_result"
        }
      ],
      "source": [
        "# Patient ID should be the only duplicate column\n",
        "all_columns = pd.Series(list(patients_clean) + list(treatments_clean))\n",
        "all_columns[all_columns.duplicated()]"
      ]
    },
    {
      "cell_type": "markdown",
      "id": "1e059e89",
      "metadata": {
        "id": "1e059e89"
      },
      "source": [
        "<a id='quality'></a>\n",
        "### D) Claening Quality Issues"
      ]
    },
    {
      "cell_type": "markdown",
      "id": "3806af65",
      "metadata": {
        "id": "3806af65"
      },
      "source": [
        "#### Zip code is a float not a string and Zip code has four digits sometimes"
      ]
    },
    {
      "cell_type": "markdown",
      "id": "619643a4",
      "metadata": {
        "id": "619643a4"
      },
      "source": [
        "*Hint: see the \"Data Cleaning Process\" page.*"
      ]
    },
    {
      "cell_type": "markdown",
      "id": "3ca9b031",
      "metadata": {
        "id": "3ca9b031"
      },
      "source": [
        "##### Define\n",
        "Convert the zip code column's data type from a float to a string using `astype`, remove the '.0' using string slicing, and `pad` four digit zip codes with a leading 0."
      ]
    },
    {
      "cell_type": "markdown",
      "id": "9d889c03",
      "metadata": {
        "id": "9d889c03"
      },
      "source": [
        "##### Code"
      ]
    },
    {
      "cell_type": "code",
      "execution_count": null,
      "id": "21a6858f",
      "metadata": {
        "id": "21a6858f"
      },
      "outputs": [],
      "source": [
        "# Convert the zip code column's data type from a float to a string using astype\n",
        "patients_clean.zip_code = \n",
        "\n",
        "# Remove the '.0' using string slicing\n",
        "patients_clean.zip_code = \n",
        "\n",
        "#  Pad four digit zip codes with a leading 0 using str.pad.\n",
        "patients_clean.zip_code = \n",
        "\n",
        "# Reconvert NaN entries that were converted to '0000n' by code above\n",
        "patients_clean.zip_code = patients_clean.zip_code.replace('0000n', np.nan)"
      ]
    },
    {
      "cell_type": "markdown",
      "id": "6d024e13",
      "metadata": {
        "id": "6d024e13"
      },
      "source": [
        "##### Test"
      ]
    },
    {
      "cell_type": "code",
      "execution_count": null,
      "id": "30f99e37",
      "metadata": {
        "scrolled": true,
        "id": "30f99e37",
        "outputId": "0cabae3d-e0aa-496c-dd23-64bcfaf26d72"
      },
      "outputs": [
        {
          "data": {
            "text/plain": [
              "0    92390\n",
              "1    61812\n",
              "2    68467\n",
              "3    07095\n",
              "4    36303\n",
              "Name: zip_code, dtype: object"
            ]
          },
          "execution_count": 62,
          "metadata": {},
          "output_type": "execute_result"
        }
      ],
      "source": [
        "patients_clean.zip_code.head()"
      ]
    },
    {
      "cell_type": "markdown",
      "id": "259aa156",
      "metadata": {
        "id": "259aa156"
      },
      "source": [
        "#### Tim Neudorf height is 27 in instead of 72 in"
      ]
    },
    {
      "cell_type": "markdown",
      "id": "2a1ddb2d",
      "metadata": {
        "id": "2a1ddb2d"
      },
      "source": [
        "##### Define\n",
        "Replace height for rows in the `patients` table that have a height of 27 in (there is only one) with 72 in."
      ]
    },
    {
      "cell_type": "markdown",
      "id": "0955334a",
      "metadata": {
        "id": "0955334a"
      },
      "source": [
        "##### Code"
      ]
    },
    {
      "cell_type": "code",
      "execution_count": null,
      "id": "eb68a06e",
      "metadata": {
        "id": "eb68a06e"
      },
      "outputs": [],
      "source": [
        ""
      ]
    },
    {
      "cell_type": "markdown",
      "id": "e0597331",
      "metadata": {
        "id": "e0597331"
      },
      "source": [
        "##### Test"
      ]
    },
    {
      "cell_type": "code",
      "execution_count": null,
      "id": "2a1d379b",
      "metadata": {
        "scrolled": true,
        "id": "2a1d379b",
        "outputId": "8a6ce42b-2e64-4d5f-bdf2-5a94c87120ff"
      },
      "outputs": [
        {
          "data": {
            "text/html": [
              "<div>\n",
              "<style scoped>\n",
              "    .dataframe tbody tr th:only-of-type {\n",
              "        vertical-align: middle;\n",
              "    }\n",
              "\n",
              "    .dataframe tbody tr th {\n",
              "        vertical-align: top;\n",
              "    }\n",
              "\n",
              "    .dataframe thead th {\n",
              "        text-align: right;\n",
              "    }\n",
              "</style>\n",
              "<table border=\"1\" class=\"dataframe\">\n",
              "  <thead>\n",
              "    <tr style=\"text-align: right;\">\n",
              "      <th></th>\n",
              "      <th>patient_id</th>\n",
              "      <th>assigned_sex</th>\n",
              "      <th>given_name</th>\n",
              "      <th>surname</th>\n",
              "      <th>address</th>\n",
              "      <th>city</th>\n",
              "      <th>state</th>\n",
              "      <th>zip_code</th>\n",
              "      <th>country</th>\n",
              "      <th>birthdate</th>\n",
              "      <th>weight</th>\n",
              "      <th>height</th>\n",
              "      <th>bmi</th>\n",
              "      <th>phone_number</th>\n",
              "      <th>email</th>\n",
              "    </tr>\n",
              "  </thead>\n",
              "  <tbody>\n",
              "  </tbody>\n",
              "</table>\n",
              "</div>"
            ],
            "text/plain": [
              "Empty DataFrame\n",
              "Columns: [patient_id, assigned_sex, given_name, surname, address, city, state, zip_code, country, birthdate, weight, height, bmi, phone_number, email]\n",
              "Index: []"
            ]
          },
          "execution_count": 64,
          "metadata": {},
          "output_type": "execute_result"
        }
      ],
      "source": [
        "# Should be empty\n",
        "patients_clean[patients_clean.height == 27]"
      ]
    },
    {
      "cell_type": "code",
      "execution_count": null,
      "id": "68ad99a0",
      "metadata": {
        "id": "68ad99a0",
        "outputId": "0b77f531-49c1-46da-a26c-b1df58df15f4"
      },
      "outputs": [
        {
          "data": {
            "text/html": [
              "<div>\n",
              "<style scoped>\n",
              "    .dataframe tbody tr th:only-of-type {\n",
              "        vertical-align: middle;\n",
              "    }\n",
              "\n",
              "    .dataframe tbody tr th {\n",
              "        vertical-align: top;\n",
              "    }\n",
              "\n",
              "    .dataframe thead th {\n",
              "        text-align: right;\n",
              "    }\n",
              "</style>\n",
              "<table border=\"1\" class=\"dataframe\">\n",
              "  <thead>\n",
              "    <tr style=\"text-align: right;\">\n",
              "      <th></th>\n",
              "      <th>patient_id</th>\n",
              "      <th>assigned_sex</th>\n",
              "      <th>given_name</th>\n",
              "      <th>surname</th>\n",
              "      <th>address</th>\n",
              "      <th>city</th>\n",
              "      <th>state</th>\n",
              "      <th>zip_code</th>\n",
              "      <th>country</th>\n",
              "      <th>birthdate</th>\n",
              "      <th>weight</th>\n",
              "      <th>height</th>\n",
              "      <th>bmi</th>\n",
              "      <th>phone_number</th>\n",
              "      <th>email</th>\n",
              "    </tr>\n",
              "  </thead>\n",
              "  <tbody>\n",
              "    <tr>\n",
              "      <th>4</th>\n",
              "      <td>5</td>\n",
              "      <td>male</td>\n",
              "      <td>Tim</td>\n",
              "      <td>Neudorf</td>\n",
              "      <td>1428 Turkey Pen Lane</td>\n",
              "      <td>Dothan</td>\n",
              "      <td>AL</td>\n",
              "      <td>36303</td>\n",
              "      <td>United States</td>\n",
              "      <td>2/18/1928</td>\n",
              "      <td>192.3</td>\n",
              "      <td>72</td>\n",
              "      <td>26.1</td>\n",
              "      <td>334-515-7487</td>\n",
              "      <td>TimNeudorf@cuvox.de</td>\n",
              "    </tr>\n",
              "  </tbody>\n",
              "</table>\n",
              "</div>"
            ],
            "text/plain": [
              "   patient_id assigned_sex given_name  surname               address    city  \\\n",
              "4           5         male        Tim  Neudorf  1428 Turkey Pen Lane  Dothan   \n",
              "\n",
              "  state zip_code        country  birthdate  weight  height   bmi  \\\n",
              "4    AL    36303  United States  2/18/1928   192.3      72  26.1   \n",
              "\n",
              "   phone_number                email  \n",
              "4  334-515-7487  TimNeudorf@cuvox.de  "
            ]
          },
          "execution_count": 65,
          "metadata": {},
          "output_type": "execute_result"
        }
      ],
      "source": [
        "# Confirm the replacement worked\n",
        "patients_clean[patients_clean.surname == 'Neudorf']"
      ]
    },
    {
      "cell_type": "markdown",
      "id": "c24da3f4",
      "metadata": {
        "id": "c24da3f4"
      },
      "source": [
        "#### Full state names sometimes, abbreviations other times"
      ]
    },
    {
      "cell_type": "markdown",
      "id": "674e1d29",
      "metadata": {
        "id": "674e1d29"
      },
      "source": [
        "*Hint: [tutorial](https://chrisalbon.com/python/pandas_apply_operations_to_dataframes.html) for `apply` method used in solution.*"
      ]
    },
    {
      "cell_type": "markdown",
      "id": "07e2abe8",
      "metadata": {
        "id": "07e2abe8"
      },
      "source": [
        "##### Define\n",
        "Apply a function that converts full state name to state abbreviation for California, New York, Illinois, Florida, and Nebraska."
      ]
    },
    {
      "cell_type": "markdown",
      "id": "8f86859e",
      "metadata": {
        "id": "8f86859e"
      },
      "source": [
        "##### Code"
      ]
    },
    {
      "cell_type": "code",
      "execution_count": null,
      "id": "705c322c",
      "metadata": {
        "id": "705c322c"
      },
      "outputs": [],
      "source": [
        "# Mapping from full state name to abbreviation\n",
        "state_abbrev = {'California': 'CA',\n",
        "                'New York': 'NY',\n",
        "                'Illinois': 'IL',\n",
        "                'Florida': 'FL',\n",
        "                'Nebraska': 'NE'}\n",
        "\n",
        "# Function to apply\n",
        "def abbreviate_state(patient): # patient refers to df to which the function is applied\n",
        "    if patient['state'] in state_abbrev.keys():\n",
        "        abbrev = state_abbrev[patient['state']]\n",
        "        return abbrev\n",
        "    else:\n",
        "        return patient['state']\n",
        "    \n",
        "patients_clean['state'] = patients_clean.apply(abbreviate_state, axis=1)"
      ]
    },
    {
      "cell_type": "markdown",
      "id": "553ecfb7",
      "metadata": {
        "id": "553ecfb7"
      },
      "source": [
        "##### Test"
      ]
    },
    {
      "cell_type": "code",
      "execution_count": null,
      "id": "0d98811d",
      "metadata": {
        "scrolled": true,
        "id": "0d98811d",
        "outputId": "bc8aeb5d-6d11-45cb-ef72-8d6ee5759eff"
      },
      "outputs": [
        {
          "data": {
            "text/plain": [
              "CA    60\n",
              "NY    47\n",
              "TX    32\n",
              "IL    24\n",
              "FL    22\n",
              "MA    22\n",
              "PA    18\n",
              "GA    15\n",
              "OH    14\n",
              "MI    13\n",
              "OK    13\n",
              "LA    13\n",
              "NJ    12\n",
              "VA    11\n",
              "WI    10\n",
              "MS    10\n",
              "AL     9\n",
              "TN     9\n",
              "IN     9\n",
              "MN     9\n",
              "NC     8\n",
              "KY     8\n",
              "WA     8\n",
              "MO     7\n",
              "NE     6\n",
              "KS     6\n",
              "ID     6\n",
              "NV     6\n",
              "SC     5\n",
              "IA     5\n",
              "CT     5\n",
              "RI     4\n",
              "ND     4\n",
              "AR     4\n",
              "AZ     4\n",
              "ME     4\n",
              "CO     4\n",
              "MD     3\n",
              "DE     3\n",
              "SD     3\n",
              "WV     3\n",
              "OR     3\n",
              "VT     2\n",
              "MT     2\n",
              "DC     2\n",
              "AK     1\n",
              "NM     1\n",
              "NH     1\n",
              "WY     1\n",
              "Name: state, dtype: int64"
            ]
          },
          "execution_count": 67,
          "metadata": {},
          "output_type": "execute_result"
        }
      ],
      "source": [
        "patients_clean.state.value_counts()"
      ]
    },
    {
      "cell_type": "markdown",
      "id": "27bb7e49",
      "metadata": {
        "id": "27bb7e49"
      },
      "source": [
        "#### Dsvid Gustafsson"
      ]
    },
    {
      "cell_type": "markdown",
      "id": "90646f44",
      "metadata": {
        "id": "90646f44"
      },
      "source": [
        "##### Define\n",
        "Replace given name for rows in the `patients` table that have a given name of 'Dsvid' with 'David'."
      ]
    },
    {
      "cell_type": "markdown",
      "id": "3fafe37f",
      "metadata": {
        "id": "3fafe37f"
      },
      "source": [
        "##### Code"
      ]
    },
    {
      "cell_type": "code",
      "execution_count": null,
      "id": "391750aa",
      "metadata": {
        "id": "391750aa"
      },
      "outputs": [],
      "source": [
        ""
      ]
    },
    {
      "cell_type": "markdown",
      "id": "6ba4421f",
      "metadata": {
        "id": "6ba4421f"
      },
      "source": [
        "##### Test"
      ]
    },
    {
      "cell_type": "code",
      "execution_count": null,
      "id": "75a0eb38",
      "metadata": {
        "scrolled": true,
        "id": "75a0eb38",
        "outputId": "71851f07-d694-45f8-b2be-3421ee7b37a2"
      },
      "outputs": [
        {
          "data": {
            "text/html": [
              "<div>\n",
              "<style scoped>\n",
              "    .dataframe tbody tr th:only-of-type {\n",
              "        vertical-align: middle;\n",
              "    }\n",
              "\n",
              "    .dataframe tbody tr th {\n",
              "        vertical-align: top;\n",
              "    }\n",
              "\n",
              "    .dataframe thead th {\n",
              "        text-align: right;\n",
              "    }\n",
              "</style>\n",
              "<table border=\"1\" class=\"dataframe\">\n",
              "  <thead>\n",
              "    <tr style=\"text-align: right;\">\n",
              "      <th></th>\n",
              "      <th>patient_id</th>\n",
              "      <th>assigned_sex</th>\n",
              "      <th>given_name</th>\n",
              "      <th>surname</th>\n",
              "      <th>address</th>\n",
              "      <th>city</th>\n",
              "      <th>state</th>\n",
              "      <th>zip_code</th>\n",
              "      <th>country</th>\n",
              "      <th>birthdate</th>\n",
              "      <th>weight</th>\n",
              "      <th>height</th>\n",
              "      <th>bmi</th>\n",
              "      <th>phone_number</th>\n",
              "      <th>email</th>\n",
              "    </tr>\n",
              "  </thead>\n",
              "  <tbody>\n",
              "    <tr>\n",
              "      <th>8</th>\n",
              "      <td>9</td>\n",
              "      <td>male</td>\n",
              "      <td>David</td>\n",
              "      <td>Gustafsson</td>\n",
              "      <td>1790 Nutter Street</td>\n",
              "      <td>Kansas City</td>\n",
              "      <td>MO</td>\n",
              "      <td>64105</td>\n",
              "      <td>United States</td>\n",
              "      <td>3/6/1937</td>\n",
              "      <td>163.9</td>\n",
              "      <td>66</td>\n",
              "      <td>26.5</td>\n",
              "      <td>816-265-9578</td>\n",
              "      <td>DavidGustafsson@armyspy.com</td>\n",
              "    </tr>\n",
              "  </tbody>\n",
              "</table>\n",
              "</div>"
            ],
            "text/plain": [
              "   patient_id assigned_sex given_name     surname             address  \\\n",
              "8           9         male      David  Gustafsson  1790 Nutter Street   \n",
              "\n",
              "          city state zip_code        country birthdate  weight  height   bmi  \\\n",
              "8  Kansas City    MO    64105  United States  3/6/1937   163.9      66  26.5   \n",
              "\n",
              "   phone_number                        email  \n",
              "8  816-265-9578  DavidGustafsson@armyspy.com  "
            ]
          },
          "execution_count": 69,
          "metadata": {},
          "output_type": "execute_result"
        }
      ],
      "source": [
        "patients_clean[patients_clean.surname == 'Gustafsson']"
      ]
    },
    {
      "cell_type": "markdown",
      "id": "c31daa7b",
      "metadata": {
        "id": "c31daa7b"
      },
      "source": [
        "#### Erroneous datatypes (assigned sex, state, zip_code, and birthdate columns) and Erroneous datatypes (auralin and novodra columns) and The letter 'u' in starting and ending doses for Auralin and Novodra"
      ]
    },
    {
      "cell_type": "markdown",
      "id": "f8d33277",
      "metadata": {
        "id": "f8d33277"
      },
      "source": [
        "*Hint: [documentation page](https://pandas.pydata.org/pandas-docs/stable/generated/pandas.Series.astype.html) for `astype` method used in solution, [documentation page](http://pandas.pydata.org/pandas-docs/version/0.20/generated/pandas.to_datetime.html) for `.to_datetime` function used in the solution, and [documentation page](https://pandas.pydata.org/pandas-docs/stable/generated/pandas.Series.str.strip.html) for `.str.strip` method used in the solution.*"
      ]
    },
    {
      "cell_type": "markdown",
      "id": "a404205f",
      "metadata": {
        "id": "a404205f"
      },
      "source": [
        "##### Define\n",
        "Convert assigned sex and state to categorical data types. Zip code data type was already addressed above. Convert birthdate to datetime data type. Strip the letter 'u' in start dose and end dose and convert those columns to data type integer."
      ]
    },
    {
      "cell_type": "markdown",
      "id": "aed9a6b3",
      "metadata": {
        "id": "aed9a6b3"
      },
      "source": [
        "##### Code"
      ]
    },
    {
      "cell_type": "code",
      "execution_count": null,
      "id": "53e29691",
      "metadata": {
        "id": "53e29691"
      },
      "outputs": [],
      "source": [
        "# Convert assigned sex and state to categorical data type\n",
        "patients_clean.assigned_sex = patients_clean.assigned_sex.astype('category')\n",
        "patients_clean.state = \n",
        "\n",
        "# Convert birthdate to datetime data type using to_datetime\n",
        "\n",
        "# trip the letter 'u' in start dose and end dose and convert those columns to data type integer.\n",
        "treatments_clean.dose_start = treatments_clean.dose_start.str.strip('u').astype(int)\n",
        "treatments_clean.dose_end = "
      ]
    },
    {
      "cell_type": "markdown",
      "id": "87e5fba8",
      "metadata": {
        "id": "87e5fba8"
      },
      "source": [
        "##### Test"
      ]
    },
    {
      "cell_type": "code",
      "execution_count": null,
      "id": "8ea98a92",
      "metadata": {
        "scrolled": false,
        "id": "8ea98a92",
        "outputId": "2c957de9-847e-4d30-d144-1ef77fc1ce3b"
      },
      "outputs": [
        {
          "name": "stdout",
          "output_type": "stream",
          "text": [
            "<class 'pandas.core.frame.DataFrame'>\n",
            "RangeIndex: 503 entries, 0 to 502\n",
            "Data columns (total 15 columns):\n",
            " #   Column        Non-Null Count  Dtype         \n",
            "---  ------        --------------  -----         \n",
            " 0   patient_id    503 non-null    int64         \n",
            " 1   assigned_sex  503 non-null    category      \n",
            " 2   given_name    503 non-null    object        \n",
            " 3   surname       503 non-null    object        \n",
            " 4   address       491 non-null    object        \n",
            " 5   city          491 non-null    object        \n",
            " 6   state         491 non-null    category      \n",
            " 7   zip_code      491 non-null    object        \n",
            " 8   country       491 non-null    object        \n",
            " 9   birthdate     503 non-null    datetime64[ns]\n",
            " 10  weight        503 non-null    float64       \n",
            " 11  height        503 non-null    int64         \n",
            " 12  bmi           503 non-null    float64       \n",
            " 13  phone_number  491 non-null    object        \n",
            " 14  email         491 non-null    object        \n",
            "dtypes: category(2), datetime64[ns](1), float64(2), int64(2), object(8)\n",
            "memory usage: 53.7+ KB\n"
          ]
        }
      ],
      "source": [
        "patients_clean.info()"
      ]
    },
    {
      "cell_type": "code",
      "execution_count": null,
      "id": "95422cc8",
      "metadata": {
        "id": "95422cc8",
        "outputId": "4eb70671-af4c-4f29-bb6c-e86b235be9ed"
      },
      "outputs": [
        {
          "name": "stdout",
          "output_type": "stream",
          "text": [
            "<class 'pandas.core.frame.DataFrame'>\n",
            "Int64Index: 349 entries, 0 to 348\n",
            "Data columns (total 8 columns):\n",
            " #   Column            Non-Null Count  Dtype  \n",
            "---  ------            --------------  -----  \n",
            " 0   patient_id        349 non-null    int64  \n",
            " 1   hba1c_start       349 non-null    float64\n",
            " 2   hba1c_end         349 non-null    float64\n",
            " 3   hba1c_change      349 non-null    float64\n",
            " 4   treatment         349 non-null    object \n",
            " 5   dose_start        349 non-null    int32  \n",
            " 6   dose_end          349 non-null    int32  \n",
            " 7   adverse_reaction  35 non-null     object \n",
            "dtypes: float64(3), int32(2), int64(1), object(2)\n",
            "memory usage: 21.8+ KB\n"
          ]
        }
      ],
      "source": [
        "treatments_clean.info()"
      ]
    },
    {
      "cell_type": "markdown",
      "id": "c5e366db",
      "metadata": {
        "id": "c5e366db"
      },
      "source": [
        "#### Multiple phone number formats"
      ]
    },
    {
      "cell_type": "markdown",
      "id": "9b391cbf",
      "metadata": {
        "id": "9b391cbf"
      },
      "source": [
        "*Hint: helpful [Stack Overflow answer](https://stackoverflow.com/a/123681).*"
      ]
    },
    {
      "cell_type": "markdown",
      "id": "47076dbb",
      "metadata": {
        "id": "47076dbb"
      },
      "source": [
        "##### Define\n",
        "Strip all \" \", \"-\", \"(\", \")\", and \"+\" and store each number without any formatting. Pad the phone number with a 1 if the length of the number is 10 digits (we want country code)."
      ]
    },
    {
      "cell_type": "markdown",
      "id": "1aee3c88",
      "metadata": {
        "id": "1aee3c88"
      },
      "source": [
        "##### Code"
      ]
    },
    {
      "cell_type": "code",
      "execution_count": null,
      "id": "1062c7c2",
      "metadata": {
        "id": "1062c7c2",
        "outputId": "706aacf5-370e-487c-9514-8dd7c00f12e3"
      },
      "outputs": [
        {
          "name": "stderr",
          "output_type": "stream",
          "text": [
            "C:\\Users\\Mic\\AppData\\Local\\Temp/ipykernel_9580/3922059896.py:1: FutureWarning: The default value of regex will change from True to False in a future version.\n",
            "  patients_clean.phone_number = patients_clean.phone_number.str.replace(r'\\D+', '').str.pad(11, fillchar='1')\n"
          ]
        }
      ],
      "source": [
        "# Grab one or more repetitions of any non-digit characters\n",
        "patients_clean.phone_number = patients_clean.phone_number.str.replace(r'\\D+', '').str.pad(11, fillchar='1')"
      ]
    },
    {
      "cell_type": "markdown",
      "id": "f8668893",
      "metadata": {
        "id": "f8668893"
      },
      "source": [
        "##### Test"
      ]
    },
    {
      "cell_type": "code",
      "execution_count": null,
      "id": "e79e0d4c",
      "metadata": {
        "scrolled": true,
        "id": "e79e0d4c",
        "outputId": "87008df8-bd21-4e06-f861-d3e27fdcea70"
      },
      "outputs": [
        {
          "data": {
            "text/plain": [
              "0    19517199170\n",
              "1    12175693204\n",
              "2    14023636804\n",
              "3    17326368246\n",
              "4    13345157487\n",
              "Name: phone_number, dtype: object"
            ]
          },
          "execution_count": 74,
          "metadata": {},
          "output_type": "execute_result"
        }
      ],
      "source": [
        "patients_clean.phone_number.head()"
      ]
    },
    {
      "cell_type": "markdown",
      "id": "63c9ae3e",
      "metadata": {
        "id": "63c9ae3e"
      },
      "source": [
        "#### Default John Doe data"
      ]
    },
    {
      "cell_type": "markdown",
      "id": "37b71ea6",
      "metadata": {
        "id": "37b71ea6"
      },
      "source": [
        "*Recall that it is assumed that the data that this John Doe data displaced is not recoverable.*"
      ]
    },
    {
      "cell_type": "markdown",
      "id": "cedd7404",
      "metadata": {
        "id": "cedd7404"
      },
      "source": [
        "##### Define\n",
        "Remove the non-recoverable John Doe records from the `patients` table."
      ]
    },
    {
      "cell_type": "markdown",
      "id": "ff985beb",
      "metadata": {
        "id": "ff985beb"
      },
      "source": [
        "##### Code"
      ]
    },
    {
      "cell_type": "code",
      "execution_count": null,
      "id": "af5d9cea",
      "metadata": {
        "id": "af5d9cea"
      },
      "outputs": [],
      "source": [
        "patients_clean = patients_clean[patients_clean.surname != 'Doe']"
      ]
    },
    {
      "cell_type": "markdown",
      "id": "d7d063d5",
      "metadata": {
        "id": "d7d063d5"
      },
      "source": [
        "##### Test"
      ]
    },
    {
      "cell_type": "code",
      "execution_count": null,
      "id": "c0171436",
      "metadata": {
        "scrolled": true,
        "id": "c0171436",
        "outputId": "443bcd00-750b-4600-caeb-efd180d1c1b7"
      },
      "outputs": [
        {
          "data": {
            "text/plain": [
              "Jakobsen       3\n",
              "Taylor         3\n",
              "Aranda         2\n",
              "Tucker         2\n",
              "Souza          2\n",
              "              ..\n",
              "Casárez        1\n",
              "Mata           1\n",
              "Pospíšil       1\n",
              "Rukavina       1\n",
              "Onyekaozulu    1\n",
              "Name: surname, Length: 465, dtype: int64"
            ]
          },
          "execution_count": 76,
          "metadata": {},
          "output_type": "execute_result"
        }
      ],
      "source": [
        "# Should be no Doe records\n",
        "patients_clean.surname.value_counts()"
      ]
    },
    {
      "cell_type": "code",
      "execution_count": null,
      "id": "bdee7ac0",
      "metadata": {
        "scrolled": true,
        "id": "bdee7ac0",
        "outputId": "3eaabad0-9557-4de9-ee9e-2a203bc35258"
      },
      "outputs": [
        {
          "data": {
            "text/plain": [
              "2778 North Avenue           2\n",
              "2476 Fulton Street          2\n",
              "648 Old Dear Lane           2\n",
              "576 Brown Bear Drive        1\n",
              "2272 Williams Avenue        1\n",
              "                           ..\n",
              "1066 Goosetown Drive        1\n",
              "4291 Patton Lane            1\n",
              "4643 Reeves Street          1\n",
              "174 Lost Creek Road         1\n",
              "3652 Boone Crockett Lane    1\n",
              "Name: address, Length: 482, dtype: int64"
            ]
          },
          "execution_count": 77,
          "metadata": {},
          "output_type": "execute_result"
        }
      ],
      "source": [
        "# Should be no 123 Main Street records\n",
        "patients_clean.address.value_counts()"
      ]
    },
    {
      "cell_type": "markdown",
      "id": "3e85c2b7",
      "metadata": {
        "id": "3e85c2b7"
      },
      "source": [
        "#### Multiple records for Jakobsen, Gersten, Taylor"
      ]
    },
    {
      "cell_type": "markdown",
      "id": "e9a030b5",
      "metadata": {
        "id": "e9a030b5"
      },
      "source": [
        "##### Define\n",
        "Remove the Jake Jakobsen, Pat Gersten, and Sandy Taylor rows from the `patients` table. These are the nicknames, which happen to also not be in the `treatments` table (removing the wrong name would create a consistency issue between the `patients` and `treatments` table). These are all the second occurrence of the duplicate. These are also the only occurences of non-null duplicate addresses."
      ]
    },
    {
      "cell_type": "markdown",
      "id": "a4a2b052",
      "metadata": {
        "id": "a4a2b052"
      },
      "source": [
        "##### Code"
      ]
    },
    {
      "cell_type": "code",
      "execution_count": null,
      "id": "78adf4b7",
      "metadata": {
        "id": "78adf4b7"
      },
      "outputs": [],
      "source": [
        "# tilde means not: http://pandas.pydata.org/pandas-docs/stable/indexing.html#boolean-indexing\n",
        "patients_clean = patients_clean[~((patients_clean.address.duplicated()) & patients_clean.address.notnull())]"
      ]
    },
    {
      "cell_type": "markdown",
      "id": "08010b1c",
      "metadata": {
        "id": "08010b1c"
      },
      "source": [
        "##### Test"
      ]
    },
    {
      "cell_type": "code",
      "execution_count": null,
      "id": "44dc17c1",
      "metadata": {
        "id": "44dc17c1",
        "outputId": "3698fea9-9f0e-416f-b1ab-6b7b1a7bac3c"
      },
      "outputs": [
        {
          "data": {
            "text/html": [
              "<div>\n",
              "<style scoped>\n",
              "    .dataframe tbody tr th:only-of-type {\n",
              "        vertical-align: middle;\n",
              "    }\n",
              "\n",
              "    .dataframe tbody tr th {\n",
              "        vertical-align: top;\n",
              "    }\n",
              "\n",
              "    .dataframe thead th {\n",
              "        text-align: right;\n",
              "    }\n",
              "</style>\n",
              "<table border=\"1\" class=\"dataframe\">\n",
              "  <thead>\n",
              "    <tr style=\"text-align: right;\">\n",
              "      <th></th>\n",
              "      <th>patient_id</th>\n",
              "      <th>assigned_sex</th>\n",
              "      <th>given_name</th>\n",
              "      <th>surname</th>\n",
              "      <th>address</th>\n",
              "      <th>city</th>\n",
              "      <th>state</th>\n",
              "      <th>zip_code</th>\n",
              "      <th>country</th>\n",
              "      <th>birthdate</th>\n",
              "      <th>weight</th>\n",
              "      <th>height</th>\n",
              "      <th>bmi</th>\n",
              "      <th>phone_number</th>\n",
              "      <th>email</th>\n",
              "    </tr>\n",
              "  </thead>\n",
              "  <tbody>\n",
              "    <tr>\n",
              "      <th>24</th>\n",
              "      <td>25</td>\n",
              "      <td>male</td>\n",
              "      <td>Jakob</td>\n",
              "      <td>Jakobsen</td>\n",
              "      <td>648 Old Dear Lane</td>\n",
              "      <td>Port Jervis</td>\n",
              "      <td>NY</td>\n",
              "      <td>12771</td>\n",
              "      <td>United States</td>\n",
              "      <td>1985-08-01</td>\n",
              "      <td>155.8</td>\n",
              "      <td>67</td>\n",
              "      <td>24.4</td>\n",
              "      <td>18458587707</td>\n",
              "      <td>JakobCJakobsen@einrot.com</td>\n",
              "    </tr>\n",
              "    <tr>\n",
              "      <th>432</th>\n",
              "      <td>433</td>\n",
              "      <td>female</td>\n",
              "      <td>Karen</td>\n",
              "      <td>Jakobsen</td>\n",
              "      <td>1690 Fannie Street</td>\n",
              "      <td>Houston</td>\n",
              "      <td>TX</td>\n",
              "      <td>77020</td>\n",
              "      <td>United States</td>\n",
              "      <td>1962-11-25</td>\n",
              "      <td>185.2</td>\n",
              "      <td>67</td>\n",
              "      <td>29.0</td>\n",
              "      <td>19792030438</td>\n",
              "      <td>KarenJakobsen@jourrapide.com</td>\n",
              "    </tr>\n",
              "  </tbody>\n",
              "</table>\n",
              "</div>"
            ],
            "text/plain": [
              "     patient_id assigned_sex given_name   surname             address  \\\n",
              "24           25         male      Jakob  Jakobsen   648 Old Dear Lane   \n",
              "432         433       female      Karen  Jakobsen  1690 Fannie Street   \n",
              "\n",
              "            city state zip_code        country  birthdate  weight  height  \\\n",
              "24   Port Jervis    NY    12771  United States 1985-08-01   155.8      67   \n",
              "432      Houston    TX    77020  United States 1962-11-25   185.2      67   \n",
              "\n",
              "      bmi phone_number                         email  \n",
              "24   24.4  18458587707     JakobCJakobsen@einrot.com  \n",
              "432  29.0  19792030438  KarenJakobsen@jourrapide.com  "
            ]
          },
          "execution_count": 79,
          "metadata": {},
          "output_type": "execute_result"
        }
      ],
      "source": [
        "patients_clean[patients_clean.surname == 'Jakobsen']"
      ]
    },
    {
      "cell_type": "code",
      "execution_count": null,
      "id": "013e8118",
      "metadata": {
        "scrolled": true,
        "id": "013e8118",
        "outputId": "f51202cf-8e79-451d-a257-05a75683fcc4"
      },
      "outputs": [
        {
          "data": {
            "text/html": [
              "<div>\n",
              "<style scoped>\n",
              "    .dataframe tbody tr th:only-of-type {\n",
              "        vertical-align: middle;\n",
              "    }\n",
              "\n",
              "    .dataframe tbody tr th {\n",
              "        vertical-align: top;\n",
              "    }\n",
              "\n",
              "    .dataframe thead th {\n",
              "        text-align: right;\n",
              "    }\n",
              "</style>\n",
              "<table border=\"1\" class=\"dataframe\">\n",
              "  <thead>\n",
              "    <tr style=\"text-align: right;\">\n",
              "      <th></th>\n",
              "      <th>patient_id</th>\n",
              "      <th>assigned_sex</th>\n",
              "      <th>given_name</th>\n",
              "      <th>surname</th>\n",
              "      <th>address</th>\n",
              "      <th>city</th>\n",
              "      <th>state</th>\n",
              "      <th>zip_code</th>\n",
              "      <th>country</th>\n",
              "      <th>birthdate</th>\n",
              "      <th>weight</th>\n",
              "      <th>height</th>\n",
              "      <th>bmi</th>\n",
              "      <th>phone_number</th>\n",
              "      <th>email</th>\n",
              "    </tr>\n",
              "  </thead>\n",
              "  <tbody>\n",
              "    <tr>\n",
              "      <th>97</th>\n",
              "      <td>98</td>\n",
              "      <td>male</td>\n",
              "      <td>Patrick</td>\n",
              "      <td>Gersten</td>\n",
              "      <td>2778 North Avenue</td>\n",
              "      <td>Burr</td>\n",
              "      <td>NE</td>\n",
              "      <td>68324</td>\n",
              "      <td>United States</td>\n",
              "      <td>1954-05-03</td>\n",
              "      <td>138.2</td>\n",
              "      <td>71</td>\n",
              "      <td>19.3</td>\n",
              "      <td>14028484923</td>\n",
              "      <td>PatrickGersten@rhyta.com</td>\n",
              "    </tr>\n",
              "  </tbody>\n",
              "</table>\n",
              "</div>"
            ],
            "text/plain": [
              "    patient_id assigned_sex given_name  surname            address  city  \\\n",
              "97          98         male    Patrick  Gersten  2778 North Avenue  Burr   \n",
              "\n",
              "   state zip_code        country  birthdate  weight  height   bmi  \\\n",
              "97    NE    68324  United States 1954-05-03   138.2      71  19.3   \n",
              "\n",
              "   phone_number                     email  \n",
              "97  14028484923  PatrickGersten@rhyta.com  "
            ]
          },
          "execution_count": 80,
          "metadata": {},
          "output_type": "execute_result"
        }
      ],
      "source": [
        "patients_clean[patients_clean.surname == 'Gersten']"
      ]
    },
    {
      "cell_type": "code",
      "execution_count": null,
      "id": "fd286a0a",
      "metadata": {
        "id": "fd286a0a",
        "outputId": "ff04de90-4dd1-44e4-fdef-436865cc428c"
      },
      "outputs": [
        {
          "data": {
            "text/html": [
              "<div>\n",
              "<style scoped>\n",
              "    .dataframe tbody tr th:only-of-type {\n",
              "        vertical-align: middle;\n",
              "    }\n",
              "\n",
              "    .dataframe tbody tr th {\n",
              "        vertical-align: top;\n",
              "    }\n",
              "\n",
              "    .dataframe thead th {\n",
              "        text-align: right;\n",
              "    }\n",
              "</style>\n",
              "<table border=\"1\" class=\"dataframe\">\n",
              "  <thead>\n",
              "    <tr style=\"text-align: right;\">\n",
              "      <th></th>\n",
              "      <th>patient_id</th>\n",
              "      <th>assigned_sex</th>\n",
              "      <th>given_name</th>\n",
              "      <th>surname</th>\n",
              "      <th>address</th>\n",
              "      <th>city</th>\n",
              "      <th>state</th>\n",
              "      <th>zip_code</th>\n",
              "      <th>country</th>\n",
              "      <th>birthdate</th>\n",
              "      <th>weight</th>\n",
              "      <th>height</th>\n",
              "      <th>bmi</th>\n",
              "      <th>phone_number</th>\n",
              "      <th>email</th>\n",
              "    </tr>\n",
              "  </thead>\n",
              "  <tbody>\n",
              "    <tr>\n",
              "      <th>131</th>\n",
              "      <td>132</td>\n",
              "      <td>female</td>\n",
              "      <td>Sandra</td>\n",
              "      <td>Taylor</td>\n",
              "      <td>2476 Fulton Street</td>\n",
              "      <td>Rainelle</td>\n",
              "      <td>WV</td>\n",
              "      <td>25962</td>\n",
              "      <td>United States</td>\n",
              "      <td>1960-10-23</td>\n",
              "      <td>206.1</td>\n",
              "      <td>64</td>\n",
              "      <td>35.4</td>\n",
              "      <td>13044382648</td>\n",
              "      <td>SandraCTaylor@dayrep.com</td>\n",
              "    </tr>\n",
              "    <tr>\n",
              "      <th>426</th>\n",
              "      <td>427</td>\n",
              "      <td>male</td>\n",
              "      <td>Rogelio</td>\n",
              "      <td>Taylor</td>\n",
              "      <td>4064 Marigold Lane</td>\n",
              "      <td>Miami</td>\n",
              "      <td>FL</td>\n",
              "      <td>33179</td>\n",
              "      <td>United States</td>\n",
              "      <td>1992-09-02</td>\n",
              "      <td>186.6</td>\n",
              "      <td>69</td>\n",
              "      <td>27.6</td>\n",
              "      <td>13054346299</td>\n",
              "      <td>RogelioJTaylor@teleworm.us</td>\n",
              "    </tr>\n",
              "  </tbody>\n",
              "</table>\n",
              "</div>"
            ],
            "text/plain": [
              "     patient_id assigned_sex given_name surname             address      city  \\\n",
              "131         132       female     Sandra  Taylor  2476 Fulton Street  Rainelle   \n",
              "426         427         male    Rogelio  Taylor  4064 Marigold Lane     Miami   \n",
              "\n",
              "    state zip_code        country  birthdate  weight  height   bmi  \\\n",
              "131    WV    25962  United States 1960-10-23   206.1      64  35.4   \n",
              "426    FL    33179  United States 1992-09-02   186.6      69  27.6   \n",
              "\n",
              "    phone_number                       email  \n",
              "131  13044382648    SandraCTaylor@dayrep.com  \n",
              "426  13054346299  RogelioJTaylor@teleworm.us  "
            ]
          },
          "execution_count": 81,
          "metadata": {},
          "output_type": "execute_result"
        }
      ],
      "source": [
        "patients_clean[patients_clean.surname == 'Taylor']"
      ]
    },
    {
      "cell_type": "markdown",
      "id": "b8aeb3b2",
      "metadata": {
        "id": "b8aeb3b2"
      },
      "source": [
        "#### kgs instead of lbs for Zaitseva weight"
      ]
    },
    {
      "cell_type": "markdown",
      "id": "5f1dd8dc",
      "metadata": {
        "id": "5f1dd8dc"
      },
      "source": [
        "##### Define\n",
        "Use [advanced indexing](https://stackoverflow.com/a/44913631) to isolate the row where the surname is Zaitseva and convert the entry in its weight field from kg to lbs."
      ]
    },
    {
      "cell_type": "markdown",
      "id": "58eeec72",
      "metadata": {
        "id": "58eeec72"
      },
      "source": [
        "##### Code"
      ]
    },
    {
      "cell_type": "code",
      "execution_count": null,
      "id": "9dddd5a7",
      "metadata": {
        "id": "9dddd5a7"
      },
      "outputs": [],
      "source": [
        "# Find the minimum weight in the weight column. This should be 48\n",
        "weight_kg = \n",
        "\n",
        "# Create a mask where the row where the surname in patients_clean dataset is Zaitseva\n",
        "mask = \n",
        "\n",
        "column_name = 'weight'\n",
        "\n",
        "# Pass the mask and column_name to .loc do isolate the required cell and multiply its value to weight_kg * 2.20462\n",
        "# to convert it to lbs\n",
        "patients_clean.loc[]"
      ]
    },
    {
      "cell_type": "markdown",
      "id": "abd4c5d3",
      "metadata": {
        "id": "abd4c5d3"
      },
      "source": [
        "##### Test"
      ]
    },
    {
      "cell_type": "code",
      "execution_count": null,
      "id": "ef9e2a45",
      "metadata": {
        "scrolled": true,
        "id": "ef9e2a45",
        "outputId": "0b66e547-9d7b-4460-bd63-8db6d985874b"
      },
      "outputs": [
        {
          "data": {
            "text/plain": [
              "459    102.1\n",
              "335    102.7\n",
              "74     103.2\n",
              "317    106.0\n",
              "171    106.5\n",
              "       ...  \n",
              "61     244.9\n",
              "144    244.9\n",
              "283    245.5\n",
              "118    254.5\n",
              "485    255.9\n",
              "Name: weight, Length: 494, dtype: float64"
            ]
          },
          "execution_count": 84,
          "metadata": {},
          "output_type": "execute_result"
        }
      ],
      "source": [
        "# 48.8 shouldn't be the lowest anymore\n",
        "patients_clean.weight.sort_values()"
      ]
    }
  ],
  "metadata": {
    "kernelspec": {
      "display_name": "Python 3 (ipykernel)",
      "language": "python",
      "name": "python3"
    },
    "language_info": {
      "codemirror_mode": {
        "name": "ipython",
        "version": 3
      },
      "file_extension": ".py",
      "mimetype": "text/x-python",
      "name": "python",
      "nbconvert_exporter": "python",
      "pygments_lexer": "ipython3",
      "version": "3.9.7"
    },
    "colab": {
      "name": "Assessing & Cleaning Data- Practice.ipynb",
      "provenance": [],
      "include_colab_link": true
    }
  },
  "nbformat": 4,
  "nbformat_minor": 5
}