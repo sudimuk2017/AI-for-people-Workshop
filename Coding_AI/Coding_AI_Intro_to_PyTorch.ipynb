{
 "cells": [
  {
   
   "metadata": {
    "colab_type": "text",
    "id": "kflazTyXbQP1"
   },
   "source": [
    "Install Pytorch\n"
   ]
  },
  {
   "cell_type": "code",
   "execution_count": null,
   "metadata": {
    "colab": {
     "base_uri": "https://localhost:8080/",
     "height": 102
    },
    "colab_type": "code",
    "id": "Sv5NmGpcaplJ",
    "outputId": "e163bbec-c06f-4c54-9bee-7d5e585980a5"
   },
   "outputs": [
    {
     "name": "stdout",
     "output_type": "stream",
     "text": [
      "Requirement already satisfied: torch in /usr/local/lib/python3.6/dist-packages (1.5.1+cu101)\n",
      "Requirement already satisfied: torchvision in /usr/local/lib/python3.6/dist-packages (0.6.1+cu101)\n",
      "Requirement already satisfied: numpy in /usr/local/lib/python3.6/dist-packages (from torch) (1.18.5)\n",
      "Requirement already satisfied: future in /usr/local/lib/python3.6/dist-packages (from torch) (0.16.0)\n",
      "Requirement already satisfied: pillow>=4.1.1 in /usr/local/lib/python3.6/dist-packages (from torchvision) (7.0.0)\n"
     ]
    }
   ],
   "source": [
    "!pip3 install torch torchvision"
   ]
  },
  {
   "cell_type": "markdown",
   "metadata": {
    "colab_type": "text",
    "id": "PO-N2fynM53t"
   },
   "source": [
    "# Inspecting the dataset\n",
    "\n",
    "\n",
    "1.   Download the MNIST dataset\n",
    "2.   Plot some images with their labels\n",
    "3.   What kind of data is it?\n",
    "\n"
   ]
  },
  {
   "cell_type": "code",
   "execution_count": null,
   "metadata": {
    "colab": {
     "base_uri": "https://localhost:8080/",
     "height": 650,
     "referenced_widgets": [
      "c6507988cb6b43a1ab26862b1879315c",
      "19d876ff5cd94c4eb91cad451fbcab89",
      "16d85a8f64c44227b8f4b6cd1964a3fd",
      "d3f3523b8b0643818c978fe19bb9367f",
      "7f1530927b904f368d7a4f80300f2585",
      "9587989634c44eb79c032c2c5e3094a9",
      "3716a81c01464ca583d38671b1d609bd",
      "5d51c0242e7b4831aea8d728ef413fc5",
      "bce9ee93a9a541ccb24f1bc3cae7c7d5",
      "ed6a2ac956844b84be421b2916054130",
      "f2727c5018dc4046be30fddd29ed8f6d",
      "d42da3bf9f5343fb8b8cd0f69e549343",
      "0dd86dd95391400688c045053a490298",
      "2d6a5f0a211a43439d836df915725fd7",
      "42813902923a4c62a45ce0951a48115f",
      "d2fc850d9b1f42f08c650bb86b5f0186",
      "19487ec826fe47fabe6b7f8144a51b5f",
      "69a4fba0d0f848deb9460433866a0068",
      "d77e26bf7735486d8f9e98d6fd4767b3",
      "70f7690c748d4490919ec74762564abf",
      "15c4fb53bd464620ae57fb8364f1827d",
      "f0000848183d4bc1af345ff9db8050d0",
      "4694c9dac44b4fae9924eeb23c2cd5a5",
      "e50639e2d71a4c63b7ff670bb77c02a6",
      "ef0c31177f85449980a0e0348f987b0d",
      "2a34f3ea91df42be9c69fa85b647b360",
      "2fa6b830b9984fae9c16a614f26cddd9",
      "ae76d31af80547c89bbf44627679140f",
      "db0cf23e48dd4314b508c9cf93a48f93",
      "c05bfa5bcba8473fa4b6e5de66e6906e",
      "482d997d899048e482e16ef87b28a1f7",
      "ab48bf52df5d4a58852020bbcafba576"
     ]
    },
    "colab_type": "code",
    "id": "0Tt07gRCDrqv",
    "outputId": "1ab76856-5c80-4657-afe8-ced45419ce7e"
   },
   "outputs": [
    {
     "name": "stdout",
     "output_type": "stream",
     "text": [
      "Downloading http://yann.lecun.com/exdb/mnist/train-images-idx3-ubyte.gz to ./MNIST/raw/train-images-idx3-ubyte.gz\n"
     ]
    },
    {
     "data": {
      "application/vnd.jupyter.widget-view+json": {
       "model_id": "c6507988cb6b43a1ab26862b1879315c",
       "version_major": 2,
       "version_minor": 0
      },
      "text/plain": [
       "HBox(children=(FloatProgress(value=1.0, bar_style='info', max=1.0), HTML(value='')))"
      ]
     },
     "metadata": {
      "tags": []
     },
     "output_type": "display_data"
    },
    {
     "name": "stdout",
     "output_type": "stream",
     "text": [
      "Extracting ./MNIST/raw/train-images-idx3-ubyte.gz to ./MNIST/raw\n",
      "Downloading http://yann.lecun.com/exdb/mnist/train-labels-idx1-ubyte.gz to ./MNIST/raw/train-labels-idx1-ubyte.gz\n",
      "\n"
     ]
    },
    {
     "data": {
      "application/vnd.jupyter.widget-view+json": {
       "model_id": "bce9ee93a9a541ccb24f1bc3cae7c7d5",
       "version_major": 2,
       "version_minor": 0
      },
      "text/plain": [
       "HBox(children=(FloatProgress(value=1.0, bar_style='info', max=1.0), HTML(value='')))"
      ]
     },
     "metadata": {
      "tags": []
     },
     "output_type": "display_data"
    },
    {
     "name": "stdout",
     "output_type": "stream",
     "text": [
      "Extracting ./MNIST/raw/train-labels-idx1-ubyte.gz to ./MNIST/raw\n",
      "Downloading http://yann.lecun.com/exdb/mnist/t10k-images-idx3-ubyte.gz to ./MNIST/raw/t10k-images-idx3-ubyte.gz\n"
     ]
    },
    {
     "data": {
      "application/vnd.jupyter.widget-view+json": {
       "model_id": "19487ec826fe47fabe6b7f8144a51b5f",
       "version_major": 2,
       "version_minor": 0
      },
      "text/plain": [
       "HBox(children=(FloatProgress(value=1.0, bar_style='info', max=1.0), HTML(value='')))"
      ]
     },
     "metadata": {
      "tags": []
     },
     "output_type": "display_data"
    },
    {
     "name": "stdout",
     "output_type": "stream",
     "text": [
      "Extracting ./MNIST/raw/t10k-images-idx3-ubyte.gz to ./MNIST/raw\n",
      "Downloading http://yann.lecun.com/exdb/mnist/t10k-labels-idx1-ubyte.gz to ./MNIST/raw/t10k-labels-idx1-ubyte.gz\n"
     ]
    },
    {
     "data": {
      "application/vnd.jupyter.widget-view+json": {
       "model_id": "ef0c31177f85449980a0e0348f987b0d",
       "version_major": 2,
       "version_minor": 0
      },
      "text/plain": [
       "HBox(children=(FloatProgress(value=1.0, bar_style='info', max=1.0), HTML(value='')))"
      ]
     },
     "metadata": {
      "tags": []
     },
     "output_type": "display_data"
    },
    {
     "name": "stdout",
     "output_type": "stream",
     "text": [
      "Extracting ./MNIST/raw/t10k-labels-idx1-ubyte.gz to ./MNIST/raw\n",
      "Processing...\n",
      "Done!\n",
      "Dataset MNIST\n",
      "    Number of datapoints: 60000\n",
      "    Root location: .\n",
      "    Split: Train\n",
      "Dataset MNIST\n",
      "    Number of datapoints: 10000\n",
      "    Root location: .\n",
      "    Split: Test\n",
      "\n",
      "\n",
      "\n"
     ]
    },
    {
     "name": "stderr",
     "output_type": "stream",
     "text": [
      "/pytorch/torch/csrc/utils/tensor_numpy.cpp:141: UserWarning: The given NumPy array is not writeable, and PyTorch does not support non-writeable tensors. This means you can write to the underlying (supposedly non-writeable) NumPy array using the tensor. You may want to copy the array to protect its data or make it writeable before converting it to a tensor. This type of warning will be suppressed for the rest of this program.\n"
     ]
    },
    {
     "data": {
      "image/png": "[encoded data removed]",
      "text/plain": [
       "<Figure size 720x1080 with 10 Axes>"
      ]
     },
     "metadata": {
      "needs_background": "light",
      "tags": []
     },
     "output_type": "display_data"
    },
    {
     "name": "stdout",
     "output_type": "stream",
     "text": [
      "Min  0  Max  255\n"
     ]
    }
   ],
   "source": [
    "import torch\n",
    "from torchvision import datasets\n",
    "\n",
    "downloaded_train = datasets.MNIST(root=\".\", train=True, download=True)\n",
    "downloaded_test = datasets.MNIST(root=\".\", train=False, download=True)\n",
    "\n",
    "print(downloaded_train)\n",
    "print(downloaded_test)\n",
    "\n",
    "# Inspect dataset\n",
    "import matplotlib.pyplot as plt\n",
    "samples = 10\n",
    "plt.figure(figsize=(10, 15))\n",
    "for i in range(samples):\n",
    "    plt.subplot(1, samples, i+1)\n",
    "    img = downloaded_train.data[i]\n",
    "    label = downloaded_train.targets[i].item()\n",
    "    plt.imshow(img, cmap=\"gray\")\n",
    "    plt.title(label)\n",
    "    plt.axis(\"off\")\n",
    "plt.show()\n",
    "\n",
    "# What are the min-max values? Does this tell us something about the data?\n",
    "print(\"Min \", torch.min(downloaded_train.data).item(), \" Max \", torch.max(downloaded_train.data).item())"
   ]
  },
  {
   "cell_type": "markdown",
   "metadata": {
    "colab_type": "text",
    "id": "LiEEgR6JNVQY"
   },
   "source": [
    "# Preparing the dataset\n",
    "\n",
    "\n",
    "1.   Convert grey-image values to 0-1 range\n",
    "2.   Create an additional validation set from the training set\n",
    "3.   Normalize the data by calculating mean and standard deviation from training set\n",
    "\n",
    "\n",
    "\n",
    "\n"
   ]
  },
  {
   "cell_type": "code",
   "execution_count": null,
   "metadata": {
    "colab": {
     "base_uri": "https://localhost:8080/",
     "height": 136
    },
    "colab_type": "code",
    "id": "Uz7arIjpGZ3C",
    "outputId": "0a3fe378-f3c6-4238-8202-cd95b2df09e3"
   },
   "outputs": [
    {
     "name": "stdout",
     "output_type": "stream",
     "text": [
      "torch.Size([50000, 28, 28]) torch.Size([10000, 28, 28]) torch.Size([10000, 28, 28])\n",
      "mean_train: 0.13048, std_train: 0.30800\n",
      "\n",
      "Sanity-check: Mean should be 0 and Standard-deviation should be 1\n",
      "Train-data:      Mean: 0.0003 Std: 1.0000\n",
      "Validation-data: Mean: 0.0022 Std: 1.0022\n",
      "Test-data:       Mean: 0.0066 Std: 1.0081\n"
     ]
    }
   ],
   "source": [
    "import torch\n",
    "from torchvision import datasets\n",
    "\n",
    "downloaded_train = datasets.MNIST(root=\".\", train=True, download=True)\n",
    "downloaded_test = datasets.MNIST(root=\".\", train=False, download=True)\n",
    "\n",
    "# Convert grey-image values to float\n",
    "downloaded_train.data = 1.0*downloaded_train.data/255\n",
    "downloaded_test.data = 1.0*downloaded_test.data/255\n",
    "\n",
    "from sklearn.model_selection import train_test_split\n",
    "# Split training into training and validation set\n",
    "train_data, validation_data, train_targets, validation_targets = train_test_split(downloaded_train.data, downloaded_train.targets, test_size=10000)\n",
    "test_data, test_targets = downloaded_test.data, downloaded_test.targets\n",
    "# Check dimensions\n",
    "print(train_data.shape, validation_data.shape, test_data.shape)\n",
    "\n",
    "# Normalize all three datasets (using mean and std from only the training set)\n",
    "# Also possible to use min-max scaling\n",
    "\n",
    "# Calc mean and std from training set data\n",
    "mean_train = torch.mean(train_data)\n",
    "std_train = torch.std(train_data)\n",
    "print(f\"mean_train: {mean_train:.5f}, std_train: {std_train:.5f}\")\n",
    "\n",
    "# Normalize\n",
    "train_data = (train_data - mean_train) / std_train\n",
    "validation_data = (validation_data - mean_train) / std_train\n",
    "test_data = (test_data - mean_train) / std_train\n",
    "\n",
    "# (Sanity-check) Are they normalized now? (Mean should be 0 and Standard-deviation should be 1)\n",
    "print()\n",
    "print(\"Sanity-check: Mean should be 0 and Standard-deviation should be 1\")\n",
    "print(f\"Train-data:      Mean: {torch.mean(train_data).item():.4f} Std: {torch.std(train_data).item():.4f}\")\n",
    "print(f\"Validation-data: Mean: {torch.mean(validation_data).item():.4f} Std: {torch.std(validation_data).item():.4f}\")\n",
    "print(f\"Test-data:       Mean: {torch.mean(test_data).item():.4f} Std: {torch.std(test_data).item():.4f}\")"
   ]
  },
  {
   "cell_type": "markdown",
   "metadata": {
    "colab_type": "text",
    "id": "4sZcxlmuMVMX"
   },
   "source": [
    "\n",
    "\n",
    "---\n",
    "\n",
    "\n",
    "# Creating a PyTorch Dataset requires the following functions implemented:\n",
    "\n",
    "\n",
    "*   \\_\\_init__(self, **params)\n",
    "*   \\_\\_getitem__(self, idx)\n",
    "*   \\_\\_len__(self)\n",
    "\n",
    "Then use this class to create datasets from our data.\n"
   ]
  },
  {
   "cell_type": "code",
   "execution_count": null,
   "metadata": {
    "colab": {
     "base_uri": "https://localhost:8080/",
     "height": 34
    },
    "colab_type": "code",
    "id": "ufDrnpJHGeZ6",
    "outputId": "b60b63ae-14c2-4c80-b5ed-1a3e555900a3"
   },
   "outputs": [
    {
     "name": "stdout",
     "output_type": "stream",
     "text": [
      "Datasets created!\n"
     ]
    }
   ],
   "source": [
    "from torch.utils.data import Dataset\n",
    "\n",
    "# Create a dataset class that holds the data and targets\n",
    "class MyMNISTdataset(Dataset):\n",
    "    # Need to implement __init__(self, **params), __getitem__(self, idx), __len__(self)\n",
    "    def __init__(self, data, targets):\n",
    "        super(MyMNISTdataset, self)\n",
    "        self.data = data\n",
    "        self.targets = targets\n",
    "\n",
    "    def __getitem__(self, idx):\n",
    "        x = self.data[idx]\n",
    "        target = self.targets[idx]\n",
    "        return x, target\n",
    "\n",
    "    def __len__(self):\n",
    "        return len(self.targets)\n",
    "\n",
    "\n",
    "train_dataset = MyMNISTdataset(train_data, train_targets)\n",
    "validation_dataset = MyMNISTdataset(validation_data, validation_targets)\n",
    "test_dataset = MyMNISTdataset(test_data, test_targets)\n",
    "\n",
    "print(\"Datasets created!\")"
   ]
  },
  {
   "cell_type": "markdown",
   "metadata": {
    "colab_type": "text",
    "id": "YCHhJK_yb-6h"
   },
   "source": [
    "Create dataloader with dataset"
   ]
  },
  {
   "cell_type": "code",
   "execution_count": null,
   "metadata": {
    "colab": {
     "base_uri": "https://localhost:8080/",
     "height": 68
    },
    "colab_type": "code",
    "id": "ltZ97B-YOz-4",
    "outputId": "bb03dbaf-9db3-4d3a-ea04-24041afaae7f"
   },
   "outputs": [
    {
     "name": "stdout",
     "output_type": "stream",
     "text": [
      "Length train_dl:  782\n",
      "Length valid_dl:  157\n",
      "Length test_dl:  157\n"
     ]
    }
   ],
   "source": [
    "from torch.utils.data import DataLoader\n",
    "\n",
    "batch_size = 64\n",
    "train_dl = DataLoader(train_dataset, batch_size=batch_size, shuffle=True)\n",
    "valid_dl = DataLoader(validation_dataset, batch_size=batch_size, shuffle=True)\n",
    "test_dl = DataLoader(test_dataset, batch_size=batch_size, shuffle=False)\n",
    "\n",
    "print(\"Length train_dl: \", len(train_dl))\n",
    "print(\"Length valid_dl: \", len(valid_dl))\n",
    "print(\"Length test_dl: \", len(test_dl))\n",
    "\n",
    "# What is the length of the dataloader?"
   ]
  },
  {
   "cell_type": "markdown",
   "metadata": {
    "colab_type": "text",
    "id": "bFmUYA4CPYFW"
   },
   "source": [
    "\n",
    "\n",
    "---\n",
    "\n",
    "# The cool stuff begins:\n",
    "### Creating the neural network\n",
    "\n",
    "Simple network building with nn.Sequential()\n",
    "\n",
    "For e.g. a Multilayer Perceptron\n",
    "\n",
    "<img src=\"https://i.imgur.com/DGY97pw.png\" height=\"250\">"
   ]
  },
  {
   "cell_type": "code",
   "execution_count": null,
   "metadata": {
    "colab": {
     "base_uri": "https://localhost:8080/",
     "height": 34
    },
    "colab_type": "code",
    "id": "EnHeSyGsPYbk",
    "outputId": "505e11f1-50d8-4406-81d8-5743116150c3"
   },
   "outputs": [
    {
     "name": "stdout",
     "output_type": "stream",
     "text": [
      "Parameters:  52650\n"
     ]
    }
   ],
   "source": [
    "from torch import nn\n",
    "\n",
    "# Function to count (trainable) parameters in a model\n",
    "def count_parameters(model):\n",
    "    return sum(p.numel() for p in model.parameters() if p.requires_grad)\n",
    "\n",
    "model = nn.Sequential(\n",
    "                      nn.Linear(784, 64),\n",
    "                      nn.ReLU(inplace=True),\n",
    "                      nn.Linear(64, 32),\n",
    "                      nn.ReLU(inplace=True),\n",
    "                      nn.Linear(32, 10)\n",
    "                    )\n",
    "print(\"Parameters: \", count_parameters(model))"
   ]
  },
  {
   "cell_type": "markdown",
   "metadata": {
    "colab_type": "text",
    "id": "TsY-7Nc3RX6h"
   },
   "source": [
    "### Or create a network class that implements:\n",
    "\n",
    "\n",
    "*   \\_\\_init__(self, *params)\n",
    "*   forward(self, x)\n",
    "\n"
   ]
  },
  {
   "cell_type": "code",
   "execution_count": null,
   "metadata": {
    "colab": {
     "base_uri": "https://localhost:8080/",
     "height": 34
    },
    "colab_type": "code",
    "id": "MsXCHwP7RP0b",
    "outputId": "b877f546-b4b7-43d7-e65f-917147039416"
   },
   "outputs": [
    {
     "name": "stdout",
     "output_type": "stream",
     "text": [
      "Parameters:  52650\n"
     ]
    }
   ],
   "source": [
    "from torch import nn\n",
    "import torch.nn.functional as F\n",
    "\n",
    "class SimpleMLP(nn.Module):\n",
    "    def __init__(self):\n",
    "        super(SimpleMLP, self).__init__()\n",
    "        self.input_layer = nn.Linear(784, 64)\n",
    "        self.hidden_layer = nn.Linear(64, 32)\n",
    "        self.output_layer = nn.Linear(32, 10)\n",
    "\n",
    "    def forward(self, x):\n",
    "        x = self.input_layer(x)\n",
    "        x = F.relu(x)\n",
    "        x = self.hidden_layer(x)\n",
    "        x = F.relu(x)\n",
    "        x = self.output_layer(x)\n",
    "        return x\n",
    "\n",
    "model = SimpleMLP()\n",
    "print(\"Parameters: \", count_parameters(model))"
   ]
  },
  {
   "cell_type": "markdown",
   "metadata": {
    "colab_type": "text",
    "id": "amjZ7wb1TJnI"
   },
   "source": [
    "# Building the training loop:\n",
    "\n",
    "\n",
    "1. Create model\n",
    "2. Choose optimizer\n",
    "3. Select appropriate loss function\n",
    "4. Iterate through training dataloader:\n",
    "  1. Feed data into model\n",
    "  2. Compare true vs predicted value\n",
    "  3. Backpropagate\n",
    "5. Iterate through validation dataloader:\n",
    "  1. Feed data into model\n",
    "  2. Compare true vs predicted value\n",
    "  3. Count correct predictions\n",
    "\n",
    "\n"
   ]
  },
  {
   "cell_type": "code",
   "execution_count": null,
   "metadata": {
    "colab": {
     "base_uri": "https://localhost:8080/",
     "height": 119
    },
    "colab_type": "code",
    "id": "xLmc-1yWRQBu",
    "outputId": "7342f90e-0770-40e8-fda3-6d0595d97092"
   },
   "outputs": [
    {
     "name": "stdout",
     "output_type": "stream",
     "text": [
      "Parameters:  52650\n",
      "Epoch: 0, train_loss: 0.3629, valid_loss: 0.2294, Correct predictions: 92.93%, Time: 1.578s\n",
      "Epoch: 1, train_loss: 0.1667, valid_loss: 0.1464, Correct predictions: 95.81%, Time: 1.520s\n",
      "Epoch: 2, train_loss: 0.1230, valid_loss: 0.1213, Correct predictions: 96.34%, Time: 1.445s\n",
      "Epoch: 3, train_loss: 0.0969, valid_loss: 0.1098, Correct predictions: 96.68%, Time: 1.516s\n",
      "Epoch: 4, train_loss: 0.0794, valid_loss: 0.1075, Correct predictions: 96.82%, Time: 1.427s\n"
     ]
    }
   ],
   "source": [
    "import time\n",
    "\n",
    "model = SimpleMLP()\n",
    "# model = MyCNN()\n",
    "print(\"Parameters: \", count_parameters(model))\n",
    "\n",
    "opt = torch.optim.Adam(model.parameters(), lr=0.001)\n",
    "loss_func = nn.CrossEntropyLoss()\n",
    "\n",
    "epochs = 5\n",
    "for i in range(epochs):\n",
    "    start_time = time.time()\n",
    "    model.train()\n",
    "    train_loss = 0.0\n",
    "    for data, target in train_dl:\n",
    "        y_pred = model(torch.flatten(data, 1))\n",
    "        # y_pred = model(data)\n",
    "        loss = loss_func(y_pred, target)\n",
    "\n",
    "        # Do backpropagation\n",
    "        opt.zero_grad()\n",
    "        loss.backward()\n",
    "        opt.step()\n",
    "\n",
    "        train_loss += loss.item()\n",
    "    train_loss /= len(train_dl)\n",
    "\n",
    "    # Validate with valid_dl\n",
    "    correct = 0.0\n",
    "    valid_loss = 0.0\n",
    "    model.eval()\n",
    "    with torch.no_grad():\n",
    "        for data, target in valid_dl:\n",
    "            y_pred = model(torch.flatten(data, 1))\n",
    "            # y_pred = model(data)\n",
    "            target = target\n",
    "\n",
    "            loss = loss_func(y_pred, target)\n",
    "            valid_loss += loss.item()\n",
    "            # Check correct predictions\n",
    "            correct += torch.sum(torch.argmax(y_pred, dim=1) == target).item()\n",
    "    valid_loss /= len(valid_dl)\n",
    "    correct /= len(valid_dl.dataset)\n",
    "\n",
    "    # Epoch done. Print losses\n",
    "    print(f\"Epoch: {i}, train_loss: {train_loss:.4f}, valid_loss: {valid_loss:.4f}, Correct predictions: {correct*100:.2f}%, Time: {time.time()-start_time:.3f}s\")"
   ]
  },
  {
   "cell_type": "markdown",
   "metadata": {
    "colab_type": "text",
    "id": "UZCcTizedA71"
   },
   "source": [
    "### Now test the trained model on the test set"
   ]
  },
  {
   "cell_type": "code",
   "execution_count": null,
   "metadata": {
    "colab": {
     "base_uri": "https://localhost:8080/",
     "height": 34
    },
    "colab_type": "code",
    "id": "dRyCbxcGcDMN",
    "outputId": "320439e4-a668-4da7-c412-d14b3e5624e2"
   },
   "outputs": [
    {
     "name": "stdout",
     "output_type": "stream",
     "text": [
      "Test-scores: Loss: 0.0990, Correct Predictions: 96.96%\n"
     ]
    }
   ],
   "source": [
    "import matplotlib.pyplot as plt\n",
    "\n",
    "test_correct = 0.0\n",
    "test_loss = 0.0\n",
    "model.eval()\n",
    "imgs = []\n",
    "labels = []\n",
    "samples = 10\n",
    "with torch.no_grad():\n",
    "    for data, target in test_dl:\n",
    "        y_pred = model(torch.flatten(data, 1))\n",
    "        # y_pred = model(data)\n",
    "        loss = nn.functional.cross_entropy(y_pred, target)\n",
    "        test_loss += loss.item()\n",
    "        # Check correct predictions\n",
    "        test_correct += torch.sum(torch.argmax(y_pred, dim=1) == target).item()\n",
    "        if len(imgs) < samples:\n",
    "            imgs.append(data[0])\n",
    "            labels.append(target[0].item())\n",
    "    test_loss /= len(test_dl)\n",
    "    test_correct /= len(test_dl.dataset)\n",
    "print(f\"Test-scores: Loss: {test_loss:.4f}, Correct Predictions: {test_correct*100:.2f}%\")\n",
    "\n",
    "plt.figure(figsize=(15,10))\n",
    "for i, img in enumerate(imgs):\n",
    "    plt.subplot(1, samples, i+1)\n",
    "    plt.imshow(img, cmap=\"gray\")\n",
    "    plt.axis(\"off\")\n",
    "    plt.title(f\"Predicted: {labels[i]}\")"
   ]
  },
  {
   "cell_type": "markdown",
   "metadata": {
    "colab_type": "text",
    "id": "IjP9q08ehRDH"
   },
   "source": [
    "\n",
    "\n",
    "---\n",
    "\n",
    "# Here is an example CNN for MNIST"
   ]
  },
  {
   "cell_type": "code",
   "execution_count": null,
   "metadata": {
    "colab": {},
    "colab_type": "code",
    "id": "S2SFPfVFexky"
   },
   "outputs": [],
   "source": [
    "import torch\n",
    "from torch import nn\n",
    "import torch.nn.functional as F\n",
    "\n",
    "class MyCNN(nn.Module):\n",
    "    def __init__(self):\n",
    "        super(MyCNN, self).__init__()\n",
    "        self.conv1 = nn.Conv2d(1, 16, kernel_size=5, padding=0)\n",
    "        # 28-5+1 = 24\n",
    "        self.max1 = nn.MaxPool2d(2)\n",
    "        # 24/2 = 12\n",
    "        self.conv2 = nn.Conv2d(16, 4, kernel_size=3, padding=0)\n",
    "        # 12-3+1 = 10\n",
    "        self.max2 = nn.MaxPool2d(2)\n",
    "        # 10/2 = 5\n",
    "        self.lin = nn.Linear(5*5*4, 10)\n",
    "\n",
    "    def forward(self, x):\n",
    "        # Add a dummy dimension\n",
    "        x = torch.unsqueeze(x, 1)\n",
    "        x = self.conv1(x)\n",
    "        x = F.relu(x)\n",
    "        x = self.max1(x)\n",
    "        x = self.conv2(x)\n",
    "        x = F.relu(x)\n",
    "        x = self.max2(x)\n",
    "        x = self.lin(torch.flatten(x, 1))\n",
    "        return x"
   ]
  },
  {
   "cell_type": "markdown",
   "metadata": {
    "colab_type": "text",
    "id": "oLSMwg84dHjf"
   },
   "source": [
    "### But how do I run this on the GPU?!\n",
    "Move the model and the data to the GPU!"
   ]
  },
  {
   "cell_type": "code",
   "execution_count": null,
   "metadata": {
    "colab": {
     "base_uri": "https://localhost:8080/"
    },
    "colab_type": "code",
    "id": "bXNf586odZFX",
    "outputId": "014da030-dd4e-46eb-82f7-cced5606276e"
   },
   "outputs": [
    {
     "name": "stdout",
     "output_type": "stream",
     "text": [
      "Cuda available!\n"
     ]
    }
   ],
   "source": [
    "# Do I have a GPU in the first place?\n",
    "import torch\n",
    "print(\"Cuda available!\" if torch.cuda.is_available() else \"Only CPU available :(\")"
   ]
  },
  {
   "cell_type": "code",
   "execution_count": null,
   "metadata": {
    "colab": {
     "base_uri": "https://localhost:8080/"
    },
    "colab_type": "code",
    "id": "lne3mlvfdUP3",
    "outputId": "60c784f1-d947-4d35-9fd5-6a3623602c45"
   },
   "outputs": [
    {
     "name": "stdout",
     "output_type": "stream",
     "text": [
      "Parameters:  52650\n",
      "Epoch: 0, train_loss: 0.3432, valid_loss: 0.1911, Correct predictions: 94.36%, Time: 1.844s\n",
      "Epoch: 1, train_loss: 0.1526, valid_loss: 0.1420, Correct predictions: 95.87%, Time: 1.821s\n",
      "Epoch: 2, train_loss: 0.1110, valid_loss: 0.1240, Correct predictions: 96.05%, Time: 1.853s\n",
      "Epoch: 3, train_loss: 0.0888, valid_loss: 0.1113, Correct predictions: 96.57%, Time: 1.837s\n",
      "Epoch: 4, train_loss: 0.0743, valid_loss: 0.1175, Correct predictions: 96.60%, Time: 1.849s\n"
     ]
    }
   ],
   "source": [
    "import time\n",
    "\n",
    "dev = \"cuda\" if torch.cuda.is_available() else \"cpu\"\n",
    "\n",
    "model = SimpleMLP()\n",
    "# model = MyCNN()\n",
    "print(\"Parameters: \", count_parameters(model))\n",
    "\n",
    "model.to(dev)\n",
    "opt = torch.optim.Adam(model.parameters(), lr=0.001)\n",
    "loss_func = nn.CrossEntropyLoss()\n",
    "\n",
    "epochs = 5\n",
    "for i in range(epochs):\n",
    "    start_time = time.time()\n",
    "    model.train()\n",
    "    train_loss = 0.0\n",
    "    for data, target in train_dl:\n",
    "        data = data.to(dev)\n",
    "        target = target.to(dev)\n",
    "        y_pred = model(torch.flatten(data, 1))\n",
    "        # y_pred = model(data)\n",
    "        loss = loss_func(y_pred, target)\n",
    "\n",
    "        # Do backpropagation\n",
    "        opt.zero_grad()\n",
    "        loss.backward()\n",
    "        opt.step()\n",
    "\n",
    "        train_loss += loss.item()\n",
    "    train_loss /= len(train_dl)\n",
    "\n",
    "    # Validate with valid_dl\n",
    "    correct = 0.0\n",
    "    valid_loss = 0.0\n",
    "    model.eval()\n",
    "    with torch.no_grad():\n",
    "        for data, target in valid_dl:\n",
    "            data = data.to(dev)\n",
    "            target = target.to(dev)\n",
    "            y_pred = model(torch.flatten(data, 1))\n",
    "            # y_pred = model(data)\n",
    "            target = target\n",
    "\n",
    "            loss = loss_func(y_pred, target)\n",
    "            valid_loss += loss.item()\n",
    "            # Check correct predictions\n",
    "            correct += torch.sum(torch.argmax(y_pred, dim=1) == target).item()\n",
    "    valid_loss /= len(valid_dl)\n",
    "    correct /= len(valid_dl.dataset)\n",
    "\n",
    "    # Epoch done. Print losses\n",
    "    print(f\"Epoch: {i}, train_loss: {train_loss:.4f}, valid_loss: {valid_loss:.4f}, Correct predictions: {correct*100:.2f}%, Time: {time.time()-start_time:.3f}s\")"
   ]
  },
  {
   "cell_type": "markdown",
   "metadata": {
    "colab_type": "text",
    "id": "mfcq0TNnj69T"
   },
   "source": [
    "# Some advanced concepts:\n",
    "\n",
    "\n",
    "Saving model\n",
    "\n"
   ]
  },
  {
   "cell_type": "code",
   "execution_count": null,
   "metadata": {
    "colab": {},
    "colab_type": "code",
    "id": "LzZ-UqE3j8ZS"
   },
   "outputs": [],
   "source": [
    "# Save model parameters only (recommended)\n",
    "torch.save({\"state_dict\": model.state_dict()}, f\"saved_model.pt\")\n",
    "\n",
    "# Save whole model+parameters (requires source code and may get problematic if source code changes)\n",
    "torch.save(\"model\": model, \"state_dict\": model.state_dict(), f\"saved_model.pt\")"
   ]
  },
  {
   "cell_type": "markdown",
   "metadata": {
    "colab_type": "text",
    "id": "4GqAyJTpmMJp"
   },
   "source": [
    "Loading model"
   ]
  },
  {
   "cell_type": "code",
   "execution_count": null,
   "metadata": {
    "colab": {},
    "colab_type": "code",
    "id": "Vhci2ezkmMvl"
   },
   "outputs": [],
   "source": [
    "# Load model parameters only (recommended)\n",
    "loaded_model_file = torch.load(\"saved_model.pt\")\n",
    "model = MySimpleMLP()\n",
    "model.load_state_dict(loaded_model_file[\"state_dict\"])\n",
    "\n",
    "# Load whole model+parameters\n",
    "loaded_model_file = torch.load(\"saved_model.pt\")\n",
    "model = loaded_model_file[\"model\"]\n",
    "model.load_state_dict(loaded_model_file[\"state_dict\"])"
   ]
  },
  {
   "cell_type": "markdown",
   "metadata": {
    "colab_type": "text",
    "id": "WbPhdmP1mX8Q"
   },
   "source": [
    "Earlystopping"
   ]
  },
  {
   "cell_type": "code",
   "execution_count": null,
   "metadata": {
    "colab": {},
    "colab_type": "code",
    "id": "Esfd6Pr4mYBp"
   },
   "outputs": [],
   "source": [
    "if valid_loss < best_val_loss:\n",
    "    os.makedirs(\"models/checkpoints\", exist_ok=True)\n",
    "    # Save best model\n",
    "    torch.save({\"state_dict\": model.state_dict()}, f\"best_val_loss_model.pt\")\n",
    "    best_val_loss = valid_loss\n",
    "    earlystopping_counter = 0\n",
    "# Stop training if validation loss has not increased for `earlystopping` epochs\n",
    "else:\n",
    "    if earlystopping is not None:\n",
    "        earlystopping_counter += 1\n",
    "        if earlystopping_counter >= earlystopping:\n",
    "            print(f\"Stopping early --> val_loss has not decreased over {earlystopping} epochs\")\n",
    "            break"
   ]
  },
  {
   "cell_type": "markdown",
   "metadata": {
    "colab_type": "text",
    "id": "LaliSGKAmRsv"
   },
   "source": [
    "Tensorboard logging"
   ]
  },
  {
   "cell_type": "code",
   "execution_count": null,
   "metadata": {
    "colab": {},
    "colab_type": "code",
    "id": "mgHoQ8SkmRyI"
   },
   "outputs": [],
   "source": [
    "# Tensorboard logging\n",
    "from torch.utils.tensorboard import SummaryWriter\n",
    "# comment just adds this to the file-name (could also be empty)\n",
    "writer = SummaryWriter(comment=f\"{model.__class__.__name__}\")\n",
    "\n",
    "# ... later, after validation is done:\n",
    "writer.add_scalar('Loss/train', train_loss, epoch)\n",
    "writer.add_scalar('Loss/val', val_loss, epoch)"
   ]
  }
 ],
 "metadata": {
  "accelerator": "GPU",
  "colab": {
   "collapsed_sections": [
    "oLSMwg84dHjf"
   ],
   "name": "Coding AI - Intro to PyTorch.ipynb",
   "provenance": []
  },
  "kernelspec": {
   "display_name": "Python 3",
   "language": "python",
   "name": "python3"
  },
  "language_info": {
   "codemirror_mode": {
    "name": "ipython",
    "version": 3
   },
   "file_extension": ".py",
   "mimetype": "text/x-python",
   "name": "python",
   "nbconvert_exporter": "python",
   "pygments_lexer": "ipython3",
   "version": "3.7.6"
  },
  "widgets": {
   "application/vnd.jupyter.widget-state+json": {
    "0dd86dd95391400688c045053a490298": {
     "model_module": "@jupyter-widgets/controls",
     "model_name": "ProgressStyleModel",
     "state": {
      "_model_module": "@jupyter-widgets/controls",
      "_model_module_version": "1.5.0",
      "_model_name": "ProgressStyleModel",
      "_view_count": null,
      "_view_module": "@jupyter-widgets/base",
      "_view_module_version": "1.2.0",
      "_view_name": "StyleView",
      "bar_color": null,
      "description_width": "initial"
     }
    },
    "15c4fb53bd464620ae57fb8364f1827d": {
     "model_module": "@jupyter-widgets/controls",
     "model_name": "ProgressStyleModel",
     "state": {
      "_model_module": "@jupyter-widgets/controls",
      "_model_module_version": "1.5.0",
      "_model_name": "ProgressStyleModel",
      "_view_count": null,
      "_view_module": "@jupyter-widgets/base",
      "_view_module_version": "1.2.0",
      "_view_name": "StyleView",
      "bar_color": null,
      "description_width": "initial"
     }
    },
    "16d85a8f64c44227b8f4b6cd1964a3fd": {
     "model_module": "@jupyter-widgets/controls",
     "model_name": "FloatProgressModel",
     "state": {
      "_dom_classes": [],
      "_model_module": "@jupyter-widgets/controls",
      "_model_module_version": "1.5.0",
      "_model_name": "FloatProgressModel",
      "_view_count": null,
      "_view_module": "@jupyter-widgets/controls",
      "_view_module_version": "1.5.0",
      "_view_name": "ProgressView",
      "bar_style": "success",
      "description": "",
      "description_tooltip": null,
      "layout": "IPY_MODEL_9587989634c44eb79c032c2c5e3094a9",
      "max": 1,
      "min": 0,
      "orientation": "horizontal",
      "style": "IPY_MODEL_7f1530927b904f368d7a4f80300f2585",
      "value": 1
     }
    },
    "19487ec826fe47fabe6b7f8144a51b5f": {
     "model_module": "@jupyter-widgets/controls",
     "model_name": "HBoxModel",
     "state": {
      "_dom_classes": [],
      "_model_module": "@jupyter-widgets/controls",
      "_model_module_version": "1.5.0",
      "_model_name": "HBoxModel",
      "_view_count": null,
      "_view_module": "@jupyter-widgets/controls",
      "_view_module_version": "1.5.0",
      "_view_name": "HBoxView",
      "box_style": "",
      "children": [
       "IPY_MODEL_d77e26bf7735486d8f9e98d6fd4767b3",
       "IPY_MODEL_70f7690c748d4490919ec74762564abf"
      ],
      "layout": "IPY_MODEL_69a4fba0d0f848deb9460433866a0068"
     }
    },
    "19d876ff5cd94c4eb91cad451fbcab89": {
     "model_module": "@jupyter-widgets/base",
     "model_name": "LayoutModel",
     "state": {
      "_model_module": "@jupyter-widgets/base",
      "_model_module_version": "1.2.0",
      "_model_name": "LayoutModel",
      "_view_count": null,
      "_view_module": "@jupyter-widgets/base",
      "_view_module_version": "1.2.0",
      "_view_name": "LayoutView",
      "align_content": null,
      "align_items": null,
      "align_self": null,
      "border": null,
      "bottom": null,
      "display": null,
      "flex": null,
      "flex_flow": null,
      "grid_area": null,
      "grid_auto_columns": null,
      "grid_auto_flow": null,
      "grid_auto_rows": null,
      "grid_column": null,
      "grid_gap": null,
      "grid_row": null,
      "grid_template_areas": null,
      "grid_template_columns": null,
      "grid_template_rows": null,
      "height": null,
      "justify_content": null,
      "justify_items": null,
      "left": null,
      "margin": null,
      "max_height": null,
      "max_width": null,
      "min_height": null,
      "min_width": null,
      "object_fit": null,
      "object_position": null,
      "order": null,
      "overflow": null,
      "overflow_x": null,
      "overflow_y": null,
      "padding": null,
      "right": null,
      "top": null,
      "visibility": null,
      "width": null
     }
    },
    "2a34f3ea91df42be9c69fa85b647b360": {
     "model_module": "@jupyter-widgets/base",
     "model_name": "LayoutModel",
     "state": {
      "_model_module": "@jupyter-widgets/base",
      "_model_module_version": "1.2.0",
      "_model_name": "LayoutModel",
      "_view_count": null,
      "_view_module": "@jupyter-widgets/base",
      "_view_module_version": "1.2.0",
      "_view_name": "LayoutView",
      "align_content": null,
      "align_items": null,
      "align_self": null,
      "border": null,
      "bottom": null,
      "display": null,
      "flex": null,
      "flex_flow": null,
      "grid_area": null,
      "grid_auto_columns": null,
      "grid_auto_flow": null,
      "grid_auto_rows": null,
      "grid_column": null,
      "grid_gap": null,
      "grid_row": null,
      "grid_template_areas": null,
      "grid_template_columns": null,
      "grid_template_rows": null,
      "height": null,
      "justify_content": null,
      "justify_items": null,
      "left": null,
      "margin": null,
      "max_height": null,
      "max_width": null,
      "min_height": null,
      "min_width": null,
      "object_fit": null,
      "object_position": null,
      "order": null,
      "overflow": null,
      "overflow_x": null,
      "overflow_y": null,
      "padding": null,
      "right": null,
      "top": null,
      "visibility": null,
      "width": null
     }
    },
    "2d6a5f0a211a43439d836df915725fd7": {
     "model_module": "@jupyter-widgets/base",
     "model_name": "LayoutModel",
     "state": {
      "_model_module": "@jupyter-widgets/base",
      "_model_module_version": "1.2.0",
      "_model_name": "LayoutModel",
      "_view_count": null,
      "_view_module": "@jupyter-widgets/base",
      "_view_module_version": "1.2.0",
      "_view_name": "LayoutView",
      "align_content": null,
      "align_items": null,
      "align_self": null,
      "border": null,
      "bottom": null,
      "display": null,
      "flex": null,
      "flex_flow": null,
      "grid_area": null,
      "grid_auto_columns": null,
      "grid_auto_flow": null,
      "grid_auto_rows": null,
      "grid_column": null,
      "grid_gap": null,
      "grid_row": null,
      "grid_template_areas": null,
      "grid_template_columns": null,
      "grid_template_rows": null,
      "height": null,
      "justify_content": null,
      "justify_items": null,
      "left": null,
      "margin": null,
      "max_height": null,
      "max_width": null,
      "min_height": null,
      "min_width": null,
      "object_fit": null,
      "object_position": null,
      "order": null,
      "overflow": null,
      "overflow_x": null,
      "overflow_y": null,
      "padding": null,
      "right": null,
      "top": null,
      "visibility": null,
      "width": null
     }
    },
    "2fa6b830b9984fae9c16a614f26cddd9": {
     "model_module": "@jupyter-widgets/controls",
     "model_name": "FloatProgressModel",
     "state": {
      "_dom_classes": [],
      "_model_module": "@jupyter-widgets/controls",
      "_model_module_version": "1.5.0",
      "_model_name": "FloatProgressModel",
      "_view_count": null,
      "_view_module": "@jupyter-widgets/controls",
      "_view_module_version": "1.5.0",
      "_view_name": "ProgressView",
      "bar_style": "success",
      "description": "",
      "description_tooltip": null,
      "layout": "IPY_MODEL_c05bfa5bcba8473fa4b6e5de66e6906e",
      "max": 1,
      "min": 0,
      "orientation": "horizontal",
      "style": "IPY_MODEL_db0cf23e48dd4314b508c9cf93a48f93",
      "value": 1
     }
    },
    "3716a81c01464ca583d38671b1d609bd": {
     "model_module": "@jupyter-widgets/controls",
     "model_name": "DescriptionStyleModel",
     "state": {
      "_model_module": "@jupyter-widgets/controls",
      "_model_module_version": "1.5.0",
      "_model_name": "DescriptionStyleModel",
      "_view_count": null,
      "_view_module": "@jupyter-widgets/base",
      "_view_module_version": "1.2.0",
      "_view_name": "StyleView",
      "description_width": ""
     }
    },
    "42813902923a4c62a45ce0951a48115f": {
     "model_module": "@jupyter-widgets/controls",
     "model_name": "DescriptionStyleModel",
     "state": {
      "_model_module": "@jupyter-widgets/controls",
      "_model_module_version": "1.5.0",
      "_model_name": "DescriptionStyleModel",
      "_view_count": null,
      "_view_module": "@jupyter-widgets/base",
      "_view_module_version": "1.2.0",
      "_view_name": "StyleView",
      "description_width": ""
     }
    },
    "4694c9dac44b4fae9924eeb23c2cd5a5": {
     "model_module": "@jupyter-widgets/controls",
     "model_name": "DescriptionStyleModel",
     "state": {
      "_model_module": "@jupyter-widgets/controls",
      "_model_module_version": "1.5.0",
      "_model_name": "DescriptionStyleModel",
      "_view_count": null,
      "_view_module": "@jupyter-widgets/base",
      "_view_module_version": "1.2.0",
      "_view_name": "StyleView",
      "description_width": ""
     }
    },
    "482d997d899048e482e16ef87b28a1f7": {
     "model_module": "@jupyter-widgets/controls",
     "model_name": "DescriptionStyleModel",
     "state": {
      "_model_module": "@jupyter-widgets/controls",
      "_model_module_version": "1.5.0",
      "_model_name": "DescriptionStyleModel",
      "_view_count": null,
      "_view_module": "@jupyter-widgets/base",
      "_view_module_version": "1.2.0",
      "_view_name": "StyleView",
      "description_width": ""
     }
    },
    "5d51c0242e7b4831aea8d728ef413fc5": {
     "model_module": "@jupyter-widgets/base",
     "model_name": "LayoutModel",
     "state": {
      "_model_module": "@jupyter-widgets/base",
      "_model_module_version": "1.2.0",
      "_model_name": "LayoutModel",
      "_view_count": null,
      "_view_module": "@jupyter-widgets/base",
      "_view_module_version": "1.2.0",
      "_view_name": "LayoutView",
      "align_content": null,
      "align_items": null,
      "align_self": null,
      "border": null,
      "bottom": null,
      "display": null,
      "flex": null,
      "flex_flow": null,
      "grid_area": null,
      "grid_auto_columns": null,
      "grid_auto_flow": null,
      "grid_auto_rows": null,
      "grid_column": null,
      "grid_gap": null,
      "grid_row": null,
      "grid_template_areas": null,
      "grid_template_columns": null,
      "grid_template_rows": null,
      "height": null,
      "justify_content": null,
      "justify_items": null,
      "left": null,
      "margin": null,
      "max_height": null,
      "max_width": null,
      "min_height": null,
      "min_width": null,
      "object_fit": null,
      "object_position": null,
      "order": null,
      "overflow": null,
      "overflow_x": null,
      "overflow_y": null,
      "padding": null,
      "right": null,
      "top": null,
      "visibility": null,
      "width": null
     }
    },
    "69a4fba0d0f848deb9460433866a0068": {
     "model_module": "@jupyter-widgets/base",
     "model_name": "LayoutModel",
     "state": {
      "_model_module": "@jupyter-widgets/base",
      "_model_module_version": "1.2.0",
      "_model_name": "LayoutModel",
      "_view_count": null,
      "_view_module": "@jupyter-widgets/base",
      "_view_module_version": "1.2.0",
      "_view_name": "LayoutView",
      "align_content": null,
      "align_items": null,
      "align_self": null,
      "border": null,
      "bottom": null,
      "display": null,
      "flex": null,
      "flex_flow": null,
      "grid_area": null,
      "grid_auto_columns": null,
      "grid_auto_flow": null,
      "grid_auto_rows": null,
      "grid_column": null,
      "grid_gap": null,
      "grid_row": null,
      "grid_template_areas": null,
      "grid_template_columns": null,
      "grid_template_rows": null,
      "height": null,
      "justify_content": null,
      "justify_items": null,
      "left": null,
      "margin": null,
      "max_height": null,
      "max_width": null,
      "min_height": null,
      "min_width": null,
      "object_fit": null,
      "object_position": null,
      "order": null,
      "overflow": null,
      "overflow_x": null,
      "overflow_y": null,
      "padding": null,
      "right": null,
      "top": null,
      "visibility": null,
      "width": null
     }
    },
    "70f7690c748d4490919ec74762564abf": {
     "model_module": "@jupyter-widgets/controls",
     "model_name": "HTMLModel",
     "state": {
      "_dom_classes": [],
      "_model_module": "@jupyter-widgets/controls",
      "_model_module_version": "1.5.0",
      "_model_name": "HTMLModel",
      "_view_count": null,
      "_view_module": "@jupyter-widgets/controls",
      "_view_module_version": "1.5.0",
      "_view_name": "HTMLView",
      "description": "",
      "description_tooltip": null,
      "layout": "IPY_MODEL_e50639e2d71a4c63b7ff670bb77c02a6",
      "placeholder": "​",
      "style": "IPY_MODEL_4694c9dac44b4fae9924eeb23c2cd5a5",
      "value": " 1654784/? [00:02&lt;00:00, 644371.74it/s]"
     }
    },
    "7f1530927b904f368d7a4f80300f2585": {
     "model_module": "@jupyter-widgets/controls",
     "model_name": "ProgressStyleModel",
     "state": {
      "_model_module": "@jupyter-widgets/controls",
      "_model_module_version": "1.5.0",
      "_model_name": "ProgressStyleModel",
      "_view_count": null,
      "_view_module": "@jupyter-widgets/base",
      "_view_module_version": "1.2.0",
      "_view_name": "StyleView",
      "bar_color": null,
      "description_width": "initial"
     }
    },
    "9587989634c44eb79c032c2c5e3094a9": {
     "model_module": "@jupyter-widgets/base",
     "model_name": "LayoutModel",
     "state": {
      "_model_module": "@jupyter-widgets/base",
      "_model_module_version": "1.2.0",
      "_model_name": "LayoutModel",
      "_view_count": null,
      "_view_module": "@jupyter-widgets/base",
      "_view_module_version": "1.2.0",
      "_view_name": "LayoutView",
      "align_content": null,
      "align_items": null,
      "align_self": null,
      "border": null,
      "bottom": null,
      "display": null,
      "flex": null,
      "flex_flow": null,
      "grid_area": null,
      "grid_auto_columns": null,
      "grid_auto_flow": null,
      "grid_auto_rows": null,
      "grid_column": null,
      "grid_gap": null,
      "grid_row": null,
      "grid_template_areas": null,
      "grid_template_columns": null,
      "grid_template_rows": null,
      "height": null,
      "justify_content": null,
      "justify_items": null,
      "left": null,
      "margin": null,
      "max_height": null,
      "max_width": null,
      "min_height": null,
      "min_width": null,
      "object_fit": null,
      "object_position": null,
      "order": null,
      "overflow": null,
      "overflow_x": null,
      "overflow_y": null,
      "padding": null,
      "right": null,
      "top": null,
      "visibility": null,
      "width": null
     }
    },
    "ab48bf52df5d4a58852020bbcafba576": {
     "model_module": "@jupyter-widgets/base",
     "model_name": "LayoutModel",
     "state": {
      "_model_module": "@jupyter-widgets/base",
      "_model_module_version": "1.2.0",
      "_model_name": "LayoutModel",
      "_view_count": null,
      "_view_module": "@jupyter-widgets/base",
      "_view_module_version": "1.2.0",
      "_view_name": "LayoutView",
      "align_content": null,
      "align_items": null,
      "align_self": null,
      "border": null,
      "bottom": null,
      "display": null,
      "flex": null,
      "flex_flow": null,
      "grid_area": null,
      "grid_auto_columns": null,
      "grid_auto_flow": null,
      "grid_auto_rows": null,
      "grid_column": null,
      "grid_gap": null,
      "grid_row": null,
      "grid_template_areas": null,
      "grid_template_columns": null,
      "grid_template_rows": null,
      "height": null,
      "justify_content": null,
      "justify_items": null,
      "left": null,
      "margin": null,
      "max_height": null,
      "max_width": null,
      "min_height": null,
      "min_width": null,
      "object_fit": null,
      "object_position": null,
      "order": null,
      "overflow": null,
      "overflow_x": null,
      "overflow_y": null,
      "padding": null,
      "right": null,
      "top": null,
      "visibility": null,
      "width": null
     }
    },
    "ae76d31af80547c89bbf44627679140f": {
     "model_module": "@jupyter-widgets/controls",
     "model_name": "HTMLModel",
     "state": {
      "_dom_classes": [],
      "_model_module": "@jupyter-widgets/controls",
      "_model_module_version": "1.5.0",
      "_model_name": "HTMLModel",
      "_view_count": null,
      "_view_module": "@jupyter-widgets/controls",
      "_view_module_version": "1.5.0",
      "_view_name": "HTMLView",
      "description": "",
      "description_tooltip": null,
      "layout": "IPY_MODEL_ab48bf52df5d4a58852020bbcafba576",
      "placeholder": "​",
      "style": "IPY_MODEL_482d997d899048e482e16ef87b28a1f7",
      "value": " 8192/? [00:00&lt;00:00, 12699.28it/s]"
     }
    },
    "bce9ee93a9a541ccb24f1bc3cae7c7d5": {
     "model_module": "@jupyter-widgets/controls",
     "model_name": "HBoxModel",
     "state": {
      "_dom_classes": [],
      "_model_module": "@jupyter-widgets/controls",
      "_model_module_version": "1.5.0",
      "_model_name": "HBoxModel",
      "_view_count": null,
      "_view_module": "@jupyter-widgets/controls",
      "_view_module_version": "1.5.0",
      "_view_name": "HBoxView",
      "box_style": "",
      "children": [
       "IPY_MODEL_f2727c5018dc4046be30fddd29ed8f6d",
       "IPY_MODEL_d42da3bf9f5343fb8b8cd0f69e549343"
      ],
      "layout": "IPY_MODEL_ed6a2ac956844b84be421b2916054130"
     }
    },
    "c05bfa5bcba8473fa4b6e5de66e6906e": {
     "model_module": "@jupyter-widgets/base",
     "model_name": "LayoutModel",
     "state": {
      "_model_module": "@jupyter-widgets/base",
      "_model_module_version": "1.2.0",
      "_model_name": "LayoutModel",
      "_view_count": null,
      "_view_module": "@jupyter-widgets/base",
      "_view_module_version": "1.2.0",
      "_view_name": "LayoutView",
      "align_content": null,
      "align_items": null,
      "align_self": null,
      "border": null,
      "bottom": null,
      "display": null,
      "flex": null,
      "flex_flow": null,
      "grid_area": null,
      "grid_auto_columns": null,
      "grid_auto_flow": null,
      "grid_auto_rows": null,
      "grid_column": null,
      "grid_gap": null,
      "grid_row": null,
      "grid_template_areas": null,
      "grid_template_columns": null,
      "grid_template_rows": null,
      "height": null,
      "justify_content": null,
      "justify_items": null,
      "left": null,
      "margin": null,
      "max_height": null,
      "max_width": null,
      "min_height": null,
      "min_width": null,
      "object_fit": null,
      "object_position": null,
      "order": null,
      "overflow": null,
      "overflow_x": null,
      "overflow_y": null,
      "padding": null,
      "right": null,
      "top": null,
      "visibility": null,
      "width": null
     }
    },
    "c6507988cb6b43a1ab26862b1879315c": {
     "model_module": "@jupyter-widgets/controls",
     "model_name": "HBoxModel",
     "state": {
      "_dom_classes": [],
      "_model_module": "@jupyter-widgets/controls",
      "_model_module_version": "1.5.0",
      "_model_name": "HBoxModel",
      "_view_count": null,
      "_view_module": "@jupyter-widgets/controls",
      "_view_module_version": "1.5.0",
      "_view_name": "HBoxView",
      "box_style": "",
      "children": [
       "IPY_MODEL_16d85a8f64c44227b8f4b6cd1964a3fd",
       "IPY_MODEL_d3f3523b8b0643818c978fe19bb9367f"
      ],
      "layout": "IPY_MODEL_19d876ff5cd94c4eb91cad451fbcab89"
     }
    },
    "d2fc850d9b1f42f08c650bb86b5f0186": {
     "model_module": "@jupyter-widgets/base",
     "model_name": "LayoutModel",
     "state": {
      "_model_module": "@jupyter-widgets/base",
      "_model_module_version": "1.2.0",
      "_model_name": "LayoutModel",
      "_view_count": null,
      "_view_module": "@jupyter-widgets/base",
      "_view_module_version": "1.2.0",
      "_view_name": "LayoutView",
      "align_content": null,
      "align_items": null,
      "align_self": null,
      "border": null,
      "bottom": null,
      "display": null,
      "flex": null,
      "flex_flow": null,
      "grid_area": null,
      "grid_auto_columns": null,
      "grid_auto_flow": null,
      "grid_auto_rows": null,
      "grid_column": null,
      "grid_gap": null,
      "grid_row": null,
      "grid_template_areas": null,
      "grid_template_columns": null,
      "grid_template_rows": null,
      "height": null,
      "justify_content": null,
      "justify_items": null,
      "left": null,
      "margin": null,
      "max_height": null,
      "max_width": null,
      "min_height": null,
      "min_width": null,
      "object_fit": null,
      "object_position": null,
      "order": null,
      "overflow": null,
      "overflow_x": null,
      "overflow_y": null,
      "padding": null,
      "right": null,
      "top": null,
      "visibility": null,
      "width": null
     }
    },
    "d3f3523b8b0643818c978fe19bb9367f": {
     "model_module": "@jupyter-widgets/controls",
     "model_name": "HTMLModel",
     "state": {
      "_dom_classes": [],
      "_model_module": "@jupyter-widgets/controls",
      "_model_module_version": "1.5.0",
      "_model_name": "HTMLModel",
      "_view_count": null,
      "_view_module": "@jupyter-widgets/controls",
      "_view_module_version": "1.5.0",
      "_view_name": "HTMLView",
      "description": "",
      "description_tooltip": null,
      "layout": "IPY_MODEL_5d51c0242e7b4831aea8d728ef413fc5",
      "placeholder": "​",
      "style": "IPY_MODEL_3716a81c01464ca583d38671b1d609bd",
      "value": " 9920512/? [00:03&lt;00:00, 3001761.70it/s]"
     }
    },
    "d42da3bf9f5343fb8b8cd0f69e549343": {
     "model_module": "@jupyter-widgets/controls",
     "model_name": "HTMLModel",
     "state": {
      "_dom_classes": [],
      "_model_module": "@jupyter-widgets/controls",
      "_model_module_version": "1.5.0",
      "_model_name": "HTMLModel",
      "_view_count": null,
      "_view_module": "@jupyter-widgets/controls",
      "_view_module_version": "1.5.0",
      "_view_name": "HTMLView",
      "description": "",
      "description_tooltip": null,
      "layout": "IPY_MODEL_d2fc850d9b1f42f08c650bb86b5f0186",
      "placeholder": "​",
      "style": "IPY_MODEL_42813902923a4c62a45ce0951a48115f",
      "value": " 32768/? [00:03&lt;00:00, 9785.32it/s]"
     }
    },
    "d77e26bf7735486d8f9e98d6fd4767b3": {
     "model_module": "@jupyter-widgets/controls",
     "model_name": "FloatProgressModel",
     "state": {
      "_dom_classes": [],
      "_model_module": "@jupyter-widgets/controls",
      "_model_module_version": "1.5.0",
      "_model_name": "FloatProgressModel",
      "_view_count": null,
      "_view_module": "@jupyter-widgets/controls",
      "_view_module_version": "1.5.0",
      "_view_name": "ProgressView",
      "bar_style": "success",
      "description": "",
      "description_tooltip": null,
      "layout": "IPY_MODEL_f0000848183d4bc1af345ff9db8050d0",
      "max": 1,
      "min": 0,
      "orientation": "horizontal",
      "style": "IPY_MODEL_15c4fb53bd464620ae57fb8364f1827d",
      "value": 1
     }
    },
    "db0cf23e48dd4314b508c9cf93a48f93": {
     "model_module": "@jupyter-widgets/controls",
     "model_name": "ProgressStyleModel",
     "state": {
      "_model_module": "@jupyter-widgets/controls",
      "_model_module_version": "1.5.0",
      "_model_name": "ProgressStyleModel",
      "_view_count": null,
      "_view_module": "@jupyter-widgets/base",
      "_view_module_version": "1.2.0",
      "_view_name": "StyleView",
      "bar_color": null,
      "description_width": "initial"
     }
    },
    "e50639e2d71a4c63b7ff670bb77c02a6": {
     "model_module": "@jupyter-widgets/base",
     "model_name": "LayoutModel",
     "state": {
      "_model_module": "@jupyter-widgets/base",
      "_model_module_version": "1.2.0",
      "_model_name": "LayoutModel",
      "_view_count": null,
      "_view_module": "@jupyter-widgets/base",
      "_view_module_version": "1.2.0",
      "_view_name": "LayoutView",
      "align_content": null,
      "align_items": null,
      "align_self": null,
      "border": null,
      "bottom": null,
      "display": null,
      "flex": null,
      "flex_flow": null,
      "grid_area": null,
      "grid_auto_columns": null,
      "grid_auto_flow": null,
      "grid_auto_rows": null,
      "grid_column": null,
      "grid_gap": null,
      "grid_row": null,
      "grid_template_areas": null,
      "grid_template_columns": null,
      "grid_template_rows": null,
      "height": null,
      "justify_content": null,
      "justify_items": null,
      "left": null,
      "margin": null,
      "max_height": null,
      "max_width": null,
      "min_height": null,
      "min_width": null,
      "object_fit": null,
      "object_position": null,
      "order": null,
      "overflow": null,
      "overflow_x": null,
      "overflow_y": null,
      "padding": null,
      "right": null,
      "top": null,
      "visibility": null,
      "width": null
     }
    },
    "ed6a2ac956844b84be421b2916054130": {
     "model_module": "@jupyter-widgets/base",
     "model_name": "LayoutModel",
     "state": {
      "_model_module": "@jupyter-widgets/base",
      "_model_module_version": "1.2.0",
      "_model_name": "LayoutModel",
      "_view_count": null,
      "_view_module": "@jupyter-widgets/base",
      "_view_module_version": "1.2.0",
      "_view_name": "LayoutView",
      "align_content": null,
      "align_items": null,
      "align_self": null,
      "border": null,
      "bottom": null,
      "display": null,
      "flex": null,
      "flex_flow": null,
      "grid_area": null,
      "grid_auto_columns": null,
      "grid_auto_flow": null,
      "grid_auto_rows": null,
      "grid_column": null,
      "grid_gap": null,
      "grid_row": null,
      "grid_template_areas": null,
      "grid_template_columns": null,
      "grid_template_rows": null,
      "height": null,
      "justify_content": null,
      "justify_items": null,
      "left": null,
      "margin": null,
      "max_height": null,
      "max_width": null,
      "min_height": null,
      "min_width": null,
      "object_fit": null,
      "object_position": null,
      "order": null,
      "overflow": null,
      "overflow_x": null,
      "overflow_y": null,
      "padding": null,
      "right": null,
      "top": null,
      "visibility": null,
      "width": null
     }
    },
    "ef0c31177f85449980a0e0348f987b0d": {
     "model_module": "@jupyter-widgets/controls",
     "model_name": "HBoxModel",
     "state": {
      "_dom_classes": [],
      "_model_module": "@jupyter-widgets/controls",
      "_model_module_version": "1.5.0",
      "_model_name": "HBoxModel",
      "_view_count": null,
      "_view_module": "@jupyter-widgets/controls",
      "_view_module_version": "1.5.0",
      "_view_name": "HBoxView",
      "box_style": "",
      "children": [
       "IPY_MODEL_2fa6b830b9984fae9c16a614f26cddd9",
       "IPY_MODEL_ae76d31af80547c89bbf44627679140f"
      ],
      "layout": "IPY_MODEL_2a34f3ea91df42be9c69fa85b647b360"
     }
    },
    "f0000848183d4bc1af345ff9db8050d0": {
     "model_module": "@jupyter-widgets/base",
     "model_name": "LayoutModel",
     "state": {
      "_model_module": "@jupyter-widgets/base",
      "_model_module_version": "1.2.0",
      "_model_name": "LayoutModel",
      "_view_count": null,
      "_view_module": "@jupyter-widgets/base",
      "_view_module_version": "1.2.0",
      "_view_name": "LayoutView",
      "align_content": null,
      "align_items": null,
      "align_self": null,
      "border": null,
      "bottom": null,
      "display": null,
      "flex": null,
      "flex_flow": null,
      "grid_area": null,
      "grid_auto_columns": null,
      "grid_auto_flow": null,
      "grid_auto_rows": null,
      "grid_column": null,
      "grid_gap": null,
      "grid_row": null,
      "grid_template_areas": null,
      "grid_template_columns": null,
      "grid_template_rows": null,
      "height": null,
      "justify_content": null,
      "justify_items": null,
      "left": null,
      "margin": null,
      "max_height": null,
      "max_width": null,
      "min_height": null,
      "min_width": null,
      "object_fit": null,
      "object_position": null,
      "order": null,
      "overflow": null,
      "overflow_x": null,
      "overflow_y": null,
      "padding": null,
      "right": null,
      "top": null,
      "visibility": null,
      "width": null
     }
    },
    "f2727c5018dc4046be30fddd29ed8f6d": {
     "model_module": "@jupyter-widgets/controls",
     "model_name": "FloatProgressModel",
     "state": {
      "_dom_classes": [],
      "_model_module": "@jupyter-widgets/controls",
      "_model_module_version": "1.5.0",
      "_model_name": "FloatProgressModel",
      "_view_count": null,
      "_view_module": "@jupyter-widgets/controls",
      "_view_module_version": "1.5.0",
      "_view_name": "ProgressView",
      "bar_style": "success",
      "description": "",
      "description_tooltip": null,
      "layout": "IPY_MODEL_2d6a5f0a211a43439d836df915725fd7",
      "max": 1,
      "min": 0,
      "orientation": "horizontal",
      "style": "IPY_MODEL_0dd86dd95391400688c045053a490298",
      "value": 1
     }
    }
   }
  }
 },
 "nbformat": 4,
 "nbformat_minor": 1
}
