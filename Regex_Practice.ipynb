{
  "cells": [
    {
      "cell_type": "markdown",
      "metadata": {
        "id": "view-in-github",
        "colab_type": "text"
      },
      "source": [
        "<a href=\"https://colab.research.google.com/github/sudimuk2017/AI-for-people-Workshop/blob/master/Regex_Practice.ipynb\" target=\"_parent\"><img src=\"https://colab.research.google.com/assets/colab-badge.svg\" alt=\"Open In Colab\"/></a>"
      ]
    },
    {
      "cell_type": "markdown",
      "id": "1fdee6ca",
      "metadata": {
        "id": "1fdee6ca"
      },
      "source": [
        "# Regular Expressions (Regex)\n"
      ]
    },
    {
      "cell_type": "markdown",
      "id": "b253b55f",
      "metadata": {
        "id": "b253b55f"
      },
      "source": [
        "### Table of contents\n",
        "\n",
        "[Libraries and Text](#libraries)\n",
        "\n",
        "[1. Definition](#Definition)\n",
        "\n",
        "[2. Characters](#Characters)\n",
        "  * [A. Literal Characters](#literal)\n",
        "\n",
        "  * [B. Metacharacters](#meta)\n",
        "\n",
        "[3. Character Sets](#sets)\n",
        "  * [A. Define a character set](#defSet)\n",
        "\n",
        "  * [B. Character Ranges](#ranges)\n",
        "  \n",
        "  * [C. Negative Character Sets](#negSet)\n",
        "  \n",
        "  * [D. Metacharacters inside characters sets](#metInSet)\n",
        "  \n",
        "  * [E. Shorthand character sets](#short)\n",
        "\n",
        "[4. Repetition](#Repetition)\n",
        "  * [A. Repetition metacharacters](#RepMeta)\n",
        "  \n",
        "  * [B. Quantified Repetition](#quantRep)\n",
        "\n",
        "  * [C. Greedy Vs Lazy Expressions](#greedy)\n",
        "  \n",
        "  * [D. Cleaning Quality Issues](#quality)\n",
        "  \n",
        "[5. Grouping and Alternation](#Grouping)\n",
        "  * [A. Grouping metacharacters](#Groupmeta)\n",
        "  \n",
        "  * [B. Alternation metacharacters](#Alternation)\n",
        "  \n",
        "[6. Anchors](#Anchors)\n",
        "  * [A. Start and end anchors](#StartAndEnd)\n",
        "  \n",
        "  * [B. Line breaks and multiline mode](#Linebreaks)\n",
        "  \n",
        "  * [C. Word Boundaries](#boundaries)\n"
      ]
    },
    {
      "cell_type": "markdown",
      "id": "c26697aa",
      "metadata": {
        "id": "c26697aa"
      },
      "source": [
        "<a id='libraries'></a>\n",
        "\n",
        "## Libraries and Text\n",
        "A regular expression is a sequence of characters that specifies a search pattern in text. Usually such patterns are used by string-searching algorithms for \"find\" or \"find and replace\" operations on strings, or for input validation. [Wikipedia](https://en.wikipedia.org/wiki/Regular_expression)"
      ]
    },
    {
      "cell_type": "code",
      "execution_count": null,
      "id": "440c5a1b",
      "metadata": {
        "id": "440c5a1b"
      },
      "outputs": [],
      "source": [
        "import pandas as pd\n",
        "import re"
      ]
    },
    {
      "cell_type": "code",
      "execution_count": null,
      "id": "648206ed",
      "metadata": {
        "id": "648206ed"
      },
      "outputs": [],
      "source": [
        "# This will be used for quizzes\n",
        "txt = '''Self-Reliance\n",
        "By Ralph Waldo Emerson, 1841\n",
        "\n",
        "\"Ne te quaesiveris extra.\"\n",
        "\n",
        "\"Man is his own star; and the soul that can\n",
        "Render an honest and a perfect man,\n",
        "Commands all light, all influence, all fate;\n",
        "Nothing to him falls early or too late.\n",
        "Our acts our angels are, or good or ill,\n",
        "Our fatal shadows that walk by us still.\"\n",
        "— Epilogue to Beaumont and Fletcher's Honest Man's Fortune.\n",
        "\n",
        "Cast the bantling on the rocks,\n",
        "Suckle him with the she-wolf's teat,\n",
        "Wintered with the hawk and fox,\n",
        "Power and speed be hands and feet.\n",
        "\n",
        "I read the other day some verses written by an eminent painter which were original and not conventional. Always the soul hears an admonition in such lines, let the subject be what it may. The sentiment they instill is of more value than any thought they may contain. To believe your own thought, to believe that what is true for you in your private heart is true for all men,-that is genius. Speak your latent conviction, and it shall be the universal sense; for always the inmost becomes the outmost—and our first thought is rendered back to us by the trumpets of the Last Judgment. Familiar as the voice of the mind is to each, the highest merit we ascribe to Moses, Plato and Milton is that they set at naught books and traditions, and spoke not what men, but what they thought. A man should learn to detect and watch that gleam of light which flashes across his mind from within, more than the lustre of the firmament of bards and sages. Yet he dismisses without notice his thought, because it is his. In every work of genius we recognize our own rejected thoughts; they come back to us with a certain alienated majesty. Great works of art have no more affecting lesson for us than this. They teach us to abide by our spontaneous impression with good-humored inflexibility then most when the whole cry of voices is on the other side. Else to-morrow a stranger will say with masterly good sense precisely what we have thought and felt all the time, and we shall be forced to take with shame our own opinion from another.\n",
        "\n",
        "There is a time in every man's education when he arrives at the conviction that envy is ignorance; that imitation is suicide; that he must take himself for better for worse as his portion; that though the wide universe is full of good, no kernel of nourishing corn can come to him but through his toil bestowed on that plot of ground which is given to him to till. The power which resides in him is new in nature, and none but he knows what that is which he can do, nor does he know until he has tried. Not for nothing one face, one character, one fact, makes much impression on him, and another none. It is not without preestablished harmony, this sculpture in the memory. The eye was placed where one ray should fall, that it might testify of that particular ray. Bravely let him speak the utmost syllable of his confession. We but half express ourselves, and are ashamed of that divine idea which each of us represents. It may be safely trusted as proportionate and of good issues, so it be faithfully imparted, but God will not have his work made manifest by cowards. It needs a divine man to exhibit anything divine. A man is relieved and gay when he has put his heart into his work and done his best; but what he has said or done otherwise shall give him no peace. It is a deliverance which does not deliver. In the attempt his genius deserts him; no muse befriends; no invention, no hope.\n",
        "\n",
        "Trust thyself: every heart vibrates to that iron string. Accept the place the divine providence has found for you, the society of your contemporaries, the connexion of events. Great men have always done so, and confided themselves childlike to the genius of their age, betraying their perception that the Eternal was stirring at their heart, working through their hands, predominating in all their being. And we are now men, and must accept in the highest mind the same transcendent destiny; and not pinched in a corner, not cowards fleeing before a revolution, but redeemers and benefactors, pious aspirants to be noble clay under the Almighty effort let us advance on Chaos and the Dark.\n",
        "\n",
        "What pretty oracles nature yields us on this text in the face and behavior of children, babes, and even brutes. That divided and rebel mind, that distrust of a sentiment because our arithmetic has computed the strength and means opposed to our purpose, these have not. Their mind being whole, their eye is as yet unconquered, and when we look in their faces, we are disconcerted. Infancy conforms to nobody; all conform to it; so that one babe commonly makes four or five out of the adults who prattle and play to it. So God has armed youth and puberty and manhood no less with its own piquancy and charm, and made it enviable and gracious and its claims not to be put by, it will stand by itself. Do not think the youth has no force, because he cannot speak to you and me. Hark! in the next room who spoke so clear and emphatic? It seems he knows how to speak to his contemporaries. Good Heaven! it is he! it is that very lump of bashfulness and phlegm which for weeks has done nothing but eat when you were by, and now rolls out these words like bellstrokes. It seems he knows how to speak to his contemporaries. Bashful or bold then, he will know how to make us seniors very unnecessary.\n",
        "\n",
        "The nonchalance of boys who are sure of a dinner, and would disdain as much as a lord to do or say aught to conciliate one, is the healthy attitude of human nature. How is a boy the master of society; independent, irresponsible, looking out from his corner on such people and facts as pass by, he tries and sentences them on their merits, in the swift, summary way of boys, as good, bad, interesting, silly, eloquent, troublesome. He cumbers himself never about consequences, about interests; he gives an independent, genuine verdict. You must court him; he does not court you. But the man is as it were clapped into jail by his consciousness. As soon as he has once acted or spoken with eclat he is a committed person, watched by the sympathy or the hatred of hundreds, whose affections must now enter into his account. There is no Lethe for this. Ah, that he could pass again into his neutral, godlike independence! Who can thus lose all pledge and, having observed, observe again from the same unaffected, unbiased, unbribable, unaffrighted innocence, must always be formidable, must always engage the poet's and the man's regards. Of such an immortal youth the force would be felt. He would utter opinions on all passing affairs, which being seen to be not private but necessary, would sink like darts into the ear of men and put them in fear.\n",
        "\n",
        "These are the voices which we hear in solitude, but they grow faint and inaudible as we enter into the world. Society everywhere is in conspiracy against the manhood of every one of its members. Society is a joint-stock company, in which the members agree, for the better securing of his bread to each shareholder, to surrender the liberty and culture of the eater. The virtue in most request is conformity. Self-reliance is its aversion. It loves not realities and creators, but names and customs.\n",
        "\n",
        "Whoso would be a man, must be a nonconformist. He who would gather immortal palms must not be hindered by the name of goodness, but must explore if it be goodness. Nothing is at last sacred but the integrity of our own mind. Absolve you to yourself, and you shall have the suffrage of the world. I remember an answer which when quite young I was prompted to make to a valued adviser who was wont to importune me with the dear old doctrines of the church. On my saying, What have I to do with the sacredness of traditions, if I live wholly from within? my friend suggested,—\"But these impulses may be from below, not from above.\" I replied, \"They do not seem to me to be such; but if I am the devil's child, I will live then from the devil.\" No law can be sacred to me but that of my nature. Good and bad are but names very readily transferable to that or this; the only right is what is after my constitution; the only wrong what is against it. A man is to carry himself in the presence of all opposition as if every thing were titular and ephemeral but he. I am ashamed to think how easily we capitulate to badges and names, to large societies and dead institutions. Every decent and well-spoken individual affects and sways me more than is right. I ought to go upright and vital, and speak the rude truth in all ways. If malice and vanity wear the coat of philanthropy, shall that pass? If an angry bigot assumes this bountiful cause of Abolition, and comes to me with his last news from Barbadoes, why should I not say to him, \"Go love thy infant; love thy wood-chopper; be good-natured and modest; have that grace; and never varnish your hard, uncharitable ambition with this incredible tenderness for black folk a thousand miles off. Thy love afar is spite at home.\" Rough and graceless would be such greeting, but truth is handsomer than the affectation of love. Your goodness must have some edge to it,—else it is none. The doctrine of hatred must be preached, as the counteraction of the doctrine of love, when that pules and whines. I shun father and mother and wife and brother when my genius calls me. I would write on the lintels of the doorpost, Whim. I hope it is somewhat better than whim at last, but we cannot spend the day in explanation. Expect me not to show cause why I seek or why I exclude company. Then, again, do not tell me, as a good man did today, of my obligation to put all poor men in good situations. Are they my poor? I tell thee, thou foolish philanthropist, that I grudge the dollar, the dime, the cent I give to such men as do not belong to me and to whom I do not belong. There is a class of persons to whom by all spiritual affinity I am bought and sold; for them I will go to prison if need be; but your miscellaneous popular charities; the education at college of fools; the building of meeting-houses to the vain end to which many now stand; alms to sots, and the thousand-fold Relief Societies;—though I confess with shame I sometimes succumb and give the dollar, it is a wicked dollar, which by-and-by I shall have the manhood to withhold.\n",
        "\n",
        "Virtues are, in the popular estimate, rather the exception than the rule. There is the man and his virtues. Men do what is called a good action, as some piece of courage or charity, much as they would pay a fine in expiation of daily non-appearance on parade. Their works are done as an apology or extenuation of their living in the world,—as invalids and the insane pay a high board. Their virtues are penances. I do not wish to expiate, but to live. My life is not an apology, but a life. It is for itself and not for a spectacle. I much prefer that it should be of a lower strain, so it be genuine and equal, than that it should be glittering and unsteady. I wish it to be sound and sweet, and not to need diet and bleeding. My life should be unique; it should be an alms, a battle, a conquest, a medicine. I ask primary evidence that you are a man, and refuse this appeal from the man to his actions. I know that for myself it makes no difference whether I do or forbear those actions which are reckoned excellent. I cannot consent to pay for a privilege where I have intrinsic right. Few and mean as my gifts may be, I actually am, and do not need for my own assurance or the assurance of my fellows any secondary testimony.\n",
        "\n",
        "What I must do is all that concerns me, not what the people think. This rule, equally arduous in actual and in intellectual life, may serve for the whole distinction between greatness and meanness. It is the harder because you will always find those who think they know what is your duty better than you know it. It is easy in the world to live after the world's opinion; it is easy in solitude to live after our own; but the great man is he who in the midst of the crowd keeps with perfect sweetness the independence of solitude.\n",
        "\n",
        "The objection to conforming to usages that have become dead to you is that it scatters your force. It loses your time and blurs the impression of your character. If you maintain a dead church, contribute to a dead Bible Society, vote with a great party either for the Government or against it, spread your table like base housekeepers,—under all these screens I have difficulty to detect the precise man you are. And of course so much force is withdrawn from your proper life. But do your thing, and I shall know you. Do your work, and you shall reinforce yourself. A man must consider what a blindman's-buff is this game of conformity. If I know your sect I anticipate your argument. I hear a preacher announce for his text and topic the expediency of one of the institutions of his church. Do I not know beforehand that not possibly can he say a new and spontaneous word? Do I not know that with all this ostentation of examining the grounds of the institution he will do no such thing? Do I not know that he is pledged to himself not to look but at one side, the permitted side, not as a man, but as a parish minister? He is a retained attorney, and these airs of the bench are the emptiest affectation. Well, most men have bound their eyes with one or another handkerchief, and attached themselves to some one of these communities of opinion. This conformity makes them not false in a few particulars, authors of a few lies, but false in all particulars. Their every truth is not quite true. Their two is not the real two, their four not the real four: so that every word they say chagrins us and we know not where to begin to set them right. Meantime nature is not slow to equip us in the prison-uniform of the party to which we adhere. We come to wear one cut of face and figure, and acquire by degrees the gentlest asinine expression. There is a mortifying experience in particular, which does not fail to wreak itself also in the general history; I mean \"the foolish face of praise,\" the forced smile which we put on in company where we do not feel at ease, in answer to conversation which does not interest us. The muscles, not spontaneously moved but moved by a low usurping wilfulness, grow tight about the outline of the face, and make the most disagreeable sensation; a sensation of rebuke and warning which no brave young man will suffer twice.\n",
        "\n",
        "For non-conformity the world whips you with its displeasure. And therefore a man must know how to estimate a sour face. The bystanders look askance on him in the public street or in the friend's parlor. If this aversation had its origin in contempt and resistance like his own he might well go home with a sad countenance; but the sour faces of the multitude, like their sweet faces, have no deep cause—disguise no god, but are put on and off as the wind blows and a newspaper directs. Yet is the discontent of the multitude more formidable than that of the senate and the college. It is easy enough for a firm man who knows the world to brook the rage of the cultivated classes. Their rage is decorous and prudent, for they are timid, as being very vulnerable themselves. But when to their feminine rage the indignation of the people is added, when the ignorant and the poor are aroused, when the unintelligent brute force that lies at the bottom of society is made to growl and mow, it needs the habit of magnanimity and religion to treat it godlike as a trifle of no concernment.\n",
        "\n",
        "The other terror that scares us from self-trust is our consistency; a reverence for our past act or word because the eyes of others have no other data for computing our orbit than our past acts, and we are loath to disappoint them.\n",
        "\n",
        "But why should you keep your head over your shoulder? Why drag about this monstrous corpse of your memory, lest you contradict somewhat you have stated in this or that public place? Suppose you should contradict yourself; what then? It seems to be a rule of wisdom never to rely on your memory alone, scarcely even in acts of pure memory, but to bring the past for judgment into the thousand eyed present, and live ever in a new day. Trust your emotion. In your metaphysics you have denied personality to the Deity, yet when the devout motions of the soul come, yield to them heart and life, though they should clothe God with shape and color. Leave your theory, as Joseph his coat in the hand of the harlot, and flee.\n",
        "\n",
        "A foolish consistency is the hobgoblin of little minds, adored by little statesmen and philosophers and divines. With consistency a great soul has simply nothing to do. He may as well concern himself with his shadow on the wall. Out upon your guarded lips! Sew them up with packthread, do. Else if you would be a man speak what you think to-day in words as hard as cannon balls, and to-morrow speak what to-morrow thinks in hard words again, though it contradict every thing you said to-day. Ah, then, exclaim the aged ladies, you shall be sure to be misunderstood! Misunderstood! It is a right fool's word. Is it so bad then to be misunderstood? Pythagoras was misunderstood, and Socrates, and Jesus, and Luther, and Copernicus, and Galileo, and Newton, and every pure and wise spirit that ever took flesh. To be great is to be misunderstood.\n",
        "\n",
        "I suppose no man can violate his nature. All the sallies of his will are rounded in by the law of his being, as the inequalities of Andes and Himmaleh are insignificant in the curve of the sphere. Nor does it matter how you gauge and try him. A character is like an acrostic or Alexandrian stanza;—read it forward, backward, or across, it still spells the same thing. In this pleasing contrite wood-life which God allows me, let me record day by day my honest thought without prospect or retrospect, and I cannot doubt, it will be found symmetrical, though I mean it not and see it not. My book should smell of pines and resound with the hum of insects. The swallow over my window should interweave that thread or straw he carries in his bill into my web also. We pass for what we are. Character teaches above our wills. Men imagine that they communicate their virtue or vice only by overt actions, and do not see that virtue or vice emit a breath every moment.\n",
        "\n",
        "Fear never but you shall be consistent in whatever variety of actions, so they be each honest and natural in their hour. For of one will, the actions will be harmonious, however unlike they seem. These varieties are lost sight of when seen at a little distance, at a little height of thought. One tendency unites them all. The voyage of the best ship is a zigzag line of a hundred tacks. This is only microscopic criticism. See the line from a sufficient distance, and it straightens itself to the average tendency. Your genuine action will explain itself and will explain your other genuine actions. Your conformity explains nothing. Act singly, and what you have already done singly will justify you now. Greatness always appeals to the future. If I can be great enough now to do right and scorn eyes, I must have done so much right before as to defend me now. Be it how it will, do right now. Always scorn appearances and you always may. The force of character is cumulative. All the foregone days of virtue work their health into this. What makes the majesty of the heroes of the senate and the field, which so fills the imagination? The consciousness of a train of great days and victories behind. There they all stand and shed an united light on the advancing actor. He is attended as by a visible escort of angels to every man's eye. That is it which throws thunder into Chatham's voice, and dignity into Washington's port, and America into Adam's eye. Honor is venerable to us because it is no ephemeris. It is always ancient virtue. We worship it to-day because it is not of to-day. We love it and pay it homage because it is not a trap for our love and homage, but is self-dependent, self-derived, and therefore of an old immaculate pedigree, even if shown in a young person.\n",
        "\n",
        "I hope in these days we have heard the last of conformity and consistency. Let the words be gazetted and ridiculous henceforward. Instead of the gong for dinner, let us hear a whistle from the Spartan fife. Let us bow and apologize never more. A great man is coming to eat at my house. I do not wish to please him: I wish that he should wish to please me. I will stand here for humanity, and though I would make it kind, I would make it true. Let us affront and reprimand the smooth mediocrity and squalid contentment of the times, and hurl in the face of custom and trade and office, the fact which is the upshot of all history, that there is a great responsible Thinker and Actor moving wherever moves a man; that a true man belongs to no other time or place, but is the centre of things. Where he is, there is nature. He measures you and all men and all events. You are constrained to accept his standard. Ordinarily, every body in society reminds us of somewhat else, or of some other person. Character, reality, reminds you of nothing else; it takes place of the whole creation. The man must be so much that he must make all circumstances indifferent—put all means into the shade. This all great men are and do. Every true man is a cause, a country, and an age; requires infinite spaces and numbers and time fully to accomplish his thought;—and posterity seem to follow his steps as a procession. A man Cæsar is born, and for ages after we have a Roman Empire. Christ is born, and millions of minds so grow and cleave to his genius that he is confounded with virtue and the possible of man. An institution is the lengthened shadow of one man; as, the Reformation, of Luther; Quakerism, of Fox; Methodism, of Wesley; Abolition, of Clarkson. Scipio, Milton called \"the height of Rome;\" and all history resolves itself very easily into the biography of a few stout and earnest persons.\n",
        "\n",
        "Let a man then know his worth, and keep things under his feet. Let him not peep or steal, or skulk up and down with the air of a charity-boy, a bastard, or an interloper in the world which exists for him. But the man in the street, finding no worth in himself which corresponds to the force which built a tower or sculptured a marble god, feels poor when he looks at these. To him a palace, a statue, or a costly book have an alien and forbidding air, much like a gay equipage, and seem to say like that, ‘Who are you, sir?' Yet they all are his, suitors for his notice, petitioners to his faculties that they will come out and take possession. The picture waits for my verdict; it is not to command me, but I am to settle its claim to praise. That popular fable of the sot who was picked up dead drunk in the street, carried to the duke's house, washed and dressed and laid in the duke's bed, and, on his waking, treated with all obsequious ceremony like the duke, and assured that he had been insane—owes its popularity to the fact that it symbolizes so well the state of man, who is in the world a sort of sot, but now and then wakes up, exercises his reason and finds himself a true prince.\n",
        "\n",
        "Our reading is mendicant and sycophantic. In history our imagination makes fools of us, plays us false. Kingdom and lordship, power and estate, are a gaudier vocabulary than private John and Edward in a small house and common day's work: but the things of life are the same to both: the sum total of both is the same. Why all this deference to Alfred and Scanderbeg and Gustavus? Suppose they were virtuous; did they wear out virtue? As great a stake depends on your private act to-day as followed their public and renowned steps. When private men shall act with original views, the lustre will be transferred from the actions of kings to those of gentlemen.\n",
        "\n",
        "The world has indeed been instructed by its kings, who have so magnetized the eyes of nations. It has been taught by this colossal symbol the mutual reverence that is due from man to man. The joyful loyalty with which men have everywhere suffered the king, the noble, or the great proprietor to walk among them by a law of his own, make his own scale of men and things and reverse theirs, pay for benefits not with money but with honor, and represent the Law in his person, was the hieroglyphic by which they obscurely signified their consciousness of their own right and comeliness, the right of every man.\n",
        "\n",
        "The magnetism which all original action exerts is explained when we inquire the reason of self-trust. Who is the Trustee? What is the aboriginal Self, on which a universal reliance may be grounded? What is the nature and power of that science-baffling star, without parallax, without calculable elements, which shoots a ray of beauty even into trivial and impure actions, if the least mark of independence appear? The inquiry leads us to that source, at once the essence of genius, the essence of virtue, and the essence of life, which we call Spontaneity or Instinct. We denote this primary wisdom as Intuition, whilst all later teachings are tuitions. In that deep force, the last fact behind which analysis cannot go, all things find their common origin. For the sense of being which in calm hours rises, we know not how, in the soul, is not diverse from things, from space from light, from time, from man, but one with them and proceedeth obviously from the same source whence their life and being also proceedeth. We first share the life by which things exist and afterwards see them as appearances in nature and forget that we have shared their cause. Here is the fountain of action and the fountain of thought. Here are the lungs of that inspiration which giveth man wisdom, of that inspiration of man which cannot be denied without impiety and atheism. We lie in the lap of immense intelligence, which makes us organs of its activity and receivers of its truth. When we discern justice, when we discern truth, we do nothing of ourselves, but allow a passage to its beams. If we ask whence this comes, if we seek to pry into the soul that causes—all metaphysics, all philosophy is at fault. Its presence or its absence is all we can affirm. Every man discerns between the voluntary acts of his mind and his involuntary perceptions. And to his involuntary perceptions he knows a perfect respect is due. He may err in the expression of them, but he knows that these things are so, like day and night, not to be disputed. All my wilful actions and acquisitions are but roving;—the most trivial reverie, the faintest native emotion, are domestic and divine. Thoughtless people contradict as readily the statement of perceptions as of opinions, or rather much more readily; for they do not distinguish between perception and notion. They fancy that I choose to see this or that thing. But perception is not whimsical, but fatal. If I see a trait, my children will see it after me, and in course of time all mankind,—although it may chance that no one has seen it before me. For my perception of it is as much a fact as the sun.\n",
        "\n",
        "The relations of the soul to the divine spirit are so pure that it is profane to seek to interpose helps. It must be that when God speaketh he should communicate, not one thing, but all things; should fill the world with his voice; should scatter forth light, nature, time, souls, from the centre of the present thought; and new date and new create the whole. Whenever a mind is simple and receives a divine wisdom, then old things pass away,—means, teachers, texts, temples fall; it lives now, and absorbs past and future into the present hour. All things are made sacred by relation to it,—one thing as much as another. All things are dissolved to their centre by their cause, and in the universal miracle petty and particular miracles disappear. This is and must be. If therefore a man claims to know and speak of God and carries you backward to the phraseology of some old mouldered nation in another country, in another world, believe him not. Is the acorn better than the oak which is its fulness and completion? Is the parent better than the child into whom he has cast his ripened being? Whence then this worship of the past? The centuries are conspirators against the sanity and majesty of the soul. Time and space are but physiological colors which the eye maketh, but the soul is light; where it is, is day; where it was, is night; and history is an impertinence and an injury if it be any thing more than a cheerful apologue or parable of my being and becoming.\n",
        "\n",
        "Man is timid and apologetic; he is no longer upright; he dares not say \"I think,\" \"I am,\" but quotes some saint or sage. He is ashamed before the blade of grass or the blowing rose. These roses under my window make no reference to former roses or to better ones; they are for what they are; they exist with God to-day. There is no time to them. There is simply the rose; it is perfect in every moment of its existence. Before a leaf-bud has burst, its whole life acts; in the fullblown flower there is no more; in the leafless root there is no less. Its nature is satisfied and it satisfies nature in all moments alike. There is no time to it. But man postpones or remembers; he does not live in the present, but with reverted eye laments the past, or, heedless of the riches that surround him, stands on tiptoe to foresee the future. He cannot be happy and strong until he too lives with nature in the present, above time.\n",
        "\n",
        "This should be plain enough. Yet see what strong intellects dare not yet hear God himself unless he speak the phraseology of I know not what David, or Jeremiah, or Paul. We shall not always set so great a price on a few texts, on a few lives. We are like children who repeat by rote the sentences of grandames and tutors, and, as they grow older, of the men of talents and character they chance to see,—painfully recollecting the exact words they spoke; afterwards, when they come into the point of view which those had who uttered these sayings, they understand them and are willing to let the words go; for at any time they can use words as good when occasion comes. So was it with us, so will it be, if we proceed. If we live truly, we shall see truly. It is as easy for the strong man to be strong, as it is for the weak to be weak. When we have new perception, we shall gladly disburthen the memory of its hoarded treasures as old rubbish. When a man lives with God, his voice shall be as sweet as the murmur of the brook and the rustle of the corn.\n",
        "\n",
        "And now at last the highest truth on this subject remains unsaid; probably cannot be said; for all that we say is the far off remembering of the intuition. That thought, by what I can now nearest approach to say it, is this. When good is near you, when you have life in yourself,—it is not by any known or appointed way; you shall not discern the footprints of any other; you shall not see the face of man; you shall not hear any name;—the way, the thought, the good, shall be wholly strange and new. It shall exclude all other being. You take the way from man, not to man. All persons that ever existed are its fugitive ministers. There shall be no fear in it. Fear and hope are alike beneath it. It asks nothing. There is somewhat low even in hope. We are then in vision. There is nothing that can be called gratitude, nor properly joy. The soul is raised over passion. It seeth identity and eternal causation. It is a perceiving that Truth and Right are. Hence it becomes a Tranquillity out of the knowing that all things go well. Vast spaces of nature; the Atlantic Ocean, the South Sea; vast intervals of time, years, centuries, are of no account. This which I think and feel underlay that former state of life and circumstances, as it does underlie my present and will always all circumstances, and what is called life and what is called death.\n",
        "\n",
        "Life only avails, not the having lived. Power ceases in the instant of repose; it resides in the moment of transition from a past to a new state, in the shooting of the gulf, in the darting to an aim. This one fact the world hates, that the soul becomes; for that forever degrades the past; turns all riches to poverty, all reputation to a shame; confounds the saint with the rogue; shoves Jesus and Judas equally aside. Why then do we prate of self-reliance? Inasmuch as the soul is present there will be power not confident but agent. To talk of reliance is a poor external way of speaking. Speak rather of that which relies because it works and is. Who has more soul than I masters me, though he should not raise his finger. Round him I must revolve by the gravitation of spirits. Who has less I rule with like facility. We fancy it rhetoric when we speak of eminent virtue. We do not yet see that virtue is Height, and that a man or a company of men, plastic and permeable to principles, by the law of nature must overpower and ride all cities, nations, kings, rich men, poets, who are not.\n",
        "\n",
        "This is the ultimate fact which we so quickly reach on this, as on every topic, the resolution of all into the ever-blessed ONE. Virtue is the governor, the creator, the reality. All things real are so by so much virtue as they contain. Hardship, husbandry, hunting, whaling, war, eloquence, personal weight, are somewhat, and engage my respect as examples of the soul's presence and impure action. I see the same law working in nature for conservation and growth. The poise of a planet, the bended tree recovering itself from the strong wind, the vital resources of every animal and vegetable, are also demonstrations of the self-sufficing and therefore self-relying soul. All history, from its highest to its trivial passages, is the various record of this power.\n",
        "\n",
        "Thus all concentrates; let us not rove; let us sit at home with the cause. Let us stun and astonish the intruding rabble of men and books and institutions by a simple declaration of the divine fact. Bid them take the shoes from off their feet, for God is here within. Let our simplicity judge them, and our docility to our own law demonstrate the poverty of nature and fortune beside our native riches.\n",
        "\n",
        "But now we are a mob. Man does not stand in awe of man, nor is the soul admonished to stay at home, to put itself in communication with the internal ocean, but it goes abroad to beg a cup of water of the urns of men. We must go alone. Isolation must precede true society. I like the silent church before the service begins, better than any preaching. How far off, how cool, how chaste the persons look, begirt each one with a precinct or sanctuary. Se let us always sit. Why should we assume the faults of our friend, or wife, or father, or child, because they sit around our hearth, or are said to have the same blood? All men have my blood and I have all men's. Not for that will I adopt their petulance or folly, even to the extent of being ashamed of it. But your isolation must not be mechanical, but spiritual, that is, must be elevation. At times the whole world seems to be in conspiracy to importune you with emphatic trifles. Friend, client, child, sickness, fear, want, charity, all knock at once at thy closet door and say, \"Come out unto us.\"—Do not spill thy soul; do not all descend; keep thy state; stay at home in thine own heaven; come not for a moment into their facts, into their hubbub of conflicting appearances, but let in the light of thy law on their confusion. The power men possess to annoy me I give them by a weak curiosity. No man can come near me but through my act. \"What we love that we have, but by desire we bereave ourselves of the love.\"\n",
        "\n",
        "If we cannot at once rise to the sanctities of obedience and faith, let us at least resist our temptations, let us enter into the state of war and wake Thor and Woden, courage and constancy, in our Saxon breasts. This is to be done in our smooth times by speaking the truth. Check this lying hospitality and lying affection. Live no longer to the expectation of these deceived and deceiving people with whom we converse. Say to them, O father, O mother, O wife, O brother, O friend, I have lived with you after appearances hitherto. Henceforward I am the truth's. Be it known unto you that henceforward I obey no law less than the eternal law. I will have no covenants but proximities. I shall endeavor to nourish my parents, to support my family, to be the chaste husband of one wife,—but these relations I must fill after a new and unprecedented way. I appeal from your customs. I must be myself. I cannot break myself any longer for you, or you. If you can love me for what I am, we shall be happier. If you cannot, I will still seek to deserve that you should. I must be myself. I will not hide my tastes or aversions. I will so trust that what is deep is holy, that I will do strongly before the sun and moon whatever inly rejoices me and the heart appoints. If you are noble, I will love you; if you are not, I will not hurt you and myself by hypocritical attentions. If you are true, but not in the same truth with me, cleave to your companions; I will seek my own. I do this not selfishly but humbly and truly. It is alike your interest, and mine, and all men's, however long we have dwelt in lies, to live in truth. Does this sound harsh to-day? You will soon love what is dictated by your nature as well as mine, and if we follow the truth it will bring us out safe at last.—But so may you give these friends pain. Yes, but I cannot sell my liberty and my power, to save their sensibility. Besides, all persons have their moments of reason, when they look out into the region of absolute truth; then will they justify me and do the same thing.\n",
        "\n",
        "The populace think that your rejection of popular standards is a rejection of all standard, and mere antinomianism; and the bold sensualist will use the name of philosophy to gild his crimes. But the law of consciousness abides. There are two confessionals, in one or the other of which we must be shriven. You may fulfil your round of duties by clearing yourself in the direct, or in the reflex way. Consider whether you have satisfied your relations to father, mother, cousin, neighbor, town, cat and dog; whether any of these can upbraid you. But I may also neglect this reflex standard and absolve me to myself. I have my own stern claims and perfect circle. It denies the name of duty to many offices that are called duties. But if I can discharge its debts it enables me to dispense with the popular code. If any one imagines that this law is lax, let him keep its commandment one day.\n",
        "\n",
        "And truly it demands something godlike in him who has cast off the common motives of humanity and has ventured to trust himself for a task-master. High be his heart, faithful his will, clear his sight, that he may in good earnest be doctrine, society, law, to himself, that a simple purpose may be to him as strong as iron necessity is to others.\n",
        "\n",
        "If any man consider the present aspects of what is called by distinction society, he will see the need of these ethics, The sinew and heart of man seem to be drawn out, and we are become timorous desponding whimperers. We are afraid of truth, afraid of fortune, afraid of death, and afraid of each other. Our age yields no great and perfect persons. We want men and women who shall renovate life and our social state, but we see that most natures are insolvent; cannot satisfy their own wants, have an ambition out of all proportion to their practical force, and so do lean and beg day and night continually. Our housekeeping is mendicant, our arts, our occupations, our marriages, our religion we have not chosen, but society has chosen for us. We are parlor soldiers. The rugged battle of fate, where strength is born, we shun.\n",
        "\n",
        "If our young men miscarry in their first enterprises they lose all heart. If the young merchant fails, men say he is ruined. If the finest genius studies at one of our colleges, and is not installed in an office within one year afterwards, in the cities or suburbs of Boston or New York, it seems to his friends and to himself that he is right in being disheartened and in complaining the rest of his life. A sturdy lad from New Hamsphire or Vermont, who in turn tries all the professions, who teams it, farms it, peddles, keeps a school, preaches, edits a newspaper, goes to Congress, buys a township, and so forth, in successive years, and always like a cat falls on his feet, is worth a hundred of these city dolls. He walks abreast with his days and feels no shame in not \"studying a profession,\" for he does not postpone his life, but lives already. He has not one chance, but a hundred chances. Let a stoic arise who shall reveal the resources of man and tell men they are not leaning willows, but can and must detach themselves; that with the exercise of self-trust, new powers shall appear; that a man is the word made flesh, born to shed healing to the nations, that he should be ashamed of our compassion, and that the moment he acts from himself, tossing the laws, the books, idolatries and customs out of the window,—we pity him no more but thank and revere him;—and that teacher shall restore the life of man to splendor and make his name dear to all History.\n",
        "\n",
        "It is easy to see that a greater self-reliance—a new respect for the divinity in man—must work a revolution in all the offices and relations of men; in their religion; in their education; in their pursuits; their modes of living; their association; in their property; in their speculative views.\n",
        "\n",
        "1. In what prayers do men allow themselves! That which they call a holy office is not so much as brave and manly. Prayer looks abroad and asks for some foreign addition to come through some foreign virtue, and loses itself in endless mazes of natural and supernatural, and mediatorial and miraculous. Prayer that craves a particular commodity—anything less than all good, is vicious. Prayer is the contemplation of the facts of life from the highest point of view. It is the soliloquy of a beholding and jubilant soul. It is the spirit of God pronouncing his works good. But prayer as a means to effect a private end is theft and meanness. It supposes dualism and not unity in nature and consciousness. As soon as the man is at one with God, he will not beg. He will then see prayer in all action. The prayer of the farmer kneeling in his field to weed it, the prayer of the rower kneeling with the stroke of his oar, are true prayers heard throughout nature, though for cheap ends. Caratach, in Fletcher's Bonduca, when admonished to inquire the mind of the god Audate, replies: \"His hidden meaning lies in our endeavors; Our valors are our best gods.\"\n",
        "\n",
        "Another sort of false prayers are our regrets. Discontent is the want of self-reliance: it is infirmity of will. Regret calamities if you can thereby help the sufferer; if not, attend your own work and already the evil begins to be repaired. Our sympathy is just as base. We come to them who weep foolishly and sit down and cry for company, instead of imparting to them truth and health in rough electric shocks, putting them once more in communication with the soul. The secret of fortune is joy in our hands. Welcome evermore to gods and men is the self-helping man. For him all doors are flung wide. Him all tongues greet, all honors crown, all eyes follow with desire. Our love goes out to him and embraces him because he did not need it. We solicitously and apologetically caress and celebrate him because he held on his way and scorned our disapprobation. The gods love him because men hated him. \"To the persevering mortal,\" said Zoroaster, \"the blessed Immortals are swift.\"\n",
        "\n",
        "As men's prayers are a disease of the will, so are their creeds a disease of the intellect. They say with those foolish Israelites, \"Let not God speak to us, lest we die. Speak thou, speak any man with us, and we will obey.\" Everywhere I am bereaved of meeting God in my brother, because he has shut his own temple doors and recites fables merely of his brother's, or his brother's brother's God. Every new mind is a new classification. If it prove a mind of uncommon activity and power, a Locke, a Lavoisier, a Hutton, a Bentham, a Spurzheim, it imposes its classification on other men, and lo! a new system. In proportion always to the depth of the thought, and so to the number of the objects it touches and brings within reach of the pupil, is his complacency. But chiefly is this apparent in creeds and churches, which are also classifications of some powerful mind acting on the great elemental thought of Duty and man's relation to the Highest. Such is Calvinism, Quakerism, Swedenborgianism. The pupil takes the same delight in subordinating every thing to the new terminology that a girl does who has just learned botany in seeing a new earth and new seasons thereby. It will happen for a time that the pupil will feel a real debt to the teacher—will find his intellectual power has grown by the study of his writings. This will continue until he has exhausted his master's mind. But in all unbalanced minds the classification is idolized, passes for the end and not for a speedily exhaustible means, so that the walls of the system blend to their eye in the remote horizon with the walls of the universe; the luminaries of heaven seem to them hung on the arch their master built. They cannot imagine how you aliens have any right to see—how you can see: \"It must be somehow that you stole the light from us.\" They do not yet perceive that light, unsystematic, indomitable, will break into any cabin, even into theirs. Let them chirp awhile and call it their own. If they are honest and do well, presently their neat new pinfold will be too strait and low, will crack, will lean, will rot and vanish, and the immortal light, all young and joyful, million-orbed, million-colored, will beam over the universe as on the first morning.\n",
        "\n",
        "2. It is for want of self-culture that the idol of Travelling, the idol of Italy, of England, of Egypt, remains for all educated Americans. They who made England, Italy, or Greece venerable in the imagination, did so not by rambling round creation as a moth round a lamp, but by sticking fast where they were, like an axis of the earth. In manly hours we feel that duty is our place and that the merry men of circumstance should follow as they may. The soul is no traveller: the wise man stays at home with the soul, and when his necessities, his duties, on any occasion call him from his house, or into foreign lands, he is at home still and is not gadding abroad from himself, and shall make men sensible by the expression of his countenance that he goes, the missionary of wisdom and virtue, and visits cities and men like a sovereign and not like an interloper or a valet.\n",
        "\n",
        "I have no churlish objection to the circumnavigation of the globe for the purposes of art, of study, and benevolence, so that the man is first domesticated, or does not go abroad with the hope of finding somewhat greater than he knows. He who travels to be amused or to get somewhat which he does not carry, travels away from himself, and grows old even in youth among old things. In Thebes, in Palmyra, his will and mind have become old and dilapidated as they. He carries ruins to ruins.\n",
        "\n",
        "Travelling is a fool's paradise. We owe to our first journeys the discovery that place is nothing. At home I dream that at Naples, at Rome, I can be intoxicated with beauty and lose my sadness. I pack my trunk, embrace my friends, embark on the sea and at last wake up in Naples, and there beside me is the stern Fact, the sad self, unrelenting, identical, that I fled from. I seek the Vatican and the palaces. I affect to be intoxicated with sights and suggestions, but I am not intoxicated. My giant goes with me wherever I go.\n",
        "\n",
        "3. But the rage of travelling is itself only a symptom of a deeper unsoundness affecting the whole intellectual action. The intellect is vagabond, and the universal system of education fosters restlessness. Our minds travel when our bodies are forced to stay at home. We imitate; and what is imitation but the travelling of the mind? Our houses are built with foreign taste; our shelves are garnished with foreign ornaments; our opinions, our tastes, our whole minds, lean, and follow the Past and the Distant, as the eyes of a maid follow her mistress. The soul created the arts wherever they have flourished. It was in his own mind that the artist sought his model. It was an application of his own thought to the thing to be done and the conditions to be observed. And why need we copy the Doric or the Gothic model? Beauty, convenience, grandeur of thought and quaint expression are as near to us to any, and if the American artist will study with hope and love the precise thing to be done by him, considering the climate, the soil, the length of the day, the wants of the people, the habit and form of the government, he will create a house in which all these will find themselves fitted, and taste and sentiment will be satisfied also.\n",
        "\n",
        "Insist on yourself; never imitate. Your own gift you can present every moment with the cumulative force of a whole life's cultivation; but of the adopted talent of another you have only an extemporaneous half possession. That which each can do best, none but his Maker can teach him. No man yet knows what it is, nor can, till that person has exhibited it. Where is the master who could have taught Shakspeare? Where is the master who could have instructed Franklin, or Washington, or Bacon, or Newton? Every great man is an unique. The Scipionism of Scipio is precisely that part he could not borrow. If anybody will tell me whom the great man imitates in the original crisis when he performs a great act, I will tell him who else than himself can teach him. Shakspeare will never be made by the study of Shakspeare. Do that which is assigned thee and thou canst not hope too much or dare too much. There is at this moment, there is for me an utterance bare and grand as that of the colossal chisel of Phidias, or trowel of the Egyptians, or the pen of Moses or Dante, but different from all these. Not possibly will the soul, all rich, all eloquent, with thousand-cloven tongue, deign to repeat itself; but if I can hear what these patriarchs say, surely I can reply to them in the same pitch of voice; for the ear and the tongue are two organs of one nature. Dwell up there in the simple and noble regions of thy life, obey thy heart and thou shalt reproduce the Foreworld again.\n",
        "\n",
        "4. As our Religion, our Education, our Art look abroad, so does our spirit of society. All men plume themselves on the improvement of society, and no man improves.\n",
        "\n",
        "Society never advances. It recedes as fast on one side as it gains on the other. Its progress is only apparent like the workers of a treadmill. It undergoes continual changes; it is barbarous, it is civilized, it is christianized, it is rich, it is scientific; but this change is not amelioration. For every thing that is given something is taken. Society acquires new arts and loses old instincts. What a contrast between the well-clad, reading, writing, thinking American, with a watch, a pencil and a bill of exchange in his pocket, and the naked New Zealander, whose property is a club, a spear, a mat and an undivided twentieth of a shed to sleep under. But compare the health of the two men and you see that his aboriginal strength, the white man has lost. If the traveller tell us truly, strike the savage with a broad axe and in a day or two the flesh shall unite and heal as if you struck the blow into soft pitch, and the same blow shall send the white man to his grave.\n",
        "\n",
        "The civilized man has built a coach, but has lost the use of his feet. He is supported on crutches, but lacks so much support of muscle. He has got a fine Geneva watch, but he has lost the skill to tell the hour by the sun. A Greenwich nautical almanac he has, and so being sure of the information when he wants it, the man in the street does not know a star in the sky. The solstice he does not observe; the equinox he knows as little; and the whole bright calendar of the year is without a dial in his mind. His note-books impair his memory: his libraries overload his wit; the insurance-office increases the number of accidents; and it may be a question whether machinery does not encumber; whether we have not lost by refinement some energy, by a christianity entrenched in establishments and forms some vigor of wild virtue. For every stoic was a stoic; but in Christendom where is the Christian?\n",
        "\n",
        "There is no more deviation in the moral standard than in the standard of height or bulk. No greater men are now than ever were. A singular equality may be observed between the great men of the first and of the last ages; nor can all the science, art, religion, and philosophy of the nineteenth century avail to educate greater men than Plutarch's heroes, three or four and twenty centuries ago. Not in time is the race progressive. Phocion, Socrates, Anaxagoras, Diogenes, are great men, but they leave no class. He who is really of their class will not be called by their name, but be wholly his own man, and in his turn the founder of a sect. The arts and inventions of each period are only its costume and do not invigorate men. The harm of the improved machinery may compensate its good. Hudson and Behring accomplished so much in their fishing-boats as to astonish Parry and Franklin, whose equipment exhausted the resources of science and art. Galileo, with an opera-glass, discovered a more splendid series of facts than any one since. Columbus found the New World in an undecked boat. It is curious to see the periodical disuse and perishing of means and machinery which were introduced with loud laudation a few years or centuries before. The great genius returns to essential man. We reckoned the improvements of the art of war among the triumphs of science, and yet Napoleon conquered Europe by the Bivouac, which consisted of falling back on naked valor and disencumbering it of all aids. The Emperor held it impossible to make a perfect army, says Las Cases, \"without abolishing our arms, magazines, commissaries and carriages, until, in imitation of the Roman custom, the soldier should receive his supply of corn, grind it in his hand-mill and bake his bread himself.\"\n",
        "\n",
        "Society is a wave. The wave moves onward, but the water of which it is composed does not. The same particle does not rise from the valley to the ridge. Its unity is only phenomenal. The persons who make up a nation to-day, die, and their experience with them.\n",
        "\n",
        "And so the reliance on Property, including the reliance on governments which protect it, is the want of self-reliance. Men have looked away from themselves and at things so long that they have come to esteem what they call the soul's progress, namely, the religious, learned and civil institutions as guards of property, and they deprecate assaults on these, because they feel them to be assaults on property. They measure their esteem of each other by what each has, and not by what each is. But a cultivated man becomes ashamed of his property, ashamed of what he has, out of new respect for his being. Especially he hates what he has if he sees that it is accidental,—came to him by inheritance, or gift, or crime; then he feels that it is not having; it does not belong to him, has no root in him, and merely lies there because no revolution or no robber takes it away. But that which a man is, does always by necessity acquire, and what the man acquires, is permanent and living property, which does not wait the beck of rulers, or mobs, or revolutions, or fire, or storm, or bankruptcies, but perpetually renews itself wherever the man is put. \"Thy lot or portion of life,\" said the Caliph Ali, \"is seeking after thee; therefore be at rest from seeking after if.\" Our dependence on these foreign goods leads us to our slavish respect for numbers. The political parties meet in numerous conventions; the greater the concourse and with each new uproar of announcement, The delegation from Essex! The Democrats from New Hampshire! The Whigs of Maine! the young patriot feels himself stronger than before by a new thousand of eyes and arms. In like manner the reformers summon conventions and vote and resolve in multitude. But not so O friends! will the God deign to enter and inhabit you, but by a method precisely the reverse. It is only as a man puts off from himself all external support and stands alone that I see him to be strong and to prevail. He is weaker by every recruit to his banner. Is not a man better than a town? Ask nothing of men, and, in the endless mutation, thou only firm column must presently appear the upholder of all that surrounds thee. He who knows that power is in the soul, that he is weak only because he has looked for good out of him and elsewhere, and, so perceiving, throws himself unhesitatingly on his thought, instantly rights himself, stands in the erect position, commands his limbs, works miracles; just as a man who stands on his feet is stronger than a man who stands on his head.\n",
        "\n",
        "So use all that is called Fortune. Most men gamble with her, and gain all, and lose all, as her wheel rolls. But do thou leave as unlawful these winnings, and deal with Cause and Effect, the chancellors of God. In the Will work and acquire, and thou hast chained the wheel of Chance, and shalt always drag her after thee. A political victory, a rise of rents, the recovery of your sick or the return of your absent friend, or some other quite external event raises your spirits, and you think good days are preparing for you. Do not believe it. It can never be so. Nothing can bring you peace but yourself. Nothing can bring you peace but the triumph of principles.\n",
        "'''"
      ]
    },
    {
      "cell_type": "markdown",
      "id": "bfcc94ff",
      "metadata": {
        "id": "bfcc94ff"
      },
      "source": [
        "<a id='Definition'></a>\n",
        "\n",
        "## 1) Definition\n",
        "A regular expression is a sequence of characters that specifies a search pattern in text. Usually such patterns are used by string-searching algorithms for \"find\" or \"find and replace\" operations on strings, or for input validation. [Wikipedia](https://en.wikipedia.org/wiki/Regular_expression)"
      ]
    },
    {
      "cell_type": "markdown",
      "id": "cb4db3bf",
      "metadata": {
        "id": "cb4db3bf"
      },
      "source": [
        "<a id='Characters'></a>\n",
        "\n",
        "## 2) Charaters\n"
      ]
    },
    {
      "cell_type": "markdown",
      "id": "0780d52f",
      "metadata": {
        "id": "0780d52f"
      },
      "source": [
        "<a id='literal'></a>\n",
        "\n",
        "### A) Literal Charaters\n",
        "- Those are used to represent the same characters in text.\n",
        "\n",
        "    For example, `M` matches upper case \"M\", while `m` matches lower case \"m\".\n",
        "\n",
        "    `hat` matches the word \"hat\"."
      ]
    },
    {
      "cell_type": "markdown",
      "id": "82d8dfe2",
      "metadata": {
        "id": "82d8dfe2"
      },
      "source": [
        "<a id='meta'></a>\n",
        "\n",
        "### B) Metacharaters\n",
        "\n",
        "#### *The Wildcar metacharacter `.`*\n",
        "- The dot (wildcard) matches any character except new line.\n",
        "\n",
        "    For example:\n",
        "\n",
        "    `9.00` matches 9.00, 9500, 9x00"
      ]
    },
    {
      "cell_type": "markdown",
      "id": "7fa9fa83",
      "metadata": {
        "id": "7fa9fa83"
      },
      "source": [
        "#### *Escaping Metacharacters `\\`*\n",
        "- To skip a metacharacter we use another metacharacter `\\`.\n",
        "\n",
        "- It tells the regex engine to treat the metacharacter that follows as a literal character.\n",
        "\n",
        "    For example, to skip the wildcard metacharacter (.), we write `\\.` \n",
        "\n",
        "    `9.00` matches 9.00, but not 9500, 9x00\n",
        "\n",
        "- If you want a literal backslash \\, you escape it with a backslash, too\n",
        "\n",
        "    `\\\\` "
      ]
    },
    {
      "cell_type": "markdown",
      "id": "21bdb944",
      "metadata": {
        "id": "21bdb944"
      },
      "source": [
        "#### *Other special characters*\n",
        "\n",
        "`\\s` White Space\n",
        "\n",
        "`\\t` Tab\n",
        "\n",
        "`\\n` New Line"
      ]
    },
    {
      "cell_type": "code",
      "execution_count": null,
      "id": "8296370c",
      "metadata": {
        "id": "8296370c",
        "outputId": "06a62a13-639b-46f8-ef15-7b5405af0aa9"
      },
      "outputs": [
        {
          "name": "stdout",
          "output_type": "stream",
          "text": [
            "['cat', 'cut']\n"
          ]
        }
      ],
      "source": [
        "results = re.findall('c.t', 'categorycut')\n",
        "print(results)"
      ]
    },
    {
      "cell_type": "code",
      "execution_count": null,
      "id": "e1a25a2f",
      "metadata": {
        "id": "e1a25a2f",
        "outputId": "cac527bb-a380-4903-9611-76179bff9f8b"
      },
      "outputs": [
        {
          "name": "stdout",
          "output_type": "stream",
          "text": [
            "['self', 'self', 'self', 'self', 'self', 'self', 'self', 'self', 'self', 'self', 'self', 'self', 'self', 'self', 'self', 'self', 'self', 'self', 'self', 'self', 'self', 'self', 'self', 'self', 'self', 'self', 'self', 'self', 'self', 'self', 'self', 'self', 'self', 'self', 'self', 'self', 'self', 'self', 'self', 'self', 'self', 'self', 'self', 'self', 'self', 'self', 'self', 'self', 'self', 'self', 'self', 'self', 'self', 'self', 'self', 'self', 'self', 'self', 'self', 'self', 'self'] \n",
            "\n",
            "61\n"
          ]
        }
      ],
      "source": [
        "# How many times does the word \"self\"  appear inside txt?\n",
        "results = re.findall('self', txt)\n",
        "print(results,'\\n')\n",
        "print(len(results))"
      ]
    },
    {
      "cell_type": "code",
      "execution_count": null,
      "id": "c14809ab",
      "metadata": {
        "id": "c14809ab",
        "outputId": "09ae0c78-c11a-420c-9fef-2092a390497f"
      },
      "outputs": [
        {
          "name": "stdout",
          "output_type": "stream",
          "text": [
            "['himself', 'himself', 'himself', 'himself', 'himself', 'himself', 'himself', 'himself', 'himself', 'himself', 'himself', 'himself', 'himself', 'himself', 'himself', 'himself', 'himself', 'himself', 'himself', 'himself'] \n",
            "\n",
            "20\n"
          ]
        }
      ],
      "source": [
        "# How many times does each of \"himslef\", \"herself\", \"itself\", \"myself\", \"yourself\", \"thyself\" appear in txt\n"
      ]
    },
    {
      "cell_type": "code",
      "execution_count": null,
      "id": "d4798cef",
      "metadata": {
        "id": "d4798cef",
        "outputId": "4dc32a95-dc47-47f0-d204-3680a2922ff7"
      },
      "outputs": [
        {
          "name": "stdout",
          "output_type": "stream",
          "text": [
            "['teach', 'ttach', 'teach', 'teach', 'teach', 't, ch', 't, ch', 'teach', 'touch', 'teach', 'teach', 'teach', 'tarch']\n"
          ]
        }
      ],
      "source": [
        "# In the txt, what maches 't..ch' besides \"teach\"?\n"
      ]
    },
    {
      "cell_type": "markdown",
      "id": "68d63fab",
      "metadata": {
        "id": "68d63fab"
      },
      "source": [
        "<a id='sets'></a>\n",
        "\n",
        "## 3) Charater Sets\n"
      ]
    },
    {
      "cell_type": "markdown",
      "id": "b4052b54",
      "metadata": {
        "id": "b4052b54"
      },
      "source": [
        "<a id='defSet'></a>\n",
        "\n",
        "### A) Define Character Sets\n",
        "\n",
        "- Matches any single element in a set of characters.\n",
        "- The order of characters inside the set doesn't matter.\n",
        "- Defined using `[` and `]` metacharacters.\n",
        "\n",
        "    `[acd]` matches any lower case letter \"a\", \"c\", or \"d\"\n",
        "\n",
        "    `[539]` matches \"5\", \"3\", or \"9\"\n",
        "\n",
        "For example:\n",
        "`gr[ea]y` mathces \"grey\" or \"gray\""
      ]
    },
    {
      "cell_type": "markdown",
      "id": "e17d5ec8",
      "metadata": {
        "id": "e17d5ec8"
      },
      "source": [
        "<a id='ranges'></a>\n",
        "\n",
        "### B) Character Ranges\n",
        "\n",
        "- Matches any single element in a range of ordered characters instead of writing all the characters.\n",
        "- The dash metacharacter `-` is used to indicate the range.\n",
        "\n",
        "    *Note: The dash is a metacharacter only when it's inside a character set. Otherwise, it a literal character*\n",
        "\n",
        "    `[0-9]` matches any numner between \"0\" to \"9\" instead of writing `[0123456789]`\n",
        "\n",
        "    `[a-z]` matches any lower case letter\n",
        "\n",
        "    `[A-Z]` matches any upper case letter\n",
        "\n",
        "    `[a-zA-Z0-9]` matches any lower case, upper case, or number\n",
        "\n",
        "***Remeber, it's not a number range, it's a character range.***\n",
        "\n",
        "`[50-99]` Doesn't match numbers from 50 to 99. It mathces any of \"5\", \"0-9\", or \"9\", so you just repeated yoursef unnecessarily becuase \"5\" & \"9\" are already included in \"0-9\". "
      ]
    },
    {
      "cell_type": "code",
      "execution_count": null,
      "id": "69ce4ac1",
      "metadata": {
        "id": "69ce4ac1",
        "outputId": "2da15987-b2b8-41d5-ee3b-551c5a6681b7"
      },
      "outputs": [
        {
          "name": "stdout",
          "output_type": "stream",
          "text": [
            "['1', '2', '3', '4', '5', '6', '7', '8', '9', '0']\n"
          ]
        }
      ],
      "source": [
        "phone = '123-456-7890'\n",
        "results = re.findall('[0-9]', phone)\n",
        "print(results)"
      ]
    },
    {
      "cell_type": "code",
      "execution_count": null,
      "id": "c362cb83",
      "metadata": {
        "id": "c362cb83",
        "outputId": "4b5941f5-af11-45bf-a478-5edff7ba7a1c"
      },
      "outputs": [
        {
          "name": "stdout",
          "output_type": "stream",
          "text": [
            "['123', '456', '789']\n"
          ]
        }
      ],
      "source": [
        "phone = '123-456-7890'\n",
        "results = re.findall('[0-9][0-9][0-9]', phone)\n",
        "print(results)"
      ]
    },
    {
      "cell_type": "code",
      "execution_count": null,
      "id": "18cecd3a",
      "metadata": {
        "id": "18cecd3a",
        "outputId": "22b6f2a0-c06d-4dc9-b854-c0b0c5a2c63b"
      },
      "outputs": [
        {
          "name": "stdout",
          "output_type": "stream",
          "text": [
            "['123-456-7890']\n"
          ]
        }
      ],
      "source": [
        "phone = '123-456-7890'\n",
        "# Notice the dash inside the square brackets is a metacharacter, while outside, it's a literal character.\n",
        "results = re.findall('[0-9][0-9][0-9]-[0-9][0-9][0-9]-[0-9][0-9][0-9][0-9]', phone)\n",
        "print(results)"
      ]
    },
    {
      "cell_type": "markdown",
      "id": "99bb3b84",
      "metadata": {
        "id": "99bb3b84"
      },
      "source": [
        "<a id='negSet'></a>\n",
        "\n",
        "### C) Negative Character Sets\n",
        "\n",
        "- Created using (^) metacharacter as the first character inside the set.\n",
        "- Matches any characters except those in the set.\n",
        "\n",
        "    `see[^mn]` matches \"seed\", \"seek\", \"see8\", \"see-\", but not \"seem\" or \"seen\". It also doesn't match \"see\" because it only has 3 characters not 4.\n"
      ]
    },
    {
      "cell_type": "markdown",
      "id": "05430e18",
      "metadata": {
        "id": "05430e18"
      },
      "source": [
        "<a id='metInSet'></a>\n",
        "\n",
        "### D) Metacharacters inside characters sets\n",
        "\n",
        "- Most metacharacters inside character sets are already escaped. You don't need to use a back slash before them.\n",
        "\n",
        "    For example, `[.]` actually represents a period not a wildcard.\n",
        "    \n",
        "- Exceptions: `]`, `-`, `^`, `\\`\n",
        "    \n",
        "    They must be preceeded with a `\\` to express the literal them.\n",
        "\n"
      ]
    },
    {
      "cell_type": "code",
      "execution_count": null,
      "id": "da472f22",
      "metadata": {
        "id": "da472f22",
        "outputId": "7cccab91-98f8-4679-c2df-67ab074f68ff"
      },
      "outputs": [
        {
          "name": "stdout",
          "output_type": "stream",
          "text": [
            "['abc-', 'abc0', 'abc[', 'abc_', 'abc]']\n"
          ]
        }
      ],
      "source": [
        "x= 'abc-1 abc01 abc[1 abc_1, abc]1 '\n",
        "\n",
        "results = re.findall('abc[_\\-\\][0-9]', x) # Matches only 4 characters\n",
        "print(r)\n"
      ]
    },
    {
      "cell_type": "markdown",
      "id": "641c6e3b",
      "metadata": {
        "id": "641c6e3b"
      },
      "source": [
        "<a id='short'></a>\n",
        "\n",
        "### E) Shorthand character sets\n",
        "\n",
        "`\\d` = `[0-9]` digit\n",
        "\n",
        "`\\w` = `[a-zA-Z0-9_]` Word character (Alphanumeric characters and underscore)\n",
        "\n",
        "`\\s` = White Space\n",
        "\n",
        "`\\D` = `[^0-9]` Not digit\n",
        "\n",
        "`\\W` = `[^a-zA-Z0-9_]` Not Word character\n",
        "\n",
        "`\\S` = Not White Space\n",
        "\n",
        "\n",
        "For example, `[\\w\\-]` matches any word character and a dash"
      ]
    },
    {
      "cell_type": "code",
      "execution_count": null,
      "id": "9172197a",
      "metadata": {
        "id": "9172197a",
        "outputId": "162c1568-15c4-4862-9870-cd1ca0bda026"
      },
      "outputs": [
        {
          "name": "stdout",
          "output_type": "stream",
          "text": [
            "['virtue ', 'virtue ', 'virtue ', 'virtue ', 'virtue.', 'virtue ', 'virtue?', 'virtue,', 'virtue.', 'virtue ', 'virtue ', 'virtue,', 'virtue,', 'virtue.']\n"
          ]
        }
      ],
      "source": [
        "# Find virtue not virtues in txt\n",
        "# Note this grabs other characters like white spaces, commas, and periods\n"
      ]
    },
    {
      "cell_type": "code",
      "execution_count": null,
      "id": "c7d80d99",
      "metadata": {
        "id": "c7d80d99",
        "outputId": "b2042c5e-2ee0-4d24-fdb3-44fc4cee7218"
      },
      "outputs": [
        {
          "name": "stdout",
          "output_type": "stream",
          "text": [
            "['circumnavigation']\n"
          ]
        }
      ],
      "source": [
        "# Find a 16-character word that starts with \"c\"\n",
        "\n",
        "\n",
        "# That's a lot of \\w "
      ]
    },
    {
      "cell_type": "markdown",
      "id": "0b7984a2",
      "metadata": {
        "id": "0b7984a2"
      },
      "source": [
        "<a id='Repetition'></a>\n",
        "\n",
        "## 4) Repetition"
      ]
    },
    {
      "cell_type": "markdown",
      "id": "f45a802e",
      "metadata": {
        "id": "f45a802e"
      },
      "source": [
        "<a id='RepMeta'></a>\n",
        "\n",
        "### A)  Repetition metacharacters\n",
        "- They go after something else in Regular Expession that we need to repeat a certain number of times. In other words, they repeat what lies directly at their left.\n",
        "\n",
        "    `?` Zero or one time (If we want to say this character is optional). This could be useful when looking for words spelled in different ways.\n",
        "\n",
        "    `*` Zero of more times\n",
        "\n",
        "    `+` One or more times. It's indeterminate in length.\n",
        "    \n",
        "\n",
        "- The most common is the `+` sign and is frequently paired with the wild card metacharacter.\n",
        "\n",
        "    `.+` Matches any string of characters except new line"
      ]
    },
    {
      "cell_type": "code",
      "execution_count": null,
      "id": "a632d0fe",
      "metadata": {
        "id": "a632d0fe",
        "outputId": "da940925-137c-4ea3-db70-06256bbbee0b"
      },
      "outputs": [
        {
          "name": "stdout",
          "output_type": "stream",
          "text": [
            "['book ']\n"
          ]
        }
      ],
      "source": [
        "books = 'book books bookssss'\n",
        "results = re.findall('book ', books)\n",
        "print(results)"
      ]
    },
    {
      "cell_type": "code",
      "execution_count": null,
      "id": "56ba8453",
      "metadata": {
        "id": "56ba8453",
        "outputId": "57ca68d2-ef80-4b89-a08d-a378eced18af"
      },
      "outputs": [
        {
          "name": "stdout",
          "output_type": "stream",
          "text": [
            "['book ', 'books ']\n"
          ]
        }
      ],
      "source": [
        "books = 'book books bookssss'\n",
        "r = re.findall('books? ', books)\n",
        "print(r)"
      ]
    },
    {
      "cell_type": "code",
      "execution_count": null,
      "id": "82be5e13",
      "metadata": {
        "id": "82be5e13",
        "outputId": "6216d752-ae58-42b5-99a8-9f493c9a5ffb"
      },
      "outputs": [
        {
          "name": "stdout",
          "output_type": "stream",
          "text": [
            "['books', 'bookssss']\n"
          ]
        }
      ],
      "source": [
        "books = 'book books bookssss'\n",
        "r = re.findall('books+', books)\n",
        "print(r)"
      ]
    },
    {
      "cell_type": "code",
      "execution_count": null,
      "id": "da0b88a8",
      "metadata": {
        "id": "da0b88a8",
        "outputId": "6d500f4b-0aed-4ffe-c2d9-59430044c2b9"
      },
      "outputs": [
        {
          "data": {
            "text/plain": [
              "'Self-Reliance\\nBy Ralph Waldo Emerson, 1841\\n\\n\"Ne te quaesiveris extra.\"\\n\\n\"Man is his own star; and the soul that can\\nRender an honest and a perfect man,\\nCommands all light, all influence, all fate;\\nNothing to him falls early or too late.\\nOur acts our angels are, or good or ill,\\nOur fatal shadows that walk by us still.\"\\n— Epilogue to Beaumont and Fletcher\\'s Honest Man\\'s Fortune.\\n\\nCast the bantling on the rocks,\\nSuckle him with the she-wolf\\'s teat,\\nWintered with the hawk and fox,\\nPower and speed be hands and feet.\\n\\nI read the other day some verses written by an eminent painter which were original and not conventional. Always the soul hears an admonition in such lines, let the subject be what it may. The sentiment they instill is of more value than any thought they may contain. To believe your own thought, to believe that what is true for you in your private heart is true for all men,-that is genius. Speak your latent conviction, and it shall be the universal sense; for always the inmost becomes the outmost—and our first thought is rendered back to us by the trumpets of the Last Judgment. Familiar as the voice of the mind is to each, the highest merit we ascribe to Moses, Plato and Milton is that they set at naught books and traditions, and spoke not what men, but what they thought. A man should learn to detect and watch that gleam of light which flashes across his mind from within, more than the lustre of the firmament of bards and sages. Yet he dismisses without notice his thought, because it is his. In every work of genius we recognize our own rejected thoughts; they come back to us with a certain alienated majesty. Great works of art have no more affecting lesson for us than this. They teach us to abide by our spontaneous impression with good-humored inflexibility then most when the whole cry of voices is on the other side. Else to-morrow a stranger will say with masterly good sense precisely what we have thought and felt all the time, and we shall be forced to take with shame our own opinion from another.\\n\\nThere is a time in every man\\'s education when he arrives at the conviction that envy is ignorance; that imitation is suicide; that he must take himself for better for worse as his portion; that though the wide universe is full of good, no kernel of nourishing corn can come to him but through his toil bestowed on that plot of ground which is given to him to till. The power which resides in him is new in nature, and none but he knows what that is which he can do, nor does he know until he has tried. Not for nothing one face, one character, one fact, makes much impression on him, and another none. It is not without preestablished harmony, this sculpture in the memory. The eye was placed where one ray should fall, that it might testify of that particular ray. Bravely let him speak the utmost syllable of his confession. We but half express ourselves, and are ashamed of that divine idea which each of us represents. It may be safely trusted as proportionate and of good issues, so it be faithfully imparted, but God will not have his work made manifest by cowards. It needs a divine man to exhibit anything divine. A man is relieved and gay when he has put his heart into his work and done his best; but what he has said or done otherwise shall give him no peace. It is a deliverance which does not deliver. In the attempt his genius deserts him; no muse befriends; no invention, no hope.\\n\\nTrust thyself: every heart vibrates to that iron string. Accept the place the divine providence has found for you, the society of your contemporaries, the connexion of events. Great men have always done so, and confided themselves childlike to the genius of their age, betraying their perception that the Eternal was stirring at their heart, working through their hands, predominating in all their being. And we are now men, and must accept in the highest mind the same transcendent destiny; and not pinched in a corner, not cowards fleeing before a revolution, but redeemers and benefactors, pious aspirants to be noble clay under the Almighty effort let us advance on Chaos and the Dark.\\n\\nWhat pretty oracles nature yields us on this text in the face and behavior of children, babes, and even brutes. That divided and rebel mind, that distrust of a sentiment because our arithmetic has computed the strength and means opposed to our purpose, these have not. Their mind being whole, their eye is as yet unconquered, and when we look in their faces, we are disconcerted. Infancy conforms to nobody; all conform to it; so that one babe commonly makes four or five out of the adults who prattle and play to it. So God has armed youth and puberty and manhood no less with its own piquancy and charm, and made it enviable and gracious and its claims not to be put by, it will stand by itself. Do not think the youth has no force, because he cannot speak to you and me. Hark! in the next room who spoke so clear and emphatic? It seems he knows how to speak to his contemporaries. Good Heaven! it is he! it is that very lump of bashfulness and phlegm which for weeks has done nothing but eat when you were by, and now rolls out these words like bellstrokes. It seems he knows how to speak to his contemporaries. Bashful or bold then, he will know how to make us seniors very unnecessary.\\n\\nThe nonchalance of boys who are sure of a dinner, and would disdain as much as a lord to do or say aught to conciliate one, is the healthy attitude of human nature. How is a boy the master of society; independent, irresponsible, looking out from his corner on such people and facts as pass by, he tries and sentences them on their merits, in the swift, summary way of boys, as good, bad, interesting, silly, eloquent, troublesome. He cumbers himself never about consequences, about interests; he gives an independent, genuine verdict. You must court him; he does not court you. But the man is as it were clapped into jail by his consciousness. As soon as he has once acted or spoken with eclat he is a committed person, watched by the sympathy or the hatred of hundreds, whose affections must now enter into his account. There is no Lethe for this. Ah, that he could pass again into his neutral, godlike independence! Who can thus lose all pledge and, having observed, observe again from the same unaffected, unbiased, unbribable, unaffrighted innocence, must always be formidable, must always engage the poet\\'s and the man\\'s regards. Of such an immortal youth the force would be felt. He would utter opinions on all passing affairs, which being seen to be not private but necessary, would sink like darts into the ear of men and put them in fear.\\n\\nThese are the voices which we hear in solitude, but they grow faint and inaudible as we enter into the world. Society everywhere is in conspiracy against the manhood of every one of its members. Society is a joint-stock company, in which the members agree, for the better securing of his bread to each shareholder, to surrender the liberty and culture of the eater. The virtue in most request is conformity. Self-reliance is its aversion. It loves not realities and creators, but names and customs.\\n\\nWhoso would be a man, must be a nonconformist. He who would gather immortal palms must not be hindered by the name of goodness, but must explore if it be goodness. Nothing is at last sacred but the integrity of our own mind. Absolve you to yourself, and you shall have the suffrage of the world. I remember an answer which when quite young I was prompted to make to a valued adviser who was wont to importune me with the dear old doctrines of the church. On my saying, What have I to do with the sacredness of traditions, if I live wholly from within? my friend suggested,—\"But these impulses may be from below, not from above.\" I replied, \"They do not seem to me to be such; but if I am the devil\\'s child, I will live then from the devil.\" No law can be sacred to me but that of my nature. Good and bad are but names very readily transferable to that or this; the only right is what is after my constitution; the only wrong what is against it. A man is to carry himself in the presence of all opposition as if every thing were titular and ephemeral but he. I am ashamed to think how easily we capitulate to badges and names, to large societies and dead institutions. Every decent and well-spoken individual affects and sways me more than is right. I ought to go upright and vital, and speak the rude truth in all ways. If malice and vanity wear the coat of philanthropy, shall that pass? If an angry bigot assumes this bountiful cause of Abolition, and comes to me with his last news from Barbadoes, why should I not say to him, \"Go love thy infant; love thy wood-chopper; be good-natured and modest; have that grace; and never varnish your hard, uncharitable ambition with this incredible tenderness for black folk a thousand miles off. Thy love afar is spite at home.\" Rough and graceless would be such greeting, but truth is handsomer than the affectation of love. Your goodness must have some edge to it,—else it is none. The doctrine of hatred must be preached, as the counteraction of the doctrine of love, when that pules and whines. I shun father and mother and wife and brother when my genius calls me. I would write on the lintels of the doorpost, Whim. I hope it is somewhat better than whim at last, but we cannot spend the day in explanation. Expect me not to show cause why I seek or why I exclude company. Then, again, do not tell me, as a good man did today, of my obligation to put all poor men in good situations. Are they my poor? I tell thee, thou foolish philanthropist, that I grudge the dollar, the dime, the cent I give to such men as do not belong to me and to whom I do not belong. There is a class of persons to whom by all spiritual affinity I am bought and sold; for them I will go to prison if need be; but your miscellaneous popular charities; the education at college of fools; the building of meeting-houses to the vain end to which many now stand; alms to sots, and the thousand-fold Relief Societies;—though I confess with shame I sometimes succumb and give the dollar, it is a wicked dollar, which by-and-by I shall have the manhood to withhold.\\n\\nVirtues are, in the popular estimate, rather the exception than the rule. There is the man and his virtues. Men do what is called a good action, as some piece of courage or charity, much as they would pay a fine in expiation of daily non-appearance on parade. Their works are done as an apology or extenuation of their living in the world,—as invalids and the insane pay a high board. Their virtues are penances. I do not wish to expiate, but to live. My life is not an apology, but a life. It is for itself and not for a spectacle. I much prefer that it should be of a lower strain, so it be genuine and equal, than that it should be glittering and unsteady. I wish it to be sound and sweet, and not to need diet and bleeding. My life should be unique; it should be an alms, a battle, a conquest, a medicine. I ask primary evidence that you are a man, and refuse this appeal from the man to his actions. I know that for myself it makes no difference whether I do or forbear those actions which are reckoned excellent. I cannot consent to pay for a privilege where I have intrinsic right. Few and mean as my gifts may be, I actually am, and do not need for my own assurance or the assurance of my fellows any secondary testimony.\\n\\nWhat I must do is all that concerns me, not what the people think. This rule, equally arduous in actual and in intellectual life, may serve for the whole distinction between greatness and meanness. It is the harder because you will always find those who think they know what is your duty better than you know it. It is easy in the world to live after the world\\'s opinion; it is easy in solitude to live after our own; but the great man is he who in the midst of the crowd keeps with perfect sweetness the independence of solitude.\\n\\nThe objection to conforming to usages that have become dead to you is that it scatters your force. It loses your time and blurs the impression of your character. If you maintain a dead church, contribute to a dead Bible Society, vote with a great party either for the Government or against it, spread your table like base housekeepers,—under all these screens I have difficulty to detect the precise man you are. And of course so much force is withdrawn from your proper life. But do your thing, and I shall know you. Do your work, and you shall reinforce yourself. A man must consider what a blindman\\'s-buff is this game of conformity. If I know your sect I anticipate your argument. I hear a preacher announce for his text and topic the expediency of one of the institutions of his church. Do I not know beforehand that not possibly can he say a new and spontaneous word? Do I not know that with all this ostentation of examining the grounds of the institution he will do no such thing? Do I not know that he is pledged to himself not to look but at one side, the permitted side, not as a man, but as a parish minister? He is a retained attorney, and these airs of the bench are the emptiest affectation. Well, most men have bound their eyes with one or another handkerchief, and attached themselves to some one of these communities of opinion. This conformity makes them not false in a few particulars, authors of a few lies, but false in all particulars. Their every truth is not quite true. Their two is not the real two, their four not the real four: so that every word they say chagrins us and we know not where to begin to set them right. Meantime nature is not slow to equip us in the prison-uniform of the party to which we adhere. We come to wear one cut of face and figure, and acquire by degrees the gentlest asinine expression. There is a mortifying experience in particular, which does not fail to wreak itself also in the general history; I mean \"the foolish face of praise,\" the forced smile which we put on in company where we do not feel at ease, in answer to conversation which does not interest us. The muscles, not spontaneously moved but moved by a low usurping wilfulness, grow tight about the outline of the face, and make the most disagreeable sensation; a sensation of rebuke and warning which no brave young man will suffer twice.\\n\\nFor non-conformity the world whips you with its displeasure. And therefore a man must know how to estimate a sour face. The bystanders look askance on him in the public street or in the friend\\'s parlor. If this aversation had its origin in contempt and resistance like his own he might well go home with a sad countenance; but the sour faces of the multitude, like their sweet faces, have no deep cause—disguise no god, but are put on and off as the wind blows and a newspaper directs. Yet is the discontent of the multitude more formidable than that of the senate and the college. It is easy enough for a firm man who knows the world to brook the rage of the cultivated classes. Their rage is decorous and prudent, for they are timid, as being very vulnerable themselves. But when to their feminine rage the indignation of the people is added, when the ignorant and the poor are aroused, when the unintelligent brute force that lies at the bottom of society is made to growl and mow, it needs the habit of magnanimity and religion to treat it godlike as a trifle of no concernment.\\n\\nThe other terror that scares us from self-trust is our consistency; a reverence for our past act or word because the eyes of others have no other data for computing our orbit than our past acts, and we are loath to disappoint them.\\n\\nBut why should you keep your head over your shoulder? Why drag about this monstrous corpse of your memory, lest you contradict somewhat you have stated in this or that public place? Suppose you should contradict yourself; what then? It seems to be a rule of wisdom never to rely on your memory alone, scarcely even in acts of pure memory, but to bring the past for judgment into the thousand eyed present, and live ever in a new day. Trust your emotion. In your metaphysics you have denied personality to the Deity, yet when the devout motions of the soul come, yield to them heart and life, though they should clothe God with shape and color. Leave your theory, as Joseph his coat in the hand of the harlot, and flee.\\n\\nA foolish consistency is the hobgoblin of little minds, adored by little statesmen and philosophers and divines. With consistency a great soul has simply nothing to do. He may as well concern himself with his shadow on the wall. Out upon your guarded lips! Sew them up with packthread, do. Else if you would be a man speak what you think to-day in words as hard as cannon balls, and to-morrow speak what to-morrow thinks in hard words again, though it contradict every thing you said to-day. Ah, then, exclaim the aged ladies, you shall be sure to be misunderstood! Misunderstood! It is a right fool\\'s word. Is it so bad then to be misunderstood? Pythagoras was misunderstood, and Socrates, and Jesus, and Luther, and Copernicus, and Galileo, and Newton, and every pure and wise spirit that ever took flesh. To be great is to be misunderstood.\\n\\nI suppose no man can violate his nature. All the sallies of his will are rounded in by the law of his being, as the inequalities of Andes and Himmaleh are insignificant in the curve of the sphere. Nor does it matter how you gauge and try him. A character is like an acrostic or Alexandrian stanza;—read it forward, backward, or across, it still spells the same thing. In this pleasing contrite wood-life which God allows me, let me record day by day my honest thought without prospect or retrospect, and I cannot doubt, it will be found symmetrical, though I mean it not and see it not. My book should smell of pines and resound with the hum of insects. The swallow over my window should interweave that thread or straw he carries in his bill into my web also. We pass for what we are. Character teaches above our wills. Men imagine that they communicate their virtue or vice only by overt actions, and do not see that virtue or vice emit a breath every moment.\\n\\nFear never but you shall be consistent in whatever variety of actions, so they be each honest and natural in their hour. For of one will, the actions will be harmonious, however unlike they seem. These varieties are lost sight of when seen at a little distance, at a little height of thought. One tendency unites them all. The voyage of the best ship is a zigzag line of a hundred tacks. This is only microscopic criticism. See the line from a sufficient distance, and it straightens itself to the average tendency. Your genuine action will explain itself and will explain your other genuine actions. Your conformity explains nothing. Act singly, and what you have already done singly will justify you now. Greatness always appeals to the future. If I can be great enough now to do right and scorn eyes, I must have done so much right before as to defend me now. Be it how it will, do right now. Always scorn appearances and you always may. The force of character is cumulative. All the foregone days of virtue work their health into this. What makes the majesty of the heroes of the senate and the field, which so fills the imagination? The consciousness of a train of great days and victories behind. There they all stand and shed an united light on the advancing actor. He is attended as by a visible escort of angels to every man\\'s eye. That is it which throws thunder into Chatham\\'s voice, and dignity into Washington\\'s port, and America into Adam\\'s eye. Honor is venerable to us because it is no ephemeris. It is always ancient virtue. We worship it to-day because it is not of to-day. We love it and pay it homage because it is not a trap for our love and homage, but is self-dependent, self-derived, and therefore of an old immaculate pedigree, even if shown in a young person.\\n\\nI hope in these days we have heard the last of conformity and consistency. Let the words be gazetted and ridiculous henceforward. Instead of the gong for dinner, let us hear a whistle from the Spartan fife. Let us bow and apologize never more. A great man is coming to eat at my house. I do not wish to please him: I wish that he should wish to please me. I will stand here for humanity, and though I would make it kind, I would make it true. Let us affront and reprimand the smooth mediocrity and squalid contentment of the times, and hurl in the face of custom and trade and office, the fact which is the upshot of all history, that there is a great responsible Thinker and Actor moving wherever moves a man; that a true man belongs to no other time or place, but is the centre of things. Where he is, there is nature. He measures you and all men and all events. You are constrained to accept his standard. Ordinarily, every body in society reminds us of somewhat else, or of some other person. Character, reality, reminds you of nothing else; it takes place of the whole creation. The man must be so much that he must make all circumstances indifferent—put all means into the shade. This all great men are and do. Every true man is a cause, a country, and an age; requires infinite spaces and numbers and time fully to accomplish his thought;—and posterity seem to follow his steps as a procession. A man Cæsar is born, and for ages after we have a Roman Empire. Christ is born, and millions of minds so grow and cleave to his genius that he is confounded with virtue and the possible of man. An institution is the lengthened shadow of one man; as, the Reformation, of Luther; Quakerism, of Fox; Methodism, of Wesley; Abolition, of Clarkson. Scipio, Milton called \"the height of Rome;\" and all history resolves itself very easily into the biography of a few stout and earnest persons.\\n\\nLet a man then know his worth, and keep things under his feet. Let him not peep or steal, or skulk up and down with the air of a charity-boy, a bastard, or an interloper in the world which exists for him. But the man in the street, finding no worth in himself which corresponds to the force which built a tower or sculptured a marble god, feels poor when he looks at these. To him a palace, a statue, or a costly book have an alien and forbidding air, much like a gay equipage, and seem to say like that, ‘Who are you, sir?\\' Yet they all are his, suitors for his notice, petitioners to his faculties that they will come out and take possession. The picture waits for my verdict; it is not to command me, but I am to settle its claim to praise. That popular fable of the sot who was picked up dead drunk in the street, carried to the duke\\'s house, washed and dressed and laid in the duke\\'s bed, and, on his waking, treated with all obsequious ceremony like the duke, and assured that he had been insane—owes its popularity to the fact that it symbolizes so well the state of man, who is in the world a sort of sot, but now and then wakes up, exercises his reason and finds himself a true prince.\\n\\nOur reading is mendicant and sycophantic. In history our imagination makes fools of us, plays us false. Kingdom and lordship, power and estate, are a gaudier vocabulary than private John and Edward in a small house and common day\\'s work: but the things of life are the same to both: the sum total of both is the same. Why all this deference to Alfred and Scanderbeg and Gustavus? Suppose they were virtuous; did they wear out virtue? As great a stake depends on your private act to-day as followed their public and renowned steps. When private men shall act with original views, the lustre will be transferred from the actions of kings to those of gentlemen.\\n\\nThe world has indeed been instructed by its kings, who have so magnetized the eyes of nations. It has been taught by this colossal symbol the mutual reverence that is due from man to man. The joyful loyalty with which men have everywhere suffered the king, the noble, or the great proprietor to walk among them by a law of his own, make his own scale of men and things and reverse theirs, pay for benefits not with money but with honor, and represent the Law in his person, was the hieroglyphic by which they obscurely signified their consciousness of their own right and comeliness, the right of every man.\\n\\nThe magnetism which all original action exerts is explained when we inquire the reason of self-trust. Who is the Trustee? What is the aboriginal Self, on which a universal reliance may be grounded? What is the nature and power of that science-baffling star, without parallax, without calculable elements, which shoots a ray of beauty even into trivial and impure actions, if the least mark of independence appear? The inquiry leads us to that source, at once the essence of genius, the essence of virtue, and the essence of life, which we call Spontaneity or Instinct. We denote this primary wisdom as Intuition, whilst all later teachings are tuitions. In that deep force, the last fact behind which analysis cannot go, all things find their common origin. For the sense of being which in calm hours rises, we know not how, in the soul, is not diverse from things, from space from light, from time, from man, but one with them and proceedeth obviously from the same source whence their life and being also proceedeth. We first share the life by which things exist and afterwards see them as appearances in nature and forget that we have shared their cause. Here is the fountain of action and the fountain of thought. Here are the lungs of that inspiration which giveth man wisdom, of that inspiration of man which cannot be denied without impiety and atheism. We lie in the lap of immense intelligence, which makes us organs of its activity and receivers of its truth. When we discern justice, when we discern truth, we do nothing of ourselves, but allow a passage to its beams. If we ask whence this comes, if we seek to pry into the soul that causes—all metaphysics, all philosophy is at fault. Its presence or its absence is all we can affirm. Every man discerns between the voluntary acts of his mind and his involuntary perceptions. And to his involuntary perceptions he knows a perfect respect is due. He may err in the expression of them, but he knows that these things are so, like day and night, not to be disputed. All my wilful actions and acquisitions are but roving;—the most trivial reverie, the faintest native emotion, are domestic and divine. Thoughtless people contradict as readily the statement of perceptions as of opinions, or rather much more readily; for they do not distinguish between perception and notion. They fancy that I choose to see this or that thing. But perception is not whimsical, but fatal. If I see a trait, my children will see it after me, and in course of time all mankind,—although it may chance that no one has seen it before me. For my perception of it is as much a fact as the sun.\\n\\nThe relations of the soul to the divine spirit are so pure that it is profane to seek to interpose helps. It must be that when God speaketh he should communicate, not one thing, but all things; should fill the world with his voice; should scatter forth light, nature, time, souls, from the centre of the present thought; and new date and new create the whole. Whenever a mind is simple and receives a divine wisdom, then old things pass away,—means, teachers, texts, temples fall; it lives now, and absorbs past and future into the present hour. All things are made sacred by relation to it,—one thing as much as another. All things are dissolved to their centre by their cause, and in the universal miracle petty and particular miracles disappear. This is and must be. If therefore a man claims to know and speak of God and carries you backward to the phraseology of some old mouldered nation in another country, in another world, believe him not. Is the acorn better than the oak which is its fulness and completion? Is the parent better than the child into whom he has cast his ripened being? Whence then this worship of the past? The centuries are conspirators against the sanity and majesty of the soul. Time and space are but physiological colors which the eye maketh, but the soul is light; where it is, is day; where it was, is night; and history is an impertinence and an injury if it be any thing more than a cheerful apologue or parable of my being and becoming.\\n\\nMan is timid and apologetic; he is no longer upright; he dares not say \"I think,\" \"I am,\" but quotes some saint or sage. He is ashamed before the blade of grass or the blowing rose. These roses under my window make no reference to former roses or to better ones; they are for what they are; they exist with God to-day. There is no time to them. There is simply the rose; it is perfect in every moment of its existence. Before a leaf-bud has burst, its whole life acts; in the fullblown flower there is no more; in the leafless root there is no less. Its nature is satisfied and it satisfies nature in all moments alike. There is no time to it. But man postpones or remembers; he does not live in the present, but with reverted eye laments the past, or, heedless of the riches that surround him, stands on tiptoe to foresee the future. He cannot be happy and strong until he too lives with nature in the present, above time.\\n\\nThis should be plain enough. Yet see what strong intellects dare not yet hear God himself unless he speak the phraseology of I know not what David, or Jeremiah, or Paul. We shall not always set so great a price on a few texts, on a few lives. We are like children who repeat by rote the sentences of grandames and tutors, and, as they grow older, of the men of talents and character they chance to see,—painfully recollecting the exact words they spoke; afterwards, when they come into the point of view which those had who uttered these sayings, they understand them and are willing to let the words go; for at any time they can use words as good when occasion comes. So was it with us, so will it be, if we proceed. If we live truly, we shall see truly. It is as easy for the strong man to be strong, as it is for the weak to be weak. When we have new perception, we shall gladly disburthen the memory of its hoarded treasures as old rubbish. When a man lives with God, his voice shall be as sweet as the murmur of the brook and the rustle of the corn.\\n\\nAnd now at last the highest truth on this subject remains unsaid; probably cannot be said; for all that we say is the far off remembering of the intuition. That thought, by what I can now nearest approach to say it, is this. When good is near you, when you have life in yourself,—it is not by any known or appointed way; you shall not discern the footprints of any other; you shall not see the face of man; you shall not hear any name;—the way, the thought, the good, shall be wholly strange and new. It shall exclude all other being. You take the way from man, not to man. All persons that ever existed are its fugitive ministers. There shall be no fear in it. Fear and hope are alike beneath it. It asks nothing. There is somewhat low even in hope. We are then in vision. There is nothing that can be called gratitude, nor properly joy. The soul is raised over passion. It seeth identity and eternal causation. It is a perceiving that Truth and Right are. Hence it becomes a Tranquillity out of the knowing that all things go well. Vast spaces of nature; the Atlantic Ocean, the South Sea; vast intervals of time, years, centuries, are of no account. This which I think and feel underlay that former state of life and circumstances, as it does underlie my present and will always all circumstances, and what is called life and what is called death.\\n\\nLife only avails, not the having lived. Power ceases in the instant of repose; it resides in the moment of transition from a past to a new state, in the shooting of the gulf, in the darting to an aim. This one fact the world hates, that the soul becomes; for that forever degrades the past; turns all riches to poverty, all reputation to a shame; confounds the saint with the rogue; shoves Jesus and Judas equally aside. Why then do we prate of self-reliance? Inasmuch as the soul is present there will be power not confident but agent. To talk of reliance is a poor external way of speaking. Speak rather of that which relies because it works and is. Who has more soul than I masters me, though he should not raise his finger. Round him I must revolve by the gravitation of spirits. Who has less I rule with like facility. We fancy it rhetoric when we speak of eminent virtue. We do not yet see that virtue is Height, and that a man or a company of men, plastic and permeable to principles, by the law of nature must overpower and ride all cities, nations, kings, rich men, poets, who are not.\\n\\nThis is the ultimate fact which we so quickly reach on this, as on every topic, the resolution of all into the ever-blessed ONE. Virtue is the governor, the creator, the reality. All things real are so by so much virtue as they contain. Hardship, husbandry, hunting, whaling, war, eloquence, personal weight, are somewhat, and engage my respect as examples of the soul\\'s presence and impure action. I see the same law working in nature for conservation and growth. The poise of a planet, the bended tree recovering itself from the strong wind, the vital resources of every animal and vegetable, are also demonstrations of the self-sufficing and therefore self-relying soul. All history, from its highest to its trivial passages, is the various record of this power.\\n\\nThus all concentrates; let us not rove; let us sit at home with the cause. Let us stun and astonish the intruding rabble of men and books and institutions by a simple declaration of the divine fact. Bid them take the shoes from off their feet, for God is here within. Let our simplicity judge them, and our docility to our own law demonstrate the poverty of nature and fortune beside our native riches.\\n\\nBut now we are a mob. Man does not stand in awe of man, nor is the soul admonished to stay at home, to put itself in communication with the internal ocean, but it goes abroad to beg a cup of water of the urns of men. We must go alone. Isolation must precede true society. I like the silent church before the service begins, better than any preaching. How far off, how cool, how chaste the persons look, begirt each one with a precinct or sanctuary. Se let us always sit. Why should we assume the faults of our friend, or wife, or father, or child, because they sit around our hearth, or are said to have the same blood? All men have my blood and I have all men\\'s. Not for that will I adopt their petulance or folly, even to the extent of being ashamed of it. But your isolation must not be mechanical, but spiritual, that is, must be elevation. At times the whole world seems to be in conspiracy to importune you with emphatic trifles. Friend, client, child, sickness, fear, want, charity, all knock at once at thy closet door and say, \"Come out unto us.\"—Do not spill thy soul; do not all descend; keep thy state; stay at home in thine own heaven; come not for a moment into their facts, into their hubbub of conflicting appearances, but let in the light of thy law on their confusion. The power men possess to annoy me I give them by a weak curiosity. No man can come near me but through my act. \"What we love that we have, but by desire we bereave ourselves of the love.\"\\n\\nIf we cannot at once rise to the sanctities of obedience and faith, let us at least resist our temptations, let us enter into the state of war and wake Thor and Woden, courage and constancy, in our Saxon breasts. This is to be done in our smooth times by speaking the truth. Check this lying hospitality and lying affection. Live no longer to the expectation of these deceived and deceiving people with whom we converse. Say to them, O father, O mother, O wife, O brother, O friend, I have lived with you after appearances hitherto. Henceforward I am the truth\\'s. Be it known unto you that henceforward I obey no law less than the eternal law. I will have no covenants but proximities. I shall endeavor to nourish my parents, to support my family, to be the chaste husband of one wife,—but these relations I must fill after a new and unprecedented way. I appeal from your customs. I must be myself. I cannot break myself any longer for you, or you. If you can love me for what I am, we shall be happier. If you cannot, I will still seek to deserve that you should. I must be myself. I will not hide my tastes or aversions. I will so trust that what is deep is holy, that I will do strongly before the sun and moon whatever inly rejoices me and the heart appoints. If you are noble, I will love you; if you are not, I will not hurt you and myself by hypocritical attentions. If you are true, but not in the same truth with me, cleave to your companions; I will seek my own. I do this not selfishly but humbly and truly. It is alike your interest, and mine, and all men\\'s, however long we have dwelt in lies, to live in truth. Does this sound harsh to-day? You will soon love what is dictated by your nature as well as mine, and if we follow the truth it will bring us out safe at last.—But so may you give these friends pain. Yes, but I cannot sell my liberty and my power, to save their sensibility. Besides, all persons have their moments of reason, when they look out into the region of absolute truth; then will they justify me and do the same thing.\\n\\nThe populace think that your rejection of popular standards is a rejection of all standard, and mere antinomianism; and the bold sensualist will use the name of philosophy to gild his crimes. But the law of consciousness abides. There are two confessionals, in one or the other of which we must be shriven. You may fulfil your round of duties by clearing yourself in the direct, or in the reflex way. Consider whether you have satisfied your relations to father, mother, cousin, neighbor, town, cat and dog; whether any of these can upbraid you. But I may also neglect this reflex standard and absolve me to myself. I have my own stern claims and perfect circle. It denies the name of duty to many offices that are called duties. But if I can discharge its debts it enables me to dispense with the popular code. If any one imagines that this law is lax, let him keep its commandment one day.\\n\\nAnd truly it demands something godlike in him who has cast off the common motives of humanity and has ventured to trust himself for a task-master. High be his heart, faithful his will, clear his sight, that he may in good earnest be doctrine, society, law, to himself, that a simple purpose may be to him as strong as iron necessity is to others.\\n\\nIf any man consider the present aspects of what is called by distinction society, he will see the need of these ethics, The sinew and heart of man seem to be drawn out, and we are become timorous desponding whimperers. We are afraid of truth, afraid of fortune, afraid of death, and afraid of each other. Our age yields no great and perfect persons. We want men and women who shall renovate life and our social state, but we see that most natures are insolvent; cannot satisfy their own wants, have an ambition out of all proportion to their practical force, and so do lean and beg day and night continually. Our housekeeping is mendicant, our arts, our occupations, our marriages, our religion we have not chosen, but society has chosen for us. We are parlor soldiers. The rugged battle of fate, where strength is born, we shun.\\n\\nIf our young men miscarry in their first enterprises they lose all heart. If the young merchant fails, men say he is ruined. If the finest genius studies at one of our colleges, and is not installed in an office within one year afterwards, in the cities or suburbs of Boston or New York, it seems to his friends and to himself that he is right in being disheartened and in complaining the rest of his life. A sturdy lad from New Hamsphire or Vermont, who in turn tries all the professions, who teams it, farms it, peddles, keeps a school, preaches, edits a newspaper, goes to Congress, buys a township, and so forth, in successive years, and always like a cat falls on his feet, is worth a hundred of these city dolls. He walks abreast with his days and feels no shame in not \"studying a profession,\" for he does not postpone his life, but lives already. He has not one chance, but a hundred chances. Let a stoic arise who shall reveal the resources of man and tell men they are not leaning willows, but can and must detach themselves; that with the exercise of self-trust, new powers shall appear; that a man is the word made flesh, born to shed healing to the nations, that he should be ashamed of our compassion, and that the moment he acts from himself, tossing the laws, the books, idolatries and customs out of the window,—we pity him no more but thank and revere him;—and that teacher shall restore the life of man to splendor and make his name dear to all History.\\n\\nIt is easy to see that a greater self-reliance—a new respect for the divinity in man—must work a revolution in all the offices and relations of men; in their religion; in their education; in their pursuits; their modes of living; their association; in their property; in their speculative views.\\n\\n1. In what prayers do men allow themselves! That which they call a holy office is not so much as brave and manly. Prayer looks abroad and asks for some foreign addition to come through some foreign virtue, and loses itself in endless mazes of natural and supernatural, and mediatorial and miraculous. Prayer that craves a particular commodity—anything less than all good, is vicious. Prayer is the contemplation of the facts of life from the highest point of view. It is the soliloquy of a beholding and jubilant soul. It is the spirit of God pronouncing his works good. But prayer as a means to effect a private end is theft and meanness. It supposes dualism and not unity in nature and consciousness. As soon as the man is at one with God, he will not beg. He will then see prayer in all action. The prayer of the farmer kneeling in his field to weed it, the prayer of the rower kneeling with the stroke of his oar, are true prayers heard throughout nature, though for cheap ends. Caratach, in Fletcher\\'s Bonduca, when admonished to inquire the mind of the god Audate, replies: \"His hidden meaning lies in our endeavors; Our valors are our best gods.\"\\n\\nAnother sort of false prayers are our regrets. Discontent is the want of self-reliance: it is infirmity of will. Regret calamities if you can thereby help the sufferer; if not, attend your own work and already the evil begins to be repaired. Our sympathy is just as base. We come to them who weep foolishly and sit down and cry for company, instead of imparting to them truth and health in rough electric shocks, putting them once more in communication with the soul. The secret of fortune is joy in our hands. Welcome evermore to gods and men is the self-helping man. For him all doors are flung wide. Him all tongues greet, all honors crown, all eyes follow with desire. Our love goes out to him and embraces him because he did not need it. We solicitously and apologetically caress and celebrate him because he held on his way and scorned our disapprobation. The gods love him because men hated him. \"To the persevering mortal,\" said Zoroaster, \"the blessed Immortals are swift.\"\\n\\nAs men\\'s prayers are a disease of the will, so are their creeds a disease of the intellect. They say with those foolish Israelites, \"Let not God speak to us, lest we die. Speak thou, speak any man with us, and we will obey.\" Everywhere I am bereaved of meeting God in my brother, because he has shut his own temple doors and recites fables merely of his brother\\'s, or his brother\\'s brother\\'s God. Every new mind is a new classification. If it prove a mind of uncommon activity and power, a Locke, a Lavoisier, a Hutton, a Bentham, a Spurzheim, it imposes its classification on other men, and lo! a new system. In proportion always to the depth of the thought, and so to the number of the objects it touches and brings within reach of the pupil, is his complacency. But chiefly is this apparent in creeds and churches, which are also classifications of some powerful mind acting on the great elemental thought of Duty and man\\'s relation to the Highest. Such is Calvinism, Quakerism, Swedenborgianism. The pupil takes the same delight in subordinating every thing to the new terminology that a girl does who has just learned botany in seeing a new earth and new seasons thereby. It will happen for a time that the pupil will feel a real debt to the teacher—will find his intellectual power has grown by the study of his writings. This will continue until he has exhausted his master\\'s mind. But in all unbalanced minds the classification is idolized, passes for the end and not for a speedily exhaustible means, so that the walls of the system blend to their eye in the remote horizon with the walls of the universe; the luminaries of heaven seem to them hung on the arch their master built. They cannot imagine how you aliens have any right to see—how you can see: \"It must be somehow that you stole the light from us.\" They do not yet perceive that light, unsystematic, indomitable, will break into any cabin, even into theirs. Let them chirp awhile and call it their own. If they are honest and do well, presently their neat new pinfold will be too strait and low, will crack, will lean, will rot and vanish, and the immortal light, all young and joyful, million-orbed, million-colored, will beam over the universe as on the first morning.\\n\\n2. It is for want of self-culture that the idol of Travelling, the idol of Italy, of England, of Egypt, remains for all educated Americans. They who made England, Italy, or Greece venerable in the imagination, did so not by rambling round creation as a moth round a lamp, but by sticking fast where they were, like an axis of the earth. In manly hours we feel that duty is our place and that the merry men of circumstance should follow as they may. The soul is no traveller: the wise man stays at home with the soul, and when his necessities, his duties, on any occasion call him from his house, or into foreign lands, he is at home still and is not gadding abroad from himself, and shall make men sensible by the expression of his countenance that he goes, the missionary of wisdom and virtue, and visits cities and men like a sovereign and not like an interloper or a valet.\\n\\nI have no churlish objection to the circumnavigation of the globe for the purposes of art, of study, and benevolence, so that the man is first domesticated, or does not go abroad with the hope of finding somewhat greater than he knows. He who travels to be amused or to get somewhat which he does not carry, travels away from himself, and grows old even in youth among old things. In Thebes, in Palmyra, his will and mind have become old and dilapidated as they. He carries ruins to ruins.\\n\\nTravelling is a fool\\'s paradise. We owe to our first journeys the discovery that place is nothing. At home I dream that at Naples, at Rome, I can be intoxicated with beauty and lose my sadness. I pack my trunk, embrace my friends, embark on the sea and at last wake up in Naples, and there beside me is the stern Fact, the sad self, unrelenting, identical, that I fled from. I seek the Vatican and the palaces. I affect to be intoxicated with sights and suggestions, but I am not intoxicated. My giant goes with me wherever I go.\\n\\n3. But the rage of travelling is itself only a symptom of a deeper unsoundness affecting the whole intellectual action. The intellect is vagabond, and the universal system of education fosters restlessness. Our minds travel when our bodies are forced to stay at home. We imitate; and what is imitation but the travelling of the mind? Our houses are built with foreign taste; our shelves are garnished with foreign ornaments; our opinions, our tastes, our whole minds, lean, and follow the Past and the Distant, as the eyes of a maid follow her mistress. The soul created the arts wherever they have flourished. It was in his own mind that the artist sought his model. It was an application of his own thought to the thing to be done and the conditions to be observed. And why need we copy the Doric or the Gothic model? Beauty, convenience, grandeur of thought and quaint expression are as near to us to any, and if the American artist will study with hope and love the precise thing to be done by him, considering the climate, the soil, the length of the day, the wants of the people, the habit and form of the government, he will create a house in which all these will find themselves fitted, and taste and sentiment will be satisfied also.\\n\\nInsist on yourself; never imitate. Your own gift you can present every moment with the cumulative force of a whole life\\'s cultivation; but of the adopted talent of another you have only an extemporaneous half possession. That which each can do best, none but his Maker can teach him. No man yet knows what it is, nor can, till that person has exhibited it. Where is the master who could have taught Shakspeare? Where is the master who could have instructed Franklin, or Washington, or Bacon, or Newton? Every great man is an unique. The Scipionism of Scipio is precisely that part he could not borrow. If anybody will tell me whom the great man imitates in the original crisis when he performs a great act, I will tell him who else than himself can teach him. Shakspeare will never be made by the study of Shakspeare. Do that which is assigned thee and thou canst not hope too much or dare too much. There is at this moment, there is for me an utterance bare and grand as that of the colossal chisel of Phidias, or trowel of the Egyptians, or the pen of Moses or Dante, but different from all these. Not possibly will the soul, all rich, all eloquent, with thousand-cloven tongue, deign to repeat itself; but if I can hear what these patriarchs say, surely I can reply to them in the same pitch of voice; for the ear and the tongue are two organs of one nature. Dwell up there in the simple and noble regions of thy life, obey thy heart and thou shalt reproduce the Foreworld again.\\n\\n4. As our Religion, our Education, our Art look abroad, so does our spirit of society. All men plume themselves on the improvement of society, and no man improves.\\n\\nSociety never advances. It recedes as fast on one side as it gains on the other. Its progress is only apparent like the workers of a treadmill. It undergoes continual changes; it is barbarous, it is civilized, it is christianized, it is rich, it is scientific; but this change is not amelioration. For every thing that is given something is taken. Society acquires new arts and loses old instincts. What a contrast between the well-clad, reading, writing, thinking American, with a watch, a pencil and a bill of exchange in his pocket, and the naked New Zealander, whose property is a club, a spear, a mat and an undivided twentieth of a shed to sleep under. But compare the health of the two men and you see that his aboriginal strength, the white man has lost. If the traveller tell us truly, strike the savage with a broad axe and in a day or two the flesh shall unite and heal as if you struck the blow into soft pitch, and the same blow shall send the white man to his grave.\\n\\nThe civilized man has built a coach, but has lost the use of his feet. He is supported on crutches, but lacks so much support of muscle. He has got a fine Geneva watch, but he has lost the skill to tell the hour by the sun. A Greenwich nautical almanac he has, and so being sure of the information when he wants it, the man in the street does not know a star in the sky. The solstice he does not observe; the equinox he knows as little; and the whole bright calendar of the year is without a dial in his mind. His note-books impair his memory: his libraries overload his wit; the insurance-office increases the number of accidents; and it may be a question whether machinery does not encumber; whether we have not lost by refinement some energy, by a christianity entrenched in establishments and forms some vigor of wild virtue. For every stoic was a stoic; but in Christendom where is the Christian?\\n\\nThere is no more deviation in the moral standard than in the standard of height or bulk. No greater men are now than ever were. A singular equality may be observed between the great men of the first and of the last ages; nor can all the science, art, religion, and philosophy of the nineteenth century avail to educate greater men than Plutarch\\'s heroes, three or four and twenty centuries ago. Not in time is the race progressive. Phocion, Socrates, Anaxagoras, Diogenes, are great men, but they leave no class. He who is really of their class will not be called by their name, but be wholly his own man, and in his turn the founder of a sect. The arts and inventions of each period are only its costume and do not invigorate men. The harm of the improved machinery may compensate its good. Hudson and Behring accomplished so much in their fishing-boats as to astonish Parry and Franklin, whose equipment exhausted the resources of science and art. Galileo, with an opera-glass, discovered a more splendid series of facts than any one since. Columbus found the New World in an undecked boat. It is curious to see the periodical disuse and perishing of means and machinery which were introduced with loud laudation a few years or centuries before. The great genius returns to essential man. We reckoned the improvements of the art of war among the triumphs of science, and yet Napoleon conquered Europe by the Bivouac, which consisted of falling back on naked valor and disencumbering it of all aids. The Emperor held it impossible to make a perfect army, says Las Cases, \"without abolishing our arms, magazines, commissaries and carriages, until, in imitation of the Roman custom, the soldier should receive his supply of corn, grind it in his hand-mill and bake his bread himself.\"\\n\\nSociety is a wave. The wave moves onward, but the water of which it is composed does not. The same particle does not rise from the valley to the ridge. Its unity is only phenomenal. The persons who make up a nation to-day, die, and their experience with them.\\n\\nAnd so the reliance on Property, including the reliance on governments which protect it, is the want of self-reliance. Men have looked away from themselves and at things so long that they have come to esteem what they call the soul\\'s progress, namely, the religious, learned and civil institutions as guards of property, and they deprecate assaults on these, because they feel them to be assaults on property. They measure their esteem of each other by what each has, and not by what each is. But a cultivated man becomes ashamed of his property, ashamed of what he has, out of new respect for his being. Especially he hates what he has if he sees that it is accidental,—came to him by inheritance, or gift, or crime; then he feels that it is not having; it does not belong to him, has no root in him, and merely lies there because no revolution or no robber takes it away. But that which a man is, does always by necessity acquire, and what the man acquires, is permanent and living property, which does not wait the beck of rulers, or mobs, or revolutions, or fire, or storm, or bankruptcies, but perpetually renews itself wherever the man is put. \"Thy lot or portion of life,\" said the Caliph Ali, \"is seeking after thee; therefore be at rest from seeking after if.\" Our dependence on these foreign goods leads us to our slavish respect for numbers. The political parties meet in numerous conventions; the greater the concourse and with each new uproar of announcement, The delegation from Essex! The Democrats from New Hampshire! The Whigs of Maine! the young patriot feels himself stronger than before by a new thousand of eyes and arms. In like manner the reformers summon conventions and vote and resolve in multitude. But not so O friends! will the God deign to enter and inhabit you, but by a method precisely the reverse. It is only as a man puts off from himself all external support and stands alone that I see him to be strong and to prevail. He is weaker by every recruit to his banner. Is not a man better than a town? Ask nothing of men, and, in the endless mutation, thou only firm column must presently appear the upholder of all that surrounds thee. He who knows that power is in the soul, that he is weak only because he has looked for good out of him and elsewhere, and, so perceiving, throws himself unhesitatingly on his thought, instantly rights himself, stands in the erect position, commands his limbs, works miracles; just as a man who stands on his feet is stronger than a man who stands on his head.\\n\\nSo use all that is called Fortune. Most men gamble with her, and gain all, and lose all, as her wheel rolls. But do thou leave as unlawful these winnings, and deal with Cause and Effect, the chancellors of God. In the Will work and acquire, and thou hast chained the wheel of Chance, and shalt always drag her after thee. A political victory, a rise of rents, the recovery of your sick or the return of your absent friend, or some other quite external event raises your spirits, and you think good days are preparing for you. Do not believe it. It can never be so. Nothing can bring you peace but yourself. Nothing can bring you peace but the triumph of principles.\\n'"
            ]
          },
          "execution_count": 37,
          "metadata": {},
          "output_type": "execute_result"
        }
      ],
      "source": [
        "txt"
      ]
    },
    {
      "cell_type": "code",
      "execution_count": null,
      "id": "c0b7a391",
      "metadata": {
        "id": "c0b7a391",
        "outputId": "37ac1a80-c633-444a-addf-e7234bfda969"
      },
      "outputs": [
        {
          "name": "stdout",
          "output_type": "stream",
          "text": [
            "['Self-Reliance', 'By Ralph Waldo Emerson, 1841', '\"Ne te quaesiveris extra.\"', '\"Man is his own star; and the soul that can', 'Render an honest and a perfect man,', 'Commands all light, all influence, all fate;', 'Nothing to him falls early or too late.', 'Our acts our angels are, or good or ill,', 'Our fatal shadows that walk by us still.\"', \"— Epilogue to Beaumont and Fletcher's Honest Man's Fortune.\", 'Cast the bantling on the rocks,', \"Suckle him with the she-wolf's teat,\", 'Wintered with the hawk and fox,', 'Power and speed be hands and feet.', 'I read the other day some verses written by an eminent painter which were original and not conventional. Always the soul hears an admonition in such lines, let the subject be what it may. The sentiment they instill is of more value than any thought they may contain. To believe your own thought, to believe that what is true for you in your private heart is true for all men,-that is genius. Speak your latent conviction, and it shall be the universal sense; for always the inmost becomes the outmost—and our first thought is rendered back to us by the trumpets of the Last Judgment. Familiar as the voice of the mind is to each, the highest merit we ascribe to Moses, Plato and Milton is that they set at naught books and traditions, and spoke not what men, but what they thought. A man should learn to detect and watch that gleam of light which flashes across his mind from within, more than the lustre of the firmament of bards and sages. Yet he dismisses without notice his thought, because it is his. In every work of genius we recognize our own rejected thoughts; they come back to us with a certain alienated majesty. Great works of art have no more affecting lesson for us than this. They teach us to abide by our spontaneous impression with good-humored inflexibility then most when the whole cry of voices is on the other side. Else to-morrow a stranger will say with masterly good sense precisely what we have thought and felt all the time, and we shall be forced to take with shame our own opinion from another.', \"There is a time in every man's education when he arrives at the conviction that envy is ignorance; that imitation is suicide; that he must take himself for better for worse as his portion; that though the wide universe is full of good, no kernel of nourishing corn can come to him but through his toil bestowed on that plot of ground which is given to him to till. The power which resides in him is new in nature, and none but he knows what that is which he can do, nor does he know until he has tried. Not for nothing one face, one character, one fact, makes much impression on him, and another none. It is not without preestablished harmony, this sculpture in the memory. The eye was placed where one ray should fall, that it might testify of that particular ray. Bravely let him speak the utmost syllable of his confession. We but half express ourselves, and are ashamed of that divine idea which each of us represents. It may be safely trusted as proportionate and of good issues, so it be faithfully imparted, but God will not have his work made manifest by cowards. It needs a divine man to exhibit anything divine. A man is relieved and gay when he has put his heart into his work and done his best; but what he has said or done otherwise shall give him no peace. It is a deliverance which does not deliver. In the attempt his genius deserts him; no muse befriends; no invention, no hope.\", 'Trust thyself: every heart vibrates to that iron string. Accept the place the divine providence has found for you, the society of your contemporaries, the connexion of events. Great men have always done so, and confided themselves childlike to the genius of their age, betraying their perception that the Eternal was stirring at their heart, working through their hands, predominating in all their being. And we are now men, and must accept in the highest mind the same transcendent destiny; and not pinched in a corner, not cowards fleeing before a revolution, but redeemers and benefactors, pious aspirants to be noble clay under the Almighty effort let us advance on Chaos and the Dark.', 'What pretty oracles nature yields us on this text in the face and behavior of children, babes, and even brutes. That divided and rebel mind, that distrust of a sentiment because our arithmetic has computed the strength and means opposed to our purpose, these have not. Their mind being whole, their eye is as yet unconquered, and when we look in their faces, we are disconcerted. Infancy conforms to nobody; all conform to it; so that one babe commonly makes four or five out of the adults who prattle and play to it. So God has armed youth and puberty and manhood no less with its own piquancy and charm, and made it enviable and gracious and its claims not to be put by, it will stand by itself. Do not think the youth has no force, because he cannot speak to you and me. Hark! in the next room who spoke so clear and emphatic? It seems he knows how to speak to his contemporaries. Good Heaven! it is he! it is that very lump of bashfulness and phlegm which for weeks has done nothing but eat when you were by, and now rolls out these words like bellstrokes. It seems he knows how to speak to his contemporaries. Bashful or bold then, he will know how to make us seniors very unnecessary.', \"The nonchalance of boys who are sure of a dinner, and would disdain as much as a lord to do or say aught to conciliate one, is the healthy attitude of human nature. How is a boy the master of society; independent, irresponsible, looking out from his corner on such people and facts as pass by, he tries and sentences them on their merits, in the swift, summary way of boys, as good, bad, interesting, silly, eloquent, troublesome. He cumbers himself never about consequences, about interests; he gives an independent, genuine verdict. You must court him; he does not court you. But the man is as it were clapped into jail by his consciousness. As soon as he has once acted or spoken with eclat he is a committed person, watched by the sympathy or the hatred of hundreds, whose affections must now enter into his account. There is no Lethe for this. Ah, that he could pass again into his neutral, godlike independence! Who can thus lose all pledge and, having observed, observe again from the same unaffected, unbiased, unbribable, unaffrighted innocence, must always be formidable, must always engage the poet's and the man's regards. Of such an immortal youth the force would be felt. He would utter opinions on all passing affairs, which being seen to be not private but necessary, would sink like darts into the ear of men and put them in fear.\", 'These are the voices which we hear in solitude, but they grow faint and inaudible as we enter into the world. Society everywhere is in conspiracy against the manhood of every one of its members. Society is a joint-stock company, in which the members agree, for the better securing of his bread to each shareholder, to surrender the liberty and culture of the eater. The virtue in most request is conformity. Self-reliance is its aversion. It loves not realities and creators, but names and customs.', 'Whoso would be a man, must be a nonconformist. He who would gather immortal palms must not be hindered by the name of goodness, but must explore if it be goodness. Nothing is at last sacred but the integrity of our own mind. Absolve you to yourself, and you shall have the suffrage of the world. I remember an answer which when quite young I was prompted to make to a valued adviser who was wont to importune me with the dear old doctrines of the church. On my saying, What have I to do with the sacredness of traditions, if I live wholly from within? my friend suggested,—\"But these impulses may be from below, not from above.\" I replied, \"They do not seem to me to be such; but if I am the devil\\'s child, I will live then from the devil.\" No law can be sacred to me but that of my nature. Good and bad are but names very readily transferable to that or this; the only right is what is after my constitution; the only wrong what is against it. A man is to carry himself in the presence of all opposition as if every thing were titular and ephemeral but he. I am ashamed to think how easily we capitulate to badges and names, to large societies and dead institutions. Every decent and well-spoken individual affects and sways me more than is right. I ought to go upright and vital, and speak the rude truth in all ways. If malice and vanity wear the coat of philanthropy, shall that pass? If an angry bigot assumes this bountiful cause of Abolition, and comes to me with his last news from Barbadoes, why should I not say to him, \"Go love thy infant; love thy wood-chopper; be good-natured and modest; have that grace; and never varnish your hard, uncharitable ambition with this incredible tenderness for black folk a thousand miles off. Thy love afar is spite at home.\" Rough and graceless would be such greeting, but truth is handsomer than the affectation of love. Your goodness must have some edge to it,—else it is none. The doctrine of hatred must be preached, as the counteraction of the doctrine of love, when that pules and whines. I shun father and mother and wife and brother when my genius calls me. I would write on the lintels of the doorpost, Whim. I hope it is somewhat better than whim at last, but we cannot spend the day in explanation. Expect me not to show cause why I seek or why I exclude company. Then, again, do not tell me, as a good man did today, of my obligation to put all poor men in good situations. Are they my poor? I tell thee, thou foolish philanthropist, that I grudge the dollar, the dime, the cent I give to such men as do not belong to me and to whom I do not belong. There is a class of persons to whom by all spiritual affinity I am bought and sold; for them I will go to prison if need be; but your miscellaneous popular charities; the education at college of fools; the building of meeting-houses to the vain end to which many now stand; alms to sots, and the thousand-fold Relief Societies;—though I confess with shame I sometimes succumb and give the dollar, it is a wicked dollar, which by-and-by I shall have the manhood to withhold.', 'Virtues are, in the popular estimate, rather the exception than the rule. There is the man and his virtues. Men do what is called a good action, as some piece of courage or charity, much as they would pay a fine in expiation of daily non-appearance on parade. Their works are done as an apology or extenuation of their living in the world,—as invalids and the insane pay a high board. Their virtues are penances. I do not wish to expiate, but to live. My life is not an apology, but a life. It is for itself and not for a spectacle. I much prefer that it should be of a lower strain, so it be genuine and equal, than that it should be glittering and unsteady. I wish it to be sound and sweet, and not to need diet and bleeding. My life should be unique; it should be an alms, a battle, a conquest, a medicine. I ask primary evidence that you are a man, and refuse this appeal from the man to his actions. I know that for myself it makes no difference whether I do or forbear those actions which are reckoned excellent. I cannot consent to pay for a privilege where I have intrinsic right. Few and mean as my gifts may be, I actually am, and do not need for my own assurance or the assurance of my fellows any secondary testimony.', \"What I must do is all that concerns me, not what the people think. This rule, equally arduous in actual and in intellectual life, may serve for the whole distinction between greatness and meanness. It is the harder because you will always find those who think they know what is your duty better than you know it. It is easy in the world to live after the world's opinion; it is easy in solitude to live after our own; but the great man is he who in the midst of the crowd keeps with perfect sweetness the independence of solitude.\", 'The objection to conforming to usages that have become dead to you is that it scatters your force. It loses your time and blurs the impression of your character. If you maintain a dead church, contribute to a dead Bible Society, vote with a great party either for the Government or against it, spread your table like base housekeepers,—under all these screens I have difficulty to detect the precise man you are. And of course so much force is withdrawn from your proper life. But do your thing, and I shall know you. Do your work, and you shall reinforce yourself. A man must consider what a blindman\\'s-buff is this game of conformity. If I know your sect I anticipate your argument. I hear a preacher announce for his text and topic the expediency of one of the institutions of his church. Do I not know beforehand that not possibly can he say a new and spontaneous word? Do I not know that with all this ostentation of examining the grounds of the institution he will do no such thing? Do I not know that he is pledged to himself not to look but at one side, the permitted side, not as a man, but as a parish minister? He is a retained attorney, and these airs of the bench are the emptiest affectation. Well, most men have bound their eyes with one or another handkerchief, and attached themselves to some one of these communities of opinion. This conformity makes them not false in a few particulars, authors of a few lies, but false in all particulars. Their every truth is not quite true. Their two is not the real two, their four not the real four: so that every word they say chagrins us and we know not where to begin to set them right. Meantime nature is not slow to equip us in the prison-uniform of the party to which we adhere. We come to wear one cut of face and figure, and acquire by degrees the gentlest asinine expression. There is a mortifying experience in particular, which does not fail to wreak itself also in the general history; I mean \"the foolish face of praise,\" the forced smile which we put on in company where we do not feel at ease, in answer to conversation which does not interest us. The muscles, not spontaneously moved but moved by a low usurping wilfulness, grow tight about the outline of the face, and make the most disagreeable sensation; a sensation of rebuke and warning which no brave young man will suffer twice.', \"For non-conformity the world whips you with its displeasure. And therefore a man must know how to estimate a sour face. The bystanders look askance on him in the public street or in the friend's parlor. If this aversation had its origin in contempt and resistance like his own he might well go home with a sad countenance; but the sour faces of the multitude, like their sweet faces, have no deep cause—disguise no god, but are put on and off as the wind blows and a newspaper directs. Yet is the discontent of the multitude more formidable than that of the senate and the college. It is easy enough for a firm man who knows the world to brook the rage of the cultivated classes. Their rage is decorous and prudent, for they are timid, as being very vulnerable themselves. But when to their feminine rage the indignation of the people is added, when the ignorant and the poor are aroused, when the unintelligent brute force that lies at the bottom of society is made to growl and mow, it needs the habit of magnanimity and religion to treat it godlike as a trifle of no concernment.\", 'The other terror that scares us from self-trust is our consistency; a reverence for our past act or word because the eyes of others have no other data for computing our orbit than our past acts, and we are loath to disappoint them.', 'But why should you keep your head over your shoulder? Why drag about this monstrous corpse of your memory, lest you contradict somewhat you have stated in this or that public place? Suppose you should contradict yourself; what then? It seems to be a rule of wisdom never to rely on your memory alone, scarcely even in acts of pure memory, but to bring the past for judgment into the thousand eyed present, and live ever in a new day. Trust your emotion. In your metaphysics you have denied personality to the Deity, yet when the devout motions of the soul come, yield to them heart and life, though they should clothe God with shape and color. Leave your theory, as Joseph his coat in the hand of the harlot, and flee.', \"A foolish consistency is the hobgoblin of little minds, adored by little statesmen and philosophers and divines. With consistency a great soul has simply nothing to do. He may as well concern himself with his shadow on the wall. Out upon your guarded lips! Sew them up with packthread, do. Else if you would be a man speak what you think to-day in words as hard as cannon balls, and to-morrow speak what to-morrow thinks in hard words again, though it contradict every thing you said to-day. Ah, then, exclaim the aged ladies, you shall be sure to be misunderstood! Misunderstood! It is a right fool's word. Is it so bad then to be misunderstood? Pythagoras was misunderstood, and Socrates, and Jesus, and Luther, and Copernicus, and Galileo, and Newton, and every pure and wise spirit that ever took flesh. To be great is to be misunderstood.\", 'I suppose no man can violate his nature. All the sallies of his will are rounded in by the law of his being, as the inequalities of Andes and Himmaleh are insignificant in the curve of the sphere. Nor does it matter how you gauge and try him. A character is like an acrostic or Alexandrian stanza;—read it forward, backward, or across, it still spells the same thing. In this pleasing contrite wood-life which God allows me, let me record day by day my honest thought without prospect or retrospect, and I cannot doubt, it will be found symmetrical, though I mean it not and see it not. My book should smell of pines and resound with the hum of insects. The swallow over my window should interweave that thread or straw he carries in his bill into my web also. We pass for what we are. Character teaches above our wills. Men imagine that they communicate their virtue or vice only by overt actions, and do not see that virtue or vice emit a breath every moment.', \"Fear never but you shall be consistent in whatever variety of actions, so they be each honest and natural in their hour. For of one will, the actions will be harmonious, however unlike they seem. These varieties are lost sight of when seen at a little distance, at a little height of thought. One tendency unites them all. The voyage of the best ship is a zigzag line of a hundred tacks. This is only microscopic criticism. See the line from a sufficient distance, and it straightens itself to the average tendency. Your genuine action will explain itself and will explain your other genuine actions. Your conformity explains nothing. Act singly, and what you have already done singly will justify you now. Greatness always appeals to the future. If I can be great enough now to do right and scorn eyes, I must have done so much right before as to defend me now. Be it how it will, do right now. Always scorn appearances and you always may. The force of character is cumulative. All the foregone days of virtue work their health into this. What makes the majesty of the heroes of the senate and the field, which so fills the imagination? The consciousness of a train of great days and victories behind. There they all stand and shed an united light on the advancing actor. He is attended as by a visible escort of angels to every man's eye. That is it which throws thunder into Chatham's voice, and dignity into Washington's port, and America into Adam's eye. Honor is venerable to us because it is no ephemeris. It is always ancient virtue. We worship it to-day because it is not of to-day. We love it and pay it homage because it is not a trap for our love and homage, but is self-dependent, self-derived, and therefore of an old immaculate pedigree, even if shown in a young person.\", 'I hope in these days we have heard the last of conformity and consistency. Let the words be gazetted and ridiculous henceforward. Instead of the gong for dinner, let us hear a whistle from the Spartan fife. Let us bow and apologize never more. A great man is coming to eat at my house. I do not wish to please him: I wish that he should wish to please me. I will stand here for humanity, and though I would make it kind, I would make it true. Let us affront and reprimand the smooth mediocrity and squalid contentment of the times, and hurl in the face of custom and trade and office, the fact which is the upshot of all history, that there is a great responsible Thinker and Actor moving wherever moves a man; that a true man belongs to no other time or place, but is the centre of things. Where he is, there is nature. He measures you and all men and all events. You are constrained to accept his standard. Ordinarily, every body in society reminds us of somewhat else, or of some other person. Character, reality, reminds you of nothing else; it takes place of the whole creation. The man must be so much that he must make all circumstances indifferent—put all means into the shade. This all great men are and do. Every true man is a cause, a country, and an age; requires infinite spaces and numbers and time fully to accomplish his thought;—and posterity seem to follow his steps as a procession. A man Cæsar is born, and for ages after we have a Roman Empire. Christ is born, and millions of minds so grow and cleave to his genius that he is confounded with virtue and the possible of man. An institution is the lengthened shadow of one man; as, the Reformation, of Luther; Quakerism, of Fox; Methodism, of Wesley; Abolition, of Clarkson. Scipio, Milton called \"the height of Rome;\" and all history resolves itself very easily into the biography of a few stout and earnest persons.', \"Let a man then know his worth, and keep things under his feet. Let him not peep or steal, or skulk up and down with the air of a charity-boy, a bastard, or an interloper in the world which exists for him. But the man in the street, finding no worth in himself which corresponds to the force which built a tower or sculptured a marble god, feels poor when he looks at these. To him a palace, a statue, or a costly book have an alien and forbidding air, much like a gay equipage, and seem to say like that, ‘Who are you, sir?' Yet they all are his, suitors for his notice, petitioners to his faculties that they will come out and take possession. The picture waits for my verdict; it is not to command me, but I am to settle its claim to praise. That popular fable of the sot who was picked up dead drunk in the street, carried to the duke's house, washed and dressed and laid in the duke's bed, and, on his waking, treated with all obsequious ceremony like the duke, and assured that he had been insane—owes its popularity to the fact that it symbolizes so well the state of man, who is in the world a sort of sot, but now and then wakes up, exercises his reason and finds himself a true prince.\", \"Our reading is mendicant and sycophantic. In history our imagination makes fools of us, plays us false. Kingdom and lordship, power and estate, are a gaudier vocabulary than private John and Edward in a small house and common day's work: but the things of life are the same to both: the sum total of both is the same. Why all this deference to Alfred and Scanderbeg and Gustavus? Suppose they were virtuous; did they wear out virtue? As great a stake depends on your private act to-day as followed their public and renowned steps. When private men shall act with original views, the lustre will be transferred from the actions of kings to those of gentlemen.\", 'The world has indeed been instructed by its kings, who have so magnetized the eyes of nations. It has been taught by this colossal symbol the mutual reverence that is due from man to man. The joyful loyalty with which men have everywhere suffered the king, the noble, or the great proprietor to walk among them by a law of his own, make his own scale of men and things and reverse theirs, pay for benefits not with money but with honor, and represent the Law in his person, was the hieroglyphic by which they obscurely signified their consciousness of their own right and comeliness, the right of every man.', 'The magnetism which all original action exerts is explained when we inquire the reason of self-trust. Who is the Trustee? What is the aboriginal Self, on which a universal reliance may be grounded? What is the nature and power of that science-baffling star, without parallax, without calculable elements, which shoots a ray of beauty even into trivial and impure actions, if the least mark of independence appear? The inquiry leads us to that source, at once the essence of genius, the essence of virtue, and the essence of life, which we call Spontaneity or Instinct. We denote this primary wisdom as Intuition, whilst all later teachings are tuitions. In that deep force, the last fact behind which analysis cannot go, all things find their common origin. For the sense of being which in calm hours rises, we know not how, in the soul, is not diverse from things, from space from light, from time, from man, but one with them and proceedeth obviously from the same source whence their life and being also proceedeth. We first share the life by which things exist and afterwards see them as appearances in nature and forget that we have shared their cause. Here is the fountain of action and the fountain of thought. Here are the lungs of that inspiration which giveth man wisdom, of that inspiration of man which cannot be denied without impiety and atheism. We lie in the lap of immense intelligence, which makes us organs of its activity and receivers of its truth. When we discern justice, when we discern truth, we do nothing of ourselves, but allow a passage to its beams. If we ask whence this comes, if we seek to pry into the soul that causes—all metaphysics, all philosophy is at fault. Its presence or its absence is all we can affirm. Every man discerns between the voluntary acts of his mind and his involuntary perceptions. And to his involuntary perceptions he knows a perfect respect is due. He may err in the expression of them, but he knows that these things are so, like day and night, not to be disputed. All my wilful actions and acquisitions are but roving;—the most trivial reverie, the faintest native emotion, are domestic and divine. Thoughtless people contradict as readily the statement of perceptions as of opinions, or rather much more readily; for they do not distinguish between perception and notion. They fancy that I choose to see this or that thing. But perception is not whimsical, but fatal. If I see a trait, my children will see it after me, and in course of time all mankind,—although it may chance that no one has seen it before me. For my perception of it is as much a fact as the sun.', 'The relations of the soul to the divine spirit are so pure that it is profane to seek to interpose helps. It must be that when God speaketh he should communicate, not one thing, but all things; should fill the world with his voice; should scatter forth light, nature, time, souls, from the centre of the present thought; and new date and new create the whole. Whenever a mind is simple and receives a divine wisdom, then old things pass away,—means, teachers, texts, temples fall; it lives now, and absorbs past and future into the present hour. All things are made sacred by relation to it,—one thing as much as another. All things are dissolved to their centre by their cause, and in the universal miracle petty and particular miracles disappear. This is and must be. If therefore a man claims to know and speak of God and carries you backward to the phraseology of some old mouldered nation in another country, in another world, believe him not. Is the acorn better than the oak which is its fulness and completion? Is the parent better than the child into whom he has cast his ripened being? Whence then this worship of the past? The centuries are conspirators against the sanity and majesty of the soul. Time and space are but physiological colors which the eye maketh, but the soul is light; where it is, is day; where it was, is night; and history is an impertinence and an injury if it be any thing more than a cheerful apologue or parable of my being and becoming.', 'Man is timid and apologetic; he is no longer upright; he dares not say \"I think,\" \"I am,\" but quotes some saint or sage. He is ashamed before the blade of grass or the blowing rose. These roses under my window make no reference to former roses or to better ones; they are for what they are; they exist with God to-day. There is no time to them. There is simply the rose; it is perfect in every moment of its existence. Before a leaf-bud has burst, its whole life acts; in the fullblown flower there is no more; in the leafless root there is no less. Its nature is satisfied and it satisfies nature in all moments alike. There is no time to it. But man postpones or remembers; he does not live in the present, but with reverted eye laments the past, or, heedless of the riches that surround him, stands on tiptoe to foresee the future. He cannot be happy and strong until he too lives with nature in the present, above time.', 'This should be plain enough. Yet see what strong intellects dare not yet hear God himself unless he speak the phraseology of I know not what David, or Jeremiah, or Paul. We shall not always set so great a price on a few texts, on a few lives. We are like children who repeat by rote the sentences of grandames and tutors, and, as they grow older, of the men of talents and character they chance to see,—painfully recollecting the exact words they spoke; afterwards, when they come into the point of view which those had who uttered these sayings, they understand them and are willing to let the words go; for at any time they can use words as good when occasion comes. So was it with us, so will it be, if we proceed. If we live truly, we shall see truly. It is as easy for the strong man to be strong, as it is for the weak to be weak. When we have new perception, we shall gladly disburthen the memory of its hoarded treasures as old rubbish. When a man lives with God, his voice shall be as sweet as the murmur of the brook and the rustle of the corn.', 'And now at last the highest truth on this subject remains unsaid; probably cannot be said; for all that we say is the far off remembering of the intuition. That thought, by what I can now nearest approach to say it, is this. When good is near you, when you have life in yourself,—it is not by any known or appointed way; you shall not discern the footprints of any other; you shall not see the face of man; you shall not hear any name;—the way, the thought, the good, shall be wholly strange and new. It shall exclude all other being. You take the way from man, not to man. All persons that ever existed are its fugitive ministers. There shall be no fear in it. Fear and hope are alike beneath it. It asks nothing. There is somewhat low even in hope. We are then in vision. There is nothing that can be called gratitude, nor properly joy. The soul is raised over passion. It seeth identity and eternal causation. It is a perceiving that Truth and Right are. Hence it becomes a Tranquillity out of the knowing that all things go well. Vast spaces of nature; the Atlantic Ocean, the South Sea; vast intervals of time, years, centuries, are of no account. This which I think and feel underlay that former state of life and circumstances, as it does underlie my present and will always all circumstances, and what is called life and what is called death.', 'Life only avails, not the having lived. Power ceases in the instant of repose; it resides in the moment of transition from a past to a new state, in the shooting of the gulf, in the darting to an aim. This one fact the world hates, that the soul becomes; for that forever degrades the past; turns all riches to poverty, all reputation to a shame; confounds the saint with the rogue; shoves Jesus and Judas equally aside. Why then do we prate of self-reliance? Inasmuch as the soul is present there will be power not confident but agent. To talk of reliance is a poor external way of speaking. Speak rather of that which relies because it works and is. Who has more soul than I masters me, though he should not raise his finger. Round him I must revolve by the gravitation of spirits. Who has less I rule with like facility. We fancy it rhetoric when we speak of eminent virtue. We do not yet see that virtue is Height, and that a man or a company of men, plastic and permeable to principles, by the law of nature must overpower and ride all cities, nations, kings, rich men, poets, who are not.', \"This is the ultimate fact which we so quickly reach on this, as on every topic, the resolution of all into the ever-blessed ONE. Virtue is the governor, the creator, the reality. All things real are so by so much virtue as they contain. Hardship, husbandry, hunting, whaling, war, eloquence, personal weight, are somewhat, and engage my respect as examples of the soul's presence and impure action. I see the same law working in nature for conservation and growth. The poise of a planet, the bended tree recovering itself from the strong wind, the vital resources of every animal and vegetable, are also demonstrations of the self-sufficing and therefore self-relying soul. All history, from its highest to its trivial passages, is the various record of this power.\", 'Thus all concentrates; let us not rove; let us sit at home with the cause. Let us stun and astonish the intruding rabble of men and books and institutions by a simple declaration of the divine fact. Bid them take the shoes from off their feet, for God is here within. Let our simplicity judge them, and our docility to our own law demonstrate the poverty of nature and fortune beside our native riches.', 'But now we are a mob. Man does not stand in awe of man, nor is the soul admonished to stay at home, to put itself in communication with the internal ocean, but it goes abroad to beg a cup of water of the urns of men. We must go alone. Isolation must precede true society. I like the silent church before the service begins, better than any preaching. How far off, how cool, how chaste the persons look, begirt each one with a precinct or sanctuary. Se let us always sit. Why should we assume the faults of our friend, or wife, or father, or child, because they sit around our hearth, or are said to have the same blood? All men have my blood and I have all men\\'s. Not for that will I adopt their petulance or folly, even to the extent of being ashamed of it. But your isolation must not be mechanical, but spiritual, that is, must be elevation. At times the whole world seems to be in conspiracy to importune you with emphatic trifles. Friend, client, child, sickness, fear, want, charity, all knock at once at thy closet door and say, \"Come out unto us.\"—Do not spill thy soul; do not all descend; keep thy state; stay at home in thine own heaven; come not for a moment into their facts, into their hubbub of conflicting appearances, but let in the light of thy law on their confusion. The power men possess to annoy me I give them by a weak curiosity. No man can come near me but through my act. \"What we love that we have, but by desire we bereave ourselves of the love.\"', \"If we cannot at once rise to the sanctities of obedience and faith, let us at least resist our temptations, let us enter into the state of war and wake Thor and Woden, courage and constancy, in our Saxon breasts. This is to be done in our smooth times by speaking the truth. Check this lying hospitality and lying affection. Live no longer to the expectation of these deceived and deceiving people with whom we converse. Say to them, O father, O mother, O wife, O brother, O friend, I have lived with you after appearances hitherto. Henceforward I am the truth's. Be it known unto you that henceforward I obey no law less than the eternal law. I will have no covenants but proximities. I shall endeavor to nourish my parents, to support my family, to be the chaste husband of one wife,—but these relations I must fill after a new and unprecedented way. I appeal from your customs. I must be myself. I cannot break myself any longer for you, or you. If you can love me for what I am, we shall be happier. If you cannot, I will still seek to deserve that you should. I must be myself. I will not hide my tastes or aversions. I will so trust that what is deep is holy, that I will do strongly before the sun and moon whatever inly rejoices me and the heart appoints. If you are noble, I will love you; if you are not, I will not hurt you and myself by hypocritical attentions. If you are true, but not in the same truth with me, cleave to your companions; I will seek my own. I do this not selfishly but humbly and truly. It is alike your interest, and mine, and all men's, however long we have dwelt in lies, to live in truth. Does this sound harsh to-day? You will soon love what is dictated by your nature as well as mine, and if we follow the truth it will bring us out safe at last.—But so may you give these friends pain. Yes, but I cannot sell my liberty and my power, to save their sensibility. Besides, all persons have their moments of reason, when they look out into the region of absolute truth; then will they justify me and do the same thing.\", 'The populace think that your rejection of popular standards is a rejection of all standard, and mere antinomianism; and the bold sensualist will use the name of philosophy to gild his crimes. But the law of consciousness abides. There are two confessionals, in one or the other of which we must be shriven. You may fulfil your round of duties by clearing yourself in the direct, or in the reflex way. Consider whether you have satisfied your relations to father, mother, cousin, neighbor, town, cat and dog; whether any of these can upbraid you. But I may also neglect this reflex standard and absolve me to myself. I have my own stern claims and perfect circle. It denies the name of duty to many offices that are called duties. But if I can discharge its debts it enables me to dispense with the popular code. If any one imagines that this law is lax, let him keep its commandment one day.', 'And truly it demands something godlike in him who has cast off the common motives of humanity and has ventured to trust himself for a task-master. High be his heart, faithful his will, clear his sight, that he may in good earnest be doctrine, society, law, to himself, that a simple purpose may be to him as strong as iron necessity is to others.', 'If any man consider the present aspects of what is called by distinction society, he will see the need of these ethics, The sinew and heart of man seem to be drawn out, and we are become timorous desponding whimperers. We are afraid of truth, afraid of fortune, afraid of death, and afraid of each other. Our age yields no great and perfect persons. We want men and women who shall renovate life and our social state, but we see that most natures are insolvent; cannot satisfy their own wants, have an ambition out of all proportion to their practical force, and so do lean and beg day and night continually. Our housekeeping is mendicant, our arts, our occupations, our marriages, our religion we have not chosen, but society has chosen for us. We are parlor soldiers. The rugged battle of fate, where strength is born, we shun.', 'If our young men miscarry in their first enterprises they lose all heart. If the young merchant fails, men say he is ruined. If the finest genius studies at one of our colleges, and is not installed in an office within one year afterwards, in the cities or suburbs of Boston or New York, it seems to his friends and to himself that he is right in being disheartened and in complaining the rest of his life. A sturdy lad from New Hamsphire or Vermont, who in turn tries all the professions, who teams it, farms it, peddles, keeps a school, preaches, edits a newspaper, goes to Congress, buys a township, and so forth, in successive years, and always like a cat falls on his feet, is worth a hundred of these city dolls. He walks abreast with his days and feels no shame in not \"studying a profession,\" for he does not postpone his life, but lives already. He has not one chance, but a hundred chances. Let a stoic arise who shall reveal the resources of man and tell men they are not leaning willows, but can and must detach themselves; that with the exercise of self-trust, new powers shall appear; that a man is the word made flesh, born to shed healing to the nations, that he should be ashamed of our compassion, and that the moment he acts from himself, tossing the laws, the books, idolatries and customs out of the window,—we pity him no more but thank and revere him;—and that teacher shall restore the life of man to splendor and make his name dear to all History.', 'It is easy to see that a greater self-reliance—a new respect for the divinity in man—must work a revolution in all the offices and relations of men; in their religion; in their education; in their pursuits; their modes of living; their association; in their property; in their speculative views.', '1. In what prayers do men allow themselves! That which they call a holy office is not so much as brave and manly. Prayer looks abroad and asks for some foreign addition to come through some foreign virtue, and loses itself in endless mazes of natural and supernatural, and mediatorial and miraculous. Prayer that craves a particular commodity—anything less than all good, is vicious. Prayer is the contemplation of the facts of life from the highest point of view. It is the soliloquy of a beholding and jubilant soul. It is the spirit of God pronouncing his works good. But prayer as a means to effect a private end is theft and meanness. It supposes dualism and not unity in nature and consciousness. As soon as the man is at one with God, he will not beg. He will then see prayer in all action. The prayer of the farmer kneeling in his field to weed it, the prayer of the rower kneeling with the stroke of his oar, are true prayers heard throughout nature, though for cheap ends. Caratach, in Fletcher\\'s Bonduca, when admonished to inquire the mind of the god Audate, replies: \"His hidden meaning lies in our endeavors; Our valors are our best gods.\"', 'Another sort of false prayers are our regrets. Discontent is the want of self-reliance: it is infirmity of will. Regret calamities if you can thereby help the sufferer; if not, attend your own work and already the evil begins to be repaired. Our sympathy is just as base. We come to them who weep foolishly and sit down and cry for company, instead of imparting to them truth and health in rough electric shocks, putting them once more in communication with the soul. The secret of fortune is joy in our hands. Welcome evermore to gods and men is the self-helping man. For him all doors are flung wide. Him all tongues greet, all honors crown, all eyes follow with desire. Our love goes out to him and embraces him because he did not need it. We solicitously and apologetically caress and celebrate him because he held on his way and scorned our disapprobation. The gods love him because men hated him. \"To the persevering mortal,\" said Zoroaster, \"the blessed Immortals are swift.\"', 'As men\\'s prayers are a disease of the will, so are their creeds a disease of the intellect. They say with those foolish Israelites, \"Let not God speak to us, lest we die. Speak thou, speak any man with us, and we will obey.\" Everywhere I am bereaved of meeting God in my brother, because he has shut his own temple doors and recites fables merely of his brother\\'s, or his brother\\'s brother\\'s God. Every new mind is a new classification. If it prove a mind of uncommon activity and power, a Locke, a Lavoisier, a Hutton, a Bentham, a Spurzheim, it imposes its classification on other men, and lo! a new system. In proportion always to the depth of the thought, and so to the number of the objects it touches and brings within reach of the pupil, is his complacency. But chiefly is this apparent in creeds and churches, which are also classifications of some powerful mind acting on the great elemental thought of Duty and man\\'s relation to the Highest. Such is Calvinism, Quakerism, Swedenborgianism. The pupil takes the same delight in subordinating every thing to the new terminology that a girl does who has just learned botany in seeing a new earth and new seasons thereby. It will happen for a time that the pupil will feel a real debt to the teacher—will find his intellectual power has grown by the study of his writings. This will continue until he has exhausted his master\\'s mind. But in all unbalanced minds the classification is idolized, passes for the end and not for a speedily exhaustible means, so that the walls of the system blend to their eye in the remote horizon with the walls of the universe; the luminaries of heaven seem to them hung on the arch their master built. They cannot imagine how you aliens have any right to see—how you can see: \"It must be somehow that you stole the light from us.\" They do not yet perceive that light, unsystematic, indomitable, will break into any cabin, even into theirs. Let them chirp awhile and call it their own. If they are honest and do well, presently their neat new pinfold will be too strait and low, will crack, will lean, will rot and vanish, and the immortal light, all young and joyful, million-orbed, million-colored, will beam over the universe as on the first morning.', '2. It is for want of self-culture that the idol of Travelling, the idol of Italy, of England, of Egypt, remains for all educated Americans. They who made England, Italy, or Greece venerable in the imagination, did so not by rambling round creation as a moth round a lamp, but by sticking fast where they were, like an axis of the earth. In manly hours we feel that duty is our place and that the merry men of circumstance should follow as they may. The soul is no traveller: the wise man stays at home with the soul, and when his necessities, his duties, on any occasion call him from his house, or into foreign lands, he is at home still and is not gadding abroad from himself, and shall make men sensible by the expression of his countenance that he goes, the missionary of wisdom and virtue, and visits cities and men like a sovereign and not like an interloper or a valet.', 'I have no churlish objection to the circumnavigation of the globe for the purposes of art, of study, and benevolence, so that the man is first domesticated, or does not go abroad with the hope of finding somewhat greater than he knows. He who travels to be amused or to get somewhat which he does not carry, travels away from himself, and grows old even in youth among old things. In Thebes, in Palmyra, his will and mind have become old and dilapidated as they. He carries ruins to ruins.', \"Travelling is a fool's paradise. We owe to our first journeys the discovery that place is nothing. At home I dream that at Naples, at Rome, I can be intoxicated with beauty and lose my sadness. I pack my trunk, embrace my friends, embark on the sea and at last wake up in Naples, and there beside me is the stern Fact, the sad self, unrelenting, identical, that I fled from. I seek the Vatican and the palaces. I affect to be intoxicated with sights and suggestions, but I am not intoxicated. My giant goes with me wherever I go.\", '3. But the rage of travelling is itself only a symptom of a deeper unsoundness affecting the whole intellectual action. The intellect is vagabond, and the universal system of education fosters restlessness. Our minds travel when our bodies are forced to stay at home. We imitate; and what is imitation but the travelling of the mind? Our houses are built with foreign taste; our shelves are garnished with foreign ornaments; our opinions, our tastes, our whole minds, lean, and follow the Past and the Distant, as the eyes of a maid follow her mistress. The soul created the arts wherever they have flourished. It was in his own mind that the artist sought his model. It was an application of his own thought to the thing to be done and the conditions to be observed. And why need we copy the Doric or the Gothic model? Beauty, convenience, grandeur of thought and quaint expression are as near to us to any, and if the American artist will study with hope and love the precise thing to be done by him, considering the climate, the soil, the length of the day, the wants of the people, the habit and form of the government, he will create a house in which all these will find themselves fitted, and taste and sentiment will be satisfied also.', \"Insist on yourself; never imitate. Your own gift you can present every moment with the cumulative force of a whole life's cultivation; but of the adopted talent of another you have only an extemporaneous half possession. That which each can do best, none but his Maker can teach him. No man yet knows what it is, nor can, till that person has exhibited it. Where is the master who could have taught Shakspeare? Where is the master who could have instructed Franklin, or Washington, or Bacon, or Newton? Every great man is an unique. The Scipionism of Scipio is precisely that part he could not borrow. If anybody will tell me whom the great man imitates in the original crisis when he performs a great act, I will tell him who else than himself can teach him. Shakspeare will never be made by the study of Shakspeare. Do that which is assigned thee and thou canst not hope too much or dare too much. There is at this moment, there is for me an utterance bare and grand as that of the colossal chisel of Phidias, or trowel of the Egyptians, or the pen of Moses or Dante, but different from all these. Not possibly will the soul, all rich, all eloquent, with thousand-cloven tongue, deign to repeat itself; but if I can hear what these patriarchs say, surely I can reply to them in the same pitch of voice; for the ear and the tongue are two organs of one nature. Dwell up there in the simple and noble regions of thy life, obey thy heart and thou shalt reproduce the Foreworld again.\", '4. As our Religion, our Education, our Art look abroad, so does our spirit of society. All men plume themselves on the improvement of society, and no man improves.', 'Society never advances. It recedes as fast on one side as it gains on the other. Its progress is only apparent like the workers of a treadmill. It undergoes continual changes; it is barbarous, it is civilized, it is christianized, it is rich, it is scientific; but this change is not amelioration. For every thing that is given something is taken. Society acquires new arts and loses old instincts. What a contrast between the well-clad, reading, writing, thinking American, with a watch, a pencil and a bill of exchange in his pocket, and the naked New Zealander, whose property is a club, a spear, a mat and an undivided twentieth of a shed to sleep under. But compare the health of the two men and you see that his aboriginal strength, the white man has lost. If the traveller tell us truly, strike the savage with a broad axe and in a day or two the flesh shall unite and heal as if you struck the blow into soft pitch, and the same blow shall send the white man to his grave.', 'The civilized man has built a coach, but has lost the use of his feet. He is supported on crutches, but lacks so much support of muscle. He has got a fine Geneva watch, but he has lost the skill to tell the hour by the sun. A Greenwich nautical almanac he has, and so being sure of the information when he wants it, the man in the street does not know a star in the sky. The solstice he does not observe; the equinox he knows as little; and the whole bright calendar of the year is without a dial in his mind. His note-books impair his memory: his libraries overload his wit; the insurance-office increases the number of accidents; and it may be a question whether machinery does not encumber; whether we have not lost by refinement some energy, by a christianity entrenched in establishments and forms some vigor of wild virtue. For every stoic was a stoic; but in Christendom where is the Christian?', 'There is no more deviation in the moral standard than in the standard of height or bulk. No greater men are now than ever were. A singular equality may be observed between the great men of the first and of the last ages; nor can all the science, art, religion, and philosophy of the nineteenth century avail to educate greater men than Plutarch\\'s heroes, three or four and twenty centuries ago. Not in time is the race progressive. Phocion, Socrates, Anaxagoras, Diogenes, are great men, but they leave no class. He who is really of their class will not be called by their name, but be wholly his own man, and in his turn the founder of a sect. The arts and inventions of each period are only its costume and do not invigorate men. The harm of the improved machinery may compensate its good. Hudson and Behring accomplished so much in their fishing-boats as to astonish Parry and Franklin, whose equipment exhausted the resources of science and art. Galileo, with an opera-glass, discovered a more splendid series of facts than any one since. Columbus found the New World in an undecked boat. It is curious to see the periodical disuse and perishing of means and machinery which were introduced with loud laudation a few years or centuries before. The great genius returns to essential man. We reckoned the improvements of the art of war among the triumphs of science, and yet Napoleon conquered Europe by the Bivouac, which consisted of falling back on naked valor and disencumbering it of all aids. The Emperor held it impossible to make a perfect army, says Las Cases, \"without abolishing our arms, magazines, commissaries and carriages, until, in imitation of the Roman custom, the soldier should receive his supply of corn, grind it in his hand-mill and bake his bread himself.\"', 'Society is a wave. The wave moves onward, but the water of which it is composed does not. The same particle does not rise from the valley to the ridge. Its unity is only phenomenal. The persons who make up a nation to-day, die, and their experience with them.', 'And so the reliance on Property, including the reliance on governments which protect it, is the want of self-reliance. Men have looked away from themselves and at things so long that they have come to esteem what they call the soul\\'s progress, namely, the religious, learned and civil institutions as guards of property, and they deprecate assaults on these, because they feel them to be assaults on property. They measure their esteem of each other by what each has, and not by what each is. But a cultivated man becomes ashamed of his property, ashamed of what he has, out of new respect for his being. Especially he hates what he has if he sees that it is accidental,—came to him by inheritance, or gift, or crime; then he feels that it is not having; it does not belong to him, has no root in him, and merely lies there because no revolution or no robber takes it away. But that which a man is, does always by necessity acquire, and what the man acquires, is permanent and living property, which does not wait the beck of rulers, or mobs, or revolutions, or fire, or storm, or bankruptcies, but perpetually renews itself wherever the man is put. \"Thy lot or portion of life,\" said the Caliph Ali, \"is seeking after thee; therefore be at rest from seeking after if.\" Our dependence on these foreign goods leads us to our slavish respect for numbers. The political parties meet in numerous conventions; the greater the concourse and with each new uproar of announcement, The delegation from Essex! The Democrats from New Hampshire! The Whigs of Maine! the young patriot feels himself stronger than before by a new thousand of eyes and arms. In like manner the reformers summon conventions and vote and resolve in multitude. But not so O friends! will the God deign to enter and inhabit you, but by a method precisely the reverse. It is only as a man puts off from himself all external support and stands alone that I see him to be strong and to prevail. He is weaker by every recruit to his banner. Is not a man better than a town? Ask nothing of men, and, in the endless mutation, thou only firm column must presently appear the upholder of all that surrounds thee. He who knows that power is in the soul, that he is weak only because he has looked for good out of him and elsewhere, and, so perceiving, throws himself unhesitatingly on his thought, instantly rights himself, stands in the erect position, commands his limbs, works miracles; just as a man who stands on his feet is stronger than a man who stands on his head.', 'So use all that is called Fortune. Most men gamble with her, and gain all, and lose all, as her wheel rolls. But do thou leave as unlawful these winnings, and deal with Cause and Effect, the chancellors of God. In the Will work and acquire, and thou hast chained the wheel of Chance, and shalt always drag her after thee. A political victory, a rise of rents, the recovery of your sick or the return of your absent friend, or some other quite external event raises your spirits, and you think good days are preparing for you. Do not believe it. It can never be so. Nothing can bring you peace but yourself. Nothing can bring you peace but the triumph of principles.']\n"
          ]
        }
      ],
      "source": [
        "results = re.findall('.+', txt) # Grabs all txt except new lines\n",
        "print(results)"
      ]
    },
    {
      "cell_type": "code",
      "execution_count": null,
      "id": "57dfce92",
      "metadata": {
        "id": "57dfce92",
        "outputId": "b3930515-f893-4f16-8640-6a21387a1641"
      },
      "outputs": [
        {
          "name": "stdout",
          "output_type": "stream",
          "text": [
            "['st and a perf', 's all light, all influence, all f', 'she-wolf', 'speed be hands and f', 'some verses written by an eminent painter which were original and not conventional. Always the soul hears an admonition in such lines, let the subject be what it may. The sentiment they instill is of more value than any thought they may contain. To believe your own thought, to believe that what is true for you in your private heart is true for all men,-that is genius. Speak your latent conviction, and it shall be the universal sense; for always the inmost becomes the outmost—and our first thought is rendered back to us by the trumpets of the Last Judgment. Familiar as the voice of the mind is to each, the highest merit we ascribe to Moses, Plato and Milton is that they set at naught books and traditions, and spoke not what men, but what they thought. A man should learn to detect and watch that gleam of light which flashes across his mind from within, more than the lustre of the firmament of bards and sages. Yet he dismisses without notice his thought, because it is his. In every work of genius we recognize our own rejected thoughts; they come back to us with a certain alienated majesty. Great works of art have no more affecting lesson for us than this. They teach us to abide by our spontaneous impression with good-humored inflexibility then most when the whole cry of voices is on the other side. Else to-morrow a stranger will say with masterly good sense precisely what we have thought and felt all the time, and we shall be forced to take with shame our own opinion f', \"s a time in every man's education when he arrives at the conviction that envy is ignorance; that imitation is suicide; that he must take himself for better for worse as his portion; that though the wide universe is full of good, no kernel of nourishing corn can come to him but through his toil bestowed on that plot of ground which is given to him to till. The power which resides in him is new in nature, and none but he knows what that is which he can do, nor does he know until he has tried. Not for nothing one face, one character, one fact, makes much impression on him, and another none. It is not without preestablished harmony, this sculpture in the memory. The eye was placed where one ray should fall, that it might testify of that particular ray. Bravely let him speak the utmost syllable of his confession. We but half express ourselves, and are ashamed of that divine idea which each of us represents. It may be safely trusted as proportionate and of good issues, so it be faithfully imparted, but God will not have his work made manifest by cowards. It needs a divine man to exhibit anything divine. A man is relieved and gay when he has put his heart into his work and done his best; but what he has said or done otherwise shall give him no peace. It is a deliverance which does not deliver. In the attempt his genius deserts him; no muse bef\", 'st thyself: every heart vibrates to that iron string. Accept the place the divine providence has found for you, the society of your contemporaries, the connexion of events. Great men have always done so, and confided themselves childlike to the genius of their age, betraying their perception that the Eternal was stirring at their heart, working through their hands, predominating in all their being. And we are now men, and must accept in the highest mind the same transcendent destiny; and not pinched in a corner, not cowards fleeing before a revolution, but redeemers and benefactors, pious aspirants to be noble clay under the Almighty eff', 's nature yields us on this text in the face and behavior of children, babes, and even brutes. That divided and rebel mind, that distrust of a sentiment because our arithmetic has computed the strength and means opposed to our purpose, these have not. Their mind being whole, their eye is as yet unconquered, and when we look in their faces, we are disconcerted. Infancy conforms to nobody; all conform to it; so that one babe commonly makes four or five out of the adults who prattle and play to it. So God has armed youth and puberty and manhood no less with its own piquancy and charm, and made it enviable and gracious and its claims not to be put by, it will stand by itself. Do not think the youth has no force, because he cannot speak to you and me. Hark! in the next room who spoke so clear and emphatic? It seems he knows how to speak to his contemporaries. Good Heaven! it is he! it is that very lump of bashfulness and phlegm which for weeks has done nothing but eat when you were by, and now rolls out these words like bellstrokes. It seems he knows how to speak to his contemporaries. Bashf', \"s who are sure of a dinner, and would disdain as much as a lord to do or say aught to conciliate one, is the healthy attitude of human nature. How is a boy the master of society; independent, irresponsible, looking out from his corner on such people and facts as pass by, he tries and sentences them on their merits, in the swift, summary way of boys, as good, bad, interesting, silly, eloquent, troublesome. He cumbers himself never about consequences, about interests; he gives an independent, genuine verdict. You must court him; he does not court you. But the man is as it were clapped into jail by his consciousness. As soon as he has once acted or spoken with eclat he is a committed person, watched by the sympathy or the hatred of hundreds, whose affections must now enter into his account. There is no Lethe for this. Ah, that he could pass again into his neutral, godlike independence! Who can thus lose all pledge and, having observed, observe again from the same unaffected, unbiased, unbribable, unaffrighted innocence, must always be formidable, must always engage the poet's and the man's regards. Of such an immortal youth the force would be felt. He would utter opinions on all passing affairs, which being seen to be not private but necessary, would sink like darts into the ear of men and put them in f\", 'se are the voices which we hear in solitude, but they grow faint and inaudible as we enter into the world. Society everywhere is in conspiracy against the manhood of every one of its members. Society is a joint-stock company, in which the members agree, for the better securing of his bread to each shareholder, to surrender the liberty and culture of the eater. The virtue in most request is conformity. Self', 'so would be a man, must be a nonconformist. He who would gather immortal palms must not be hindered by the name of goodness, but must explore if it be goodness. Nothing is at last sacred but the integrity of our own mind. Absolve you to yourself, and you shall have the suffrage of the world. I remember an answer which when quite young I was prompted to make to a valued adviser who was wont to importune me with the dear old doctrines of the church. On my saying, What have I to do with the sacredness of traditions, if I live wholly from within? my friend suggested,—\"But these impulses may be from below, not from above.\" I replied, \"They do not seem to me to be such; but if I am the devil\\'s child, I will live then from the devil.\" No law can be sacred to me but that of my nature. Good and bad are but names very readily transferable to that or this; the only right is what is after my constitution; the only wrong what is against it. A man is to carry himself in the presence of all opposition as if every thing were titular and ephemeral but he. I am ashamed to think how easily we capitulate to badges and names, to large societies and dead institutions. Every decent and well-spoken individual affects and sways me more than is right. I ought to go upright and vital, and speak the rude truth in all ways. If malice and vanity wear the coat of philanthropy, shall that pass? If an angry bigot assumes this bountiful cause of Abolition, and comes to me with his last news from Barbadoes, why should I not say to him, \"Go love thy infant; love thy wood-chopper; be good-natured and modest; have that grace; and never varnish your hard, uncharitable ambition with this incredible tenderness for black folk a thousand miles off. Thy love afar is spite at home.\" Rough and graceless would be such greeting, but truth is handsomer than the affectation of love. Your goodness must have some edge to it,—else it is none. The doctrine of hatred must be preached, as the counteraction of the doctrine of love, when that pules and whines. I shun father and mother and wife and brother when my genius calls me. I would write on the lintels of the doorpost, Whim. I hope it is somewhat better than whim at last, but we cannot spend the day in explanation. Expect me not to show cause why I seek or why I exclude company. Then, again, do not tell me, as a good man did today, of my obligation to put all poor men in good situations. Are they my poor? I tell thee, thou foolish philanthropist, that I grudge the dollar, the dime, the cent I give to such men as do not belong to me and to whom I do not belong. There is a class of persons to whom by all spiritual affinity I am bought and sold; for them I will go to prison if need be; but your miscellaneous popular charities; the education at college of fools; the building of meeting-houses to the vain end to which many now stand; alms to sots, and the thousand-fold Relief Societies;—though I conf', 's are, in the popular estimate, rather the exception than the rule. There is the man and his virtues. Men do what is called a good action, as some piece of courage or charity, much as they would pay a fine in expiation of daily non-appearance on parade. Their works are done as an apology or extenuation of their living in the world,—as invalids and the insane pay a high board. Their virtues are penances. I do not wish to expiate, but to live. My life is not an apology, but a life. It is for itself and not for a spectacle. I much prefer that it should be of a lower strain, so it be genuine and equal, than that it should be glittering and unsteady. I wish it to be sound and sweet, and not to need diet and bleeding. My life should be unique; it should be an alms, a battle, a conquest, a medicine. I ask primary evidence that you are a man, and refuse this appeal from the man to his actions. I know that for myself it makes no difference whether I do or forbear those actions which are reckoned excellent. I cannot consent to pay for a privilege where I have intrinsic right. Few and mean as my gifts may be, I actually am, and do not need for my own assurance or the assurance of my f', \"st do is all that concerns me, not what the people think. This rule, equally arduous in actual and in intellectual life, may serve for the whole distinction between greatness and meanness. It is the harder because you will always find those who think they know what is your duty better than you know it. It is easy in the world to live after the world's opinion; it is easy in solitude to live after our own; but the great man is he who in the midst of the crowd keeps with perfect sweetness the independence of\", 'sages that have become dead to you is that it scatters your force. It loses your time and blurs the impression of your character. If you maintain a dead church, contribute to a dead Bible Society, vote with a great party either for the Government or against it, spread your table like base housekeepers,—under all these screens I have difficulty to detect the precise man you are. And of course so much force is withdrawn from your proper life. But do your thing, and I shall know you. Do your work, and you shall reinforce yourself. A man must consider what a blindman\\'s-buff is this game of conformity. If I know your sect I anticipate your argument. I hear a preacher announce for his text and topic the expediency of one of the institutions of his church. Do I not know beforehand that not possibly can he say a new and spontaneous word? Do I not know that with all this ostentation of examining the grounds of the institution he will do no such thing? Do I not know that he is pledged to himself not to look but at one side, the permitted side, not as a man, but as a parish minister? He is a retained attorney, and these airs of the bench are the emptiest affectation. Well, most men have bound their eyes with one or another handkerchief, and attached themselves to some one of these communities of opinion. This conformity makes them not false in a few particulars, authors of a few lies, but false in all particulars. Their every truth is not quite true. Their two is not the real two, their four not the real four: so that every word they say chagrins us and we know not where to begin to set them right. Meantime nature is not slow to equip us in the prison-uniform of the party to which we adhere. We come to wear one cut of face and figure, and acquire by degrees the gentlest asinine expression. There is a mortifying experience in particular, which does not fail to wreak itself also in the general history; I mean \"the foolish face of praise,\" the forced smile which we put on in company where we do not feel at ease, in answer to conversation which does not interest us. The muscles, not spontaneously moved but moved by a low usurping wilfulness, grow tight about the outline of the face, and make the most disagreeable sensation; a sensation of rebuke and warning which no brave young man will suff', \"s you with its displeasure. And therefore a man must know how to estimate a sour face. The bystanders look askance on him in the public street or in the friend's parlor. If this aversation had its origin in contempt and resistance like his own he might well go home with a sad countenance; but the sour faces of the multitude, like their sweet faces, have no deep cause—disguise no god, but are put on and off as the wind blows and a newspaper directs. Yet is the discontent of the multitude more formidable than that of the senate and the college. It is easy enough for a firm man who knows the world to brook the rage of the cultivated classes. Their rage is decorous and prudent, for they are timid, as being very vulnerable themselves. But when to their feminine rage the indignation of the people is added, when the ignorant and the poor are aroused, when the unintelligent brute force that lies at the bottom of society is made to growl and mow, it needs the habit of magnanimity and religion to treat it godlike as a trifle of\", 'scares us from self-trust is our consistency; a reverence for our past act or word because the eyes of others have no other data f', 'should you keep your head over your shoulder? Why drag about this monstrous corpse of your memory, lest you contradict somewhat you have stated in this or that public place? Suppose you should contradict yourself; what then? It seems to be a rule of wisdom never to rely on your memory alone, scarcely even in acts of pure memory, but to bring the past for judgment into the thousand eyed present, and live ever in a new day. Trust your emotion. In your metaphysics you have denied personality to the Deity, yet when the devout motions of the soul come, yield to them heart and life, though they should clothe God with shape and color. Leave your theory, as Joseph his coat in the hand of the harlot, and f', \"sh consistency is the hobgoblin of little minds, adored by little statesmen and philosophers and divines. With consistency a great soul has simply nothing to do. He may as well concern himself with his shadow on the wall. Out upon your guarded lips! Sew them up with packthread, do. Else if you would be a man speak what you think to-day in words as hard as cannon balls, and to-morrow speak what to-morrow thinks in hard words again, though it contradict every thing you said to-day. Ah, then, exclaim the aged ladies, you shall be sure to be misunderstood! Misunderstood! It is a right fool's word. Is it so bad then to be misunderstood? Pythagoras was misunderstood, and Socrates, and Jesus, and Luther, and Copernicus, and Galileo, and Newton, and every pure and wise spirit that ever took f\", 'suppose no man can violate his nature. All the sallies of his will are rounded in by the law of his being, as the inequalities of Andes and Himmaleh are insignificant in the curve of the sphere. Nor does it matter how you gauge and try him. A character is like an acrostic or Alexandrian stanza;—read it forward, backward, or across, it still spells the same thing. In this pleasing contrite wood-life which God allows me, let me record day by day my honest thought without prospect or retrospect, and I cannot doubt, it will be found symmetrical, though I mean it not and see it not. My book should smell of pines and resound with the hum of insects. The swallow over my window should interweave that thread or straw he carries in his bill into my web also. We pass f', \"shall be consistent in whatever variety of actions, so they be each honest and natural in their hour. For of one will, the actions will be harmonious, however unlike they seem. These varieties are lost sight of when seen at a little distance, at a little height of thought. One tendency unites them all. The voyage of the best ship is a zigzag line of a hundred tacks. This is only microscopic criticism. See the line from a sufficient distance, and it straightens itself to the average tendency. Your genuine action will explain itself and will explain your other genuine actions. Your conformity explains nothing. Act singly, and what you have already done singly will justify you now. Greatness always appeals to the future. If I can be great enough now to do right and scorn eyes, I must have done so much right before as to defend me now. Be it how it will, do right now. Always scorn appearances and you always may. The force of character is cumulative. All the foregone days of virtue work their health into this. What makes the majesty of the heroes of the senate and the field, which so fills the imagination? The consciousness of a train of great days and victories behind. There they all stand and shed an united light on the advancing actor. He is attended as by a visible escort of angels to every man's eye. That is it which throws thunder into Chatham's voice, and dignity into Washington's port, and America into Adam's eye. Honor is venerable to us because it is no ephemeris. It is always ancient virtue. We worship it to-day because it is not of to-day. We love it and pay it homage because it is not a trap for our love and homage, but is self-dependent, self-derived, and therefore of an old immaculate pedigree, even if\", 'se days we have heard the last of conformity and consistency. Let the words be gazetted and ridiculous henceforward. Instead of the gong for dinner, let us hear a whistle from the Spartan fife. Let us bow and apologize never more. A great man is coming to eat at my house. I do not wish to please him: I wish that he should wish to please me. I will stand here for humanity, and though I would make it kind, I would make it true. Let us affront and reprimand the smooth mediocrity and squalid contentment of the times, and hurl in the face of custom and trade and office, the fact which is the upshot of all history, that there is a great responsible Thinker and Actor moving wherever moves a man; that a true man belongs to no other time or place, but is the centre of things. Where he is, there is nature. He measures you and all men and all events. You are constrained to accept his standard. Ordinarily, every body in society reminds us of somewhat else, or of some other person. Character, reality, reminds you of nothing else; it takes place of the whole creation. The man must be so much that he must make all circumstances indifferent—put all means into the shade. This all great men are and do. Every true man is a cause, a country, and an age; requires infinite spaces and numbers and time fully to accomplish his thought;—and posterity seem to follow his steps as a procession. A man Cæsar is born, and for ages after we have a Roman Empire. Christ is born, and millions of minds so grow and cleave to his genius that he is confounded with virtue and the possible of man. An institution is the lengthened shadow of one man; as, the Reformation, of Luther; Quakerism, of Fox; Methodism, of Wesley; Abolition, of Clarkson. Scipio, Milton called \"the height of Rome;\" and all history resolves itself very easily into the biography of a f', \"s worth, and keep things under his feet. Let him not peep or steal, or skulk up and down with the air of a charity-boy, a bastard, or an interloper in the world which exists for him. But the man in the street, finding no worth in himself which corresponds to the force which built a tower or sculptured a marble god, feels poor when he looks at these. To him a palace, a statue, or a costly book have an alien and forbidding air, much like a gay equipage, and seem to say like that, ‘Who are you, sir?' Yet they all are his, suitors for his notice, petitioners to his faculties that they will come out and take possession. The picture waits for my verdict; it is not to command me, but I am to settle its claim to praise. That popular fable of the sot who was picked up dead drunk in the street, carried to the duke's house, washed and dressed and laid in the duke's bed, and, on his waking, treated with all obsequious ceremony like the duke, and assured that he had been insane—owes its popularity to the fact that it symbolizes so well the state of man, who is in the world a sort of sot, but now and then wakes up, exercises his reason and finds himself\", \"s mendicant and sycophantic. In history our imagination makes fools of us, plays us false. Kingdom and lordship, power and estate, are a gaudier vocabulary than private John and Edward in a small house and common day's work: but the things of life are the same to both: the sum total of both is the same. Why all this deference to Alfred and Scanderbeg and Gustavus? Suppose they were virtuous; did they wear out virtue? As great a stake depends on your private act to-day as followed their public and renowned steps. When private men shall act with original views, the lustre will be transferred from the actions of kings to those of\", 's indeed been instructed by its kings, who have so magnetized the eyes of nations. It has been taught by this colossal symbol the mutual reverence that is due from man to man. The joyful loyalty with which men have everywhere suffered the king, the noble, or the great proprietor to walk among them by a law of his own, make his own scale of men and things and reverse theirs, pay for benefits not with money but with honor, and represent the Law in his person, was the hieroglyphic by which they obscurely signified their consciousness of their own right and comeliness, the right of', 'sm which all original action exerts is explained when we inquire the reason of self-trust. Who is the Trustee? What is the aboriginal Self, on which a universal reliance may be grounded? What is the nature and power of that science-baffling star, without parallax, without calculable elements, which shoots a ray of beauty even into trivial and impure actions, if the least mark of independence appear? The inquiry leads us to that source, at once the essence of genius, the essence of virtue, and the essence of life, which we call Spontaneity or Instinct. We denote this primary wisdom as Intuition, whilst all later teachings are tuitions. In that deep force, the last fact behind which analysis cannot go, all things find their common origin. For the sense of being which in calm hours rises, we know not how, in the soul, is not diverse from things, from space from light, from time, from man, but one with them and proceedeth obviously from the same source whence their life and being also proceedeth. We first share the life by which things exist and afterwards see them as appearances in nature and forget that we have shared their cause. Here is the fountain of action and the fountain of thought. Here are the lungs of that inspiration which giveth man wisdom, of that inspiration of man which cannot be denied without impiety and atheism. We lie in the lap of immense intelligence, which makes us organs of its activity and receivers of its truth. When we discern justice, when we discern truth, we do nothing of ourselves, but allow a passage to its beams. If we ask whence this comes, if we seek to pry into the soul that causes—all metaphysics, all philosophy is at fault. Its presence or its absence is all we can affirm. Every man discerns between the voluntary acts of his mind and his involuntary perceptions. And to his involuntary perceptions he knows a perfect respect is due. He may err in the expression of them, but he knows that these things are so, like day and night, not to be disputed. All my wilful actions and acquisitions are but roving;—the most trivial reverie, the faintest native emotion, are domestic and divine. Thoughtless people contradict as readily the statement of perceptions as of opinions, or rather much more readily; for they do not distinguish between perception and notion. They fancy that I choose to see this or that thing. But perception is not whimsical, but fatal. If I see a trait, my children will see it after me, and in course of time all mankind,—although it may chance that no one has seen it before me. For my perception of it is as much a f', 's of the soul to the divine spirit are so pure that it is profane to seek to interpose helps. It must be that when God speaketh he should communicate, not one thing, but all things; should fill the world with his voice; should scatter forth light, nature, time, souls, from the centre of the present thought; and new date and new create the whole. Whenever a mind is simple and receives a divine wisdom, then old things pass away,—means, teachers, texts, temples fall; it lives now, and absorbs past and future into the present hour. All things are made sacred by relation to it,—one thing as much as another. All things are dissolved to their centre by their cause, and in the universal miracle petty and particular miracles disappear. This is and must be. If therefore a man claims to know and speak of God and carries you backward to the phraseology of some old mouldered nation in another country, in another world, believe him not. Is the acorn better than the oak which is its fulness and completion? Is the parent better than the child into whom he has cast his ripened being? Whence then this worship of the past? The centuries are conspirators against the sanity and majesty of the soul. Time and space are but physiological colors which the eye maketh, but the soul is light; where it is, is day; where it was, is night; and history is an impertinence and an injury if it be any thing more than a cheerful apologue or parable of', 's timid and apologetic; he is no longer upright; he dares not say \"I think,\" \"I am,\" but quotes some saint or sage. He is ashamed before the blade of grass or the blowing rose. These roses under my window make no reference to former roses or to better ones; they are for what they are; they exist with God to-day. There is no time to them. There is simply the rose; it is perfect in every moment of its existence. Before a leaf-bud has burst, its whole life acts; in the fullblown flower there is no more; in the leafless root there is no less. Its nature is satisfied and it satisfies nature in all moments alike. There is no time to it. But man postpones or remembers; he does not live in the present, but with reverted eye laments the past, or, heedless of the riches that surround him, stands on tiptoe to foresee the f', 's should be plain enough. Yet see what strong intellects dare not yet hear God himself unless he speak the phraseology of I know not what David, or Jeremiah, or Paul. We shall not always set so great a price on a few texts, on a few lives. We are like children who repeat by rote the sentences of grandames and tutors, and, as they grow older, of the men of talents and character they chance to see,—painfully recollecting the exact words they spoke; afterwards, when they come into the point of view which those had who uttered these sayings, they understand them and are willing to let the words go; for at any time they can use words as good when occasion comes. So was it with us, so will it be, if we proceed. If we live truly, we shall see truly. It is as easy for the strong man to be strong, as it is for the weak to be weak. When we have new perception, we shall gladly disburthen the memory of its hoarded treasures as old rubbish. When a man lives with God, his voice shall be as sweet as the murmur of the brook and the rustle of', 'st the highest truth on this subject remains unsaid; probably cannot be said; for all that we say is the far off remembering of the intuition. That thought, by what I can now nearest approach to say it, is this. When good is near you, when you have life in yourself,—it is not by any known or appointed way; you shall not discern the footprints of any other; you shall not see the face of man; you shall not hear any name;—the way, the thought, the good, shall be wholly strange and new. It shall exclude all other being. You take the way from man, not to man. All persons that ever existed are its fugitive ministers. There shall be no fear in it. Fear and hope are alike beneath it. It asks nothing. There is somewhat low even in hope. We are then in vision. There is nothing that can be called gratitude, nor properly joy. The soul is raised over passion. It seeth identity and eternal causation. It is a perceiving that Truth and Right are. Hence it becomes a Tranquillity out of the knowing that all things go well. Vast spaces of nature; the Atlantic Ocean, the South Sea; vast intervals of time, years, centuries, are of no account. This which I think and feel underlay that former state of life and circumstances, as it does underlie my present and will always all circumstances, and what is called lif', 's, not the having lived. Power ceases in the instant of repose; it resides in the moment of transition from a past to a new state, in the shooting of the gulf, in the darting to an aim. This one fact the world hates, that the soul becomes; for that forever degrades the past; turns all riches to poverty, all reputation to a shame; confounds the saint with the rogue; shoves Jesus and Judas equally aside. Why then do we prate of self-reliance? Inasmuch as the soul is present there will be power not confident but agent. To talk of reliance is a poor external way of speaking. Speak rather of that which relies because it works and is. Who has more soul than I masters me, though he should not raise his finger. Round him I must revolve by the gravitation of spirits. Who has less I rule with like facility. We fancy it rhetoric when we speak of eminent virtue. We do not yet see that virtue is Height, and that a man or a company of men, plastic and permeable to principles, by the law of', \"s is the ultimate fact which we so quickly reach on this, as on every topic, the resolution of all into the ever-blessed ONE. Virtue is the governor, the creator, the reality. All things real are so by so much virtue as they contain. Hardship, husbandry, hunting, whaling, war, eloquence, personal weight, are somewhat, and engage my respect as examples of the soul's presence and impure action. I see the same law working in nature for conservation and growth. The poise of a planet, the bended tree recovering itself from the strong wind, the vital resources of every animal and vegetable, are also demonstrations of the self-sufficing and therefore self-relying soul. All history, from its highest to its trivial passages, is the various record of\", 's all concentrates; let us not rove; let us sit at home with the cause. Let us stun and astonish the intruding rabble of men and books and institutions by a simple declaration of the divine fact. Bid them take the shoes from off their feet, for God is here within. Let our simplicity judge them, and our docility to our own law demonstrate the poverty of nature and f', 's not stand in awe of man, nor is the soul admonished to stay at home, to put itself in communication with the internal ocean, but it goes abroad to beg a cup of water of the urns of men. We must go alone. Isolation must precede true society. I like the silent church before the service begins, better than any preaching. How far off, how cool, how chaste the persons look, begirt each one with a precinct or sanctuary. Se let us always sit. Why should we assume the faults of our friend, or wife, or father, or child, because they sit around our hearth, or are said to have the same blood? All men have my blood and I have all men\\'s. Not for that will I adopt their petulance or folly, even to the extent of being ashamed of it. But your isolation must not be mechanical, but spiritual, that is, must be elevation. At times the whole world seems to be in conspiracy to importune you with emphatic trifles. Friend, client, child, sickness, fear, want, charity, all knock at once at thy closet door and say, \"Come out unto us.\"—Do not spill thy soul; do not all descend; keep thy state; stay at home in thine own heaven; come not for a moment into their facts, into their hubbub of conflicting appearances, but let in the light of thy law on their confusion. The power men possess to annoy me I give them by a weak curiosity. No man can come near me but through my act. \"What we love that we have, but by desire we bereave ourselves of', \"se to the sanctities of obedience and faith, let us at least resist our temptations, let us enter into the state of war and wake Thor and Woden, courage and constancy, in our Saxon breasts. This is to be done in our smooth times by speaking the truth. Check this lying hospitality and lying affection. Live no longer to the expectation of these deceived and deceiving people with whom we converse. Say to them, O father, O mother, O wife, O brother, O friend, I have lived with you after appearances hitherto. Henceforward I am the truth's. Be it known unto you that henceforward I obey no law less than the eternal law. I will have no covenants but proximities. I shall endeavor to nourish my parents, to support my family, to be the chaste husband of one wife,—but these relations I must fill after a new and unprecedented way. I appeal from your customs. I must be myself. I cannot break myself any longer for you, or you. If you can love me for what I am, we shall be happier. If you cannot, I will still seek to deserve that you should. I must be myself. I will not hide my tastes or aversions. I will so trust that what is deep is holy, that I will do strongly before the sun and moon whatever inly rejoices me and the heart appoints. If you are noble, I will love you; if you are not, I will not hurt you and myself by hypocritical attentions. If you are true, but not in the same truth with me, cleave to your companions; I will seek my own. I do this not selfishly but humbly and truly. It is alike your interest, and mine, and all men's, however long we have dwelt in lies, to live in truth. Does this sound harsh to-day? You will soon love what is dictated by your nature as well as mine, and if we follow the truth it will bring us out safe at last.—But so may you give these friends pain. Yes, but I cannot sell my liberty and my power, to save their sensibility. Besides, all persons have their moments of reason, when they look out into the region of absolute truth; then will they justif\", 'standards is a rejection of all standard, and mere antinomianism; and the bold sensualist will use the name of philosophy to gild his crimes. But the law of consciousness abides. There are two confessionals, in one or the other of which we must be shriven. You may fulfil your round of duties by clearing yourself in the direct, or in the reflex way. Consider whether you have satisfied your relations to father, mother, cousin, neighbor, town, cat and dog; whether any of these can upbraid you. But I may also neglect this reflex standard and absolve me to myself. I have my own stern claims and perfect circle. It denies the name of duty to many offices that are called duties. But if I can discharge its debts it enables me to dispense with the popular code. If', 's something godlike in him who has cast off the common motives of humanity and has ventured to trust himself for a task-master. High be his heart, faithful his will, clear his sight, that he may in good earnest be doctrine, society, law, to himself', 'sider the present aspects of what is called by distinction society, he will see the need of these ethics, The sinew and heart of man seem to be drawn out, and we are become timorous desponding whimperers. We are afraid of truth, afraid of fortune, afraid of death, and afraid of each other. Our age yields no great and perfect persons. We want men and women who shall renovate life and our social state, but we see that most natures are insolvent; cannot satisfy their own wants, have an ambition out of all proportion to their practical force, and so do lean and beg day and night continually. Our housekeeping is mendicant, our arts, our occupations, our marriages, our religion we have not chosen, but society has chosen for us. We are parlor soldiers. The rugged battle of f', 'scarry in their first enterprises they lose all heart. If the young merchant fails, men say he is ruined. If the finest genius studies at one of our colleges, and is not installed in an office within one year afterwards, in the cities or suburbs of Boston or New York, it seems to his friends and to himself that he is right in being disheartened and in complaining the rest of his life. A sturdy lad from New Hamsphire or Vermont, who in turn tries all the professions, who teams it, farms it, peddles, keeps a school, preaches, edits a newspaper, goes to Congress, buys a township, and so forth, in successive years, and always like a cat falls on his feet, is worth a hundred of these city dolls. He walks abreast with his days and feels no shame in not \"studying a profession,\" for he does not postpone his life, but lives already. He has not one chance, but a hundred chances. Let a stoic arise who shall reveal the resources of man and tell men they are not leaning willows, but can and must detach themselves; that with the exercise of self-trust, new powers shall appear; that a man is the word made flesh, born to shed healing to the nations, that he should be ashamed of our compassion, and that the moment he acts from himself, tossing the laws, the books, idolatries and customs out of the window,—we pity him no more but thank and revere him;—and that teacher shall restore the life of', 's easy to see that a greater self-reliance—a new respect for the divinity in man—must work a revolution in all the offices and relations of men; in their religion; in their education; in their pursuits; their modes of', \"s do men allow themselves! That which they call a holy office is not so much as brave and manly. Prayer looks abroad and asks for some foreign addition to come through some foreign virtue, and loses itself in endless mazes of natural and supernatural, and mediatorial and miraculous. Prayer that craves a particular commodity—anything less than all good, is vicious. Prayer is the contemplation of the facts of life from the highest point of view. It is the soliloquy of a beholding and jubilant soul. It is the spirit of God pronouncing his works good. But prayer as a means to effect a private end is theft and meanness. It supposes dualism and not unity in nature and consciousness. As soon as the man is at one with God, he will not beg. He will then see prayer in all action. The prayer of the farmer kneeling in his field to weed it, the prayer of the rower kneeling with the stroke of his oar, are true prayers heard throughout nature, though for cheap ends. Caratach, in Fletcher's Bonduca, when admonished to inquire the mind of\", 'sort of false prayers are our regrets. Discontent is the want of self-reliance: it is infirmity of will. Regret calamities if you can thereby help the sufferer; if not, attend your own work and already the evil begins to be repaired. Our sympathy is just as base. We come to them who weep foolishly and sit down and cry for company, instead of imparting to them truth and health in rough electric shocks, putting them once more in communication with the soul. The secret of fortune is joy in our hands. Welcome evermore to gods and men is the self-helping man. For him all doors are flung wide. Him all tongues greet, all honors crown, all eyes follow with desire. Our love goes out to him and embraces him because he did not need it. We solicitously and apologetically caress and celebrate him because he held on his way and scorned our disapprobation. The gods love him because men hated him. \"To the persevering mortal,\" said Zoroaster, \"the blessed Immortals are swif', 's men\\'s prayers are a disease of the will, so are their creeds a disease of the intellect. They say with those foolish Israelites, \"Let not God speak to us, lest we die. Speak thou, speak any man with us, and we will obey.\" Everywhere I am bereaved of meeting God in my brother, because he has shut his own temple doors and recites fables merely of his brother\\'s, or his brother\\'s brother\\'s God. Every new mind is a new classification. If it prove a mind of uncommon activity and power, a Locke, a Lavoisier, a Hutton, a Bentham, a Spurzheim, it imposes its classification on other men, and lo! a new system. In proportion always to the depth of the thought, and so to the number of the objects it touches and brings within reach of the pupil, is his complacency. But chiefly is this apparent in creeds and churches, which are also classifications of some powerful mind acting on the great elemental thought of Duty and man\\'s relation to the Highest. Such is Calvinism, Quakerism, Swedenborgianism. The pupil takes the same delight in subordinating every thing to the new terminology that a girl does who has just learned botany in seeing a new earth and new seasons thereby. It will happen for a time that the pupil will feel a real debt to the teacher—will find his intellectual power has grown by the study of his writings. This will continue until he has exhausted his master\\'s mind. But in all unbalanced minds the classification is idolized, passes for the end and not for a speedily exhaustible means, so that the walls of the system blend to their eye in the remote horizon with the walls of the universe; the luminaries of heaven seem to them hung on the arch their master built. They cannot imagine how you aliens have any right to see—how you can see: \"It must be somehow that you stole the light from us.\" They do not yet perceive that light, unsystematic, indomitable, will break into any cabin, even into theirs. Let them chirp awhile and call it their own. If they are honest and do well, presently their neat new pinfold will be too strait and low, will crack, will lean, will rot and vanish, and the immortal light, all young and joyful, million-orbed, million-colored, will beam over the universe as on the f', 's for want of self-culture that the idol of Travelling, the idol of Italy, of England, of Egypt, remains for all educated Americans. They who made England, Italy, or Greece venerable in the imagination, did so not by rambling round creation as a moth round a lamp, but by sticking fast where they were, like an axis of the earth. In manly hours we feel that duty is our place and that the merry men of circumstance should follow as they may. The soul is no traveller: the wise man stays at home with the soul, and when his necessities, his duties, on any occasion call him from his house, or into foreign lands, he is at home still and is not gadding abroad from himself, and shall make men sensible by the expression of his countenance that he goes, the missionary of', 'sh objection to the circumnavigation of the globe for the purposes of art, of study, and benevolence, so that the man is first domesticated, or does not go abroad with the hope of finding somewhat greater than he knows. He who travels to be amused or to get somewhat which he does not carry, travels away from himself', \"s a fool's paradise. We owe to our first journeys the discovery that place is nothing. At home I dream that at Naples, at Rome, I can be intoxicated with beauty and lose my sadness. I pack my trunk, embrace my friends, embark on the sea and at last wake up in Naples, and there beside me is the stern Fact, the sad self, unrelenting, identical, that I fled from. I seek the Vatican and the palaces. I aff\", 's itself only a symptom of a deeper unsoundness affecting the whole intellectual action. The intellect is vagabond, and the universal system of education fosters restlessness. Our minds travel when our bodies are forced to stay at home. We imitate; and what is imitation but the travelling of the mind? Our houses are built with foreign taste; our shelves are garnished with foreign ornaments; our opinions, our tastes, our whole minds, lean, and follow the Past and the Distant, as the eyes of a maid follow her mistress. The soul created the arts wherever they have flourished. It was in his own mind that the artist sought his model. It was an application of his own thought to the thing to be done and the conditions to be observed. And why need we copy the Doric or the Gothic model? Beauty, convenience, grandeur of thought and quaint expression are as near to us to any, and if the American artist will study with hope and love the precise thing to be done by him, considering the climate, the soil, the length of the day, the wants of the people, the habit and form of the government, he will create a house in which all these will find themselves fitted, and taste and sentiment will be satisf', \"sist on yourself; never imitate. Your own gift you can present every moment with the cumulative force of a whole life's cultivation; but of the adopted talent of another you have only an extemporaneous half possession. That which each can do best, none but his Maker can teach him. No man yet knows what it is, nor can, till that person has exhibited it. Where is the master who could have taught Shakspeare? Where is the master who could have instructed Franklin, or Washington, or Bacon, or Newton? Every great man is an unique. The Scipionism of Scipio is precisely that part he could not borrow. If anybody will tell me whom the great man imitates in the original crisis when he performs a great act, I will tell him who else than himself can teach him. Shakspeare will never be made by the study of Shakspeare. Do that which is assigned thee and thou canst not hope too much or dare too much. There is at this moment, there is for me an utterance bare and grand as that of the colossal chisel of Phidias, or trowel of the Egyptians, or the pen of Moses or Dante, but different from all these. Not possibly will the soul, all rich, all eloquent, with thousand-cloven tongue, deign to repeat itself; but if I can hear what these patriarchs say, surely I can reply to them in the same pitch of voice; for the ear and the tongue are two organs of one nature. Dwell up there in the simple and noble regions of thy lif\", 's our Religion, our Education, our Art look abroad, so does our spirit of society. All men plume themselves on the improvement of', 's. It recedes as fast on one side as it gains on the other. Its progress is only apparent like the workers of a treadmill. It undergoes continual changes; it is barbarous, it is civilized, it is christianized, it is rich, it is scientific; but this change is not amelioration. For every thing that is given something is taken. Society acquires new arts and loses old instincts. What a contrast between the well-clad, reading, writing, thinking American, with a watch, a pencil and a bill of exchange in his pocket, and the naked New Zealander, whose property is a club, a spear, a mat and an undivided twentieth of a shed to sleep under. But compare the health of the two men and you see that his aboriginal strength, the white man has lost. If the traveller tell us truly, strike the savage with a broad axe and in a day or two the flesh shall unite and heal as if you struck the blow into sof', 's built a coach, but has lost the use of his feet. He is supported on crutches, but lacks so much support of muscle. He has got a fine Geneva watch, but he has lost the skill to tell the hour by the sun. A Greenwich nautical almanac he has, and so being sure of the information when he wants it, the man in the street does not know a star in the sky. The solstice he does not observe; the equinox he knows as little; and the whole bright calendar of the year is without a dial in his mind. His note-books impair his memory: his libraries overload his wit; the insurance-office increases the number of accidents; and it may be a question whether machinery does not encumber; whether we have not lost by refinement some energy, by a christianity entrenched in establishments and forms some vigor of', 's no more deviation in the moral standard than in the standard of height or bulk. No greater men are now than ever were. A singular equality may be observed between the great men of the first and of the last ages; nor can all the science, art, religion, and philosophy of the nineteenth century avail to educate greater men than Plutarch\\'s heroes, three or four and twenty centuries ago. Not in time is the race progressive. Phocion, Socrates, Anaxagoras, Diogenes, are great men, but they leave no class. He who is really of their class will not be called by their name, but be wholly his own man, and in his turn the founder of a sect. The arts and inventions of each period are only its costume and do not invigorate men. The harm of the improved machinery may compensate its good. Hudson and Behring accomplished so much in their fishing-boats as to astonish Parry and Franklin, whose equipment exhausted the resources of science and art. Galileo, with an opera-glass, discovered a more splendid series of facts than any one since. Columbus found the New World in an undecked boat. It is curious to see the periodical disuse and perishing of means and machinery which were introduced with loud laudation a few years or centuries before. The great genius returns to essential man. We reckoned the improvements of the art of war among the triumphs of science, and yet Napoleon conquered Europe by the Bivouac, which consisted of falling back on naked valor and disencumbering it of all aids. The Emperor held it impossible to make a perfect army, says Las Cases, \"without abolishing our arms, magazines, commissaries and carriages, until, in imitation of the Roman custom, the soldier should receive his supply of corn, grind it in his hand-mill and bake his bread himself', 's a wave. The wave moves onward, but the water of which it is composed does not. The same particle does not rise f', 'so the reliance on Property, including the reliance on governments which protect it, is the want of self-reliance. Men have looked away from themselves and at things so long that they have come to esteem what they call the soul\\'s progress, namely, the religious, learned and civil institutions as guards of property, and they deprecate assaults on these, because they feel them to be assaults on property. They measure their esteem of each other by what each has, and not by what each is. But a cultivated man becomes ashamed of his property, ashamed of what he has, out of new respect for his being. Especially he hates what he has if he sees that it is accidental,—came to him by inheritance, or gift, or crime; then he feels that it is not having; it does not belong to him, has no root in him, and merely lies there because no revolution or no robber takes it away. But that which a man is, does always by necessity acquire, and what the man acquires, is permanent and living property, which does not wait the beck of rulers, or mobs, or revolutions, or fire, or storm, or bankruptcies, but perpetually renews itself wherever the man is put. \"Thy lot or portion of life,\" said the Caliph Ali, \"is seeking after thee; therefore be at rest from seeking after if.\" Our dependence on these foreign goods leads us to our slavish respect for numbers. The political parties meet in numerous conventions; the greater the concourse and with each new uproar of announcement, The delegation from Essex! The Democrats from New Hampshire! The Whigs of Maine! the young patriot feels himself stronger than before by a new thousand of eyes and arms. In like manner the reformers summon conventions and vote and resolve in multitude. But not so O friends! will the God deign to enter and inhabit you, but by a method precisely the reverse. It is only as a man puts off from himself all external support and stands alone that I see him to be strong and to prevail. He is weaker by every recruit to his banner. Is not a man better than a town? Ask nothing of men, and, in the endless mutation, thou only firm column must presently appear the upholder of all that surrounds thee. He who knows that power is in the soul, that he is weak only because he has looked for good out of him and elsewhere, and, so perceiving, throws himself unhesitatingly on his thought, instantly rights himself, stands in the erect position, commands his limbs, works miracles; just as a man who stands on his f', 'se all that is called Fortune. Most men gamble with her, and gain all, and lose all, as her wheel rolls. But do thou leave as unlawful these winnings, and deal with Cause and Effect, the chancellors of God. In the Will work and acquire, and thou hast chained the wheel of Chance, and shalt always drag her after thee. A political victory, a rise of rents, the recovery of your sick or the return of your absent friend, or some other quite external event raises your spirits, and you think good days are preparing for you. Do not believe it. It can never be so. Nothing can bring you peace but yourself. Nothing can bring you peace but the triumph of']\n"
          ]
        }
      ],
      "source": [
        "results = re.findall('s.+f', txt) # Matches any group of characters starting with \"s\" and ending in \"f\"\n",
        "print(results)"
      ]
    },
    {
      "cell_type": "code",
      "execution_count": null,
      "id": "a05287c9",
      "metadata": {
        "id": "a05287c9",
        "outputId": "5829c58a-4a2a-49fe-8b62-e66e075f3ed2"
      },
      "outputs": [
        {
          "name": "stdout",
          "output_type": "stream",
          "text": [
            "['intered', 'speed', 'rendered', 'rejected', 'alienated', 'humored', 'forced', 'bestowed', 'tried', 'preestablished', 'placed', 'ashamed', 'trusted', 'imparted', 'need', 'relieved', 'confided', 'pred', 'pinched', 'red', 'divided', 'computed', 'opposed', 'unconquered', 'disconcerted', 'armed', 'clapped', 'acted', 'committed', 'watched', 'hatred', 'hundred', 'pled', 'observed', 'unaffected', 'unbiased', 'unaffrighted', 'hindered', 'sacred', 'prompted', 'valued', 'sacred', 'suggested', 'replied', 'sacred', 'ashamed', 'natured', 'incred', 'hatred', 'preached', 'need', 'wicked', 'called', 'need', 'bleed', 'med', 'reckoned', 'need', 'exped', 'pledged', 'permitted', 'retained', 'attached', 'forced', 'moved', 'moved', 'cultivated', 'added', 'aroused', 'need', 'stated', 'eyed', 'denied', 'adored', 'guarded', 'aged', 'rounded', 'hundred', 'shed', 'united', 'attended', 'derived', 'ped', 'gazetted', 'med', 'constrained', 'confounded', 'lengthened', 'called', 'sculptured', 'picked', 'carried', 'washed', 'dressed', 'bed', 'treated', 'assured', 'lfred', 'followed', 'renowned', 'transferred', 'indeed', 'instructed', 'magnetized', 'suffered', 'signified', 'explained', 'grounded', 'proceed', 'proceed', 'shared', 'denied', 'disputed', 'sacred', 'dissolved', 'mouldered', 'ripened', 'ashamed', 'satisfied', 'reverted', 'heed', 'uttered', 'proceed', 'hoarded', 'appointed', 'existed', 'called', 'raised', 'called', 'called', 'lived', 'blessed', 'bended', 'admonished', 'preced', 'ashamed', 'obed', 'deceived', 'lived', 'unprecedented', 'dictated', 'satisfied', 'called', 'ventured', 'called', 'need', 'rugged', 'ruined', 'installed', 'disheartened', 'ped', 'hundred', 'hundred', 'shed', 'ashamed', 'med', 'weed', 'admonished', 'repaired', 'need', 'scorned', 'hated', 'blessed', 'creed', 'bereaved', 'creed', 'wed', 'learned', 'exhausted', 'unbalanced', 'idolized', 'speed', 'orbed', 'colored', 'educated', 'domesticated', 'amused', 'dilapidated', 'intoxicated', 'fled', 'intoxicated', 'intoxicated', 'forced', 'garnished', 'created', 'flourished', 'observed', 'need', 'fitted', 'satisfied', 'adopted', 'exhibited', 'instructed', 'assigned', 'reced', 'civilized', 'christianized', 'naked', 'undivided', 'shed', 'civilized', 'supported', 'entrenched', 'observed', 'called', 'improved', 'accomplished', 'exhausted', 'discovered', 'undecked', 'introduced', 'reckoned', 'conquered', 'consisted', 'naked', 'composed', 'looked', 'learned', 'cultivated', 'ashamed', 'ashamed', 'looked', 'called', 'chained']\n"
          ]
        }
      ],
      "source": [
        "# Match lower case words ending in \"ed\"\n",
        "\n"
      ]
    },
    {
      "cell_type": "markdown",
      "id": "cac5aa74",
      "metadata": {
        "id": "cac5aa74"
      },
      "source": [
        "<a id='quantRep'></a>\n",
        "\n",
        "### B)   Quantified Repetition\n",
        "- To specify a certain number of repetitions, we use curly braces with values inside that indicate quantified repetetion.\n",
        "- The values usually represent the minimum and maximum repetitions separated by a comma {min,max}.\n",
        "- Max value is optional.\n",
        "\n",
        "    `\\d{3,5}` 3 - 5 digits.\n",
        "\n",
        "    `\\d{4}` 4 digits. It assumes the max and min values are the same.\n",
        "\n",
        "    `\\d{3,}` 4 or more digits (Infinite max).\n",
        "    \n",
        "    \n",
        "\n",
        "`\\d{0,}` = `\\d*`\n",
        "\n",
        "`\\d{1,}` = `\\d+`\n",
        "\n",
        "`\\d{3}-\\d{3}-\\d{4}` matches US phone numbers"
      ]
    },
    {
      "cell_type": "markdown",
      "id": "8cca547c",
      "metadata": {
        "id": "8cca547c"
      },
      "source": [
        "<a id='greedy'></a>\n",
        "\n",
        "### C) Greedy Vs Lazy expressions\n",
        "- Expressions try to match the longest possible string before giving control to the next expression part. They give back as little as possible\n",
        "  \n",
        "- To trigger lazy behaviour, we use `?` after the expression we want to make lazy.\n",
        "- Lazy expressions try to give up as quickly as possible"
      ]
    },
    {
      "cell_type": "code",
      "execution_count": null,
      "id": "f3125050",
      "metadata": {
        "id": "f3125050",
        "outputId": "56443654-4f24-4dfd-ca6a-16ce2ac0d4c2"
      },
      "outputs": [
        {
          "name": "stdout",
          "output_type": "stream",
          "text": [
            "['year 2022 month 08']\n"
          ]
        }
      ],
      "source": [
        "# The wildcard matches all characters before 8\n",
        "results = re.findall('.*[0-9]+', 'year 2022 month 8')\n",
        "print(results)"
      ]
    },
    {
      "cell_type": "code",
      "execution_count": null,
      "id": "090650c6",
      "metadata": {
        "id": "090650c6",
        "outputId": "5276dff0-8edd-4e96-bdb9-018f4f6ea57e"
      },
      "outputs": [
        {
          "name": "stdout",
          "output_type": "stream",
          "text": [
            "['year 2022', ' month 8']\n"
          ]
        }
      ],
      "source": [
        "# The wildcard stops at the first possible digit\n",
        "results = re.findall('.*?[0-9]+', 'year 2022 month 8')\n",
        "print(results)"
      ]
    },
    {
      "cell_type": "code",
      "execution_count": null,
      "id": "856e7510",
      "metadata": {
        "id": "856e7510",
        "outputId": "e76979b5-2e1c-45bf-fce3-9472974b8750"
      },
      "outputs": [
        {
          "name": "stdout",
          "output_type": "stream",
          "text": [
            "['himself', 'thyself', 'itself', 'himself', 'yourself', 'himself', 'itself', 'myself', 'yourself', 'himself', 'itself', 'self', 'yourself', 'himself', 'itself', 'itself', 'self', 'self', 'itself', 'himself', 'himself', 'self', 'himself', 'yourself', 'self', 'itself', 'self', 'self', 'itself', 'myself', 'myself', 'myself', 'myself', 'self', 'yourself', 'myself', 'himself', 'himself', 'himself', 'self', 'himself', 'self', 'itself', 'self', 'self', 'self', 'himself', 'himself', 'self', 'itself', 'yourself', 'himself', 'itself', 'himself', 'self', 'itself', 'himself', 'himself', 'himself', 'himself', 'yourself']\n"
          ]
        }
      ],
      "source": [
        "# Match \"self\", \"himslef\", \"herself\", \"itself\", \"myself\", \"yourself\", \"thyself\"\n",
        "\n"
      ]
    },
    {
      "cell_type": "code",
      "execution_count": null,
      "id": "20ceb6cc",
      "metadata": {
        "id": "20ceb6cc",
        "outputId": "a27f2207-62b1-4304-b1e3-c74b690b92eb"
      },
      "outputs": [
        {
          "name": "stdout",
          "output_type": "stream",
          "text": [
            "['virtue', 'virtues', 'virtues', 'virtue', 'virtue', 'virtue', 'virtue', 'virtue', 'virtue', 'virtue', 'virtue', 'virtue', 'virtue', 'virtue', 'virtue', 'virtue']\n"
          ]
        }
      ],
      "source": [
        "# Match both \"virtue\" and \"virtues\"\n",
        "\n"
      ]
    },
    {
      "cell_type": "code",
      "execution_count": null,
      "id": "4b689884",
      "metadata": {
        "id": "4b689884",
        "outputId": "ac70a5f9-05c0-4fe0-ebb2-edbf3b68f8b0"
      },
      "outputs": [
        {
          "name": "stdout",
          "output_type": "stream",
          "text": [
            "['Tranquillity']\n"
          ]
        }
      ],
      "source": [
        "# use quantified repition to find the word with upper case \"T\" and consists of 12 letters\n",
        "\n"
      ]
    },
    {
      "cell_type": "code",
      "execution_count": null,
      "id": "af0de309",
      "metadata": {
        "scrolled": false,
        "id": "af0de309",
        "outputId": "bc49d9d4-e25c-420f-eaa3-1232c4842a53"
      },
      "outputs": [
        {
          "name": "stdout",
          "output_type": "stream",
          "text": [
            "['\"Ne te quaesiveris extra.\"', '\"But these impulses may be from below, not from above.\" I replied, \"They do not seem to me to be such; but if I am the devil\\'s child, I will live then from the devil.\" No law can be sacred to me but that of my nature. Good and bad are but names very readily transferable to that or this; the only right is what is after my constitution; the only wrong what is against it. A man is to carry himself in the presence of all opposition as if every thing were titular and ephemeral but he. I am ashamed to think how easily we capitulate to badges and names, to large societies and dead institutions. Every decent and well-spoken individual affects and sways me more than is right. I ought to go upright and vital, and speak the rude truth in all ways. If malice and vanity wear the coat of philanthropy, shall that pass? If an angry bigot assumes this bountiful cause of Abolition, and comes to me with his last news from Barbadoes, why should I not say to him, \"Go love thy infant; love thy wood-chopper; be good-natured and modest; have that grace; and never varnish your hard, uncharitable ambition with this incredible tenderness for black folk a thousand miles off. Thy love afar is spite at home.\"', '\"the foolish face of praise,\"', '\"the height of Rome;\"', '\"I think,\" \"I am,\"', '\"Come out unto us.\"—Do not spill thy soul; do not all descend; keep thy state; stay at home in thine own heaven; come not for a moment into their facts, into their hubbub of conflicting appearances, but let in the light of thy law on their confusion. The power men possess to annoy me I give them by a weak curiosity. No man can come near me but through my act. \"What we love that we have, but by desire we bereave ourselves of the love.\"', '\"studying a profession,\"', '\"His hidden meaning lies in our endeavors; Our valors are our best gods.\"', '\"To the persevering mortal,\" said Zoroaster, \"the blessed Immortals are swift.\"', '\"Let not God speak to us, lest we die. Speak thou, speak any man with us, and we will obey.\" Everywhere I am bereaved of meeting God in my brother, because he has shut his own temple doors and recites fables merely of his brother\\'s, or his brother\\'s brother\\'s God. Every new mind is a new classification. If it prove a mind of uncommon activity and power, a Locke, a Lavoisier, a Hutton, a Bentham, a Spurzheim, it imposes its classification on other men, and lo! a new system. In proportion always to the depth of the thought, and so to the number of the objects it touches and brings within reach of the pupil, is his complacency. But chiefly is this apparent in creeds and churches, which are also classifications of some powerful mind acting on the great elemental thought of Duty and man\\'s relation to the Highest. Such is Calvinism, Quakerism, Swedenborgianism. The pupil takes the same delight in subordinating every thing to the new terminology that a girl does who has just learned botany in seeing a new earth and new seasons thereby. It will happen for a time that the pupil will feel a real debt to the teacher—will find his intellectual power has grown by the study of his writings. This will continue until he has exhausted his master\\'s mind. But in all unbalanced minds the classification is idolized, passes for the end and not for a speedily exhaustible means, so that the walls of the system blend to their eye in the remote horizon with the walls of the universe; the luminaries of heaven seem to them hung on the arch their master built. They cannot imagine how you aliens have any right to see—how you can see: \"It must be somehow that you stole the light from us.\"', '\"without abolishing our arms, magazines, commissaries and carriages, until, in imitation of the Roman custom, the soldier should receive his supply of corn, grind it in his hand-mill and bake his bread himself.\"', '\"Thy lot or portion of life,\" said the Caliph Ali, \"is seeking after thee; therefore be at rest from seeking after if.\"']\n"
          ]
        }
      ],
      "source": [
        "# Match any text inside quotation marks, and nothing that is not inside them.\n",
        "results = re.findall('\".+\"', txt) # This actually matches some text outside quotations if included between 2 sentences inside quotations\n",
        "print(results)"
      ]
    },
    {
      "cell_type": "code",
      "execution_count": null,
      "id": "81fd91c7",
      "metadata": {
        "id": "81fd91c7",
        "outputId": "4177e7b7-98f5-4303-afca-f0282a4ce877"
      },
      "outputs": [
        {
          "name": "stdout",
          "output_type": "stream",
          "text": [
            "['\"Ne te quaesiveris extra.\"', '\"But these impulses may be from below, not from above.\"', '\"They do not seem to me to be such; but if I am the devil\\'s child, I will live then from the devil.\"', '\"Go love thy infant; love thy wood-chopper; be good-natured and modest; have that grace; and never varnish your hard, uncharitable ambition with this incredible tenderness for black folk a thousand miles off. Thy love afar is spite at home.\"', '\"the foolish face of praise,\"', '\"the height of Rome;\"', '\"I think,\"', '\"I am,\"', '\"Come out unto us.\"', '\"What we love that we have, but by desire we bereave ourselves of the love.\"', '\"studying a profession,\"', '\"His hidden meaning lies in our endeavors; Our valors are our best gods.\"', '\"To the persevering mortal,\"', '\"the blessed Immortals are swift.\"', '\"Let not God speak to us, lest we die. Speak thou, speak any man with us, and we will obey.\"', '\"It must be somehow that you stole the light from us.\"', '\"without abolishing our arms, magazines, commissaries and carriages, until, in imitation of the Roman custom, the soldier should receive his supply of corn, grind it in his hand-mill and bake his bread himself.\"', '\"Thy lot or portion of life,\"', '\"is seeking after thee; therefore be at rest from seeking after if.\"']\n"
          ]
        }
      ],
      "source": [
        "# Match any text inside quotation marks, and nothing that is not inside them.\n",
        " # Remember, expressions are greedy and we needd to makee them lazy;)\n"
      ]
    },
    {
      "cell_type": "markdown",
      "id": "cec95040",
      "metadata": {
        "id": "cec95040"
      },
      "source": [
        "<a id='Grouping'></a>\n",
        "\n",
        "## 5) Grouping and Alternation"
      ]
    },
    {
      "cell_type": "markdown",
      "id": "d77c342d",
      "metadata": {
        "id": "d77c342d"
      },
      "source": [
        "<a id='Groupmeta'></a>\n",
        "\n",
        "### A) Grouping metacharacters `( )`\n",
        "- Group portions of the expression to:\n",
        "    - Apply repetition to whole group.\n",
        "    - Create a group of alternation expressions.\n",
        "    - Capture group (save it in memory) to use in matching and replacing.\n",
        "    - When grouping inside the same word, they must be enclosed with a non-capturing group (?:)\n",
        "\n",
        "    \n",
        "For example:\n",
        "\n",
        "   `(abc)+` matches \"abc\" or \"abcabcabc\"\n",
        "\n",
        "   `(in)?dependent` matches both \"independent\" and \"dependent\"\n"
      ]
    },
    {
      "cell_type": "code",
      "execution_count": null,
      "id": "381d7437",
      "metadata": {
        "id": "381d7437",
        "outputId": "31986d3f-2c8b-4cea-c068-a6ae64f0248b"
      },
      "outputs": [
        {
          "name": "stdout",
          "output_type": "stream",
          "text": [
            "['abc', 'abc', 'abc', 'abc']\n"
          ]
        }
      ],
      "source": [
        "results = re.findall('(abc)', 'abc abcabcabc')\n",
        "print(results)"
      ]
    },
    {
      "cell_type": "code",
      "execution_count": null,
      "id": "bed18ec1",
      "metadata": {
        "id": "bed18ec1",
        "outputId": "5152a7a2-f7ab-4633-8396-8a0389345d53"
      },
      "outputs": [
        {
          "name": "stdout",
          "output_type": "stream",
          "text": [
            "['dependent', 'independent']\n"
          ]
        }
      ],
      "source": [
        "results = re.findall('((?:in)?dependent)', 'dependent independent')\n",
        "print(results)"
      ]
    },
    {
      "cell_type": "code",
      "execution_count": null,
      "id": "76b4f418",
      "metadata": {
        "id": "76b4f418",
        "outputId": "2b5cd512-2b3e-4166-aaeb-ab027eff3a8f"
      },
      "outputs": [
        {
          "name": "stdout",
          "output_type": "stream",
          "text": [
            "['123-456-7890']\n"
          ]
        }
      ],
      "source": [
        "results = re.findall('\\d{3}-\\d{3}-\\d{4}', '123-456-7890')\n",
        "print(results)"
      ]
    },
    {
      "cell_type": "code",
      "execution_count": null,
      "id": "b53fe475",
      "metadata": {
        "id": "b53fe475",
        "outputId": "bb14f948-7d1a-46c1-ffeb-50c45c55cfae"
      },
      "outputs": [
        {
          "data": {
            "text/plain": [
              "[('123', '456-7890')]"
            ]
          },
          "execution_count": 100,
          "metadata": {},
          "output_type": "execute_result"
        }
      ],
      "source": [
        "# Only capture groups gets \"captured\" in the memory\n",
        "results = re.findall('(\\d{3})-(\\d{3}-\\d{4})', '123-456-7890')\n",
        "results"
      ]
    },
    {
      "cell_type": "code",
      "execution_count": null,
      "id": "cbd918b6",
      "metadata": {
        "id": "cbd918b6",
        "outputId": "87ca4c62-3e77-495b-e906-74eeb82a3793"
      },
      "outputs": [
        {
          "name": "stdout",
          "output_type": "stream",
          "text": [
            "<re.Match object; span=(0, 12), match='123-456-7890'>\n",
            "('123', '456-7890')\n"
          ]
        }
      ],
      "source": [
        "# capture groups are subgroups of match objects resulting from match or search methods.\n",
        "# These groups gets \"captured\" in the memory and can be referenced back\n",
        "matches = re.search('(\\d{3})-(\\d{3}-\\d{4})', '123-456-7890')\n",
        "print(matches)\n",
        "print(matches.groups()) # Lists subgroups"
      ]
    },
    {
      "cell_type": "code",
      "execution_count": null,
      "id": "03be1ef9",
      "metadata": {
        "id": "03be1ef9",
        "outputId": "259810ca-6e18-40ba-822f-505b708a29f7"
      },
      "outputs": [
        {
          "name": "stdout",
          "output_type": "stream",
          "text": [
            "123-456-7890\n"
          ]
        },
        {
          "data": {
            "text/plain": [
              "('123', '456-7890')"
            ]
          },
          "execution_count": 70,
          "metadata": {},
          "output_type": "execute_result"
        }
      ],
      "source": [
        "# capture groups are subgroups of match objects resulting from match or search methods.\n",
        "# These groups gets \"captured\" in the memory and can be referenced back\n",
        "print(matches.group(0)) # Displays the main group (The whole match)\n",
        "matches.group(1,2) # Lists subgroups 1 and 2"
      ]
    },
    {
      "cell_type": "code",
      "execution_count": null,
      "id": "62df7f5d",
      "metadata": {
        "id": "62df7f5d",
        "outputId": "33432779-ef7d-4560-92c5-fd30fcf3b5a4"
      },
      "outputs": [
        {
          "data": {
            "text/plain": [
              "'xxx-456-7890'"
            ]
          },
          "execution_count": 77,
          "metadata": {},
          "output_type": "execute_result"
        }
      ],
      "source": [
        "# Replacing groups using \n",
        "replaced = re.sub(matches.group(1), 'xxx', '123-456-7890')\n",
        "replaced"
      ]
    },
    {
      "cell_type": "markdown",
      "id": "45664c39",
      "metadata": {
        "id": "45664c39"
      },
      "source": [
        "<a id='Alternation'></a>\n",
        "\n",
        "### B) Alternation metacharacters `|`\n",
        "- Match either the expression on the left or on the right.\n",
        "- The leftmost expression gets matched first. The first match doesn't affect future matches.\n",
        "- Group alternation expressions to keep this distinct.\n",
        "- When looking for different alternations inside the same word, they must be enclosed with a non-capturing group (?:)\n",
        "    \n",
        "For example:\n",
        "\n",
        "   `w(?:ei|ie)rd` matches \"weird\" or \"wierd\" (If both are present, both are matched)\n",
        "   \n",
        "   `(?:aa|bb|cc){4}` matches any 4 combinations of both letters \"aaaaaaaa\" \"aabbccaa\", \"aaccccaa\", \"aaccbbaa\",...,etc."
      ]
    },
    {
      "cell_type": "code",
      "execution_count": null,
      "id": "c389ad16",
      "metadata": {
        "id": "c389ad16",
        "outputId": "5eeef6af-42dc-4c8f-e78a-546ef26329b7"
      },
      "outputs": [
        {
          "name": "stdout",
          "output_type": "stream",
          "text": [
            "['aaaaaaaa', 'aabbccaa', 'aaccccaa', 'aaccbbaa']\n"
          ]
        }
      ],
      "source": [
        "x =  'aaaaaaaa aabbccaa aaccccaa aaccbbaa'\n",
        "results = re.findall('(?:aa|bb|cc){4}', x)\n",
        "print(results)"
      ]
    },
    {
      "cell_type": "code",
      "execution_count": null,
      "id": "c7dd99b3",
      "metadata": {
        "id": "c7dd99b3",
        "outputId": "d05ee17a-db69-4025-bb2e-3a031e2364ce"
      },
      "outputs": [
        {
          "name": "stdout",
          "output_type": "stream",
          "text": [
            "['wierd', 'weird']\n"
          ]
        }
      ],
      "source": [
        "x =  'wierd weird'\n",
        "results = re.findall('w(?:ei|ie)rd', x)\n",
        "print(results)"
      ]
    },
    {
      "cell_type": "code",
      "execution_count": null,
      "id": "b642908f",
      "metadata": {
        "id": "b642908f",
        "outputId": "86f7f525-81a3-46aa-a5fd-92b42516583a"
      },
      "outputs": [
        {
          "name": "stdout",
          "output_type": "stream",
          "text": [
            "<re.Match object; span=(0, 5), match='wierd'>\n"
          ]
        }
      ],
      "source": [
        "x =  'wierd weird'\n",
        "matches = re.match('w(ei|ie)rd', x)\n",
        "print(matches)"
      ]
    },
    {
      "cell_type": "code",
      "execution_count": null,
      "id": "1884a9cc",
      "metadata": {
        "id": "1884a9cc",
        "outputId": "69bb9998-9c4f-4d2d-d7c6-05ba98280a76"
      },
      "outputs": [
        {
          "data": {
            "text/plain": [
              "('ie',)"
            ]
          },
          "execution_count": 103,
          "metadata": {},
          "output_type": "execute_result"
        }
      ],
      "source": [
        "matches.groups()"
      ]
    },
    {
      "cell_type": "code",
      "execution_count": null,
      "id": "93b72069",
      "metadata": {
        "id": "93b72069",
        "outputId": "e3a2721c-70e7-4e18-8c37-59c0a5f6c00e"
      },
      "outputs": [
        {
          "name": "stdout",
          "output_type": "stream",
          "text": [
            "<re.Match object; span=(0, 5), match='wierd'>\n"
          ]
        }
      ],
      "source": [
        "x =  'wierd weird'\n",
        "matches = re.search('w(ei|ie)rd', x)\n",
        "print(matches)"
      ]
    },
    {
      "cell_type": "code",
      "execution_count": null,
      "id": "052cfc4f",
      "metadata": {
        "id": "052cfc4f",
        "outputId": "24c85f7f-fe03-4c65-8b00-a7c807b21fe7"
      },
      "outputs": [
        {
          "name": "stdout",
          "output_type": "stream",
          "text": [
            "['thyself', 'yourself', 'myself', 'yourself', 'yourself', 'yourself', 'myself', 'myself', 'myself', 'myself', 'yourself', 'myself', 'yourself', 'yourself']\n"
          ]
        }
      ],
      "source": [
        "# Match \"myself\", \"yourself\", \"thyself\" but not \"himself\", \"herself\", \"itself\" using alternations\n"
      ]
    },
    {
      "cell_type": "code",
      "execution_count": null,
      "id": "538e933c",
      "metadata": {
        "id": "538e933c",
        "outputId": "8a8467f7-ca7f-400d-caf1-364e0437a3a6"
      },
      "outputs": [
        {
          "name": "stdout",
          "output_type": "stream",
          "text": [
            "['goodness', 'goodness', 'goodness', 'goods']\n"
          ]
        }
      ],
      "source": [
        "# Match \"good\", \"goodness\", \"goods\" without typing \"good\" more than once \n",
        "results = re.findall('good(?:ness|s)', txt)\n",
        "print(results)"
      ]
    },
    {
      "cell_type": "code",
      "execution_count": null,
      "id": "bdad87be",
      "metadata": {
        "id": "bdad87be",
        "outputId": "29eb6a75-2dcd-470e-9448-cb29557e41e5"
      },
      "outputs": [
        {
          "name": "stdout",
          "output_type": "stream",
          "text": [
            "['does not', 'Do not', 'does not', 'do not', 'do not', 'do not', 'do not', 'do not', 'do not', 'do no', 'does not', 'do not', 'does not', 'do not', 'do not', 'do nothing', 'do not', 'does not', 'do not', 'does not', 'Do not', 'do not', 'does not', 'do not', 'does not', 'does not', 'does not', 'does not', 'does not', 'do not', 'does not', 'does not', 'does not', 'does not', 'Do not']\n"
          ]
        }
      ],
      "source": [
        "# Match \"Do/do\" or \"Does/does\"  followed by \"no\", \"not\", or \"nothing\", even when it occurs at the start of a sentence\n",
        "results = re.findall('[Dd]o(?:es)? no(?:t(?:hing)?)?', txt)\n",
        "print(results)"
      ]
    },
    {
      "cell_type": "markdown",
      "id": "86772d6d",
      "metadata": {
        "id": "86772d6d"
      },
      "source": [
        "<a id='Anchors'></a>\n",
        "\n",
        "## 6) Anchors"
      ]
    },
    {
      "cell_type": "markdown",
      "id": "a87d65fe",
      "metadata": {
        "id": "a87d65fe"
      },
      "source": [
        "<a id='StartAndEnd'></a>\n",
        "\n",
        "### A) Start and end anchors\n",
        "- Specify starting or ending point that needs to be considered when searching for a pattern.\n",
        "    \n",
        "   `^` Start of string/line\n",
        "\n",
        "   `$` End of string/line\n",
        "   \n",
        "   `\\A` Start of string, never end of line\n",
        "   \n",
        "   `\\Z` End of string, never end of line\n"
      ]
    },
    {
      "cell_type": "code",
      "execution_count": null,
      "id": "3710429f",
      "metadata": {
        "id": "3710429f",
        "outputId": "777a5484-c1fe-4b75-874f-13439fc8f5db"
      },
      "outputs": [
        {
          "name": "stdout",
          "output_type": "stream",
          "text": [
            "['def']\n"
          ]
        }
      ],
      "source": [
        "x =  'defaaaaaaaa aabbccaa defaaccccaa aaccbbaa'\n",
        "results = re.findall('^def', x)\n",
        "print(results)"
      ]
    },
    {
      "cell_type": "markdown",
      "id": "03e3117e",
      "metadata": {
        "id": "03e3117e"
      },
      "source": [
        "<a id='Linebreaks'></a>\n",
        "\n",
        "### B) Line breaks and multiline mode\n",
        "- Must enable multiline mode by passing `re.MULTILINE` in the parentheses to enable `^` and `$` to work at the beginning and end of lines respectively.\n",
        "\n",
        "- `\\A` and `\\Z` are not affected by this mode.\n"
      ]
    },
    {
      "cell_type": "code",
      "execution_count": null,
      "id": "2b1e542c",
      "metadata": {
        "id": "2b1e542c",
        "outputId": "e65b277a-10b9-44f0-caf3-31b6b3c4d826"
      },
      "outputs": [
        {
          "name": "stdout",
          "output_type": "stream",
          "text": [
            "['def', 'def']\n"
          ]
        }
      ],
      "source": [
        "x =  '''defaaaaaaaa aabbccaa\n",
        "defaaccccaa aaccbbaa'''\n",
        "results = re.findall('^def', x, re.MULTILINE)\n",
        "print(results)"
      ]
    },
    {
      "cell_type": "markdown",
      "id": "b8ac1bd2",
      "metadata": {
        "id": "b8ac1bd2"
      },
      "source": [
        "<a id='boundaries'></a>\n",
        "\n",
        "### C) Word boundaries\n",
        "- The start or the end of a word\n",
        "\n",
        "    `\\b` Start or end of word\n",
        "    \n",
        "    `\\B` Not Start or end of word\n",
        "    \n",
        "\n",
        "*Note: When you write \"\\b\" in Python, it is a single character. Either escape the backslash like this:*\n",
        "\n",
        "`\\\\b`\n",
        "\n",
        "*or write a raw string like this:*\n",
        "\n",
        "`r'\\b'`\n"
      ]
    },
    {
      "cell_type": "code",
      "execution_count": null,
      "id": "e5473fc4",
      "metadata": {
        "id": "e5473fc4",
        "outputId": "e718915f-b61f-42a5-f0a1-bbffbad01135"
      },
      "outputs": [
        {
          "name": "stdout",
          "output_type": "stream",
          "text": [
            "['This', 'is', 'a', 'test']\n"
          ]
        }
      ],
      "source": [
        "x = 'This is a test'\n",
        "results = re.findall('\\\\b\\w+\\\\b', x) # Use extra back slash to escape how Python treats backslashes\n",
        "print(results)"
      ]
    },
    {
      "cell_type": "code",
      "execution_count": null,
      "id": "356c029b",
      "metadata": {
        "id": "356c029b",
        "outputId": "a7077709-e7d4-46b6-c029-b778f49abfa4"
      },
      "outputs": [
        {
          "name": "stdout",
          "output_type": "stream",
          "text": [
            "['hi', 'es']\n"
          ]
        }
      ],
      "source": [
        "# Using r (Raw Text) to tell Python not to handle back slashes in a special way\n",
        "x = 'This is a test'\n",
        "results = re.findall(r'\\B\\w+\\B', x)\n",
        "print(results)"
      ]
    },
    {
      "cell_type": "code",
      "execution_count": null,
      "id": "3e252370",
      "metadata": {
        "id": "3e252370",
        "outputId": "4fba85e0-03d7-49c9-e472-4df0da23ac6c"
      },
      "outputs": [
        {
          "name": "stdout",
          "output_type": "stream",
          "text": [
            "['I', 'I', 'I', 'I']\n",
            "4\n"
          ]
        }
      ],
      "source": [
        "# How many paragraphs start with \"I\" as a stand alone letter?\n",
        "\n"
      ]
    },
    {
      "cell_type": "code",
      "execution_count": null,
      "id": "7dda8295",
      "metadata": {
        "id": "7dda8295",
        "outputId": "8e2c8ef8-8583-4898-cb9c-e3ccb9965e51"
      },
      "outputs": [
        {
          "name": "stdout",
          "output_type": "stream",
          "text": [
            "['?']\n",
            "1\n"
          ]
        }
      ],
      "source": [
        "# How many paragraphs end with a \"?\"\n",
        "\n"
      ]
    },
    {
      "cell_type": "code",
      "execution_count": null,
      "id": "de268012",
      "metadata": {
        "id": "de268012",
        "outputId": "b7838a00-bf93-4d76-ce01-1084c8445532"
      },
      "outputs": [
        {
          "name": "stdout",
          "output_type": "stream",
          "text": [
            "['classifications', 'million-colored', 'thousand-cloven']\n",
            "3\n"
          ]
        }
      ],
      "source": [
        "# Find all words with exactly 15 letter including hyphenated words\n",
        "\n"
      ]
    }
  ],
  "metadata": {
    "kernelspec": {
      "display_name": "Python 3 (ipykernel)",
      "language": "python",
      "name": "python3"
    },
    "language_info": {
      "codemirror_mode": {
        "name": "ipython",
        "version": 3
      },
      "file_extension": ".py",
      "mimetype": "text/x-python",
      "name": "python",
      "nbconvert_exporter": "python",
      "pygments_lexer": "ipython3",
      "version": "3.9.7"
    },
    "colab": {
      "name": "Regex - Practice.ipynb",
      "provenance": [],
      "include_colab_link": true
    }
  },
  "nbformat": 4,
  "nbformat_minor": 5
}