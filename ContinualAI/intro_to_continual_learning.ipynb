{
 "cells": [
  {
   "cell_type": "markdown",
   "metadata": {
    "colab_type": "text",
    "id": "fp9hbokQIxWW"
   },
   "source": [
    "# A Gentle Introduction to Continual Learning in PyTorch\n",
    "\n",
    "In this brief tutorial we will learn the basics of *Continual Learning* using *PyTorch 0.4.0*. We will use the standard MNIST benchmark so that you can swiftly run this notebook from anywhere!\n",
    "\n",
    "This notebook is part of the **[Continual AI Colab](https://github.com/ContinualAI/colab)** is a repository meant for tutorials and demo running on Google Colaboratory. [Continual AI](https://www.continualai.org/) is an open research community on the topic of Continual Learning and AI! Join us today [on slack](https://continualai.herokuapp.com/)! :-D\n",
    "\n",
    "We will start with learning over the standard *MNIST* benchmark, then we will move in the actual continual learning setting  with the *Permuted MNIST* benchmark. Let's have some fun! :-)\n",
    "\n",
    "\n",
    "---\n",
    "** Connecting a local runtime**\n",
    "\n",
    "In case resources are not enough for you (no GPU for example), you can always connect another [local runtime](https://research.google.com/colaboratory/local-runtimes.html) or to a [runtime on a Google Compute Engine instance](https://research.google.com/colaboratory/local-runtimes.html).\n",
    "\n",
    "This notebook has been designed to run fast enough on simple CPUs so you shouldn't find any trouble here, using a free *hosted account*.\n",
    "\n",
    "---\n",
    "\n",
    "\n",
    "**Requisites to run it locally, outside colab (not recommended)**\n",
    "\n",
    "*   Python 3.x\n",
    "*   Jupyter\n",
    "*   PyTorch 0.4.0\n",
    "*   Numpy\n",
    "*   Matplolib\n",
    "---\n",
    "\n"
   ]
  },
  {
   "cell_type": "markdown",
   "metadata": {
    "colab_type": "text",
    "id": "z6RUp96FLuMd"
   },
   "source": [
    "## Google Colaboratory\n",
    "\n",
    "First of all, take a moment to look around and discover Google Colab if you haven't before! You can run the commands below to understand how much resources you're using and are still available. Then consider also that you can also connect your Google Drive for additional space or for easily loading your own files.\n",
    "\n",
    "You can always reset the entire VM with \"*Runtime > Reset all runtime*\" in case of difficulty. Make also sure you're using the GPU or TPU in the same  tab (\"*Runtime > Change runtime type*\")."
   ]
  },
  {
   "cell_type": "code",
   "execution_count": 1,
   "metadata": {
    "colab": {
     "base_uri": "https://localhost:8080/",
     "height": 531
    },
    "colab_type": "code",
    "id": "pPViRmMBqbJ2",
    "outputId": "e194fb99-b426-4b27-8e7b-30b2c21eb21c"
   },
   "outputs": [
    {
     "name": "stdout",
     "output_type": "stream",
     "text": [
      "              total        used        free      shared  buff/cache   available\n",
      "Mem:          13022         434       10884           0        1704       12321\n",
      "Swap:             0           0           0\n",
      "Filesystem      Size  Used Avail Use% Mounted on\n",
      "overlay         359G   22G  319G   7% /\n",
      "tmpfs           6.4G     0  6.4G   0% /dev\n",
      "tmpfs           6.4G     0  6.4G   0% /sys/fs/cgroup\n",
      "tmpfs           6.4G   12K  6.4G   1% /var/colab\n",
      "/dev/sda1       365G   27G  339G   8% /opt/bin\n",
      "shm             6.0G     0  6.0G   0% /dev/shm\n",
      "tmpfs           6.4G     0  6.4G   0% /sys/firmware\n",
      "Thu Feb 28 11:35:09 2019       \n",
      "+-----------------------------------------------------------------------------+\n",
      "| NVIDIA-SMI 410.79       Driver Version: 410.79       CUDA Version: 10.0     |\n",
      "|-------------------------------+----------------------+----------------------+\n",
      "| GPU  Name        Persistence-M| Bus-Id        Disp.A | Volatile Uncorr. ECC |\n",
      "| Fan  Temp  Perf  Pwr:Usage/Cap|         Memory-Usage | GPU-Util  Compute M. |\n",
      "|===============================+======================+======================|\n",
      "|   0  Tesla K80           Off  | 00000000:00:04.0 Off |                    0 |\n",
      "| N/A   45C    P8    27W / 149W |      0MiB / 11441MiB |      0%      Default |\n",
      "+-------------------------------+----------------------+----------------------+\n",
      "                                                                               \n",
      "+-----------------------------------------------------------------------------+\n",
      "| Processes:                                                       GPU Memory |\n",
      "|  GPU       PID   Type   Process name                             Usage      |\n",
      "|=============================================================================|\n",
      "|  No running processes found                                                 |\n",
      "+-----------------------------------------------------------------------------+\n"
     ]
    }
   ],
   "source": [
    "!free -m\n",
    "!df -h\n",
    "!nvidia-smi"
   ]
  },
  {
   "cell_type": "markdown",
   "metadata": {
    "colab_type": "text",
    "id": "jt_PxOYPmxp_"
   },
   "source": [
    "**Questions to explore:**\n",
    "\n",
    "*   How to connect your Google Drive with Google Colab?\n",
    "*   How to import a new notebook and save it to your GDrive?\n",
    "*   How to use files which are contained in your GDrive?\n",
    "\n",
    "Some tips here: https://medium.com/deep-learning-turkey/google-colab-free-gpu-tutorial-e113627b9f5d\n"
   ]
  },
  {
   "cell_type": "markdown",
   "metadata": {
    "colab_type": "text",
    "id": "eaSUr-B3NEZq"
   },
   "source": [
    "## Installing PyTorch 0.4.0\n",
    "\n",
    "Tensorflow is installed by default in Google Colab (guess why :P). If you want to use another DL toolkit you have to do it by yourself. Run the command below to install it. It should take less than a couple of minutes."
   ]
  },
  {
   "cell_type": "code",
   "execution_count": 0,
   "metadata": {
    "colab": {
     "base_uri": "https://localhost:8080/",
     "height": 91
    },
    "colab_type": "code",
    "id": "herKnlqYGYdx",
    "outputId": "2ed869ed-8009-407d-e837-b636d9937eed"
   },
   "outputs": [
    {
     "name": "stdout",
     "output_type": "stream",
     "text": [
      "Platform: cp36-cp36m Accelerator: cu80\n",
      "tcmalloc: large alloc 1073750016 bytes == 0x5c03e000 @  0x7f5f4fb251c4 0x46d6a4 0x5fcbcc 0x4c494d 0x54f3c4 0x553aaf 0x54e4c8 0x54f4f6 0x553aaf 0x54efc1 0x54f24d 0x553aaf 0x54efc1 0x54f24d 0x553aaf 0x54efc1 0x54f24d 0x551ee0 0x54e4c8 0x54f4f6 0x553aaf 0x54efc1 0x54f24d 0x551ee0 0x54efc1 0x54f24d 0x551ee0 0x54e4c8 0x54f4f6 0x553aaf 0x54e4c8\n",
      "Torch 0.4.0 CUDA 8.0.61\n"
     ]
    }
   ],
   "source": [
    "# http://pytorch.org/\n",
    "from os import path\n",
    "from wheel.pep425tags import get_abbr_impl, get_impl_ver, get_abi_tag\n",
    "platform = '{}{}-{}'.format(get_abbr_impl(), get_impl_ver(), get_abi_tag())\n",
    "\n",
    "accelerator = 'cu80' #'cu80' if path.exists('/opt/bin/nvidia-smi') else 'cpu'\n",
    "print('Platform:', platform, 'Accelerator:', accelerator)\n",
    "\n",
    "!pip install --upgrade --force-reinstall -q http://download.pytorch.org/whl/{accelerator}/torch-0.4.0-{platform}-linux_x86_64.whl torchvision\n",
    "\n",
    "import torch\n",
    "print('Torch', torch.__version__, 'CUDA', torch.version.cuda)"
   ]
  },
  {
   "cell_type": "markdown",
   "metadata": {
    "colab_type": "text",
    "id": "i74kZQufNv5d"
   },
   "source": [
    "Ok, torch is installed and imported! Let' see if it can see the GPU:"
   ]
  },
  {
   "cell_type": "code",
   "execution_count": 0,
   "metadata": {
    "colab": {
     "base_uri": "https://localhost:8080/",
     "height": 35
    },
    "colab_type": "code",
    "id": "hv7FUJ2Wrd_l",
    "outputId": "605b1515-79b6-418b-a71c-7482974b9248"
   },
   "outputs": [
    {
     "data": {
      "text/plain": [
       "True"
      ]
     },
     "execution_count": 4,
     "metadata": {
      "tags": []
     },
     "output_type": "execute_result"
    }
   ],
   "source": [
    "import torch\n",
    "torch.cuda.is_available()"
   ]
  },
  {
   "cell_type": "markdown",
   "metadata": {
    "colab_type": "text",
    "id": "JuSqVkPnN7iT"
   },
   "source": [
    "That's great, let us import then a few libraries, which we'll be using during this tutorial!"
   ]
  },
  {
   "cell_type": "code",
   "execution_count": 0,
   "metadata": {
    "colab": {},
    "colab_type": "code",
    "id": "w7AxhUWe68vT"
   },
   "outputs": [],
   "source": [
    "import torch\n",
    "import torch.nn as nn\n",
    "import torchvision.datasets as datasets\n",
    "import torchvision.transforms as transforms\n",
    "import torch.optim as optim\n",
    "import torch.nn.functional as F\n",
    "import numpy as np\n",
    "import matplotlib.pyplot as plt"
   ]
  },
  {
   "cell_type": "markdown",
   "metadata": {
    "colab_type": "text",
    "id": "nGL7z5R2oxrX"
   },
   "source": [
    "**Questions to explore:**\n",
    "\n",
    "*   What's new in Pythorch 0.4?\n",
    "\n",
    "Some tips here: https://pytorch.org/blog/pytorch-0_4_0-migration-guide/\n"
   ]
  },
  {
   "cell_type": "markdown",
   "metadata": {
    "colab_type": "text",
    "id": "rv89m9nBPXSh"
   },
   "source": [
    "## MNIST: Digits recognition with PyTorch \n",
    "\n",
    "All right, let's start then making sure we all know the basics! Let's recognize the ten handwritten digits learning from 60.000, 28x28 grayscale images.\n",
    "For simplicity let's import a loading script we have already developed inside the **Continual AI Colab** repository:"
   ]
  },
  {
   "cell_type": "code",
   "execution_count": 2,
   "metadata": {
    "colab": {
     "base_uri": "https://localhost:8080/",
     "height": 127
    },
    "colab_type": "code",
    "id": "yKWbcnh474X3",
    "outputId": "a5566e61-1420-42c8-9a42-cfd86a66c7bb"
   },
   "outputs": [
    {
     "name": "stdout",
     "output_type": "stream",
     "text": [
      "Cloning into 'continualai/colab'...\n",
      "remote: Enumerating objects: 9, done.\u001b[K\n",
      "remote: Counting objects: 100% (9/9), done.\u001b[K\n",
      "remote: Compressing objects: 100% (9/9), done.\u001b[K\n",
      "remote: Total 93 (delta 2), reused 2 (delta 0), pack-reused 84\u001b[K\n",
      "Unpacking objects: 100% (93/93), done.\n"
     ]
    }
   ],
   "source": [
    "!git clone https://github.com/ContinualAI/colab.git continualai/colab"
   ]
  },
  {
   "cell_type": "code",
   "execution_count": 3,
   "metadata": {
    "colab": {
     "base_uri": "https://localhost:8080/",
     "height": 127
    },
    "colab_type": "code",
    "id": "x3BFVukM_y8i",
    "outputId": "97f37096-4eb3-4ecd-b9ff-f3dfa9943545"
   },
   "outputs": [
    {
     "name": "stdout",
     "output_type": "stream",
     "text": [
      "Downloading train-images-idx3-ubyte.gz...\n",
      "Downloading t10k-images-idx3-ubyte.gz...\n",
      "Downloading train-labels-idx1-ubyte.gz...\n",
      "Downloading t10k-labels-idx1-ubyte.gz...\n",
      "Download complete.\n",
      "Save complete.\n"
     ]
    }
   ],
   "source": [
    "from continualai.colab.scripts import mnist\n",
    "mnist.init()"
   ]
  },
  {
   "cell_type": "code",
   "execution_count": 0,
   "metadata": {
    "colab": {
     "base_uri": "https://localhost:8080/",
     "height": 89
    },
    "colab_type": "code",
    "id": "6jIk6-G6AhWi",
    "outputId": "25c6864b-df26-49a1-a8e4-049705b129d4"
   },
   "outputs": [
    {
     "name": "stdout",
     "output_type": "stream",
     "text": [
      "x_train dim and type:  (60000, 1, 28, 28) float32\n",
      "t_train dim and type:  (60000,) uint8\n",
      "x_test dim and type:  (10000, 1, 28, 28) float32\n",
      "t_test dim and type:  (10000,) uint8\n"
     ]
    }
   ],
   "source": [
    "x_train, t_train, x_test, t_test = mnist.load()\n",
    "\n",
    "print(\"x_train dim and type: \", x_train.shape, x_train.dtype)\n",
    "print(\"t_train dim and type: \", t_train.shape, t_train.dtype)\n",
    "print(\"x_test dim and type: \", x_test.shape, x_test.dtype)\n",
    "print(\"t_test dim and type: \", t_test.shape, t_test.dtype)"
   ]
  },
  {
   "cell_type": "markdown",
   "metadata": {
    "colab_type": "text",
    "id": "XEWG2PmbVvb7"
   },
   "source": [
    "Let's take a look at the actual images!"
   ]
  },
  {
   "cell_type": "code",
   "execution_count": 0,
   "metadata": {
    "colab": {
     "base_uri": "https://localhost:8080/",
     "height": 348
    },
    "colab_type": "code",
    "id": "RyIuYAw8AuO6",
    "outputId": "48937ba1-7253-4198-ecf4-bc58b6ca54af"
   },
   "outputs": [
    {
     "data": {
      "image/png": "[encoded data removed]",
      "text/plain": [
       "<matplotlib.figure.Figure at 0x7f6fff0c3c50>"
      ]
     },
     "metadata": {
      "tags": []
     },
     "output_type": "display_data"
    }
   ],
   "source": [
    "f, axarr = plt.subplots(2,2)\n",
    "axarr[0,0].imshow(x_train[1, 0], cmap=\"gray\")\n",
    "axarr[0,1].imshow(x_train[2, 0], cmap=\"gray\")\n",
    "axarr[1,0].imshow(x_train[3, 0], cmap=\"gray\")\n",
    "axarr[1,1].imshow(x_train[4, 0], cmap=\"gray\")\n",
    "np.vectorize(lambda ax:ax.axis('off'))(axarr);"
   ]
  },
  {
   "cell_type": "markdown",
   "metadata": {
    "colab_type": "text",
    "id": "baEsU4PGXsgS"
   },
   "source": [
    "Good! Let's now set up a few general setting before using torch..."
   ]
  },
  {
   "cell_type": "code",
   "execution_count": 0,
   "metadata": {
    "colab": {},
    "colab_type": "code",
    "id": "ztZAPQNXZ4ll"
   },
   "outputs": [],
   "source": [
    "# switch to False to use CPU\n",
    "use_cuda = True\n",
    "\n",
    "use_cuda = use_cuda and torch.cuda.is_available()\n",
    "device = torch.device(\"cuda\" if use_cuda else \"cpu\");\n",
    "torch.manual_seed(1);"
   ]
  },
  {
   "cell_type": "markdown",
   "metadata": {
    "colab_type": "text",
    "id": "0Ek0mErIac6n"
   },
   "source": [
    "... and define our first conv-net! We will use 3 layers of convolutions and two fully connected layers:"
   ]
  },
  {
   "cell_type": "code",
   "execution_count": 0,
   "metadata": {
    "colab": {},
    "colab_type": "code",
    "id": "ONMdybG4Be0z"
   },
   "outputs": [],
   "source": [
    "class Net(nn.Module):\n",
    "    def __init__(self):\n",
    "        super(Net, self).__init__()\n",
    "        self.conv1 = nn.Conv2d(1, 10, kernel_size=5)\n",
    "        self.conv2 = nn.Conv2d(10, 20, kernel_size=5)\n",
    "        self.conv2_drop = nn.Dropout2d()\n",
    "        self.fc1 = nn.Linear(320, 50)\n",
    "        self.fc2 = nn.Linear(50, 10)\n",
    "\n",
    "    def forward(self, x):\n",
    "        x = F.relu(F.max_pool2d(self.conv1(x), 2))\n",
    "        x = F.relu(F.max_pool2d(self.conv2_drop(self.conv2(x)), 2))\n",
    "        x = x.view(-1, 320)\n",
    "        x = F.relu(self.fc1(x))\n",
    "        x = F.dropout(x, training=self.training)\n",
    "        x = self.fc2(x)\n",
    "        return x"
   ]
  },
  {
   "cell_type": "markdown",
   "metadata": {
    "colab_type": "text",
    "id": "p9S6a-MlYAsu"
   },
   "source": [
    "Then we can write the *train* and *test* functions. Note that for simplicity here we are not using PyTorch [Data Loaders](https://pytorch.org/tutorials/beginner/data_loading_tutorial.html) but this is not recommended for efficiency."
   ]
  },
  {
   "cell_type": "code",
   "execution_count": 0,
   "metadata": {
    "colab": {},
    "colab_type": "code",
    "id": "HGJJfXhJB-zk"
   },
   "outputs": [],
   "source": [
    "def train(model, device, x_train, t_train, optimizer, epoch):\n",
    "    model.train()\n",
    "    \n",
    "    for start in range(0, len(t_train)-1, 256):\n",
    "      end = start + 256\n",
    "      x, y = torch.from_numpy(x_train[start:end]), torch.from_numpy(t_train[start:end]).long()\n",
    "      x, y = x.to(device), y.to(device)\n",
    "      \n",
    "      optimizer.zero_grad()\n",
    "\n",
    "      output = model(x)\n",
    "      loss = F.cross_entropy(output, y)\n",
    "      loss.backward()\n",
    "      optimizer.step()\n",
    "      #print(loss.item())\n",
    "    print('Train Epoch: {} \\tLoss: {:.6f}'.format(epoch, loss.item()))\n",
    "\n",
    "def test(model, device, x_test, t_test):\n",
    "    model.eval()\n",
    "    test_loss = 0\n",
    "    correct = 0\n",
    "    for start in range(0, len(t_test)-1, 256):\n",
    "      end = start + 256\n",
    "      with torch.no_grad():\n",
    "        x, y = torch.from_numpy(x_test[start:end]), torch.from_numpy(t_test[start:end]).long()\n",
    "        x, y = x.to(device), y.to(device)\n",
    "        output = model(x)\n",
    "        test_loss += F.cross_entropy(output, y).item() # sum up batch loss\n",
    "        pred = output.max(1, keepdim=True)[1] # get the index of the max logit\n",
    "        correct += pred.eq(y.view_as(pred)).sum().item()\n",
    "\n",
    "    test_loss /= len(t_test)\n",
    "    print('Test set: Average loss: {:.4f}, Accuracy: {}/{} ({:.0f}%)\\n'.format(\n",
    "        test_loss, correct, len(t_test),\n",
    "        100. * correct / len(t_test)))\n",
    "    return 100. * correct / len(t_test)"
   ]
  },
  {
   "cell_type": "markdown",
   "metadata": {
    "colab_type": "text",
    "id": "IxIISdDPaqb9"
   },
   "source": [
    "Then we are ready to instantiate our model and start the training!"
   ]
  },
  {
   "cell_type": "code",
   "execution_count": 0,
   "metadata": {
    "colab": {},
    "colab_type": "code",
    "id": "1cJURe0JCFh8"
   },
   "outputs": [],
   "source": [
    "model = Net().to(device)\n",
    "optimizer = optim.SGD(model.parameters(), lr=0.01, momentum=0.9)"
   ]
  },
  {
   "cell_type": "code",
   "execution_count": 0,
   "metadata": {
    "colab": {
     "base_uri": "https://localhost:8080/",
     "height": 125
    },
    "colab_type": "code",
    "id": "BlhVt8vylpUv",
    "outputId": "9f234bbc-ac81-4773-f957-d26a27a509f1"
   },
   "outputs": [
    {
     "name": "stdout",
     "output_type": "stream",
     "text": [
      "Train Epoch: 1 \tLoss: 0.779770\n",
      "Test set: Average loss: 0.0002, Accuracy: 8980/10000 (90%)\n",
      "\n",
      "Train Epoch: 2 \tLoss: 0.467472\n",
      "Test set: Average loss: 0.0001, Accuracy: 9426/10000 (94%)\n",
      "\n"
     ]
    }
   ],
   "source": [
    "for epoch in range(1, 3):\n",
    "  train(model, device, x_train, t_train, optimizer, epoch)\n",
    "  test(model, device, x_test, t_test)"
   ]
  },
  {
   "cell_type": "markdown",
   "metadata": {
    "colab_type": "text",
    "id": "7qwh4T5Va86-"
   },
   "source": [
    "Wow! 94% accuracy in such a short time. \n",
    "\n",
    "**Questions to explore:**\n",
    "\n",
    "*   Can you find a better parametrization to improve the final accuracy?\n",
    "*   Can you change the network architecture to improve the final accuracy?\n",
    "*   Can you achieve the same performances with a smaller architecture?\n",
    "*   What's the difference in accuracy if you change convolutions with fully connected layers?\n",
    "\n",
    "Some tips here: http://rodrigob.github.io/are_we_there_yet/build/classification_datasets_results.html#4d4e495354"
   ]
  },
  {
   "cell_type": "markdown",
   "metadata": {
    "colab_type": "text",
    "id": "2dn-5gOGq08g"
   },
   "source": [
    "But what if now we want we the same model being able to solve a new task we encounter over time like a permuted version of the same MNIST? Let's define our custom function to permute it!"
   ]
  },
  {
   "cell_type": "code",
   "execution_count": 0,
   "metadata": {
    "colab": {},
    "colab_type": "code",
    "id": "6Xq_4UvjgXPQ"
   },
   "outputs": [],
   "source": [
    "def permute_mnist(mnist, seed):\n",
    "    \"\"\" Given the training set, permute pixels of each img the same way. \"\"\"\n",
    "\n",
    "    np.random.seed(seed)\n",
    "    print(\"starting permutation...\")\n",
    "    h = w = 28\n",
    "    perm_inds = list(range(h*w))\n",
    "    np.random.shuffle(perm_inds)\n",
    "    # print(perm_inds)\n",
    "    perm_mnist = []\n",
    "    for set in mnist:\n",
    "        num_img = set.shape[0]\n",
    "        flat_set = set.reshape(num_img, w * h)\n",
    "        perm_mnist.append(flat_set[:, perm_inds].reshape(num_img, 1, w, h))\n",
    "    print(\"done.\")\n",
    "    return perm_mnist"
   ]
  },
  {
   "cell_type": "code",
   "execution_count": 0,
   "metadata": {
    "colab": {
     "base_uri": "https://localhost:8080/",
     "height": 53
    },
    "colab_type": "code",
    "id": "4xG5LFwLgkpu",
    "outputId": "6b064720-09b2-40a4-bb52-cbc12685cad3"
   },
   "outputs": [
    {
     "name": "stdout",
     "output_type": "stream",
     "text": [
      "starting permutation...\n",
      "done.\n"
     ]
    }
   ],
   "source": [
    "x_train2, x_test2 = permute_mnist([x_train, x_test], 0)"
   ]
  },
  {
   "cell_type": "code",
   "execution_count": 0,
   "metadata": {
    "colab": {
     "base_uri": "https://localhost:8080/",
     "height": 251
    },
    "colab_type": "code",
    "id": "LYBa_Gedh_do",
    "outputId": "e6c6dbd2-4db1-4ea7-e5d0-92c1b9c2b39b"
   },
   "outputs": [
    {
     "data": {
      "image/png": "[encoded data removed]",
      "text/plain": [
       "<matplotlib.figure.Figure at 0x7f6fff0ae7b8>"
      ]
     },
     "metadata": {
      "tags": []
     },
     "output_type": "display_data"
    }
   ],
   "source": [
    "f, axarr = plt.subplots(1,2)\n",
    "axarr[0].imshow(x_train[1, 0], cmap=\"gray\")\n",
    "axarr[1].imshow(x_train2[2, 0], cmap=\"gray\")\n",
    "np.vectorize(lambda ax:ax.axis('off'))(axarr);"
   ]
  },
  {
   "cell_type": "markdown",
   "metadata": {
    "colab_type": "text",
    "id": "46wHcbNAchH-"
   },
   "source": [
    "Amazing. Now let's see how our pre-trained model is working on both the original and the permuted MNIST dataset:"
   ]
  },
  {
   "cell_type": "code",
   "execution_count": 0,
   "metadata": {
    "colab": {
     "base_uri": "https://localhost:8080/",
     "height": 125
    },
    "colab_type": "code",
    "id": "Sxusb8s3itli",
    "outputId": "9d6e8172-c330-4768-d26b-b5e1d38243c9"
   },
   "outputs": [
    {
     "name": "stdout",
     "output_type": "stream",
     "text": [
      "Testing on the first task:\n",
      "Test set: Average loss: 0.0001, Accuracy: 9426/10000 (94%)\n",
      "\n",
      "Testing on the second task:\n",
      "Test set: Average loss: 0.0018, Accuracy: 1068/10000 (11%)\n",
      "\n"
     ]
    }
   ],
   "source": [
    "print(\"Testing on the first task:\")\n",
    "test(model, device, x_test, t_test)\n",
    "\n",
    "print(\"Testing on the second task:\")\n",
    "test(model, device, x_test2, t_test);"
   ]
  },
  {
   "cell_type": "markdown",
   "metadata": {
    "colab_type": "text",
    "id": "0pHMg4G_dHFY"
   },
   "source": [
    "Mmmh... that's pretty bad, our model cannot generalize to this apparently very different new task! Well, we can just finetune our model using the new permuted training set!"
   ]
  },
  {
   "cell_type": "code",
   "execution_count": 0,
   "metadata": {
    "colab": {
     "base_uri": "https://localhost:8080/",
     "height": 125
    },
    "colab_type": "code",
    "id": "J5PtR8Gqib00",
    "outputId": "3d6f99cc-c3f0-4718-8555-d642e6276623"
   },
   "outputs": [
    {
     "name": "stdout",
     "output_type": "stream",
     "text": [
      "Train Epoch: 1 \tLoss: 1.522812\n",
      "Test set: Average loss: 0.0005, Accuracy: 7400/10000 (74%)\n",
      "\n",
      "Train Epoch: 2 \tLoss: 1.273886\n",
      "Test set: Average loss: 0.0004, Accuracy: 8289/10000 (83%)\n",
      "\n"
     ]
    }
   ],
   "source": [
    "for epoch in range(1, 3):\n",
    "  train(model, device, x_train2, t_train, optimizer, epoch)\n",
    "  test(model, device, x_test2, t_test)"
   ]
  },
  {
   "cell_type": "code",
   "execution_count": 0,
   "metadata": {
    "colab": {
     "base_uri": "https://localhost:8080/",
     "height": 125
    },
    "colab_type": "code",
    "id": "ML7Evzb9jPAZ",
    "outputId": "d9d6cc71-a7ea-40dd-f5f1-ae4d5bc336a5"
   },
   "outputs": [
    {
     "name": "stdout",
     "output_type": "stream",
     "text": [
      "Testing on the first task:\n",
      "Test set: Average loss: 0.0029, Accuracy: 2792/10000 (28%)\n",
      "\n",
      "Testing on the second task:\n",
      "Test set: Average loss: 0.0004, Accuracy: 8289/10000 (83%)\n",
      "\n"
     ]
    }
   ],
   "source": [
    "print(\"Testing on the first task:\")\n",
    "test(model, device, x_test, t_test)\n",
    "\n",
    "print(\"Testing on the second task:\")\n",
    "test(model, device, x_test2, t_test);"
   ]
  },
  {
   "cell_type": "markdown",
   "metadata": {
    "colab_type": "text",
    "id": "0UZ6FBuHdm7N"
   },
   "source": [
    "This is very annoying! Now we are not able to solve the original MNSIT task anymore! :-( This is the phenomenon known in literature as **Catastrophic Forgetting**! In the following section we well compare three different strategies for learning continually (and trying to not forget!)\n",
    "\n",
    "**Questions to explore:**\n",
    "\n",
    "*   When the permuted MNIST benchmark has been firstly introduced? \n",
    "*   Can simple Dropout and Regularization techniques reduce forgetting?\n",
    "*   In the permuted MNIT task, do convolutions still help increasing the accuracy?\n",
    "\n",
    "Some tips here: https://papers.nips.cc/paper/5059-compete-to-compute"
   ]
  },
  {
   "cell_type": "markdown",
   "metadata": {
    "colab_type": "text",
    "id": "9rUgLpUakTy6"
   },
   "source": [
    "## CL Strategies\n",
    "\n",
    "Let us now focus on some strategies for reducing catastrofic forgetting, one of the principal problems when learning continuously. in this section we will take a look at three different strategies:\n",
    "\n",
    "1.   Naive\n",
    "2.   Rehearsal\n",
    "3.   Elastic Weight Consolidation (EWC)\n",
    "\n",
    "and run it on a 3-tasks Permuted MNIST. Finally we will plot our results for comparison. For a more comprehensive overview on recent CL strategies for deep learning take a look at the recent paper \"[Continuous Learning in Single-Incremental-Task Scenarios](https://arxiv.org/abs/1806.08568)\".\n",
    "\n",
    "Let's start by defining our 3 tasks with the function we have already introduced before:\n",
    "\n"
   ]
  },
  {
   "cell_type": "code",
   "execution_count": 0,
   "metadata": {
    "colab": {
     "base_uri": "https://localhost:8080/",
     "height": 89
    },
    "colab_type": "code",
    "id": "Yu0T_V24joGY",
    "outputId": "d7e2cf81-9c2b-4f30-92d6-0292d7f162ea"
   },
   "outputs": [
    {
     "name": "stdout",
     "output_type": "stream",
     "text": [
      "starting permutation...\n",
      "done.\n",
      "starting permutation...\n",
      "done.\n"
     ]
    }
   ],
   "source": [
    "# task 1\n",
    "task_1 = [(x_train, t_train), (x_test, t_test)]\n",
    "\n",
    "# task 2\n",
    "x_train2, x_test2 = permute_mnist([x_train, x_test], 1)\n",
    "task_2 = [(x_train2, t_train), (x_test2, t_test)]\n",
    "\n",
    "# task 3\n",
    "x_train3, x_test3 = permute_mnist([x_train, x_test], 2)\n",
    "task_3 = [(x_train3, t_train), (x_test3, t_test)]\n",
    "\n",
    "# task list\n",
    "tasks = [task_1, task_2, task_3]"
   ]
  },
  {
   "cell_type": "markdown",
   "metadata": {
    "colab_type": "text",
    "id": "yUNaukXyiJni"
   },
   "source": [
    "### Naive Strategy\n",
    "\n",
    "The  *Naive* strategy, is the simple idea of continuing the back-prop process on the new batches/tasks. This is very simple, but at the same time very prone to forgetting as we have witnessed before. Let's how it works on three tasks:"
   ]
  },
  {
   "cell_type": "code",
   "execution_count": 0,
   "metadata": {
    "colab": {},
    "colab_type": "code",
    "id": "gzFEA5F8pI_O"
   },
   "outputs": [],
   "source": [
    "model = Net().to(device)\n",
    "optimizer = optim.SGD(model.parameters(), lr=0.01, momentum=0.9)"
   ]
  },
  {
   "cell_type": "code",
   "execution_count": 0,
   "metadata": {
    "colab": {
     "base_uri": "https://localhost:8080/",
     "height": 665
    },
    "colab_type": "code",
    "id": "dLU6KdIbnLMN",
    "outputId": "a40235bf-c835-497b-8dd4-8f931d566d1c"
   },
   "outputs": [
    {
     "name": "stdout",
     "output_type": "stream",
     "text": [
      "Training on task:  0\n",
      "Train Epoch: 1 \tLoss: 0.754318\n",
      "Testing on task:  0\n",
      "Test set: Average loss: 0.0002, Accuracy: 9091/10000 (91%)\n",
      "\n",
      "Testing on task:  1\n",
      "Test set: Average loss: 0.0019, Accuracy: 620/10000 (6%)\n",
      "\n",
      "Testing on task:  2\n",
      "Test set: Average loss: 0.0017, Accuracy: 1229/10000 (12%)\n",
      "\n",
      "Avg acc:  36.46666666666667\n",
      "Training on task:  1\n",
      "Train Epoch: 1 \tLoss: 1.834168\n",
      "Testing on task:  0\n",
      "Test set: Average loss: 0.0028, Accuracy: 1748/10000 (17%)\n",
      "\n",
      "Testing on task:  1\n",
      "Test set: Average loss: 0.0008, Accuracy: 6470/10000 (65%)\n",
      "\n",
      "Testing on task:  2\n",
      "Test set: Average loss: 0.0017, Accuracy: 1288/10000 (13%)\n",
      "\n",
      "Avg acc:  31.686666666666667\n",
      "Training on task:  2\n",
      "Train Epoch: 1 \tLoss: 1.673319\n",
      "Testing on task:  0\n",
      "Test set: Average loss: 0.0046, Accuracy: 1454/10000 (15%)\n",
      "\n",
      "Testing on task:  1\n",
      "Test set: Average loss: 0.0013, Accuracy: 3398/10000 (34%)\n",
      "\n",
      "Testing on task:  2\n",
      "Test set: Average loss: 0.0007, Accuracy: 7139/10000 (71%)\n",
      "\n",
      "Avg acc:  39.97\n"
     ]
    }
   ],
   "source": [
    "naive_accs = []\n",
    "\n",
    "for id, task in enumerate(tasks):\n",
    "  avg_acc = 0\n",
    "  print(\"Training on task: \", id)\n",
    "  \n",
    "  (x_train, t_train), _ = task\n",
    "  \n",
    "  for epoch in range(1, 2):\n",
    "    train(model, device, x_train, t_train, optimizer, epoch)\n",
    "    \n",
    "  for id_test, task in enumerate(tasks):\n",
    "    print(\"Testing on task: \", id_test)\n",
    "    _, (x_test, t_test) = task\n",
    "    acc = test(model, device, x_test, t_test)\n",
    "    avg_acc = avg_acc + acc \n",
    "  \n",
    "  naive_accs.append(avg_acc / 3)\n",
    "  print(\"Avg acc: \", avg_acc / 3)\n",
    "  "
   ]
  },
  {
   "cell_type": "markdown",
   "metadata": {
    "colab_type": "text",
    "id": "ANJfdFD3s0oT"
   },
   "source": [
    "**Questions to explore:**\n",
    "\n",
    "*   Does the order of the tasks effect the final results? \n",
    "\n",
    "Some tips here: http://proceedings.mlr.press/v78/lomonaco17a/lomonaco17a.pdf"
   ]
  },
  {
   "cell_type": "markdown",
   "metadata": {
    "colab_type": "text",
    "id": "lCK0EYT-pJa8"
   },
   "source": [
    "### Rehearsal Strategy\n",
    "\n",
    "Another simple CL idea is to carry on *all* or *part* of the previously encountered examples (of the previous tasks), shuffling them with the data of the current task. Using *all* the past data is near to the optimal performance we can desire at the end of the task sequence but at the expense of much bigger memory usage.\n",
    "\n",
    "Let's start by defining a function to shuffle our data:\n",
    "\n"
   ]
  },
  {
   "cell_type": "code",
   "execution_count": 0,
   "metadata": {
    "colab": {},
    "colab_type": "code",
    "id": "FdWpT2jhfu3o"
   },
   "outputs": [],
   "source": [
    "def shuffle_in_unison(dataset, seed, in_place=False):\n",
    "    \"\"\" Shuffle two (or more) list in unison. \"\"\"\n",
    "\n",
    "    np.random.seed(seed)\n",
    "    rng_state = np.random.get_state()\n",
    "    new_dataset = []\n",
    "    for x in dataset:\n",
    "        if in_place:\n",
    "            np.random.shuffle(x)\n",
    "        else:\n",
    "            new_dataset.append(np.random.permutation(x))\n",
    "        np.random.set_state(rng_state)\n",
    "\n",
    "    if not in_place:\n",
    "        return new_dataset"
   ]
  },
  {
   "cell_type": "markdown",
   "metadata": {
    "colab_type": "text",
    "id": "94hg1UrtqFmT"
   },
   "source": [
    "Now we can reset the model and optimizer and run our training over the tasks sequence:"
   ]
  },
  {
   "cell_type": "code",
   "execution_count": 0,
   "metadata": {
    "colab": {},
    "colab_type": "code",
    "id": "62TY0Ajgbsgk"
   },
   "outputs": [],
   "source": [
    "model = Net().to(device)\n",
    "optimizer = optim.SGD(model.parameters(), lr=0.01, momentum=0.9)"
   ]
  },
  {
   "cell_type": "code",
   "execution_count": 0,
   "metadata": {
    "colab": {
     "base_uri": "https://localhost:8080/",
     "height": 665
    },
    "colab_type": "code",
    "id": "y_No-qvDbuZi",
    "outputId": "167369c1-a89a-4d0f-b2ab-4884361ec09f"
   },
   "outputs": [
    {
     "name": "stdout",
     "output_type": "stream",
     "text": [
      "Training on task:  0\n",
      "Train Epoch: 1 \tLoss: 0.563346\n",
      "Testing on task:  0\n",
      "Test set: Average loss: 0.0002, Accuracy: 9044/10000 (90%)\n",
      "\n",
      "Testing on task:  1\n",
      "Test set: Average loss: 0.0019, Accuracy: 547/10000 (5%)\n",
      "\n",
      "Testing on task:  2\n",
      "Test set: Average loss: 0.0017, Accuracy: 1023/10000 (10%)\n",
      "\n",
      "Avg acc:  35.38\n",
      "Training on task:  1\n",
      "Train Epoch: 1 \tLoss: 0.744667\n",
      "Testing on task:  0\n",
      "Test set: Average loss: 0.0001, Accuracy: 9397/10000 (94%)\n",
      "\n",
      "Testing on task:  1\n",
      "Test set: Average loss: 0.0003, Accuracy: 7436/10000 (74%)\n",
      "\n",
      "Testing on task:  2\n",
      "Test set: Average loss: 0.0009, Accuracy: 1024/10000 (10%)\n",
      "\n",
      "Avg acc:  59.52333333333333\n",
      "Training on task:  2\n",
      "Train Epoch: 1 \tLoss: 0.724188\n",
      "Testing on task:  0\n",
      "Test set: Average loss: 0.0000, Accuracy: 9498/10000 (95%)\n",
      "\n",
      "Testing on task:  1\n",
      "Test set: Average loss: 0.0001, Accuracy: 8420/10000 (84%)\n",
      "\n",
      "Testing on task:  2\n",
      "Test set: Average loss: 0.0001, Accuracy: 8191/10000 (82%)\n",
      "\n",
      "Avg acc:  87.03000000000002\n"
     ]
    }
   ],
   "source": [
    "rehe_accs = []\n",
    "for id, task in enumerate(tasks):\n",
    "  avg_acc = 0\n",
    "  print(\"Training on task: \", id)\n",
    "  \n",
    "  (x_train, t_train), _ = task\n",
    "  \n",
    "  # for previous task\n",
    "  for i in range(id):\n",
    "    (past_x_train, past_t_train), _ = tasks[i]\n",
    "    x_train = np.concatenate((x_train, past_x_train))\n",
    "    t_train = np.concatenate((t_train, past_t_train))\n",
    "  \n",
    "  x_train, t_train = shuffle_in_unison([x_train, t_train], 0)\n",
    "  \n",
    "  for epoch in range(1, 2):\n",
    "    train(model, device, x_train, t_train, optimizer, epoch)\n",
    "    \n",
    "  for id_test, task in enumerate(tasks):\n",
    "    print(\"Testing on task: \", id_test)\n",
    "    _, (x_test, t_test) = task\n",
    "    acc = test(model, device, x_test, t_test)\n",
    "    avg_acc = avg_acc + acc\n",
    "   \n",
    "  print(\"Avg acc: \", avg_acc / 3)\n",
    "  rehe_accs.append(avg_acc/3)"
   ]
  },
  {
   "cell_type": "markdown",
   "metadata": {
    "colab_type": "text",
    "id": "jCna5k0DtN-X"
   },
   "source": [
    "**Questions to explore:**\n",
    "\n",
    "*   Can you find a way to reduce the number of examples of the previous tasks to maintain in memory? \n",
    "*   Can you find a good trade-off between memory overhead and final accuracy?\n",
    "*   Why is shuffling needed here?\n",
    "\n",
    "Some tips here: https://arxiv.org/abs/1809.05922"
   ]
  },
  {
   "cell_type": "markdown",
   "metadata": {
    "colab_type": "text",
    "id": "AqofPHt01Zog"
   },
   "source": [
    "### Elastic Weights Consolidation (EWC) Strategy\n",
    "\n",
    "Elastic Weights Consolidation (EWC) is a common CL strategy firstly proposed in the paper: \"[Overcoming catastrophic forgetting in neural networks](https://arxiv.org/abs/1612.00796)\" for deep neural networks.\n",
    "\n",
    "It is based on the computation of the importance of each weight (fisher information) and a squared regularization loss, penalizing changes in the most important wheights for the previous tasks.\n",
    "\n",
    "It has the great advantage of **not using any** of the previous tasks data!"
   ]
  },
  {
   "cell_type": "code",
   "execution_count": 0,
   "metadata": {
    "colab": {},
    "colab_type": "code",
    "id": "e9iry5W56xtO"
   },
   "outputs": [],
   "source": [
    "fisher_dict = {}\n",
    "optpar_dict = {}\n",
    "ewc_lambda = 0.4"
   ]
  },
  {
   "cell_type": "code",
   "execution_count": 0,
   "metadata": {
    "colab": {},
    "colab_type": "code",
    "id": "0ZlyqcICEps_"
   },
   "outputs": [],
   "source": [
    "model = Net().to(device)\n",
    "optimizer = optim.SGD(model.parameters(), lr=0.01, momentum=0.9)"
   ]
  },
  {
   "cell_type": "markdown",
   "metadata": {
    "colab_type": "text",
    "id": "Clm_QFF12mO9"
   },
   "source": [
    "Now we need to define an additional function to compute the fisher information for each weight at the end of each task:"
   ]
  },
  {
   "cell_type": "code",
   "execution_count": 0,
   "metadata": {
    "colab": {},
    "colab_type": "code",
    "id": "iEmBNkaO1Ykq"
   },
   "outputs": [],
   "source": [
    "def on_task_update(task_id, x_mem, t_mem):\n",
    "\n",
    "  model.train()\n",
    "  optimizer.zero_grad()\n",
    "  \n",
    "  # accumulating gradients\n",
    "  for start in range(0, len(t_mem)-1, 256):\n",
    "      end = start + 256\n",
    "      x, y = torch.from_numpy(x_mem[start:end]), torch.from_numpy(t_mem[start:end]).long()\n",
    "      x, y = x.to(device), y.to(device)\n",
    "      output = model(x)\n",
    "      loss = F.cross_entropy(output, y)\n",
    "      loss.backward()\n",
    "\n",
    "  fisher_dict[task_id] = {}\n",
    "  optpar_dict[task_id] = {}\n",
    "\n",
    "  # gradients accumulated can be used to calculate fisher\n",
    "  for name, param in model.named_parameters():\n",
    "    \n",
    "    optpar_dict[task_id][name] = param.data.clone()\n",
    "    fisher_dict[task_id][name] = param.grad.data.clone().pow(2)"
   ]
  },
  {
   "cell_type": "markdown",
   "metadata": {
    "colab_type": "text",
    "id": "2hGp0Qsf2wa-"
   },
   "source": [
    "We need also to modify our *train* function to add the new regularization loss:"
   ]
  },
  {
   "cell_type": "code",
   "execution_count": 0,
   "metadata": {
    "colab": {},
    "colab_type": "code",
    "id": "IorTFus1Gs5H"
   },
   "outputs": [],
   "source": [
    "def train_ewc(model, device, task_id, x_train, t_train, optimizer, epoch):\n",
    "    model.train()\n",
    "\n",
    "    for start in range(0, len(t_train)-1, 256):\n",
    "      end = start + 256\n",
    "      x, y = torch.from_numpy(x_train[start:end]), torch.from_numpy(t_train[start:end]).long()\n",
    "      x, y = x.to(device), y.to(device)\n",
    "      \n",
    "      optimizer.zero_grad()\n",
    "\n",
    "      output = model(x)\n",
    "      loss = F.cross_entropy(output, y)\n",
    "      \n",
    "      ### magic here! :-)\n",
    "      for task in range(task_id):\n",
    "        for name, param in model.named_parameters():\n",
    "          fisher = fisher_dict[task][name]\n",
    "          optpar = optpar_dict[task][name]\n",
    "          loss += (fisher * (optpar - param).pow(2)).sum() * ewc_lambda\n",
    "      \n",
    "      loss.backward()\n",
    "      optimizer.step()\n",
    "      #print(loss.item())\n",
    "    print('Train Epoch: {} \\tLoss: {:.6f}'.format(epoch, loss.item()))"
   ]
  },
  {
   "cell_type": "markdown",
   "metadata": {
    "colab_type": "text",
    "id": "u754qi423EEc"
   },
   "source": [
    "Finally we can run the train over the three tasks sequence of th *Permuted MNIST*:"
   ]
  },
  {
   "cell_type": "code",
   "execution_count": 0,
   "metadata": {
    "colab": {
     "base_uri": "https://localhost:8080/",
     "height": 719
    },
    "colab_type": "code",
    "id": "IkUCo4C6-QpT",
    "outputId": "bc47d63d-bbe1-463b-81da-d119fcc38c9d"
   },
   "outputs": [
    {
     "name": "stdout",
     "output_type": "stream",
     "text": [
      "Training on task:  0\n",
      "Train Epoch: 1 \tLoss: 0.873736\n",
      "Train Epoch: 2 \tLoss: 0.520341\n",
      "Testing on task:  0\n",
      "Test set: Average loss: 0.0001, Accuracy: 9437/10000 (94%)\n",
      "\n",
      "Testing on task:  1\n",
      "Test set: Average loss: 0.0020, Accuracy: 686/10000 (7%)\n",
      "\n",
      "Testing on task:  2\n",
      "Test set: Average loss: 0.0016, Accuracy: 1165/10000 (12%)\n",
      "\n",
      "Avg acc:  37.62666666666667\n",
      "Training on task:  1\n",
      "Train Epoch: 1 \tLoss: 2.066581\n",
      "Train Epoch: 2 \tLoss: 1.833169\n",
      "Testing on task:  0\n",
      "Test set: Average loss: 0.0012, Accuracy: 5487/10000 (55%)\n",
      "\n",
      "Testing on task:  1\n",
      "Test set: Average loss: 0.0008, Accuracy: 6786/10000 (68%)\n",
      "\n",
      "Testing on task:  2\n",
      "Test set: Average loss: 0.0018, Accuracy: 1022/10000 (10%)\n",
      "\n",
      "Avg acc:  44.31666666666666\n",
      "Training on task:  2\n",
      "Train Epoch: 1 \tLoss: 2.145576\n",
      "Train Epoch: 2 \tLoss: 1.886335\n",
      "Testing on task:  0\n",
      "Test set: Average loss: 0.0014, Accuracy: 6614/10000 (66%)\n",
      "\n",
      "Testing on task:  1\n",
      "Test set: Average loss: 0.0014, Accuracy: 3208/10000 (32%)\n",
      "\n",
      "Testing on task:  2\n",
      "Test set: Average loss: 0.0007, Accuracy: 6940/10000 (69%)\n",
      "\n",
      "Avg acc:  55.873333333333335\n"
     ]
    }
   ],
   "source": [
    "ewc_accs = []\n",
    "for id, task in enumerate(tasks):\n",
    "  avg_acc = 0\n",
    "  print(\"Training on task: \", id)\n",
    "  \n",
    "  (x_train, t_train), _ = task\n",
    "  \n",
    "  for epoch in range(1, 3):\n",
    "    train_ewc(model, device, id, x_train, t_train, optimizer, epoch)\n",
    "  on_task_update(id, x_train, t_train)\n",
    "    \n",
    "  for id_test, task in enumerate(tasks):\n",
    "    print(\"Testing on task: \", id_test)\n",
    "    _, (x_test, t_test) = task\n",
    "    acc = test(model, device, x_test, t_test)\n",
    "    avg_acc = avg_acc + acc\n",
    "   \n",
    "  print(\"Avg acc: \", avg_acc / 3)\n",
    "  ewc_accs.append(avg_acc / 3)"
   ]
  },
  {
   "cell_type": "markdown",
   "metadata": {
    "colab_type": "text",
    "id": "Nx4bR5K1uIwU"
   },
   "source": [
    "**Questions to explore:**\n",
    "\n",
    "*   How much the `ewc_lambda` parameter effect the final results? \n",
    "*   Can you find a better parametrization to improve stability?\n",
    "*   Can you find the memory overhead introduced by EWC with respect to the Naive approach?\n",
    "\n",
    "Some tips here: https://arxiv.org/pdf/1805.06370.pdf"
   ]
  },
  {
   "cell_type": "markdown",
   "metadata": {
    "colab_type": "text",
    "id": "o3SM7U5fwTqV"
   },
   "source": [
    "### Plot Results\n",
    "\n",
    "To conclude, let's summerize our results in a nice plot! :-)"
   ]
  },
  {
   "cell_type": "code",
   "execution_count": 0,
   "metadata": {
    "colab": {
     "base_uri": "https://localhost:8080/",
     "height": 382
    },
    "colab_type": "code",
    "id": "sIQEVVpDwPP5",
    "outputId": "da684b3b-05ea-493f-84e6-fa4295b8827a"
   },
   "outputs": [
    {
     "data": {
      "image/png": "[encoded data removed]",
      "text/plain": [
       "<matplotlib.figure.Figure at 0x7f6f91b6d780>"
      ]
     },
     "metadata": {
      "tags": []
     },
     "output_type": "display_data"
    }
   ],
   "source": [
    "plt.plot([1, 2, 3], naive_accs, '-o', label=\"Naive\")\n",
    "plt.plot([1, 2, 3], rehe_accs, '-o', label=\"Rehearsal\")\n",
    "plt.plot([1, 2, 3], ewc_accs, '-o', label=\"EWC\")\n",
    "plt.xlabel('Tasks Encountered', fontsize=14)\n",
    "plt.ylabel('Average Accuracy', fontsize=14)\n",
    "plt.title('CL Strategies Comparison on MNSIT', fontsize=14);\n",
    "plt.xticks([1, 2, 3])\n",
    "plt.legend(prop={'size': 16});"
   ]
  },
  {
   "cell_type": "markdown",
   "metadata": {
    "colab_type": "text",
    "id": "9x1D3O7iunxS"
   },
   "source": [
    "**Questions to explore:**\n",
    "\n",
    "*   What's the difference in terms of memory utilization among the three methods? \n",
    "*   Can you plot a similar graph highlighting the memory increase over time?\n",
    "\n",
    "Some tips here: https://stackoverflow.com/questions/449560/how-do-i-determine-the-size-of-an-object-in-python/30316760"
   ]
  },
  {
   "cell_type": "markdown",
   "metadata": {
    "colab_type": "text",
    "id": "OS9gHzZM7HQr"
   },
   "source": [
    "**Copyright (c) 2018. Continual AI. All rights reserved. **\n",
    "\n",
    "See the accompanying LICENSE file in the GitHub repository for terms. \n",
    "\n",
    "*Date: 29-09-2018                                                             \n",
    "Author: Vincenzo Lomonaco                                                    \n",
    "E-mail: contact@continualai.org                                           \n",
    "Website: continualai.org*                                               "
   ]
  }
 ],
 "metadata": {
  "accelerator": "GPU",
  "colab": {
   "collapsed_sections": [],
   "name": "intro_to_continual_learning.ipynb",
   "provenance": [],
   "toc_visible": true,
   "version": "0.3.2"
  },
  "kernelspec": {
   "display_name": "Python 3",
   "language": "python",
   "name": "python3"
  },
  "language_info": {
   "codemirror_mode": {
    "name": "ipython",
    "version": 3
   },
   "file_extension": ".py",
   "mimetype": "text/x-python",
   "name": "python",
   "nbconvert_exporter": "python",
   "pygments_lexer": "ipython3",
   "version": "3.7.1"
  }
 },
 "nbformat": 4,
 "nbformat_minor": 1
}
